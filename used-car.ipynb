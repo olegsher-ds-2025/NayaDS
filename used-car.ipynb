{
 "cells": [
  {
   "cell_type": "code",
   "execution_count": 1,
   "id": "2a79f767",
   "metadata": {
    "_cell_guid": "b1076dfc-b9ad-4769-8c92-a6c4dae69d19",
    "_uuid": "8f2839f25d086af736a60e9eeb907d3b93b6e0e5",
    "execution": {
     "iopub.execute_input": "2024-11-27T20:08:21.893645Z",
     "iopub.status.busy": "2024-11-27T20:08:21.893236Z",
     "iopub.status.idle": "2024-11-27T20:08:22.635179Z",
     "shell.execute_reply": "2024-11-27T20:08:22.634236Z"
    },
    "papermill": {
     "duration": 0.7673,
     "end_time": "2024-11-27T20:08:22.637353",
     "exception": false,
     "start_time": "2024-11-27T20:08:21.870053",
     "status": "completed"
    },
    "tags": []
   },
   "outputs": [
    {
     "name": "stdout",
     "output_type": "stream",
     "text": [
      "/kaggle/input/craigslist-carstrucks-data/vehicles.csv\n"
     ]
    }
   ],
   "source": [
    "# This Python 3 environment comes with many helpful analytics libraries installed\n",
    "# It is defined by the kaggle/python Docker image: https://github.com/kaggle/docker-python\n",
    "# For example, here's several helpful packages to load\n",
    "\n",
    "import numpy as np # linear algebra\n",
    "import pandas as pd # data processing, CSV file I/O (e.g. pd.read_csv)\n",
    "\n",
    "# Input data files are available in the read-only \"../input/\" directory\n",
    "# For example, running this (by clicking run or pressing Shift+Enter) will list all files under the input directory\n",
    "\n",
    "import os\n",
    "for dirname, _, filenames in os.walk('/kaggle/input'):\n",
    "    for filename in filenames:\n",
    "        print(os.path.join(dirname, filename))\n",
    "\n",
    "# You can write up to 20GB to the current directory (/kaggle/working/) that gets preserved as output when you create a version using \"Save & Run All\" \n",
    "# You can also write temporary files to /kaggle/temp/, but they won't be saved outside of the current sessionimport matplotlib.pyplot as plt"
   ]
  },
  {
   "cell_type": "code",
   "execution_count": 2,
   "id": "c5acbe79",
   "metadata": {
    "execution": {
     "iopub.execute_input": "2024-11-27T20:08:22.678452Z",
     "iopub.status.busy": "2024-11-27T20:08:22.677545Z",
     "iopub.status.idle": "2024-11-27T20:08:24.133023Z",
     "shell.execute_reply": "2024-11-27T20:08:24.132265Z"
    },
    "papermill": {
     "duration": 1.478473,
     "end_time": "2024-11-27T20:08:24.135486",
     "exception": false,
     "start_time": "2024-11-27T20:08:22.657013",
     "status": "completed"
    },
    "tags": []
   },
   "outputs": [],
   "source": [
    "import matplotlib.pyplot as plt\n",
    "import seaborn as sns"
   ]
  },
  {
   "cell_type": "markdown",
   "id": "6e7f140b",
   "metadata": {
    "papermill": {
     "duration": 0.01932,
     "end_time": "2024-11-27T20:08:24.174666",
     "exception": false,
     "start_time": "2024-11-27T20:08:24.155346",
     "status": "completed"
    },
    "tags": []
   },
   "source": [
    "# Setting options"
   ]
  },
  {
   "cell_type": "code",
   "execution_count": 3,
   "id": "47524779",
   "metadata": {
    "execution": {
     "iopub.execute_input": "2024-11-27T20:08:24.216342Z",
     "iopub.status.busy": "2024-11-27T20:08:24.215318Z",
     "iopub.status.idle": "2024-11-27T20:08:24.220182Z",
     "shell.execute_reply": "2024-11-27T20:08:24.219291Z"
    },
    "papermill": {
     "duration": 0.027933,
     "end_time": "2024-11-27T20:08:24.222016",
     "exception": false,
     "start_time": "2024-11-27T20:08:24.194083",
     "status": "completed"
    },
    "tags": []
   },
   "outputs": [],
   "source": [
    "pd.set_option('display.max_columns', 26)\n",
    "pd.set_option('display.float_format', lambda x: '%.2f' % x)"
   ]
  },
  {
   "cell_type": "markdown",
   "id": "558ba3c0",
   "metadata": {
    "papermill": {
     "duration": 0.018933,
     "end_time": "2024-11-27T20:08:24.260064",
     "exception": false,
     "start_time": "2024-11-27T20:08:24.241131",
     "status": "completed"
    },
    "tags": []
   },
   "source": [
    "# Read Data"
   ]
  },
  {
   "cell_type": "code",
   "execution_count": 4,
   "id": "956a127e",
   "metadata": {
    "execution": {
     "iopub.execute_input": "2024-11-27T20:08:24.300968Z",
     "iopub.status.busy": "2024-11-27T20:08:24.300082Z",
     "iopub.status.idle": "2024-11-27T20:09:08.081925Z",
     "shell.execute_reply": "2024-11-27T20:09:08.080858Z"
    },
    "papermill": {
     "duration": 43.804756,
     "end_time": "2024-11-27T20:09:08.084433",
     "exception": false,
     "start_time": "2024-11-27T20:08:24.279677",
     "status": "completed"
    },
    "tags": []
   },
   "outputs": [],
   "source": [
    "cars_init = pd.read_csv('/kaggle/input/craigslist-carstrucks-data/vehicles.csv')"
   ]
  },
  {
   "cell_type": "markdown",
   "id": "9b5d2c38",
   "metadata": {
    "papermill": {
     "duration": 0.018919,
     "end_time": "2024-11-27T20:09:08.122832",
     "exception": false,
     "start_time": "2024-11-27T20:09:08.103913",
     "status": "completed"
    },
    "tags": []
   },
   "source": [
    "# Analize data"
   ]
  },
  {
   "cell_type": "code",
   "execution_count": 5,
   "id": "778a1880",
   "metadata": {
    "execution": {
     "iopub.execute_input": "2024-11-27T20:09:08.163436Z",
     "iopub.status.busy": "2024-11-27T20:09:08.163024Z",
     "iopub.status.idle": "2024-11-27T20:09:08.605702Z",
     "shell.execute_reply": "2024-11-27T20:09:08.604746Z"
    },
    "papermill": {
     "duration": 0.465477,
     "end_time": "2024-11-27T20:09:08.608037",
     "exception": false,
     "start_time": "2024-11-27T20:09:08.142560",
     "status": "completed"
    },
    "tags": []
   },
   "outputs": [
    {
     "name": "stdout",
     "output_type": "stream",
     "text": [
      "<class 'pandas.core.frame.DataFrame'>\n",
      "RangeIndex: 426880 entries, 0 to 426879\n",
      "Data columns (total 26 columns):\n",
      " #   Column        Non-Null Count   Dtype  \n",
      "---  ------        --------------   -----  \n",
      " 0   id            426880 non-null  int64  \n",
      " 1   url           426880 non-null  object \n",
      " 2   region        426880 non-null  object \n",
      " 3   region_url    426880 non-null  object \n",
      " 4   price         426880 non-null  int64  \n",
      " 5   year          425675 non-null  float64\n",
      " 6   manufacturer  409234 non-null  object \n",
      " 7   model         421603 non-null  object \n",
      " 8   condition     252776 non-null  object \n",
      " 9   cylinders     249202 non-null  object \n",
      " 10  fuel          423867 non-null  object \n",
      " 11  odometer      422480 non-null  float64\n",
      " 12  title_status  418638 non-null  object \n",
      " 13  transmission  424324 non-null  object \n",
      " 14  VIN           265838 non-null  object \n",
      " 15  drive         296313 non-null  object \n",
      " 16  size          120519 non-null  object \n",
      " 17  type          334022 non-null  object \n",
      " 18  paint_color   296677 non-null  object \n",
      " 19  image_url     426812 non-null  object \n",
      " 20  description   426810 non-null  object \n",
      " 21  county        0 non-null       float64\n",
      " 22  state         426880 non-null  object \n",
      " 23  lat           420331 non-null  float64\n",
      " 24  long          420331 non-null  float64\n",
      " 25  posting_date  426812 non-null  object \n",
      "dtypes: float64(5), int64(2), object(19)\n",
      "memory usage: 84.7+ MB\n"
     ]
    }
   ],
   "source": [
    "cars_init.info()"
   ]
  },
  {
   "cell_type": "code",
   "execution_count": 6,
   "id": "84a4bd43",
   "metadata": {
    "execution": {
     "iopub.execute_input": "2024-11-27T20:09:08.648688Z",
     "iopub.status.busy": "2024-11-27T20:09:08.648318Z",
     "iopub.status.idle": "2024-11-27T20:09:08.655159Z",
     "shell.execute_reply": "2024-11-27T20:09:08.654277Z"
    },
    "papermill": {
     "duration": 0.02973,
     "end_time": "2024-11-27T20:09:08.657334",
     "exception": false,
     "start_time": "2024-11-27T20:09:08.627604",
     "status": "completed"
    },
    "tags": []
   },
   "outputs": [
    {
     "data": {
      "text/plain": [
       "(426880, 26)"
      ]
     },
     "execution_count": 6,
     "metadata": {},
     "output_type": "execute_result"
    }
   ],
   "source": [
    "cars_init.shape"
   ]
  },
  {
   "cell_type": "code",
   "execution_count": 7,
   "id": "fb626347",
   "metadata": {
    "execution": {
     "iopub.execute_input": "2024-11-27T20:09:08.698019Z",
     "iopub.status.busy": "2024-11-27T20:09:08.697644Z",
     "iopub.status.idle": "2024-11-27T20:09:08.723790Z",
     "shell.execute_reply": "2024-11-27T20:09:08.722900Z"
    },
    "papermill": {
     "duration": 0.048924,
     "end_time": "2024-11-27T20:09:08.725890",
     "exception": false,
     "start_time": "2024-11-27T20:09:08.676966",
     "status": "completed"
    },
    "tags": []
   },
   "outputs": [
    {
     "data": {
      "text/plain": [
       "count       426880.00\n",
       "mean         75199.03\n",
       "std       12182282.17\n",
       "min              0.00\n",
       "25%           5900.00\n",
       "50%          13950.00\n",
       "75%          26485.75\n",
       "max     3736928711.00\n",
       "Name: price, dtype: float64"
      ]
     },
     "execution_count": 7,
     "metadata": {},
     "output_type": "execute_result"
    }
   ],
   "source": [
    "cars_init.price.describe()"
   ]
  },
  {
   "cell_type": "code",
   "execution_count": 8,
   "id": "eea6fb6c",
   "metadata": {
    "execution": {
     "iopub.execute_input": "2024-11-27T20:09:08.766943Z",
     "iopub.status.busy": "2024-11-27T20:09:08.766561Z",
     "iopub.status.idle": "2024-11-27T20:09:09.103949Z",
     "shell.execute_reply": "2024-11-27T20:09:09.102974Z"
    },
    "papermill": {
     "duration": 0.361144,
     "end_time": "2024-11-27T20:09:09.106788",
     "exception": false,
     "start_time": "2024-11-27T20:09:08.745644",
     "status": "completed"
    },
    "tags": []
   },
   "outputs": [
    {
     "data": {
      "image/png": "[encoded data removed]",
      "text/plain": [
       "<Figure size 640x480 with 1 Axes>"
      ]
     },
     "metadata": {},
     "output_type": "display_data"
    }
   ],
   "source": [
    "cars_init['price'].hist(bins=20, edgecolor='black')\n",
    "plt.xlabel('Price')\n",
    "plt.ylabel('Frequency')\n",
    "plt.title('Histogram of Car Prices')\n",
    "\n",
    "plt.show()"
   ]
  },
  {
   "cell_type": "code",
   "execution_count": 9,
   "id": "49967f7e",
   "metadata": {
    "execution": {
     "iopub.execute_input": "2024-11-27T20:09:09.149815Z",
     "iopub.status.busy": "2024-11-27T20:09:09.149418Z",
     "iopub.status.idle": "2024-11-27T20:09:09.180934Z",
     "shell.execute_reply": "2024-11-27T20:09:09.179981Z"
    },
    "papermill": {
     "duration": 0.055433,
     "end_time": "2024-11-27T20:09:09.183006",
     "exception": false,
     "start_time": "2024-11-27T20:09:09.127573",
     "status": "completed"
    },
    "tags": []
   },
   "outputs": [
    {
     "data": {
      "text/plain": [
       "count   425675.00\n",
       "mean      2011.24\n",
       "std          9.45\n",
       "min       1900.00\n",
       "25%       2008.00\n",
       "50%       2013.00\n",
       "75%       2017.00\n",
       "max       2022.00\n",
       "Name: year, dtype: float64"
      ]
     },
     "execution_count": 9,
     "metadata": {},
     "output_type": "execute_result"
    }
   ],
   "source": [
    "cars_init.year.describe()\n"
   ]
  },
  {
   "cell_type": "code",
   "execution_count": 10,
   "id": "c205f595",
   "metadata": {
    "execution": {
     "iopub.execute_input": "2024-11-27T20:09:09.225385Z",
     "iopub.status.busy": "2024-11-27T20:09:09.224718Z",
     "iopub.status.idle": "2024-11-27T20:09:09.232038Z",
     "shell.execute_reply": "2024-11-27T20:09:09.231110Z"
    },
    "papermill": {
     "duration": 0.03059,
     "end_time": "2024-11-27T20:09:09.234016",
     "exception": false,
     "start_time": "2024-11-27T20:09:09.203426",
     "status": "completed"
    },
    "tags": []
   },
   "outputs": [
    {
     "data": {
      "text/plain": [
       "1205"
      ]
     },
     "execution_count": 10,
     "metadata": {},
     "output_type": "execute_result"
    }
   ],
   "source": [
    "cars_init.year.isna().sum()"
   ]
  },
  {
   "cell_type": "code",
   "execution_count": 11,
   "id": "1e99eda2",
   "metadata": {
    "execution": {
     "iopub.execute_input": "2024-11-27T20:09:09.277768Z",
     "iopub.status.busy": "2024-11-27T20:09:09.277009Z",
     "iopub.status.idle": "2024-11-27T20:09:09.553657Z",
     "shell.execute_reply": "2024-11-27T20:09:09.552552Z"
    },
    "papermill": {
     "duration": 0.300923,
     "end_time": "2024-11-27T20:09:09.555779",
     "exception": false,
     "start_time": "2024-11-27T20:09:09.254856",
     "status": "completed"
    },
    "tags": []
   },
   "outputs": [
    {
     "data": {
      "image/png": "[encoded data removed]",
      "text/plain": [
       "<Figure size 640x480 with 1 Axes>"
      ]
     },
     "metadata": {},
     "output_type": "display_data"
    }
   ],
   "source": [
    "cars_init['year'].hist(bins=20, edgecolor='black')\n",
    "plt.xlabel('year')\n",
    "plt.ylabel('Frequency')\n",
    "plt.title('Histogram of Car years')\n",
    "\n",
    "plt.show()"
   ]
  },
  {
   "cell_type": "code",
   "execution_count": 12,
   "id": "6b7cd50b",
   "metadata": {
    "execution": {
     "iopub.execute_input": "2024-11-27T20:09:09.599680Z",
     "iopub.status.busy": "2024-11-27T20:09:09.598732Z",
     "iopub.status.idle": "2024-11-27T20:09:09.607313Z",
     "shell.execute_reply": "2024-11-27T20:09:09.606355Z"
    },
    "papermill": {
     "duration": 0.032561,
     "end_time": "2024-11-27T20:09:09.609277",
     "exception": false,
     "start_time": "2024-11-27T20:09:09.576716",
     "status": "completed"
    },
    "tags": []
   },
   "outputs": [
    {
     "data": {
      "text/plain": [
       "0          True\n",
       "1          True\n",
       "2          True\n",
       "3          True\n",
       "4          True\n",
       "          ...  \n",
       "426875    False\n",
       "426876    False\n",
       "426877    False\n",
       "426878    False\n",
       "426879    False\n",
       "Name: year, Length: 426880, dtype: bool"
      ]
     },
     "execution_count": 12,
     "metadata": {},
     "output_type": "execute_result"
    }
   ],
   "source": [
    "cars_init.year.isna()"
   ]
  },
  {
   "cell_type": "code",
   "execution_count": 13,
   "id": "a889e5b3",
   "metadata": {
    "execution": {
     "iopub.execute_input": "2024-11-27T20:09:09.652546Z",
     "iopub.status.busy": "2024-11-27T20:09:09.652120Z",
     "iopub.status.idle": "2024-11-27T20:09:10.067115Z",
     "shell.execute_reply": "2024-11-27T20:09:10.066058Z"
    },
    "papermill": {
     "duration": 0.439066,
     "end_time": "2024-11-27T20:09:10.069155",
     "exception": false,
     "start_time": "2024-11-27T20:09:09.630089",
     "status": "completed"
    },
    "tags": []
   },
   "outputs": [
    {
     "data": {
      "text/plain": [
       "id                   0\n",
       "url                  0\n",
       "region               0\n",
       "region_url           0\n",
       "price                0\n",
       "year              1205\n",
       "manufacturer     17646\n",
       "model             5277\n",
       "condition       174104\n",
       "cylinders       177678\n",
       "fuel              3013\n",
       "odometer          4400\n",
       "title_status      8242\n",
       "transmission      2556\n",
       "VIN             161042\n",
       "drive           130567\n",
       "size            306361\n",
       "type             92858\n",
       "paint_color     130203\n",
       "image_url           68\n",
       "description         70\n",
       "county          426880\n",
       "state                0\n",
       "lat               6549\n",
       "long              6549\n",
       "posting_date        68\n",
       "dtype: int64"
      ]
     },
     "execution_count": 13,
     "metadata": {},
     "output_type": "execute_result"
    }
   ],
   "source": [
    "cars_init.isna().sum()"
   ]
  },
  {
   "cell_type": "code",
   "execution_count": 14,
   "id": "92e0fd62",
   "metadata": {
    "execution": {
     "iopub.execute_input": "2024-11-27T20:09:10.165378Z",
     "iopub.status.busy": "2024-11-27T20:09:10.164477Z",
     "iopub.status.idle": "2024-11-27T20:09:10.186899Z",
     "shell.execute_reply": "2024-11-27T20:09:10.185849Z"
    },
    "papermill": {
     "duration": 0.046648,
     "end_time": "2024-11-27T20:09:10.188954",
     "exception": false,
     "start_time": "2024-11-27T20:09:10.142306",
     "status": "completed"
    },
    "tags": []
   },
   "outputs": [
    {
     "data": {
      "text/html": [
       "<div>\n",
       "<style scoped>\n",
       "    .dataframe tbody tr th:only-of-type {\n",
       "        vertical-align: middle;\n",
       "    }\n",
       "\n",
       "    .dataframe tbody tr th {\n",
       "        vertical-align: top;\n",
       "    }\n",
       "\n",
       "    .dataframe thead th {\n",
       "        text-align: right;\n",
       "    }\n",
       "</style>\n",
       "<table border=\"1\" class=\"dataframe\">\n",
       "  <thead>\n",
       "    <tr style=\"text-align: right;\">\n",
       "      <th></th>\n",
       "      <th>id</th>\n",
       "      <th>url</th>\n",
       "      <th>region</th>\n",
       "      <th>region_url</th>\n",
       "      <th>price</th>\n",
       "      <th>year</th>\n",
       "      <th>manufacturer</th>\n",
       "      <th>model</th>\n",
       "      <th>condition</th>\n",
       "      <th>cylinders</th>\n",
       "      <th>fuel</th>\n",
       "      <th>odometer</th>\n",
       "      <th>title_status</th>\n",
       "      <th>transmission</th>\n",
       "      <th>VIN</th>\n",
       "      <th>drive</th>\n",
       "      <th>size</th>\n",
       "      <th>type</th>\n",
       "      <th>paint_color</th>\n",
       "      <th>image_url</th>\n",
       "      <th>description</th>\n",
       "      <th>county</th>\n",
       "      <th>state</th>\n",
       "      <th>lat</th>\n",
       "      <th>long</th>\n",
       "      <th>posting_date</th>\n",
       "    </tr>\n",
       "  </thead>\n",
       "  <tbody>\n",
       "    <tr>\n",
       "      <th>0</th>\n",
       "      <td>7222695916</td>\n",
       "      <td>https://prescott.craigslist.org/cto/d/prescott...</td>\n",
       "      <td>prescott</td>\n",
       "      <td>https://prescott.craigslist.org</td>\n",
       "      <td>6000</td>\n",
       "      <td>NaN</td>\n",
       "      <td>NaN</td>\n",
       "      <td>NaN</td>\n",
       "      <td>NaN</td>\n",
       "      <td>NaN</td>\n",
       "      <td>NaN</td>\n",
       "      <td>NaN</td>\n",
       "      <td>NaN</td>\n",
       "      <td>NaN</td>\n",
       "      <td>NaN</td>\n",
       "      <td>NaN</td>\n",
       "      <td>NaN</td>\n",
       "      <td>NaN</td>\n",
       "      <td>NaN</td>\n",
       "      <td>NaN</td>\n",
       "      <td>NaN</td>\n",
       "      <td>NaN</td>\n",
       "      <td>az</td>\n",
       "      <td>NaN</td>\n",
       "      <td>NaN</td>\n",
       "      <td>NaN</td>\n",
       "    </tr>\n",
       "    <tr>\n",
       "      <th>1</th>\n",
       "      <td>7218891961</td>\n",
       "      <td>https://fayar.craigslist.org/ctd/d/bentonville...</td>\n",
       "      <td>fayetteville</td>\n",
       "      <td>https://fayar.craigslist.org</td>\n",
       "      <td>11900</td>\n",
       "      <td>NaN</td>\n",
       "      <td>NaN</td>\n",
       "      <td>NaN</td>\n",
       "      <td>NaN</td>\n",
       "      <td>NaN</td>\n",
       "      <td>NaN</td>\n",
       "      <td>NaN</td>\n",
       "      <td>NaN</td>\n",
       "      <td>NaN</td>\n",
       "      <td>NaN</td>\n",
       "      <td>NaN</td>\n",
       "      <td>NaN</td>\n",
       "      <td>NaN</td>\n",
       "      <td>NaN</td>\n",
       "      <td>NaN</td>\n",
       "      <td>NaN</td>\n",
       "      <td>NaN</td>\n",
       "      <td>ar</td>\n",
       "      <td>NaN</td>\n",
       "      <td>NaN</td>\n",
       "      <td>NaN</td>\n",
       "    </tr>\n",
       "    <tr>\n",
       "      <th>2</th>\n",
       "      <td>7221797935</td>\n",
       "      <td>https://keys.craigslist.org/cto/d/summerland-k...</td>\n",
       "      <td>florida keys</td>\n",
       "      <td>https://keys.craigslist.org</td>\n",
       "      <td>21000</td>\n",
       "      <td>NaN</td>\n",
       "      <td>NaN</td>\n",
       "      <td>NaN</td>\n",
       "      <td>NaN</td>\n",
       "      <td>NaN</td>\n",
       "      <td>NaN</td>\n",
       "      <td>NaN</td>\n",
       "      <td>NaN</td>\n",
       "      <td>NaN</td>\n",
       "      <td>NaN</td>\n",
       "      <td>NaN</td>\n",
       "      <td>NaN</td>\n",
       "      <td>NaN</td>\n",
       "      <td>NaN</td>\n",
       "      <td>NaN</td>\n",
       "      <td>NaN</td>\n",
       "      <td>NaN</td>\n",
       "      <td>fl</td>\n",
       "      <td>NaN</td>\n",
       "      <td>NaN</td>\n",
       "      <td>NaN</td>\n",
       "    </tr>\n",
       "    <tr>\n",
       "      <th>3</th>\n",
       "      <td>7222270760</td>\n",
       "      <td>https://worcester.craigslist.org/cto/d/west-br...</td>\n",
       "      <td>worcester / central MA</td>\n",
       "      <td>https://worcester.craigslist.org</td>\n",
       "      <td>1500</td>\n",
       "      <td>NaN</td>\n",
       "      <td>NaN</td>\n",
       "      <td>NaN</td>\n",
       "      <td>NaN</td>\n",
       "      <td>NaN</td>\n",
       "      <td>NaN</td>\n",
       "      <td>NaN</td>\n",
       "      <td>NaN</td>\n",
       "      <td>NaN</td>\n",
       "      <td>NaN</td>\n",
       "      <td>NaN</td>\n",
       "      <td>NaN</td>\n",
       "      <td>NaN</td>\n",
       "      <td>NaN</td>\n",
       "      <td>NaN</td>\n",
       "      <td>NaN</td>\n",
       "      <td>NaN</td>\n",
       "      <td>ma</td>\n",
       "      <td>NaN</td>\n",
       "      <td>NaN</td>\n",
       "      <td>NaN</td>\n",
       "    </tr>\n",
       "    <tr>\n",
       "      <th>4</th>\n",
       "      <td>7210384030</td>\n",
       "      <td>https://greensboro.craigslist.org/cto/d/trinit...</td>\n",
       "      <td>greensboro</td>\n",
       "      <td>https://greensboro.craigslist.org</td>\n",
       "      <td>4900</td>\n",
       "      <td>NaN</td>\n",
       "      <td>NaN</td>\n",
       "      <td>NaN</td>\n",
       "      <td>NaN</td>\n",
       "      <td>NaN</td>\n",
       "      <td>NaN</td>\n",
       "      <td>NaN</td>\n",
       "      <td>NaN</td>\n",
       "      <td>NaN</td>\n",
       "      <td>NaN</td>\n",
       "      <td>NaN</td>\n",
       "      <td>NaN</td>\n",
       "      <td>NaN</td>\n",
       "      <td>NaN</td>\n",
       "      <td>NaN</td>\n",
       "      <td>NaN</td>\n",
       "      <td>NaN</td>\n",
       "      <td>nc</td>\n",
       "      <td>NaN</td>\n",
       "      <td>NaN</td>\n",
       "      <td>NaN</td>\n",
       "    </tr>\n",
       "  </tbody>\n",
       "</table>\n",
       "</div>"
      ],
      "text/plain": [
       "           id                                                url  \\\n",
       "0  7222695916  https://prescott.craigslist.org/cto/d/prescott...   \n",
       "1  7218891961  https://fayar.craigslist.org/ctd/d/bentonville...   \n",
       "2  7221797935  https://keys.craigslist.org/cto/d/summerland-k...   \n",
       "3  7222270760  https://worcester.craigslist.org/cto/d/west-br...   \n",
       "4  7210384030  https://greensboro.craigslist.org/cto/d/trinit...   \n",
       "\n",
       "                   region                         region_url  price  year  \\\n",
       "0                prescott    https://prescott.craigslist.org   6000   NaN   \n",
       "1            fayetteville       https://fayar.craigslist.org  11900   NaN   \n",
       "2            florida keys        https://keys.craigslist.org  21000   NaN   \n",
       "3  worcester / central MA   https://worcester.craigslist.org   1500   NaN   \n",
       "4              greensboro  https://greensboro.craigslist.org   4900   NaN   \n",
       "\n",
       "  manufacturer model condition cylinders fuel  odometer title_status  \\\n",
       "0          NaN   NaN       NaN       NaN  NaN       NaN          NaN   \n",
       "1          NaN   NaN       NaN       NaN  NaN       NaN          NaN   \n",
       "2          NaN   NaN       NaN       NaN  NaN       NaN          NaN   \n",
       "3          NaN   NaN       NaN       NaN  NaN       NaN          NaN   \n",
       "4          NaN   NaN       NaN       NaN  NaN       NaN          NaN   \n",
       "\n",
       "  transmission  VIN drive size type paint_color image_url description  county  \\\n",
       "0          NaN  NaN   NaN  NaN  NaN         NaN       NaN         NaN     NaN   \n",
       "1          NaN  NaN   NaN  NaN  NaN         NaN       NaN         NaN     NaN   \n",
       "2          NaN  NaN   NaN  NaN  NaN         NaN       NaN         NaN     NaN   \n",
       "3          NaN  NaN   NaN  NaN  NaN         NaN       NaN         NaN     NaN   \n",
       "4          NaN  NaN   NaN  NaN  NaN         NaN       NaN         NaN     NaN   \n",
       "\n",
       "  state  lat  long posting_date  \n",
       "0    az  NaN   NaN          NaN  \n",
       "1    ar  NaN   NaN          NaN  \n",
       "2    fl  NaN   NaN          NaN  \n",
       "3    ma  NaN   NaN          NaN  \n",
       "4    nc  NaN   NaN          NaN  "
      ]
     },
     "execution_count": 14,
     "metadata": {},
     "output_type": "execute_result"
    }
   ],
   "source": [
    "cars_init.head(5)"
   ]
  },
  {
   "cell_type": "code",
   "execution_count": 15,
   "id": "61707b52",
   "metadata": {
    "execution": {
     "iopub.execute_input": "2024-11-27T20:09:10.233452Z",
     "iopub.status.busy": "2024-11-27T20:09:10.232727Z",
     "iopub.status.idle": "2024-11-27T20:09:10.238815Z",
     "shell.execute_reply": "2024-11-27T20:09:10.237788Z"
    },
    "papermill": {
     "duration": 0.030572,
     "end_time": "2024-11-27T20:09:10.240751",
     "exception": false,
     "start_time": "2024-11-27T20:09:10.210179",
     "status": "completed"
    },
    "tags": []
   },
   "outputs": [
    {
     "name": "stdout",
     "output_type": "stream",
     "text": [
      "Min price: 0 \n",
      "\n",
      "Max price: 3736928711\n"
     ]
    }
   ],
   "source": [
    "print(f'Min price: {cars_init.price.min()} \\n')\n",
    "print(f'Max price: {cars_init.price.max()}')"
   ]
  },
  {
   "cell_type": "code",
   "execution_count": 16,
   "id": "121b0a34",
   "metadata": {
    "execution": {
     "iopub.execute_input": "2024-11-27T20:09:10.285567Z",
     "iopub.status.busy": "2024-11-27T20:09:10.284702Z",
     "iopub.status.idle": "2024-11-27T20:09:10.312935Z",
     "shell.execute_reply": "2024-11-27T20:09:10.311894Z"
    },
    "papermill": {
     "duration": 0.053053,
     "end_time": "2024-11-27T20:09:10.315037",
     "exception": false,
     "start_time": "2024-11-27T20:09:10.261984",
     "status": "completed"
    },
    "tags": []
   },
   "outputs": [
    {
     "data": {
      "text/plain": [
       "id         7207408119.00\n",
       "price               0.00\n",
       "year             1900.00\n",
       "odometer            0.00\n",
       "county               NaN\n",
       "lat               -84.12\n",
       "long             -159.83\n",
       "dtype: float64"
      ]
     },
     "execution_count": 16,
     "metadata": {},
     "output_type": "execute_result"
    }
   ],
   "source": [
    "# cars.loc['price' == 0].count()\n",
    "min_values = cars_init.select_dtypes(include=['number']).min()\n",
    "min_values"
   ]
  },
  {
   "cell_type": "code",
   "execution_count": 17,
   "id": "bc40c833",
   "metadata": {
    "execution": {
     "iopub.execute_input": "2024-11-27T20:09:10.360117Z",
     "iopub.status.busy": "2024-11-27T20:09:10.359226Z",
     "iopub.status.idle": "2024-11-27T20:09:10.384040Z",
     "shell.execute_reply": "2024-11-27T20:09:10.383050Z"
    },
    "papermill": {
     "duration": 0.049714,
     "end_time": "2024-11-27T20:09:10.386264",
     "exception": false,
     "start_time": "2024-11-27T20:09:10.336550",
     "status": "completed"
    },
    "tags": []
   },
   "outputs": [
    {
     "data": {
      "text/plain": [
       "id         7317101084.00\n",
       "price      3736928711.00\n",
       "year             2022.00\n",
       "odometer     10000000.00\n",
       "county               NaN\n",
       "lat                82.39\n",
       "long              173.89\n",
       "dtype: float64"
      ]
     },
     "execution_count": 17,
     "metadata": {},
     "output_type": "execute_result"
    }
   ],
   "source": [
    "max_values = cars_init.select_dtypes(include=['number']).max()\n",
    "max_values"
   ]
  },
  {
   "cell_type": "code",
   "execution_count": 18,
   "id": "cc027a04",
   "metadata": {
    "execution": {
     "iopub.execute_input": "2024-11-27T20:09:10.431362Z",
     "iopub.status.busy": "2024-11-27T20:09:10.430975Z",
     "iopub.status.idle": "2024-11-27T20:09:10.454329Z",
     "shell.execute_reply": "2024-11-27T20:09:10.453226Z"
    },
    "papermill": {
     "duration": 0.048156,
     "end_time": "2024-11-27T20:09:10.456536",
     "exception": false,
     "start_time": "2024-11-27T20:09:10.408380",
     "status": "completed"
    },
    "tags": []
   },
   "outputs": [
    {
     "name": "stdout",
     "output_type": "stream",
     "text": [
      "Non-unique values in column 'id':\n",
      "[]\n"
     ]
    }
   ],
   "source": [
    "non_unique_id = cars_init['id'][cars_init['id'].duplicated()]\n",
    "print(\"Non-unique values in column 'id':\")\n",
    "print(non_unique_id.unique())"
   ]
  },
  {
   "cell_type": "code",
   "execution_count": 19,
   "id": "1571aae7",
   "metadata": {
    "execution": {
     "iopub.execute_input": "2024-11-27T20:09:10.502036Z",
     "iopub.status.busy": "2024-11-27T20:09:10.501137Z",
     "iopub.status.idle": "2024-11-27T20:09:10.512141Z",
     "shell.execute_reply": "2024-11-27T20:09:10.511254Z"
    },
    "papermill": {
     "duration": 0.035575,
     "end_time": "2024-11-27T20:09:10.514041",
     "exception": false,
     "start_time": "2024-11-27T20:09:10.478466",
     "status": "completed"
    },
    "tags": []
   },
   "outputs": [
    {
     "data": {
      "text/plain": [
       "15655"
      ]
     },
     "execution_count": 19,
     "metadata": {},
     "output_type": "execute_result"
    }
   ],
   "source": [
    "len(cars_init.price.unique())"
   ]
  },
  {
   "cell_type": "code",
   "execution_count": 20,
   "id": "64f0918e",
   "metadata": {
    "execution": {
     "iopub.execute_input": "2024-11-27T20:09:10.559323Z",
     "iopub.status.busy": "2024-11-27T20:09:10.558410Z",
     "iopub.status.idle": "2024-11-27T20:09:10.575635Z",
     "shell.execute_reply": "2024-11-27T20:09:10.574824Z"
    },
    "papermill": {
     "duration": 0.041933,
     "end_time": "2024-11-27T20:09:10.577724",
     "exception": false,
     "start_time": "2024-11-27T20:09:10.535791",
     "status": "completed"
    },
    "tags": []
   },
   "outputs": [
    {
     "name": "stdout",
     "output_type": "stream",
     "text": [
      "Non-unique values in column 'price':\n",
      "[    0 24999 21850 ...  7075 20796 27294]\n"
     ]
    }
   ],
   "source": [
    "non_unique_price = cars_init['price'][cars_init['price'].duplicated()]\n",
    "print(\"Non-unique values in column 'price':\")\n",
    "print(non_unique_price.unique())"
   ]
  },
  {
   "cell_type": "code",
   "execution_count": 21,
   "id": "33b1793b",
   "metadata": {
    "execution": {
     "iopub.execute_input": "2024-11-27T20:09:10.622387Z",
     "iopub.status.busy": "2024-11-27T20:09:10.621993Z",
     "iopub.status.idle": "2024-11-27T20:09:10.632446Z",
     "shell.execute_reply": "2024-11-27T20:09:10.631523Z"
    },
    "papermill": {
     "duration": 0.035036,
     "end_time": "2024-11-27T20:09:10.634509",
     "exception": false,
     "start_time": "2024-11-27T20:09:10.599473",
     "status": "completed"
    },
    "tags": []
   },
   "outputs": [
    {
     "data": {
      "text/plain": [
       "array([ 6000, 11900, 21000, ...,  6328, 19853, 17873])"
      ]
     },
     "execution_count": 21,
     "metadata": {},
     "output_type": "execute_result"
    }
   ],
   "source": [
    "cars_init.price.unique()"
   ]
  },
  {
   "cell_type": "code",
   "execution_count": 22,
   "id": "fe226d4d",
   "metadata": {
    "execution": {
     "iopub.execute_input": "2024-11-27T20:09:10.680027Z",
     "iopub.status.busy": "2024-11-27T20:09:10.679314Z",
     "iopub.status.idle": "2024-11-27T20:09:10.705981Z",
     "shell.execute_reply": "2024-11-27T20:09:10.704940Z"
    },
    "papermill": {
     "duration": 0.05154,
     "end_time": "2024-11-27T20:09:10.708012",
     "exception": false,
     "start_time": "2024-11-27T20:09:10.656472",
     "status": "completed"
    },
    "tags": []
   },
   "outputs": [
    {
     "data": {
      "text/html": [
       "<div>\n",
       "<style scoped>\n",
       "    .dataframe tbody tr th:only-of-type {\n",
       "        vertical-align: middle;\n",
       "    }\n",
       "\n",
       "    .dataframe tbody tr th {\n",
       "        vertical-align: top;\n",
       "    }\n",
       "\n",
       "    .dataframe thead th {\n",
       "        text-align: right;\n",
       "    }\n",
       "</style>\n",
       "<table border=\"1\" class=\"dataframe\">\n",
       "  <thead>\n",
       "    <tr style=\"text-align: right;\">\n",
       "      <th></th>\n",
       "      <th>price</th>\n",
       "      <th>model</th>\n",
       "    </tr>\n",
       "  </thead>\n",
       "  <tbody>\n",
       "    <tr>\n",
       "      <th>0</th>\n",
       "      <td>6000</td>\n",
       "      <td>NaN</td>\n",
       "    </tr>\n",
       "    <tr>\n",
       "      <th>1</th>\n",
       "      <td>11900</td>\n",
       "      <td>NaN</td>\n",
       "    </tr>\n",
       "    <tr>\n",
       "      <th>2</th>\n",
       "      <td>21000</td>\n",
       "      <td>NaN</td>\n",
       "    </tr>\n",
       "    <tr>\n",
       "      <th>3</th>\n",
       "      <td>1500</td>\n",
       "      <td>NaN</td>\n",
       "    </tr>\n",
       "    <tr>\n",
       "      <th>4</th>\n",
       "      <td>4900</td>\n",
       "      <td>NaN</td>\n",
       "    </tr>\n",
       "    <tr>\n",
       "      <th>...</th>\n",
       "      <td>...</td>\n",
       "      <td>...</td>\n",
       "    </tr>\n",
       "    <tr>\n",
       "      <th>426875</th>\n",
       "      <td>23590</td>\n",
       "      <td>maxima s sedan 4d</td>\n",
       "    </tr>\n",
       "    <tr>\n",
       "      <th>426876</th>\n",
       "      <td>30590</td>\n",
       "      <td>s60 t5 momentum sedan 4d</td>\n",
       "    </tr>\n",
       "    <tr>\n",
       "      <th>426877</th>\n",
       "      <td>34990</td>\n",
       "      <td>xt4 sport suv 4d</td>\n",
       "    </tr>\n",
       "    <tr>\n",
       "      <th>426878</th>\n",
       "      <td>28990</td>\n",
       "      <td>es 350 sedan 4d</td>\n",
       "    </tr>\n",
       "    <tr>\n",
       "      <th>426879</th>\n",
       "      <td>30590</td>\n",
       "      <td>4 series 430i gran coupe</td>\n",
       "    </tr>\n",
       "  </tbody>\n",
       "</table>\n",
       "<p>389961 rows × 2 columns</p>\n",
       "</div>"
      ],
      "text/plain": [
       "        price                     model\n",
       "0        6000                       NaN\n",
       "1       11900                       NaN\n",
       "2       21000                       NaN\n",
       "3        1500                       NaN\n",
       "4        4900                       NaN\n",
       "...       ...                       ...\n",
       "426875  23590         maxima s sedan 4d\n",
       "426876  30590  s60 t5 momentum sedan 4d\n",
       "426877  34990          xt4 sport suv 4d\n",
       "426878  28990           es 350 sedan 4d\n",
       "426879  30590  4 series 430i gran coupe\n",
       "\n",
       "[389961 rows x 2 columns]"
      ]
     },
     "execution_count": 22,
     "metadata": {},
     "output_type": "execute_result"
    }
   ],
   "source": [
    "# cars.(loc[:,'price'] >= 1000)\n",
    "cars_init.loc[(cars_init['price'] >= 100) & (cars_init['price'] < 100000), ['price', 'model']]\n"
   ]
  },
  {
   "cell_type": "code",
   "execution_count": 23,
   "id": "c99da065",
   "metadata": {
    "execution": {
     "iopub.execute_input": "2024-11-27T20:09:10.754015Z",
     "iopub.status.busy": "2024-11-27T20:09:10.753328Z",
     "iopub.status.idle": "2024-11-27T20:09:10.794437Z",
     "shell.execute_reply": "2024-11-27T20:09:10.793409Z"
    },
    "papermill": {
     "duration": 0.066379,
     "end_time": "2024-11-27T20:09:10.796653",
     "exception": false,
     "start_time": "2024-11-27T20:09:10.730274",
     "status": "completed"
    },
    "tags": []
   },
   "outputs": [
    {
     "data": {
      "text/html": [
       "<div>\n",
       "<style scoped>\n",
       "    .dataframe tbody tr th:only-of-type {\n",
       "        vertical-align: middle;\n",
       "    }\n",
       "\n",
       "    .dataframe tbody tr th {\n",
       "        vertical-align: top;\n",
       "    }\n",
       "\n",
       "    .dataframe thead th {\n",
       "        text-align: right;\n",
       "    }\n",
       "</style>\n",
       "<table border=\"1\" class=\"dataframe\">\n",
       "  <thead>\n",
       "    <tr style=\"text-align: right;\">\n",
       "      <th></th>\n",
       "      <th>id</th>\n",
       "      <th>url</th>\n",
       "      <th>region</th>\n",
       "      <th>region_url</th>\n",
       "      <th>price</th>\n",
       "      <th>year</th>\n",
       "      <th>manufacturer</th>\n",
       "      <th>model</th>\n",
       "      <th>condition</th>\n",
       "      <th>cylinders</th>\n",
       "      <th>fuel</th>\n",
       "      <th>odometer</th>\n",
       "      <th>title_status</th>\n",
       "      <th>transmission</th>\n",
       "      <th>VIN</th>\n",
       "      <th>drive</th>\n",
       "      <th>size</th>\n",
       "      <th>type</th>\n",
       "      <th>paint_color</th>\n",
       "      <th>image_url</th>\n",
       "      <th>description</th>\n",
       "      <th>county</th>\n",
       "      <th>state</th>\n",
       "      <th>lat</th>\n",
       "      <th>long</th>\n",
       "      <th>posting_date</th>\n",
       "    </tr>\n",
       "  </thead>\n",
       "  <tbody>\n",
       "    <tr>\n",
       "      <th>10</th>\n",
       "      <td>7218893038</td>\n",
       "      <td>https://elpaso.craigslist.org/ctd/d/el-paso-20...</td>\n",
       "      <td>el paso</td>\n",
       "      <td>https://elpaso.craigslist.org</td>\n",
       "      <td>0</td>\n",
       "      <td>NaN</td>\n",
       "      <td>NaN</td>\n",
       "      <td>NaN</td>\n",
       "      <td>NaN</td>\n",
       "      <td>NaN</td>\n",
       "      <td>NaN</td>\n",
       "      <td>NaN</td>\n",
       "      <td>NaN</td>\n",
       "      <td>NaN</td>\n",
       "      <td>NaN</td>\n",
       "      <td>NaN</td>\n",
       "      <td>NaN</td>\n",
       "      <td>NaN</td>\n",
       "      <td>NaN</td>\n",
       "      <td>NaN</td>\n",
       "      <td>NaN</td>\n",
       "      <td>NaN</td>\n",
       "      <td>tx</td>\n",
       "      <td>NaN</td>\n",
       "      <td>NaN</td>\n",
       "      <td>NaN</td>\n",
       "    </tr>\n",
       "    <tr>\n",
       "      <th>11</th>\n",
       "      <td>7218325704</td>\n",
       "      <td>https://elpaso.craigslist.org/ctd/d/el-paso-20...</td>\n",
       "      <td>el paso</td>\n",
       "      <td>https://elpaso.craigslist.org</td>\n",
       "      <td>0</td>\n",
       "      <td>NaN</td>\n",
       "      <td>NaN</td>\n",
       "      <td>NaN</td>\n",
       "      <td>NaN</td>\n",
       "      <td>NaN</td>\n",
       "      <td>NaN</td>\n",
       "      <td>NaN</td>\n",
       "      <td>NaN</td>\n",
       "      <td>NaN</td>\n",
       "      <td>NaN</td>\n",
       "      <td>NaN</td>\n",
       "      <td>NaN</td>\n",
       "      <td>NaN</td>\n",
       "      <td>NaN</td>\n",
       "      <td>NaN</td>\n",
       "      <td>NaN</td>\n",
       "      <td>NaN</td>\n",
       "      <td>tx</td>\n",
       "      <td>NaN</td>\n",
       "      <td>NaN</td>\n",
       "      <td>NaN</td>\n",
       "    </tr>\n",
       "    <tr>\n",
       "      <th>12</th>\n",
       "      <td>7217788283</td>\n",
       "      <td>https://elpaso.craigslist.org/ctd/d/el-paso-20...</td>\n",
       "      <td>el paso</td>\n",
       "      <td>https://elpaso.craigslist.org</td>\n",
       "      <td>0</td>\n",
       "      <td>NaN</td>\n",
       "      <td>NaN</td>\n",
       "      <td>NaN</td>\n",
       "      <td>NaN</td>\n",
       "      <td>NaN</td>\n",
       "      <td>NaN</td>\n",
       "      <td>NaN</td>\n",
       "      <td>NaN</td>\n",
       "      <td>NaN</td>\n",
       "      <td>NaN</td>\n",
       "      <td>NaN</td>\n",
       "      <td>NaN</td>\n",
       "      <td>NaN</td>\n",
       "      <td>NaN</td>\n",
       "      <td>NaN</td>\n",
       "      <td>NaN</td>\n",
       "      <td>NaN</td>\n",
       "      <td>tx</td>\n",
       "      <td>NaN</td>\n",
       "      <td>NaN</td>\n",
       "      <td>NaN</td>\n",
       "    </tr>\n",
       "    <tr>\n",
       "      <th>13</th>\n",
       "      <td>7217147606</td>\n",
       "      <td>https://elpaso.craigslist.org/ctd/d/el-paso-20...</td>\n",
       "      <td>el paso</td>\n",
       "      <td>https://elpaso.craigslist.org</td>\n",
       "      <td>0</td>\n",
       "      <td>NaN</td>\n",
       "      <td>NaN</td>\n",
       "      <td>NaN</td>\n",
       "      <td>NaN</td>\n",
       "      <td>NaN</td>\n",
       "      <td>NaN</td>\n",
       "      <td>NaN</td>\n",
       "      <td>NaN</td>\n",
       "      <td>NaN</td>\n",
       "      <td>NaN</td>\n",
       "      <td>NaN</td>\n",
       "      <td>NaN</td>\n",
       "      <td>NaN</td>\n",
       "      <td>NaN</td>\n",
       "      <td>NaN</td>\n",
       "      <td>NaN</td>\n",
       "      <td>NaN</td>\n",
       "      <td>tx</td>\n",
       "      <td>NaN</td>\n",
       "      <td>NaN</td>\n",
       "      <td>NaN</td>\n",
       "    </tr>\n",
       "    <tr>\n",
       "      <th>14</th>\n",
       "      <td>7209027818</td>\n",
       "      <td>https://elpaso.craigslist.org/ctd/d/el-paso-20...</td>\n",
       "      <td>el paso</td>\n",
       "      <td>https://elpaso.craigslist.org</td>\n",
       "      <td>0</td>\n",
       "      <td>NaN</td>\n",
       "      <td>NaN</td>\n",
       "      <td>NaN</td>\n",
       "      <td>NaN</td>\n",
       "      <td>NaN</td>\n",
       "      <td>NaN</td>\n",
       "      <td>NaN</td>\n",
       "      <td>NaN</td>\n",
       "      <td>NaN</td>\n",
       "      <td>NaN</td>\n",
       "      <td>NaN</td>\n",
       "      <td>NaN</td>\n",
       "      <td>NaN</td>\n",
       "      <td>NaN</td>\n",
       "      <td>NaN</td>\n",
       "      <td>NaN</td>\n",
       "      <td>NaN</td>\n",
       "      <td>tx</td>\n",
       "      <td>NaN</td>\n",
       "      <td>NaN</td>\n",
       "      <td>NaN</td>\n",
       "    </tr>\n",
       "    <tr>\n",
       "      <th>...</th>\n",
       "      <td>...</td>\n",
       "      <td>...</td>\n",
       "      <td>...</td>\n",
       "      <td>...</td>\n",
       "      <td>...</td>\n",
       "      <td>...</td>\n",
       "      <td>...</td>\n",
       "      <td>...</td>\n",
       "      <td>...</td>\n",
       "      <td>...</td>\n",
       "      <td>...</td>\n",
       "      <td>...</td>\n",
       "      <td>...</td>\n",
       "      <td>...</td>\n",
       "      <td>...</td>\n",
       "      <td>...</td>\n",
       "      <td>...</td>\n",
       "      <td>...</td>\n",
       "      <td>...</td>\n",
       "      <td>...</td>\n",
       "      <td>...</td>\n",
       "      <td>...</td>\n",
       "      <td>...</td>\n",
       "      <td>...</td>\n",
       "      <td>...</td>\n",
       "      <td>...</td>\n",
       "    </tr>\n",
       "    <tr>\n",
       "      <th>426764</th>\n",
       "      <td>7303347225</td>\n",
       "      <td>https://wyoming.craigslist.org/ctd/d/casper-pe...</td>\n",
       "      <td>wyoming</td>\n",
       "      <td>https://wyoming.craigslist.org</td>\n",
       "      <td>0</td>\n",
       "      <td>2018.00</td>\n",
       "      <td>NaN</td>\n",
       "      <td>peterbilt 579</td>\n",
       "      <td>NaN</td>\n",
       "      <td>NaN</td>\n",
       "      <td>diesel</td>\n",
       "      <td>1.00</td>\n",
       "      <td>clean</td>\n",
       "      <td>automatic</td>\n",
       "      <td>NaN</td>\n",
       "      <td>NaN</td>\n",
       "      <td>NaN</td>\n",
       "      <td>NaN</td>\n",
       "      <td>NaN</td>\n",
       "      <td>https://images.craigslist.org/00F0F_kfjCcZyncy...</td>\n",
       "      <td>◄ PRICES STARTING AT $57,500 ($57,500 and up, ...</td>\n",
       "      <td>NaN</td>\n",
       "      <td>wy</td>\n",
       "      <td>42.86</td>\n",
       "      <td>-106.31</td>\n",
       "      <td>2021-04-07T15:15:05-0600</td>\n",
       "    </tr>\n",
       "    <tr>\n",
       "      <th>426812</th>\n",
       "      <td>7302877815</td>\n",
       "      <td>https://wyoming.craigslist.org/ctd/d/frederick...</td>\n",
       "      <td>wyoming</td>\n",
       "      <td>https://wyoming.craigslist.org</td>\n",
       "      <td>0</td>\n",
       "      <td>2006.00</td>\n",
       "      <td>toyota</td>\n",
       "      <td>scion tc</td>\n",
       "      <td>excellent</td>\n",
       "      <td>4 cylinders</td>\n",
       "      <td>gas</td>\n",
       "      <td>195000.00</td>\n",
       "      <td>clean</td>\n",
       "      <td>automatic</td>\n",
       "      <td>JTKDE177460109655</td>\n",
       "      <td>fwd</td>\n",
       "      <td>NaN</td>\n",
       "      <td>NaN</td>\n",
       "      <td>silver</td>\n",
       "      <td>https://images.craigslist.org/00B0B_dqmLwdZw8Q...</td>\n",
       "      <td>2006 *** TOYOTA SCION TC  ***    Call or Text ...</td>\n",
       "      <td>NaN</td>\n",
       "      <td>wy</td>\n",
       "      <td>40.11</td>\n",
       "      <td>-104.97</td>\n",
       "      <td>2021-04-06T17:00:19-0600</td>\n",
       "    </tr>\n",
       "    <tr>\n",
       "      <th>426832</th>\n",
       "      <td>7302353283</td>\n",
       "      <td>https://wyoming.craigslist.org/ctd/d/frederick...</td>\n",
       "      <td>wyoming</td>\n",
       "      <td>https://wyoming.craigslist.org</td>\n",
       "      <td>0</td>\n",
       "      <td>2004.00</td>\n",
       "      <td>toyota</td>\n",
       "      <td>prius</td>\n",
       "      <td>excellent</td>\n",
       "      <td>4 cylinders</td>\n",
       "      <td>hybrid</td>\n",
       "      <td>239000.00</td>\n",
       "      <td>clean</td>\n",
       "      <td>automatic</td>\n",
       "      <td>JTDKB20U840108051</td>\n",
       "      <td>fwd</td>\n",
       "      <td>NaN</td>\n",
       "      <td>NaN</td>\n",
       "      <td>blue</td>\n",
       "      <td>https://images.craigslist.org/00V0V_7Ap4arGS9S...</td>\n",
       "      <td>2004 *** TOYOTA PRIUS  ***    Call or Text \"To...</td>\n",
       "      <td>NaN</td>\n",
       "      <td>wy</td>\n",
       "      <td>40.11</td>\n",
       "      <td>-104.97</td>\n",
       "      <td>2021-04-05T17:00:55-0600</td>\n",
       "    </tr>\n",
       "    <tr>\n",
       "      <th>426836</th>\n",
       "      <td>7302301268</td>\n",
       "      <td>https://wyoming.craigslist.org/ctd/d/dassel-20...</td>\n",
       "      <td>wyoming</td>\n",
       "      <td>https://wyoming.craigslist.org</td>\n",
       "      <td>0</td>\n",
       "      <td>2018.00</td>\n",
       "      <td>ram</td>\n",
       "      <td>2500</td>\n",
       "      <td>excellent</td>\n",
       "      <td>6 cylinders</td>\n",
       "      <td>diesel</td>\n",
       "      <td>20492.00</td>\n",
       "      <td>clean</td>\n",
       "      <td>automatic</td>\n",
       "      <td>3C6UR5HL3JG307217</td>\n",
       "      <td>4wd</td>\n",
       "      <td>full-size</td>\n",
       "      <td>truck</td>\n",
       "      <td>white</td>\n",
       "      <td>https://images.craigslist.org/00i0i_3cSpgdy0qQ...</td>\n",
       "      <td>Phone: 320-275-2150   2018 RAM 2500 Tradesman ...</td>\n",
       "      <td>NaN</td>\n",
       "      <td>wy</td>\n",
       "      <td>45.08</td>\n",
       "      <td>-94.33</td>\n",
       "      <td>2021-04-05T15:18:42-0600</td>\n",
       "    </tr>\n",
       "    <tr>\n",
       "      <th>426868</th>\n",
       "      <td>7301843288</td>\n",
       "      <td>https://wyoming.craigslist.org/ctd/d/frederick...</td>\n",
       "      <td>wyoming</td>\n",
       "      <td>https://wyoming.craigslist.org</td>\n",
       "      <td>0</td>\n",
       "      <td>2010.00</td>\n",
       "      <td>toyota</td>\n",
       "      <td>venza</td>\n",
       "      <td>excellent</td>\n",
       "      <td>6 cylinders</td>\n",
       "      <td>gas</td>\n",
       "      <td>155000.00</td>\n",
       "      <td>clean</td>\n",
       "      <td>automatic</td>\n",
       "      <td>4T3BK3BB0AU043625</td>\n",
       "      <td>4wd</td>\n",
       "      <td>NaN</td>\n",
       "      <td>NaN</td>\n",
       "      <td>blue</td>\n",
       "      <td>https://images.craigslist.org/00808_hNEilrIb0i...</td>\n",
       "      <td>2010 *** TOYOTA VENZA AWD V6  ***    Call or T...</td>\n",
       "      <td>NaN</td>\n",
       "      <td>wy</td>\n",
       "      <td>40.11</td>\n",
       "      <td>-104.97</td>\n",
       "      <td>2021-04-04T17:00:48-0600</td>\n",
       "    </tr>\n",
       "  </tbody>\n",
       "</table>\n",
       "<p>32895 rows × 26 columns</p>\n",
       "</div>"
      ],
      "text/plain": [
       "                id                                                url  \\\n",
       "10      7218893038  https://elpaso.craigslist.org/ctd/d/el-paso-20...   \n",
       "11      7218325704  https://elpaso.craigslist.org/ctd/d/el-paso-20...   \n",
       "12      7217788283  https://elpaso.craigslist.org/ctd/d/el-paso-20...   \n",
       "13      7217147606  https://elpaso.craigslist.org/ctd/d/el-paso-20...   \n",
       "14      7209027818  https://elpaso.craigslist.org/ctd/d/el-paso-20...   \n",
       "...            ...                                                ...   \n",
       "426764  7303347225  https://wyoming.craigslist.org/ctd/d/casper-pe...   \n",
       "426812  7302877815  https://wyoming.craigslist.org/ctd/d/frederick...   \n",
       "426832  7302353283  https://wyoming.craigslist.org/ctd/d/frederick...   \n",
       "426836  7302301268  https://wyoming.craigslist.org/ctd/d/dassel-20...   \n",
       "426868  7301843288  https://wyoming.craigslist.org/ctd/d/frederick...   \n",
       "\n",
       "         region                      region_url  price    year manufacturer  \\\n",
       "10      el paso   https://elpaso.craigslist.org      0     NaN          NaN   \n",
       "11      el paso   https://elpaso.craigslist.org      0     NaN          NaN   \n",
       "12      el paso   https://elpaso.craigslist.org      0     NaN          NaN   \n",
       "13      el paso   https://elpaso.craigslist.org      0     NaN          NaN   \n",
       "14      el paso   https://elpaso.craigslist.org      0     NaN          NaN   \n",
       "...         ...                             ...    ...     ...          ...   \n",
       "426764  wyoming  https://wyoming.craigslist.org      0 2018.00          NaN   \n",
       "426812  wyoming  https://wyoming.craigslist.org      0 2006.00       toyota   \n",
       "426832  wyoming  https://wyoming.craigslist.org      0 2004.00       toyota   \n",
       "426836  wyoming  https://wyoming.craigslist.org      0 2018.00          ram   \n",
       "426868  wyoming  https://wyoming.craigslist.org      0 2010.00       toyota   \n",
       "\n",
       "                model  condition    cylinders    fuel  odometer title_status  \\\n",
       "10                NaN        NaN          NaN     NaN       NaN          NaN   \n",
       "11                NaN        NaN          NaN     NaN       NaN          NaN   \n",
       "12                NaN        NaN          NaN     NaN       NaN          NaN   \n",
       "13                NaN        NaN          NaN     NaN       NaN          NaN   \n",
       "14                NaN        NaN          NaN     NaN       NaN          NaN   \n",
       "...               ...        ...          ...     ...       ...          ...   \n",
       "426764  peterbilt 579        NaN          NaN  diesel      1.00        clean   \n",
       "426812       scion tc  excellent  4 cylinders     gas 195000.00        clean   \n",
       "426832          prius  excellent  4 cylinders  hybrid 239000.00        clean   \n",
       "426836           2500  excellent  6 cylinders  diesel  20492.00        clean   \n",
       "426868          venza  excellent  6 cylinders     gas 155000.00        clean   \n",
       "\n",
       "       transmission                VIN drive       size   type paint_color  \\\n",
       "10              NaN                NaN   NaN        NaN    NaN         NaN   \n",
       "11              NaN                NaN   NaN        NaN    NaN         NaN   \n",
       "12              NaN                NaN   NaN        NaN    NaN         NaN   \n",
       "13              NaN                NaN   NaN        NaN    NaN         NaN   \n",
       "14              NaN                NaN   NaN        NaN    NaN         NaN   \n",
       "...             ...                ...   ...        ...    ...         ...   \n",
       "426764    automatic                NaN   NaN        NaN    NaN         NaN   \n",
       "426812    automatic  JTKDE177460109655   fwd        NaN    NaN      silver   \n",
       "426832    automatic  JTDKB20U840108051   fwd        NaN    NaN        blue   \n",
       "426836    automatic  3C6UR5HL3JG307217   4wd  full-size  truck       white   \n",
       "426868    automatic  4T3BK3BB0AU043625   4wd        NaN    NaN        blue   \n",
       "\n",
       "                                                image_url  \\\n",
       "10                                                    NaN   \n",
       "11                                                    NaN   \n",
       "12                                                    NaN   \n",
       "13                                                    NaN   \n",
       "14                                                    NaN   \n",
       "...                                                   ...   \n",
       "426764  https://images.craigslist.org/00F0F_kfjCcZyncy...   \n",
       "426812  https://images.craigslist.org/00B0B_dqmLwdZw8Q...   \n",
       "426832  https://images.craigslist.org/00V0V_7Ap4arGS9S...   \n",
       "426836  https://images.craigslist.org/00i0i_3cSpgdy0qQ...   \n",
       "426868  https://images.craigslist.org/00808_hNEilrIb0i...   \n",
       "\n",
       "                                              description  county state   lat  \\\n",
       "10                                                    NaN     NaN    tx   NaN   \n",
       "11                                                    NaN     NaN    tx   NaN   \n",
       "12                                                    NaN     NaN    tx   NaN   \n",
       "13                                                    NaN     NaN    tx   NaN   \n",
       "14                                                    NaN     NaN    tx   NaN   \n",
       "...                                                   ...     ...   ...   ...   \n",
       "426764  ◄ PRICES STARTING AT $57,500 ($57,500 and up, ...     NaN    wy 42.86   \n",
       "426812  2006 *** TOYOTA SCION TC  ***    Call or Text ...     NaN    wy 40.11   \n",
       "426832  2004 *** TOYOTA PRIUS  ***    Call or Text \"To...     NaN    wy 40.11   \n",
       "426836  Phone: 320-275-2150   2018 RAM 2500 Tradesman ...     NaN    wy 45.08   \n",
       "426868  2010 *** TOYOTA VENZA AWD V6  ***    Call or T...     NaN    wy 40.11   \n",
       "\n",
       "          long              posting_date  \n",
       "10         NaN                       NaN  \n",
       "11         NaN                       NaN  \n",
       "12         NaN                       NaN  \n",
       "13         NaN                       NaN  \n",
       "14         NaN                       NaN  \n",
       "...        ...                       ...  \n",
       "426764 -106.31  2021-04-07T15:15:05-0600  \n",
       "426812 -104.97  2021-04-06T17:00:19-0600  \n",
       "426832 -104.97  2021-04-05T17:00:55-0600  \n",
       "426836  -94.33  2021-04-05T15:18:42-0600  \n",
       "426868 -104.97  2021-04-04T17:00:48-0600  \n",
       "\n",
       "[32895 rows x 26 columns]"
      ]
     },
     "execution_count": 23,
     "metadata": {},
     "output_type": "execute_result"
    }
   ],
   "source": [
    "cars_init.loc[cars_init['price'] == 0]"
   ]
  },
  {
   "cell_type": "markdown",
   "id": "f9707a14",
   "metadata": {
    "papermill": {
     "duration": 0.022727,
     "end_time": "2024-11-27T20:09:10.843363",
     "exception": false,
     "start_time": "2024-11-27T20:09:10.820636",
     "status": "completed"
    },
    "tags": []
   },
   "source": [
    "# EDA"
   ]
  },
  {
   "cell_type": "code",
   "execution_count": 24,
   "id": "ec9b7ce0",
   "metadata": {
    "execution": {
     "iopub.execute_input": "2024-11-27T20:09:10.891808Z",
     "iopub.status.busy": "2024-11-27T20:09:10.890743Z",
     "iopub.status.idle": "2024-11-27T20:09:10.895145Z",
     "shell.execute_reply": "2024-11-27T20:09:10.894262Z"
    },
    "papermill": {
     "duration": 0.031109,
     "end_time": "2024-11-27T20:09:10.897117",
     "exception": false,
     "start_time": "2024-11-27T20:09:10.866008",
     "status": "completed"
    },
    "tags": []
   },
   "outputs": [],
   "source": [
    "# cars.id."
   ]
  },
  {
   "cell_type": "markdown",
   "id": "d16378d9",
   "metadata": {
    "papermill": {
     "duration": 0.022518,
     "end_time": "2024-11-27T20:09:10.943013",
     "exception": false,
     "start_time": "2024-11-27T20:09:10.920495",
     "status": "completed"
    },
    "tags": []
   },
   "source": [
    "# Cleaning"
   ]
  },
  {
   "cell_type": "markdown",
   "id": "827a27b3",
   "metadata": {
    "papermill": {
     "duration": 0.022393,
     "end_time": "2024-11-27T20:09:10.988175",
     "exception": false,
     "start_time": "2024-11-27T20:09:10.965782",
     "status": "completed"
    },
    "tags": []
   },
   "source": [
    "## Drop cars with no year filled"
   ]
  },
  {
   "cell_type": "code",
   "execution_count": 25,
   "id": "a4d1bfa0",
   "metadata": {
    "execution": {
     "iopub.execute_input": "2024-11-27T20:09:11.035562Z",
     "iopub.status.busy": "2024-11-27T20:09:11.034880Z",
     "iopub.status.idle": "2024-11-27T20:09:11.155901Z",
     "shell.execute_reply": "2024-11-27T20:09:11.154865Z"
    },
    "papermill": {
     "duration": 0.147255,
     "end_time": "2024-11-27T20:09:11.158145",
     "exception": false,
     "start_time": "2024-11-27T20:09:11.010890",
     "status": "completed"
    },
    "tags": []
   },
   "outputs": [],
   "source": [
    "cars = cars_init.dropna(subset=['year'])"
   ]
  },
  {
   "cell_type": "code",
   "execution_count": 26,
   "id": "e0a76064",
   "metadata": {
    "execution": {
     "iopub.execute_input": "2024-11-27T20:09:11.206018Z",
     "iopub.status.busy": "2024-11-27T20:09:11.205265Z",
     "iopub.status.idle": "2024-11-27T20:09:11.209819Z",
     "shell.execute_reply": "2024-11-27T20:09:11.208886Z"
    },
    "papermill": {
     "duration": 0.030637,
     "end_time": "2024-11-27T20:09:11.211792",
     "exception": false,
     "start_time": "2024-11-27T20:09:11.181155",
     "status": "completed"
    },
    "tags": []
   },
   "outputs": [],
   "source": [
    "del(cars_init)"
   ]
  },
  {
   "cell_type": "code",
   "execution_count": 27,
   "id": "b950ff3d",
   "metadata": {
    "execution": {
     "iopub.execute_input": "2024-11-27T20:09:11.259681Z",
     "iopub.status.busy": "2024-11-27T20:09:11.258941Z",
     "iopub.status.idle": "2024-11-27T20:09:11.437222Z",
     "shell.execute_reply": "2024-11-27T20:09:11.436381Z"
    },
    "papermill": {
     "duration": 0.204565,
     "end_time": "2024-11-27T20:09:11.439487",
     "exception": false,
     "start_time": "2024-11-27T20:09:11.234922",
     "status": "completed"
    },
    "tags": []
   },
   "outputs": [],
   "source": [
    "cars = cars.dropna(subset=['manufacturer'])"
   ]
  },
  {
   "cell_type": "markdown",
   "id": "ae07da1e",
   "metadata": {
    "papermill": {
     "duration": 0.022496,
     "end_time": "2024-11-27T20:09:11.486277",
     "exception": false,
     "start_time": "2024-11-27T20:09:11.463781",
     "status": "completed"
    },
    "tags": []
   },
   "source": [
    "## Removing url and links"
   ]
  },
  {
   "cell_type": "code",
   "execution_count": 28,
   "id": "9f865639",
   "metadata": {
    "execution": {
     "iopub.execute_input": "2024-11-27T20:09:11.533495Z",
     "iopub.status.busy": "2024-11-27T20:09:11.532863Z",
     "iopub.status.idle": "2024-11-27T20:09:11.646983Z",
     "shell.execute_reply": "2024-11-27T20:09:11.646126Z"
    },
    "papermill": {
     "duration": 0.140361,
     "end_time": "2024-11-27T20:09:11.649372",
     "exception": false,
     "start_time": "2024-11-27T20:09:11.509011",
     "status": "completed"
    },
    "tags": []
   },
   "outputs": [],
   "source": [
    "cars = cars.drop(['url', 'region_url', 'image_url', 'posting_date', 'county'], axis=1, errors='ignore')"
   ]
  },
  {
   "cell_type": "code",
   "execution_count": 29,
   "id": "803d74f4",
   "metadata": {
    "execution": {
     "iopub.execute_input": "2024-11-27T20:09:11.697005Z",
     "iopub.status.busy": "2024-11-27T20:09:11.696632Z",
     "iopub.status.idle": "2024-11-27T20:09:11.703375Z",
     "shell.execute_reply": "2024-11-27T20:09:11.702321Z"
    },
    "papermill": {
     "duration": 0.032867,
     "end_time": "2024-11-27T20:09:11.705334",
     "exception": false,
     "start_time": "2024-11-27T20:09:11.672467",
     "status": "completed"
    },
    "tags": []
   },
   "outputs": [
    {
     "data": {
      "text/plain": [
       "Index(['id', 'region', 'price', 'year', 'manufacturer', 'model', 'condition',\n",
       "       'cylinders', 'fuel', 'odometer', 'title_status', 'transmission', 'VIN',\n",
       "       'drive', 'size', 'type', 'paint_color', 'description', 'state', 'lat',\n",
       "       'long'],\n",
       "      dtype='object')"
      ]
     },
     "execution_count": 29,
     "metadata": {},
     "output_type": "execute_result"
    }
   ],
   "source": [
    "cars.columns"
   ]
  },
  {
   "cell_type": "markdown",
   "id": "c6ab30f6",
   "metadata": {
    "papermill": {
     "duration": 0.023062,
     "end_time": "2024-11-27T20:09:11.752145",
     "exception": false,
     "start_time": "2024-11-27T20:09:11.729083",
     "status": "completed"
    },
    "tags": []
   },
   "source": [
    "## Drop all cars with price < 1"
   ]
  },
  {
   "cell_type": "code",
   "execution_count": 30,
   "id": "e771071c",
   "metadata": {
    "execution": {
     "iopub.execute_input": "2024-11-27T20:09:11.800261Z",
     "iopub.status.busy": "2024-11-27T20:09:11.799851Z",
     "iopub.status.idle": "2024-11-27T20:09:11.904112Z",
     "shell.execute_reply": "2024-11-27T20:09:11.903063Z"
    },
    "papermill": {
     "duration": 0.131036,
     "end_time": "2024-11-27T20:09:11.906413",
     "exception": false,
     "start_time": "2024-11-27T20:09:11.775377",
     "status": "completed"
    },
    "tags": []
   },
   "outputs": [],
   "source": [
    "cars = cars.loc[cars['price'] > 1]"
   ]
  },
  {
   "cell_type": "markdown",
   "id": "dbdc54bb",
   "metadata": {
    "papermill": {
     "duration": 0.022637,
     "end_time": "2024-11-27T20:09:11.952170",
     "exception": false,
     "start_time": "2024-11-27T20:09:11.929533",
     "status": "completed"
    },
    "tags": []
   },
   "source": [
    "## Drop all cars with price over 100000"
   ]
  },
  {
   "cell_type": "code",
   "execution_count": 31,
   "id": "e30fce90",
   "metadata": {
    "execution": {
     "iopub.execute_input": "2024-11-27T20:09:12.000171Z",
     "iopub.status.busy": "2024-11-27T20:09:11.999444Z",
     "iopub.status.idle": "2024-11-27T20:09:12.102688Z",
     "shell.execute_reply": "2024-11-27T20:09:12.101590Z"
    },
    "papermill": {
     "duration": 0.12974,
     "end_time": "2024-11-27T20:09:12.105065",
     "exception": false,
     "start_time": "2024-11-27T20:09:11.975325",
     "status": "completed"
    },
    "tags": []
   },
   "outputs": [],
   "source": [
    "cars = cars.loc[cars['price'] < 100000]"
   ]
  },
  {
   "cell_type": "code",
   "execution_count": 32,
   "id": "0cd96e3e",
   "metadata": {
    "execution": {
     "iopub.execute_input": "2024-11-27T20:09:12.153350Z",
     "iopub.status.busy": "2024-11-27T20:09:12.152400Z",
     "iopub.status.idle": "2024-11-27T20:09:12.375070Z",
     "shell.execute_reply": "2024-11-27T20:09:12.374043Z"
    },
    "papermill": {
     "duration": 0.24907,
     "end_time": "2024-11-27T20:09:12.377389",
     "exception": false,
     "start_time": "2024-11-27T20:09:12.128319",
     "status": "completed"
    },
    "tags": []
   },
   "outputs": [
    {
     "data": {
      "image/png": "[encoded data removed]",
      "text/plain": [
       "<Figure size 640x480 with 1 Axes>"
      ]
     },
     "metadata": {},
     "output_type": "display_data"
    }
   ],
   "source": [
    "cars['price'].hist(bins=20, edgecolor='black')\n",
    "plt.xlabel('Price')\n",
    "plt.ylabel('Frequency')\n",
    "plt.title('Histogram of Car Prices')\n",
    "\n",
    "plt.show()"
   ]
  },
  {
   "cell_type": "markdown",
   "id": "70018b4c",
   "metadata": {
    "papermill": {
     "duration": 0.023159,
     "end_time": "2024-11-27T20:09:12.424616",
     "exception": false,
     "start_time": "2024-11-27T20:09:12.401457",
     "status": "completed"
    },
    "tags": []
   },
   "source": [
    "## Drop all cars before 1980"
   ]
  },
  {
   "cell_type": "code",
   "execution_count": 33,
   "id": "4ba4b137",
   "metadata": {
    "execution": {
     "iopub.execute_input": "2024-11-27T20:09:12.474801Z",
     "iopub.status.busy": "2024-11-27T20:09:12.473934Z",
     "iopub.status.idle": "2024-11-27T20:09:12.575033Z",
     "shell.execute_reply": "2024-11-27T20:09:12.573981Z"
    },
    "papermill": {
     "duration": 0.129484,
     "end_time": "2024-11-27T20:09:12.577447",
     "exception": false,
     "start_time": "2024-11-27T20:09:12.447963",
     "status": "completed"
    },
    "tags": []
   },
   "outputs": [],
   "source": [
    "cars = cars.loc[cars['year'] > 1980]"
   ]
  },
  {
   "cell_type": "code",
   "execution_count": 34,
   "id": "cfdcf606",
   "metadata": {
    "execution": {
     "iopub.execute_input": "2024-11-27T20:09:12.626747Z",
     "iopub.status.busy": "2024-11-27T20:09:12.626393Z",
     "iopub.status.idle": "2024-11-27T20:09:12.937869Z",
     "shell.execute_reply": "2024-11-27T20:09:12.936875Z"
    },
    "papermill": {
     "duration": 0.338365,
     "end_time": "2024-11-27T20:09:12.939894",
     "exception": false,
     "start_time": "2024-11-27T20:09:12.601529",
     "status": "completed"
    },
    "tags": []
   },
   "outputs": [
    {
     "data": {
      "image/png": "[encoded data removed]",
      "text/plain": [
       "<Figure size 640x480 with 1 Axes>"
      ]
     },
     "metadata": {},
     "output_type": "display_data"
    }
   ],
   "source": [
    "cars['year'].hist(bins=100, edgecolor='black')\n",
    "plt.xlabel('Year')\n",
    "plt.ylabel('Frequency')\n",
    "plt.title('Histogram of Car Years')\n",
    "\n",
    "plt.show()"
   ]
  },
  {
   "cell_type": "markdown",
   "id": "72a18c55",
   "metadata": {
    "papermill": {
     "duration": 0.023535,
     "end_time": "2024-11-27T20:09:12.987613",
     "exception": false,
     "start_time": "2024-11-27T20:09:12.964078",
     "status": "completed"
    },
    "tags": []
   },
   "source": [
    "# "
   ]
  },
  {
   "cell_type": "markdown",
   "id": "ba99e27e",
   "metadata": {
    "papermill": {
     "duration": 0.024356,
     "end_time": "2024-11-27T20:09:13.035938",
     "exception": false,
     "start_time": "2024-11-27T20:09:13.011582",
     "status": "completed"
    },
    "tags": []
   },
   "source": [
    "## Drop cars with wrong odometer > 500000"
   ]
  },
  {
   "cell_type": "code",
   "execution_count": 35,
   "id": "d7bff1d2",
   "metadata": {
    "execution": {
     "iopub.execute_input": "2024-11-27T20:09:13.085400Z",
     "iopub.status.busy": "2024-11-27T20:09:13.085001Z",
     "iopub.status.idle": "2024-11-27T20:09:13.184915Z",
     "shell.execute_reply": "2024-11-27T20:09:13.183741Z"
    },
    "papermill": {
     "duration": 0.127329,
     "end_time": "2024-11-27T20:09:13.187348",
     "exception": false,
     "start_time": "2024-11-27T20:09:13.060019",
     "status": "completed"
    },
    "tags": []
   },
   "outputs": [],
   "source": [
    "cars = cars.loc[cars['odometer'] < 500000]"
   ]
  },
  {
   "cell_type": "code",
   "execution_count": 36,
   "id": "9b256436",
   "metadata": {
    "execution": {
     "iopub.execute_input": "2024-11-27T20:09:13.243687Z",
     "iopub.status.busy": "2024-11-27T20:09:13.242757Z",
     "iopub.status.idle": "2024-11-27T20:09:13.607777Z",
     "shell.execute_reply": "2024-11-27T20:09:13.606619Z"
    },
    "papermill": {
     "duration": 0.396617,
     "end_time": "2024-11-27T20:09:13.609912",
     "exception": false,
     "start_time": "2024-11-27T20:09:13.213295",
     "status": "completed"
    },
    "tags": []
   },
   "outputs": [
    {
     "data": {
      "image/png": "[encoded data removed]",
      "text/plain": [
       "<Figure size 640x480 with 1 Axes>"
      ]
     },
     "metadata": {},
     "output_type": "display_data"
    }
   ],
   "source": [
    "cars['odometer'].hist(bins=100, edgecolor='black')\n",
    "plt.xlabel('odometer')\n",
    "plt.ylabel('Frequency')\n",
    "plt.title('Histogram of Car odometer')\n",
    "\n",
    "plt.show()"
   ]
  },
  {
   "cell_type": "markdown",
   "id": "20e36530",
   "metadata": {
    "papermill": {
     "duration": 0.024259,
     "end_time": "2024-11-27T20:09:13.658810",
     "exception": false,
     "start_time": "2024-11-27T20:09:13.634551",
     "status": "completed"
    },
    "tags": []
   },
   "source": [
    "## Format year to datetime"
   ]
  },
  {
   "cell_type": "code",
   "execution_count": 37,
   "id": "fbb9490b",
   "metadata": {
    "execution": {
     "iopub.execute_input": "2024-11-27T20:09:13.710247Z",
     "iopub.status.busy": "2024-11-27T20:09:13.709377Z",
     "iopub.status.idle": "2024-11-27T20:09:13.880473Z",
     "shell.execute_reply": "2024-11-27T20:09:13.879458Z"
    },
    "papermill": {
     "duration": 0.199022,
     "end_time": "2024-11-27T20:09:13.882723",
     "exception": false,
     "start_time": "2024-11-27T20:09:13.683701",
     "status": "completed"
    },
    "tags": []
   },
   "outputs": [
    {
     "data": {
      "text/plain": [
       "27       2014-01-01\n",
       "28       2010-01-01\n",
       "29       2020-01-01\n",
       "30       2017-01-01\n",
       "31       2013-01-01\n",
       "            ...    \n",
       "426875   2019-01-01\n",
       "426876   2020-01-01\n",
       "426877   2020-01-01\n",
       "426878   2018-01-01\n",
       "426879   2019-01-01\n",
       "Name: year, Length: 366303, dtype: datetime64[ns]"
      ]
     },
     "execution_count": 37,
     "metadata": {},
     "output_type": "execute_result"
    }
   ],
   "source": [
    "pd.to_datetime(cars['year'].astype(int).astype(str))"
   ]
  },
  {
   "cell_type": "code",
   "execution_count": 38,
   "id": "b0f7686b",
   "metadata": {
    "execution": {
     "iopub.execute_input": "2024-11-27T20:09:13.934452Z",
     "iopub.status.busy": "2024-11-27T20:09:13.933460Z",
     "iopub.status.idle": "2024-11-27T20:09:14.141362Z",
     "shell.execute_reply": "2024-11-27T20:09:14.140346Z"
    },
    "papermill": {
     "duration": 0.235554,
     "end_time": "2024-11-27T20:09:14.143602",
     "exception": false,
     "start_time": "2024-11-27T20:09:13.908048",
     "status": "completed"
    },
    "tags": []
   },
   "outputs": [],
   "source": [
    "cars['year'] = pd.to_datetime(cars['year'].astype(int).astype(str) + '-01-01')"
   ]
  },
  {
   "cell_type": "markdown",
   "id": "95a01bf3",
   "metadata": {
    "papermill": {
     "duration": 0.0242,
     "end_time": "2024-11-27T20:09:14.192445",
     "exception": false,
     "start_time": "2024-11-27T20:09:14.168245",
     "status": "completed"
    },
    "tags": []
   },
   "source": [
    "## Check title status column"
   ]
  },
  {
   "cell_type": "code",
   "execution_count": 39,
   "id": "67d98194",
   "metadata": {
    "execution": {
     "iopub.execute_input": "2024-11-27T20:09:14.243162Z",
     "iopub.status.busy": "2024-11-27T20:09:14.242521Z",
     "iopub.status.idle": "2024-11-27T20:09:14.293910Z",
     "shell.execute_reply": "2024-11-27T20:09:14.292976Z"
    },
    "papermill": {
     "duration": 0.079026,
     "end_time": "2024-11-27T20:09:14.295878",
     "exception": false,
     "start_time": "2024-11-27T20:09:14.216852",
     "status": "completed"
    },
    "tags": []
   },
   "outputs": [
    {
     "data": {
      "text/plain": [
       "count     359235\n",
       "unique         6\n",
       "top        clean\n",
       "freq      347097\n",
       "Name: title_status, dtype: object"
      ]
     },
     "execution_count": 39,
     "metadata": {},
     "output_type": "execute_result"
    }
   ],
   "source": [
    "cars.title_status.describe()"
   ]
  },
  {
   "cell_type": "code",
   "execution_count": 40,
   "id": "d6f33e4e",
   "metadata": {
    "execution": {
     "iopub.execute_input": "2024-11-27T20:09:14.348436Z",
     "iopub.status.busy": "2024-11-27T20:09:14.347636Z",
     "iopub.status.idle": "2024-11-27T20:09:14.692162Z",
     "shell.execute_reply": "2024-11-27T20:09:14.691180Z"
    },
    "papermill": {
     "duration": 0.37343,
     "end_time": "2024-11-27T20:09:14.694309",
     "exception": false,
     "start_time": "2024-11-27T20:09:14.320879",
     "status": "completed"
    },
    "tags": []
   },
   "outputs": [
    {
     "data": {
      "text/plain": [
       "<Axes: >"
      ]
     },
     "execution_count": 40,
     "metadata": {},
     "output_type": "execute_result"
    },
    {
     "data": {
      "image/png": "[encoded data removed]",
      "text/plain": [
       "<Figure size 640x480 with 1 Axes>"
      ]
     },
     "metadata": {},
     "output_type": "display_data"
    }
   ],
   "source": [
    "cars.title_status.hist()"
   ]
  },
  {
   "cell_type": "code",
   "execution_count": 41,
   "id": "5adea645",
   "metadata": {
    "execution": {
     "iopub.execute_input": "2024-11-27T20:09:14.746772Z",
     "iopub.status.busy": "2024-11-27T20:09:14.745857Z",
     "iopub.status.idle": "2024-11-27T20:09:14.873571Z",
     "shell.execute_reply": "2024-11-27T20:09:14.872448Z"
    },
    "papermill": {
     "duration": 0.156145,
     "end_time": "2024-11-27T20:09:14.875890",
     "exception": false,
     "start_time": "2024-11-27T20:09:14.719745",
     "status": "completed"
    },
    "tags": []
   },
   "outputs": [],
   "source": [
    "cars = cars.loc[cars['title_status'] == 'clean']"
   ]
  },
  {
   "cell_type": "markdown",
   "id": "826e2298",
   "metadata": {
    "papermill": {
     "duration": 0.025307,
     "end_time": "2024-11-27T20:09:14.926628",
     "exception": false,
     "start_time": "2024-11-27T20:09:14.901321",
     "status": "completed"
    },
    "tags": []
   },
   "source": [
    "### Removing title_status the same clean"
   ]
  },
  {
   "cell_type": "code",
   "execution_count": 42,
   "id": "0ba0d304",
   "metadata": {
    "execution": {
     "iopub.execute_input": "2024-11-27T20:09:14.978394Z",
     "iopub.status.busy": "2024-11-27T20:09:14.977987Z",
     "iopub.status.idle": "2024-11-27T20:09:15.063648Z",
     "shell.execute_reply": "2024-11-27T20:09:15.062791Z"
    },
    "papermill": {
     "duration": 0.114644,
     "end_time": "2024-11-27T20:09:15.066417",
     "exception": false,
     "start_time": "2024-11-27T20:09:14.951773",
     "status": "completed"
    },
    "tags": []
   },
   "outputs": [],
   "source": [
    "cars = cars.drop('title_status', axis=1, errors='ignore')"
   ]
  },
  {
   "cell_type": "markdown",
   "id": "2c9d6960",
   "metadata": {
    "papermill": {
     "duration": 0.024798,
     "end_time": "2024-11-27T20:09:15.116620",
     "exception": false,
     "start_time": "2024-11-27T20:09:15.091822",
     "status": "completed"
    },
    "tags": []
   },
   "source": [
    "## Check manufacturer"
   ]
  },
  {
   "cell_type": "code",
   "execution_count": 43,
   "id": "89be1646",
   "metadata": {
    "execution": {
     "iopub.execute_input": "2024-11-27T20:09:15.167808Z",
     "iopub.status.busy": "2024-11-27T20:09:15.167440Z",
     "iopub.status.idle": "2024-11-27T20:09:15.218603Z",
     "shell.execute_reply": "2024-11-27T20:09:15.217610Z"
    },
    "papermill": {
     "duration": 0.079014,
     "end_time": "2024-11-27T20:09:15.220519",
     "exception": false,
     "start_time": "2024-11-27T20:09:15.141505",
     "status": "completed"
    },
    "tags": []
   },
   "outputs": [
    {
     "data": {
      "text/plain": [
       "count     347097\n",
       "unique        42\n",
       "top         ford\n",
       "freq       59353\n",
       "Name: manufacturer, dtype: object"
      ]
     },
     "execution_count": 43,
     "metadata": {},
     "output_type": "execute_result"
    }
   ],
   "source": [
    "cars.manufacturer.describe()"
   ]
  },
  {
   "cell_type": "code",
   "execution_count": 44,
   "id": "e99fb5d4",
   "metadata": {
    "execution": {
     "iopub.execute_input": "2024-11-27T20:09:15.272568Z",
     "iopub.status.busy": "2024-11-27T20:09:15.272158Z",
     "iopub.status.idle": "2024-11-27T20:09:15.307675Z",
     "shell.execute_reply": "2024-11-27T20:09:15.306640Z"
    },
    "papermill": {
     "duration": 0.063764,
     "end_time": "2024-11-27T20:09:15.309547",
     "exception": false,
     "start_time": "2024-11-27T20:09:15.245783",
     "status": "completed"
    },
    "tags": []
   },
   "outputs": [
    {
     "data": {
      "text/plain": [
       "manufacturer\n",
       "ford               59353\n",
       "chevrolet          45266\n",
       "toyota             29459\n",
       "honda              18159\n",
       "jeep               16087\n",
       "nissan             15744\n",
       "ram                15433\n",
       "gmc                14435\n",
       "bmw                13042\n",
       "dodge              10967\n",
       "mercedes-benz       9515\n",
       "hyundai             8787\n",
       "subaru              8163\n",
       "volkswagen          8086\n",
       "lexus               7383\n",
       "kia                 7145\n",
       "audi                6852\n",
       "cadillac            5960\n",
       "acura               5442\n",
       "chrysler            5188\n",
       "buick               4712\n",
       "mazda               4694\n",
       "infiniti            4244\n",
       "lincoln             3727\n",
       "volvo               3023\n",
       "mitsubishi          2916\n",
       "mini                2154\n",
       "rover               1834\n",
       "jaguar              1830\n",
       "pontiac             1784\n",
       "porsche             1162\n",
       "saturn              1027\n",
       "mercury              949\n",
       "alfa-romeo           853\n",
       "tesla                792\n",
       "fiat                 717\n",
       "harley-davidson      132\n",
       "ferrari               34\n",
       "aston-martin          18\n",
       "datsun                16\n",
       "land rover            11\n",
       "morgan                 2\n",
       "Name: count, dtype: int64"
      ]
     },
     "execution_count": 44,
     "metadata": {},
     "output_type": "execute_result"
    }
   ],
   "source": [
    "cars.manufacturer.value_counts()"
   ]
  },
  {
   "cell_type": "markdown",
   "id": "c0994930",
   "metadata": {
    "papermill": {
     "duration": 0.025044,
     "end_time": "2024-11-27T20:09:15.360286",
     "exception": false,
     "start_time": "2024-11-27T20:09:15.335242",
     "status": "completed"
    },
    "tags": []
   },
   "source": [
    "## Check region"
   ]
  },
  {
   "cell_type": "code",
   "execution_count": 45,
   "id": "829f55d9",
   "metadata": {
    "execution": {
     "iopub.execute_input": "2024-11-27T20:09:15.413187Z",
     "iopub.status.busy": "2024-11-27T20:09:15.412314Z",
     "iopub.status.idle": "2024-11-27T20:09:15.439529Z",
     "shell.execute_reply": "2024-11-27T20:09:15.438508Z"
    },
    "papermill": {
     "duration": 0.055647,
     "end_time": "2024-11-27T20:09:15.441454",
     "exception": false,
     "start_time": "2024-11-27T20:09:15.385807",
     "status": "completed"
    },
    "tags": []
   },
   "outputs": [
    {
     "data": {
      "text/plain": [
       "region\n",
       "columbus               3041\n",
       "grand rapids           2765\n",
       "jacksonville           2733\n",
       "new hampshire          2715\n",
       "central NJ             2649\n",
       "                       ... \n",
       "meridian                 16\n",
       "southwest MS             10\n",
       "fort smith, AR            8\n",
       "kansas city               8\n",
       "west virginia (old)       7\n",
       "Name: count, Length: 404, dtype: int64"
      ]
     },
     "execution_count": 45,
     "metadata": {},
     "output_type": "execute_result"
    }
   ],
   "source": [
    "cars.region.value_counts()"
   ]
  },
  {
   "cell_type": "code",
   "execution_count": 46,
   "id": "11763b39",
   "metadata": {
    "execution": {
     "iopub.execute_input": "2024-11-27T20:09:15.495790Z",
     "iopub.status.busy": "2024-11-27T20:09:15.495425Z",
     "iopub.status.idle": "2024-11-27T20:09:15.520658Z",
     "shell.execute_reply": "2024-11-27T20:09:15.519720Z"
    },
    "papermill": {
     "duration": 0.054337,
     "end_time": "2024-11-27T20:09:15.522728",
     "exception": false,
     "start_time": "2024-11-27T20:09:15.468391",
     "status": "completed"
    },
    "tags": []
   },
   "outputs": [
    {
     "data": {
      "text/plain": [
       "array(['auburn', 'birmingham', 'dothan', 'florence / muscle shoals',\n",
       "       'gadsden-anniston', 'huntsville / decatur', 'mobile', 'montgomery',\n",
       "       'tuscaloosa', 'anchorage / mat-su', 'fairbanks', 'kenai peninsula',\n",
       "       'southeast alaska', 'flagstaff / sedona', 'mohave county',\n",
       "       'phoenix', 'prescott', 'show low', 'sierra vista', 'tucson',\n",
       "       'yuma', 'fayetteville', 'fort smith', 'jonesboro', 'little rock',\n",
       "       'texarkana', 'bakersfield', 'chico', 'fresno / madera',\n",
       "       'gold country', 'hanford-corcoran', 'humboldt county',\n",
       "       'imperial county', 'inland empire', 'los angeles',\n",
       "       'mendocino county', 'merced', 'modesto', 'monterey bay',\n",
       "       'orange county', 'palm springs', 'redding', 'reno / tahoe',\n",
       "       'sacramento', 'san diego', 'san luis obispo', 'santa barbara',\n",
       "       'santa maria', 'SF bay area', 'siskiyou county', 'stockton',\n",
       "       'susanville', 'ventura county', 'visalia-tulare', 'yuba-sutter',\n",
       "       'boulder', 'colorado springs', 'denver', 'eastern CO',\n",
       "       'fort collins / north CO', 'high rockies', 'pueblo',\n",
       "       'western slope', 'eastern CT', 'hartford', 'new haven',\n",
       "       'northwest CT', 'washington, DC', 'delaware', 'daytona beach',\n",
       "       'florida keys', 'ft myers / SW florida', 'gainesville',\n",
       "       'heartland florida', 'jacksonville', 'lakeland',\n",
       "       'north central FL', 'ocala', 'okaloosa / walton', 'orlando',\n",
       "       'panama city', 'pensacola', 'sarasota-bradenton', 'south florida',\n",
       "       'space coast', 'st augustine', 'tallahassee', 'tampa bay area',\n",
       "       'treasure coast', 'albany', 'athens', 'atlanta', 'augusta',\n",
       "       'brunswick', 'columbus', 'macon / warner robins', 'northwest GA',\n",
       "       'savannah / hinesville', 'statesboro', 'valdosta', 'hawaii',\n",
       "       'boise', 'east idaho', 'lewiston / clarkston', 'pullman / moscow',\n",
       "       \"spokane / coeur d'alene\", 'twin falls', 'bloomington-normal',\n",
       "       'champaign urbana', 'chicago', 'decatur', 'la salle co',\n",
       "       'mattoon-charleston', 'peoria', 'quad cities, IA/IL', 'rockford',\n",
       "       'southern illinois', 'springfield', 'st louis, MO', 'western IL',\n",
       "       'bloomington', 'evansville', 'fort wayne', 'indianapolis',\n",
       "       'kokomo', 'lafayette / west lafayette', 'muncie / anderson',\n",
       "       'richmond', 'south bend / michiana', 'terre haute', 'ames',\n",
       "       'cedar rapids', 'des moines', 'dubuque', 'fort dodge', 'iowa city',\n",
       "       'mason city', 'omaha / council bluffs', 'sioux city',\n",
       "       'southeast IA', 'waterloo / cedar falls', 'kansas city, MO',\n",
       "       'lawrence', 'manhattan', 'northwest KS', 'salina', 'southeast KS',\n",
       "       'southwest KS', 'topeka', 'wichita', 'bowling green',\n",
       "       'eastern kentucky', 'huntington-ashland', 'lexington',\n",
       "       'louisville', 'owensboro', 'western KY', 'baton rouge',\n",
       "       'central louisiana', 'houma', 'lafayette', 'lake charles',\n",
       "       'monroe', 'new orleans', 'shreveport', 'maine', 'annapolis',\n",
       "       'baltimore', 'cumberland valley', 'eastern shore', 'frederick',\n",
       "       'southern maryland', 'western maryland', 'boston',\n",
       "       'cape cod / islands', 'south coast', 'western massachusetts',\n",
       "       'worcester / central MA', 'ann arbor', 'battle creek',\n",
       "       'central michigan', 'detroit metro', 'flint', 'grand rapids',\n",
       "       'holland', 'jackson', 'kalamazoo', 'lansing', 'muskegon',\n",
       "       'northern michigan', 'port huron', 'saginaw-midland-baycity',\n",
       "       'southwest michigan', 'the thumb', 'upper peninsula', 'bemidji',\n",
       "       'brainerd', 'duluth / superior', 'fargo / moorhead', 'mankato',\n",
       "       'minneapolis / st paul', 'rochester', 'southwest MN', 'st cloud',\n",
       "       'gulfport / biloxi', 'hattiesburg', 'meridian',\n",
       "       'north mississippi', 'southwest MS', 'columbia / jeff city',\n",
       "       'joplin', 'kansas city', 'kirksville', 'lake of the ozarks',\n",
       "       'southeast missouri', 'st joseph', 'st louis', 'billings',\n",
       "       'bozeman', 'butte', 'eastern montana', 'great falls', 'helena',\n",
       "       'kalispell', 'missoula', 'asheville', 'boone', 'charlotte',\n",
       "       'eastern NC', 'greensboro', 'hickory / lenoir', 'outer banks',\n",
       "       'raleigh / durham / CH', 'wilmington', 'winston-salem',\n",
       "       'grand island', 'lincoln', 'north platte',\n",
       "       'scottsbluff / panhandle', 'elko', 'las vegas', 'central NJ',\n",
       "       'jersey shore', 'north jersey', 'south jersey', 'albuquerque',\n",
       "       'clovis / portales', 'farmington', 'las cruces',\n",
       "       'roswell / carlsbad', 'santa fe / taos', 'binghamton', 'buffalo',\n",
       "       'catskills', 'chautauqua', 'elmira-corning', 'finger lakes',\n",
       "       'glens falls', 'hudson valley', 'ithaca', 'long island',\n",
       "       'new york city', 'oneonta', 'plattsburgh-adirondacks',\n",
       "       'potsdam-canton-massena', 'syracuse', 'twin tiers NY/PA',\n",
       "       'utica-rome-oneida', 'watertown', 'new hampshire', 'bismarck',\n",
       "       'grand forks', 'north dakota', 'akron / canton', 'ashtabula',\n",
       "       'chillicothe', 'cincinnati', 'cleveland', 'dayton / springfield',\n",
       "       'lima / findlay', 'mansfield', 'northern panhandle',\n",
       "       'parkersburg-marietta', 'sandusky', 'toledo', 'tuscarawas co',\n",
       "       'youngstown', 'zanesville / cambridge', 'fort smith, AR', 'lawton',\n",
       "       'northwest OK', 'oklahoma city', 'stillwater', 'texoma', 'tulsa',\n",
       "       'bend', 'corvallis/albany', 'east oregon', 'eugene',\n",
       "       'klamath falls', 'medford-ashland', 'oregon coast', 'portland',\n",
       "       'roseburg', 'salem', 'altoona-johnstown', 'erie', 'harrisburg',\n",
       "       'lancaster', 'lehigh valley', 'meadville', 'philadelphia',\n",
       "       'pittsburgh', 'poconos', 'reading', 'scranton / wilkes-barre',\n",
       "       'state college', 'williamsport', 'york', 'rhode island',\n",
       "       'charleston', 'columbia', 'florence', 'greenville / upstate',\n",
       "       'hilton head', 'myrtle beach', 'northeast SD',\n",
       "       'pierre / central SD', 'rapid city / west SD',\n",
       "       'sioux falls / SE SD', 'south dakota', 'chattanooga',\n",
       "       'clarksville', 'cookeville', 'knoxville', 'memphis', 'nashville',\n",
       "       'tri-cities', 'abilene', 'amarillo', 'austin',\n",
       "       'beaumont / port arthur', 'brownsville', 'college station',\n",
       "       'corpus christi', 'dallas / fort worth', 'deep east texas',\n",
       "       'del rio / eagle pass', 'el paso', 'galveston', 'houston',\n",
       "       'killeen / temple / ft hood', 'laredo', 'lubbock',\n",
       "       'mcallen / edinburg', 'odessa / midland', 'san angelo',\n",
       "       'san antonio', 'san marcos', 'southwest TX', 'tyler / east TX',\n",
       "       'victoria', 'waco', 'wichita falls', 'logan', 'ogden-clearfield',\n",
       "       'provo / orem', 'salt lake city', 'st george', 'vermont',\n",
       "       'charlottesville', 'danville', 'fredericksburg', 'harrisonburg',\n",
       "       'lynchburg', 'new river valley', 'norfolk / hampton roads',\n",
       "       'roanoke', 'southwest VA', 'winchester', 'bellingham',\n",
       "       'kennewick-pasco-richland', 'moses lake', 'olympic peninsula',\n",
       "       'seattle-tacoma', 'skagit / island / SJI', 'wenatchee', 'yakima',\n",
       "       'eastern panhandle', 'morgantown', 'southern WV',\n",
       "       'west virginia (old)', 'appleton-oshkosh-FDL', 'eau claire',\n",
       "       'green bay', 'janesville', 'kenosha-racine', 'la crosse',\n",
       "       'madison', 'milwaukee', 'northern WI', 'sheboygan', 'wausau',\n",
       "       'wyoming'], dtype=object)"
      ]
     },
     "execution_count": 46,
     "metadata": {},
     "output_type": "execute_result"
    }
   ],
   "source": [
    "cars.region.unique()"
   ]
  },
  {
   "cell_type": "markdown",
   "id": "f3778dcb",
   "metadata": {
    "papermill": {
     "duration": 0.025572,
     "end_time": "2024-11-27T20:09:15.574124",
     "exception": false,
     "start_time": "2024-11-27T20:09:15.548552",
     "status": "completed"
    },
    "tags": []
   },
   "source": [
    "### remove region"
   ]
  },
  {
   "cell_type": "code",
   "execution_count": 47,
   "id": "1812cf09",
   "metadata": {
    "execution": {
     "iopub.execute_input": "2024-11-27T20:09:15.627402Z",
     "iopub.status.busy": "2024-11-27T20:09:15.626476Z",
     "iopub.status.idle": "2024-11-27T20:09:15.707438Z",
     "shell.execute_reply": "2024-11-27T20:09:15.706373Z"
    },
    "papermill": {
     "duration": 0.109966,
     "end_time": "2024-11-27T20:09:15.709726",
     "exception": false,
     "start_time": "2024-11-27T20:09:15.599760",
     "status": "completed"
    },
    "tags": []
   },
   "outputs": [],
   "source": [
    "cars = cars.drop('region', axis=1, errors='ignore')"
   ]
  },
  {
   "cell_type": "markdown",
   "id": "a7fe873c",
   "metadata": {
    "papermill": {
     "duration": 0.025223,
     "end_time": "2024-11-27T20:09:15.760692",
     "exception": false,
     "start_time": "2024-11-27T20:09:15.735469",
     "status": "completed"
    },
    "tags": []
   },
   "source": [
    "## check model"
   ]
  },
  {
   "cell_type": "code",
   "execution_count": 48,
   "id": "a7c8ba91",
   "metadata": {
    "execution": {
     "iopub.execute_input": "2024-11-27T20:09:15.813441Z",
     "iopub.status.busy": "2024-11-27T20:09:15.812473Z",
     "iopub.status.idle": "2024-11-27T20:09:15.820551Z",
     "shell.execute_reply": "2024-11-27T20:09:15.819606Z"
    },
    "papermill": {
     "duration": 0.036381,
     "end_time": "2024-11-27T20:09:15.822424",
     "exception": false,
     "start_time": "2024-11-27T20:09:15.786043",
     "status": "completed"
    },
    "tags": []
   },
   "outputs": [
    {
     "data": {
      "text/plain": [
       "27        sierra 1500 crew cab slt\n",
       "28                  silverado 1500\n",
       "29             silverado 1500 crew\n",
       "30            tundra double cab sr\n",
       "31                       f-150 xlt\n",
       "                    ...           \n",
       "426875           maxima s sedan 4d\n",
       "426876    s60 t5 momentum sedan 4d\n",
       "426877            xt4 sport suv 4d\n",
       "426878             es 350 sedan 4d\n",
       "426879    4 series 430i gran coupe\n",
       "Name: model, Length: 347097, dtype: object"
      ]
     },
     "execution_count": 48,
     "metadata": {},
     "output_type": "execute_result"
    }
   ],
   "source": [
    "cars.model"
   ]
  },
  {
   "cell_type": "code",
   "execution_count": 49,
   "id": "f31a7009",
   "metadata": {
    "execution": {
     "iopub.execute_input": "2024-11-27T20:09:15.875809Z",
     "iopub.status.busy": "2024-11-27T20:09:15.874891Z",
     "iopub.status.idle": "2024-11-27T20:09:15.930193Z",
     "shell.execute_reply": "2024-11-27T20:09:15.929248Z"
    },
    "papermill": {
     "duration": 0.084107,
     "end_time": "2024-11-27T20:09:15.932242",
     "exception": false,
     "start_time": "2024-11-27T20:09:15.848135",
     "status": "completed"
    },
    "tags": []
   },
   "outputs": [
    {
     "data": {
      "text/plain": [
       "model\n",
       "f-150                        6733\n",
       "silverado 1500               4281\n",
       "1500                         3600\n",
       "camry                        2627\n",
       "silverado                    2597\n",
       "                             ... \n",
       "c7h top kick                    1\n",
       "tacoma sr5 double cab 5 b       1\n",
       "flhtc                           1\n",
       "dyna                            1\n",
       "gand wagoneer                   1\n",
       "Name: count, Length: 19755, dtype: int64"
      ]
     },
     "execution_count": 49,
     "metadata": {},
     "output_type": "execute_result"
    }
   ],
   "source": [
    "cars.model.value_counts()"
   ]
  },
  {
   "cell_type": "code",
   "execution_count": 50,
   "id": "c9f59727",
   "metadata": {
    "execution": {
     "iopub.execute_input": "2024-11-27T20:09:15.986278Z",
     "iopub.status.busy": "2024-11-27T20:09:15.985184Z",
     "iopub.status.idle": "2024-11-27T20:09:16.008413Z",
     "shell.execute_reply": "2024-11-27T20:09:16.007257Z"
    },
    "papermill": {
     "duration": 0.052231,
     "end_time": "2024-11-27T20:09:16.010381",
     "exception": false,
     "start_time": "2024-11-27T20:09:15.958150",
     "status": "completed"
    },
    "tags": []
   },
   "outputs": [
    {
     "data": {
      "text/plain": [
       "3432"
      ]
     },
     "execution_count": 50,
     "metadata": {},
     "output_type": "execute_result"
    }
   ],
   "source": [
    "cars['model'].isna().sum()"
   ]
  },
  {
   "cell_type": "code",
   "execution_count": 51,
   "id": "6bc8c10d",
   "metadata": {
    "execution": {
     "iopub.execute_input": "2024-11-27T20:09:16.064288Z",
     "iopub.status.busy": "2024-11-27T20:09:16.063396Z",
     "iopub.status.idle": "2024-11-27T20:09:16.093817Z",
     "shell.execute_reply": "2024-11-27T20:09:16.092870Z"
    },
    "papermill": {
     "duration": 0.059759,
     "end_time": "2024-11-27T20:09:16.095987",
     "exception": false,
     "start_time": "2024-11-27T20:09:16.036228",
     "status": "completed"
    },
    "tags": []
   },
   "outputs": [],
   "source": [
    "cars['model'] = cars['model'].fillna('other')"
   ]
  },
  {
   "cell_type": "markdown",
   "id": "e4b6d86a",
   "metadata": {
    "papermill": {
     "duration": 0.025572,
     "end_time": "2024-11-27T20:09:16.147626",
     "exception": false,
     "start_time": "2024-11-27T20:09:16.122054",
     "status": "completed"
    },
    "tags": []
   },
   "source": [
    "### remove low volume models"
   ]
  },
  {
   "cell_type": "code",
   "execution_count": 52,
   "id": "27571772",
   "metadata": {
    "execution": {
     "iopub.execute_input": "2024-11-27T20:09:16.201493Z",
     "iopub.status.busy": "2024-11-27T20:09:16.201107Z",
     "iopub.status.idle": "2024-11-27T20:09:16.251963Z",
     "shell.execute_reply": "2024-11-27T20:09:16.251033Z"
    },
    "papermill": {
     "duration": 0.079916,
     "end_time": "2024-11-27T20:09:16.253879",
     "exception": false,
     "start_time": "2024-11-27T20:09:16.173963",
     "status": "completed"
    },
    "tags": []
   },
   "outputs": [
    {
     "data": {
      "text/plain": [
       "model\n",
       "f-150                     True\n",
       "silverado 1500            True\n",
       "1500                      True\n",
       "other                     True\n",
       "camry                     True\n",
       "                         ...  \n",
       "capitiva ltz             False\n",
       "liberty sport limited    False\n",
       "duramax crew             False\n",
       "eclipse gs-t             False\n",
       "gand wagoneer            False\n",
       "Name: count, Length: 19755, dtype: bool"
      ]
     },
     "execution_count": 52,
     "metadata": {},
     "output_type": "execute_result"
    }
   ],
   "source": [
    "cars.model.value_counts() > 1000"
   ]
  },
  {
   "cell_type": "code",
   "execution_count": 53,
   "id": "3e9924eb",
   "metadata": {
    "execution": {
     "iopub.execute_input": "2024-11-27T20:09:16.309177Z",
     "iopub.status.busy": "2024-11-27T20:09:16.308092Z",
     "iopub.status.idle": "2024-11-27T20:09:16.360925Z",
     "shell.execute_reply": "2024-11-27T20:09:16.359853Z"
    },
    "papermill": {
     "duration": 0.083069,
     "end_time": "2024-11-27T20:09:16.363071",
     "exception": false,
     "start_time": "2024-11-27T20:09:16.280002",
     "status": "completed"
    },
    "tags": []
   },
   "outputs": [
    {
     "data": {
      "text/plain": [
       "model\n",
       "f-150                     True\n",
       "silverado 1500            True\n",
       "1500                      True\n",
       "other                     True\n",
       "camry                    False\n",
       "                         ...  \n",
       "capitiva ltz             False\n",
       "liberty sport limited    False\n",
       "duramax crew             False\n",
       "eclipse gs-t             False\n",
       "gand wagoneer            False\n",
       "Name: count, Length: 19755, dtype: bool"
      ]
     },
     "execution_count": 53,
     "metadata": {},
     "output_type": "execute_result"
    }
   ],
   "source": [
    "cars['model'].value_counts() > 3000"
   ]
  },
  {
   "cell_type": "markdown",
   "id": "2de074a4",
   "metadata": {
    "papermill": {
     "duration": 0.02588,
     "end_time": "2024-11-27T20:09:16.415262",
     "exception": false,
     "start_time": "2024-11-27T20:09:16.389382",
     "status": "completed"
    },
    "tags": []
   },
   "source": [
    "## Checking state"
   ]
  },
  {
   "cell_type": "code",
   "execution_count": 54,
   "id": "72cd0569",
   "metadata": {
    "execution": {
     "iopub.execute_input": "2024-11-27T20:09:16.470043Z",
     "iopub.status.busy": "2024-11-27T20:09:16.469670Z",
     "iopub.status.idle": "2024-11-27T20:09:16.513963Z",
     "shell.execute_reply": "2024-11-27T20:09:16.513025Z"
    },
    "papermill": {
     "duration": 0.074549,
     "end_time": "2024-11-27T20:09:16.515830",
     "exception": false,
     "start_time": "2024-11-27T20:09:16.441281",
     "status": "completed"
    },
    "tags": []
   },
   "outputs": [
    {
     "data": {
      "text/plain": [
       "count     347097\n",
       "unique        51\n",
       "top           ca\n",
       "freq       38685\n",
       "Name: state, dtype: object"
      ]
     },
     "execution_count": 54,
     "metadata": {},
     "output_type": "execute_result"
    }
   ],
   "source": [
    "cars.state.describe()"
   ]
  },
  {
   "cell_type": "code",
   "execution_count": 55,
   "id": "b4deeeb1",
   "metadata": {
    "execution": {
     "iopub.execute_input": "2024-11-27T20:09:16.570041Z",
     "iopub.status.busy": "2024-11-27T20:09:16.569656Z",
     "iopub.status.idle": "2024-11-27T20:09:16.598048Z",
     "shell.execute_reply": "2024-11-27T20:09:16.597097Z"
    },
    "papermill": {
     "duration": 0.058015,
     "end_time": "2024-11-27T20:09:16.600047",
     "exception": false,
     "start_time": "2024-11-27T20:09:16.542032",
     "status": "completed"
    },
    "tags": []
   },
   "outputs": [
    {
     "data": {
      "text/plain": [
       "state\n",
       "ca    38685\n",
       "fl    23480\n",
       "tx    18971\n",
       "ny    16422\n",
       "oh    14673\n",
       "mi    14253\n",
       "or    12906\n",
       "pa    11222\n",
       "nc    10821\n",
       "wa    10634\n",
       "wi    10021\n",
       "co     9284\n",
       "tn     9194\n",
       "il     8905\n",
       "nj     8589\n",
       "va     7963\n",
       "id     7559\n",
       "ma     7201\n",
       "az     7200\n",
       "mn     6470\n",
       "ia     6383\n",
       "ga     5823\n",
       "ks     5375\n",
       "mt     5325\n",
       "ok     5120\n",
       "sc     4979\n",
       "in     4973\n",
       "ct     4521\n",
       "al     4079\n",
       "md     3962\n",
       "mo     3633\n",
       "ky     3585\n",
       "nm     3211\n",
       "ak     3131\n",
       "ar     2970\n",
       "nh     2715\n",
       "nv     2615\n",
       "me     2515\n",
       "dc     2481\n",
       "hi     2458\n",
       "la     2438\n",
       "vt     2239\n",
       "ri     1983\n",
       "sd     1040\n",
       "wv      891\n",
       "ut      874\n",
       "ne      853\n",
       "ms      848\n",
       "de      808\n",
       "wy      482\n",
       "nd      334\n",
       "Name: count, dtype: int64"
      ]
     },
     "execution_count": 55,
     "metadata": {},
     "output_type": "execute_result"
    }
   ],
   "source": [
    "cars.state.value_counts()"
   ]
  },
  {
   "cell_type": "markdown",
   "id": "4f5a464e",
   "metadata": {
    "papermill": {
     "duration": 0.025989,
     "end_time": "2024-11-27T20:09:16.652517",
     "exception": false,
     "start_time": "2024-11-27T20:09:16.626528",
     "status": "completed"
    },
    "tags": []
   },
   "source": [
    "## we have all us states so can drop lat, long"
   ]
  },
  {
   "cell_type": "code",
   "execution_count": 56,
   "id": "1abd5037",
   "metadata": {
    "execution": {
     "iopub.execute_input": "2024-11-27T20:09:16.707090Z",
     "iopub.status.busy": "2024-11-27T20:09:16.706307Z",
     "iopub.status.idle": "2024-11-27T20:09:16.758135Z",
     "shell.execute_reply": "2024-11-27T20:09:16.757390Z"
    },
    "papermill": {
     "duration": 0.08162,
     "end_time": "2024-11-27T20:09:16.760450",
     "exception": false,
     "start_time": "2024-11-27T20:09:16.678830",
     "status": "completed"
    },
    "tags": []
   },
   "outputs": [],
   "source": [
    "cars = cars.drop(['lat', 'long'], axis=1, errors='ignore')"
   ]
  },
  {
   "cell_type": "code",
   "execution_count": 57,
   "id": "1131ae90",
   "metadata": {
    "execution": {
     "iopub.execute_input": "2024-11-27T20:09:16.815273Z",
     "iopub.status.busy": "2024-11-27T20:09:16.814518Z",
     "iopub.status.idle": "2024-11-27T20:09:16.820791Z",
     "shell.execute_reply": "2024-11-27T20:09:16.819928Z"
    },
    "papermill": {
     "duration": 0.035778,
     "end_time": "2024-11-27T20:09:16.822647",
     "exception": false,
     "start_time": "2024-11-27T20:09:16.786869",
     "status": "completed"
    },
    "tags": []
   },
   "outputs": [
    {
     "data": {
      "text/plain": [
       "Index(['id', 'price', 'year', 'manufacturer', 'model', 'condition',\n",
       "       'cylinders', 'fuel', 'odometer', 'transmission', 'VIN', 'drive', 'size',\n",
       "       'type', 'paint_color', 'description', 'state'],\n",
       "      dtype='object')"
      ]
     },
     "execution_count": 57,
     "metadata": {},
     "output_type": "execute_result"
    }
   ],
   "source": [
    "cars.columns"
   ]
  },
  {
   "cell_type": "markdown",
   "id": "d7a2e197",
   "metadata": {
    "papermill": {
     "duration": 0.02601,
     "end_time": "2024-11-27T20:09:16.875173",
     "exception": false,
     "start_time": "2024-11-27T20:09:16.849163",
     "status": "completed"
    },
    "tags": []
   },
   "source": [
    "## removing VIN col"
   ]
  },
  {
   "cell_type": "code",
   "execution_count": 58,
   "id": "28c6fb70",
   "metadata": {
    "execution": {
     "iopub.execute_input": "2024-11-27T20:09:16.930257Z",
     "iopub.status.busy": "2024-11-27T20:09:16.929886Z",
     "iopub.status.idle": "2024-11-27T20:09:17.001511Z",
     "shell.execute_reply": "2024-11-27T20:09:17.000624Z"
    },
    "papermill": {
     "duration": 0.10199,
     "end_time": "2024-11-27T20:09:17.004028",
     "exception": false,
     "start_time": "2024-11-27T20:09:16.902038",
     "status": "completed"
    },
    "tags": []
   },
   "outputs": [],
   "source": [
    "cars = cars.drop('VIN', axis=1, errors='ignore')"
   ]
  },
  {
   "cell_type": "code",
   "execution_count": 59,
   "id": "44abe2ca",
   "metadata": {
    "execution": {
     "iopub.execute_input": "2024-11-27T20:09:17.059290Z",
     "iopub.status.busy": "2024-11-27T20:09:17.058531Z",
     "iopub.status.idle": "2024-11-27T20:09:17.064894Z",
     "shell.execute_reply": "2024-11-27T20:09:17.063972Z"
    },
    "papermill": {
     "duration": 0.036271,
     "end_time": "2024-11-27T20:09:17.066919",
     "exception": false,
     "start_time": "2024-11-27T20:09:17.030648",
     "status": "completed"
    },
    "tags": []
   },
   "outputs": [
    {
     "data": {
      "text/plain": [
       "Index(['id', 'price', 'year', 'manufacturer', 'model', 'condition',\n",
       "       'cylinders', 'fuel', 'odometer', 'transmission', 'drive', 'size',\n",
       "       'type', 'paint_color', 'description', 'state'],\n",
       "      dtype='object')"
      ]
     },
     "execution_count": 59,
     "metadata": {},
     "output_type": "execute_result"
    }
   ],
   "source": [
    "cars.columns"
   ]
  },
  {
   "cell_type": "markdown",
   "id": "e6f88e95",
   "metadata": {
    "papermill": {
     "duration": 0.026015,
     "end_time": "2024-11-27T20:09:17.119456",
     "exception": false,
     "start_time": "2024-11-27T20:09:17.093441",
     "status": "completed"
    },
    "tags": []
   },
   "source": [
    "## checking condition"
   ]
  },
  {
   "cell_type": "code",
   "execution_count": 60,
   "id": "e214dcef",
   "metadata": {
    "execution": {
     "iopub.execute_input": "2024-11-27T20:09:17.175360Z",
     "iopub.status.busy": "2024-11-27T20:09:17.174935Z",
     "iopub.status.idle": "2024-11-27T20:09:17.220031Z",
     "shell.execute_reply": "2024-11-27T20:09:17.218720Z"
    },
    "papermill": {
     "duration": 0.075648,
     "end_time": "2024-11-27T20:09:17.222293",
     "exception": false,
     "start_time": "2024-11-27T20:09:17.146645",
     "status": "completed"
    },
    "tags": []
   },
   "outputs": [
    {
     "data": {
      "text/plain": [
       "count     210257\n",
       "unique         6\n",
       "top         good\n",
       "freq      108830\n",
       "Name: condition, dtype: object"
      ]
     },
     "execution_count": 60,
     "metadata": {},
     "output_type": "execute_result"
    }
   ],
   "source": [
    "cars.condition.describe()"
   ]
  },
  {
   "cell_type": "code",
   "execution_count": 61,
   "id": "253b49e3",
   "metadata": {
    "execution": {
     "iopub.execute_input": "2024-11-27T20:09:17.277556Z",
     "iopub.status.busy": "2024-11-27T20:09:17.276701Z",
     "iopub.status.idle": "2024-11-27T20:09:17.305177Z",
     "shell.execute_reply": "2024-11-27T20:09:17.304253Z"
    },
    "papermill": {
     "duration": 0.058016,
     "end_time": "2024-11-27T20:09:17.307038",
     "exception": false,
     "start_time": "2024-11-27T20:09:17.249022",
     "status": "completed"
    },
    "tags": []
   },
   "outputs": [
    {
     "data": {
      "text/plain": [
       "condition\n",
       "good         108830\n",
       "excellent     77896\n",
       "like new      17486\n",
       "fair           5013\n",
       "new             861\n",
       "salvage         171\n",
       "Name: count, dtype: int64"
      ]
     },
     "execution_count": 61,
     "metadata": {},
     "output_type": "execute_result"
    }
   ],
   "source": [
    "cars.condition.value_counts()"
   ]
  },
  {
   "cell_type": "code",
   "execution_count": 62,
   "id": "cdfa6c1a",
   "metadata": {
    "execution": {
     "iopub.execute_input": "2024-11-27T20:09:17.362619Z",
     "iopub.status.busy": "2024-11-27T20:09:17.361666Z",
     "iopub.status.idle": "2024-11-27T20:09:17.389307Z",
     "shell.execute_reply": "2024-11-27T20:09:17.388488Z"
    },
    "papermill": {
     "duration": 0.057769,
     "end_time": "2024-11-27T20:09:17.391473",
     "exception": false,
     "start_time": "2024-11-27T20:09:17.333704",
     "status": "completed"
    },
    "tags": []
   },
   "outputs": [],
   "source": [
    "cars.condition = cars.condition.fillna('other')"
   ]
  },
  {
   "cell_type": "markdown",
   "id": "97f8a633",
   "metadata": {
    "papermill": {
     "duration": 0.026297,
     "end_time": "2024-11-27T20:09:17.444689",
     "exception": false,
     "start_time": "2024-11-27T20:09:17.418392",
     "status": "completed"
    },
    "tags": []
   },
   "source": [
    "## checking cilinders"
   ]
  },
  {
   "cell_type": "code",
   "execution_count": 63,
   "id": "92ac6fde",
   "metadata": {
    "execution": {
     "iopub.execute_input": "2024-11-27T20:09:17.500941Z",
     "iopub.status.busy": "2024-11-27T20:09:17.500564Z",
     "iopub.status.idle": "2024-11-27T20:09:17.543588Z",
     "shell.execute_reply": "2024-11-27T20:09:17.542601Z"
    },
    "papermill": {
     "duration": 0.073053,
     "end_time": "2024-11-27T20:09:17.545518",
     "exception": false,
     "start_time": "2024-11-27T20:09:17.472465",
     "status": "completed"
    },
    "tags": []
   },
   "outputs": [
    {
     "data": {
      "text/plain": [
       "count          201812\n",
       "unique              8\n",
       "top       6 cylinders\n",
       "freq            78568\n",
       "Name: cylinders, dtype: object"
      ]
     },
     "execution_count": 63,
     "metadata": {},
     "output_type": "execute_result"
    }
   ],
   "source": [
    "cars.cylinders.describe()"
   ]
  },
  {
   "cell_type": "code",
   "execution_count": 64,
   "id": "df603082",
   "metadata": {
    "execution": {
     "iopub.execute_input": "2024-11-27T20:09:17.649326Z",
     "iopub.status.busy": "2024-11-27T20:09:17.648916Z",
     "iopub.status.idle": "2024-11-27T20:09:17.677213Z",
     "shell.execute_reply": "2024-11-27T20:09:17.676255Z"
    },
    "papermill": {
     "duration": 0.106603,
     "end_time": "2024-11-27T20:09:17.679146",
     "exception": false,
     "start_time": "2024-11-27T20:09:17.572543",
     "status": "completed"
    },
    "tags": []
   },
   "outputs": [
    {
     "data": {
      "text/plain": [
       "cylinders\n",
       "6 cylinders     78568\n",
       "4 cylinders     62529\n",
       "8 cylinders     57011\n",
       "5 cylinders      1416\n",
       "10 cylinders     1037\n",
       "other             703\n",
       "3 cylinders       456\n",
       "12 cylinders       92\n",
       "Name: count, dtype: int64"
      ]
     },
     "execution_count": 64,
     "metadata": {},
     "output_type": "execute_result"
    }
   ],
   "source": [
    "cars.cylinders.value_counts()"
   ]
  },
  {
   "cell_type": "code",
   "execution_count": 65,
   "id": "ac8952b4",
   "metadata": {
    "execution": {
     "iopub.execute_input": "2024-11-27T20:09:17.735476Z",
     "iopub.status.busy": "2024-11-27T20:09:17.734580Z",
     "iopub.status.idle": "2024-11-27T20:09:17.755981Z",
     "shell.execute_reply": "2024-11-27T20:09:17.754981Z"
    },
    "papermill": {
     "duration": 0.052484,
     "end_time": "2024-11-27T20:09:17.758925",
     "exception": false,
     "start_time": "2024-11-27T20:09:17.706441",
     "status": "completed"
    },
    "tags": []
   },
   "outputs": [
    {
     "data": {
      "text/plain": [
       "145285"
      ]
     },
     "execution_count": 65,
     "metadata": {},
     "output_type": "execute_result"
    }
   ],
   "source": [
    "cars.cylinders.isna().sum()"
   ]
  },
  {
   "cell_type": "code",
   "execution_count": 66,
   "id": "22445ece",
   "metadata": {
    "execution": {
     "iopub.execute_input": "2024-11-27T20:09:17.816558Z",
     "iopub.status.busy": "2024-11-27T20:09:17.815636Z",
     "iopub.status.idle": "2024-11-27T20:09:17.843766Z",
     "shell.execute_reply": "2024-11-27T20:09:17.842939Z"
    },
    "papermill": {
     "duration": 0.058374,
     "end_time": "2024-11-27T20:09:17.845991",
     "exception": false,
     "start_time": "2024-11-27T20:09:17.787617",
     "status": "completed"
    },
    "tags": []
   },
   "outputs": [],
   "source": [
    "cars.cylinders = cars.cylinders.fillna('999 other')"
   ]
  },
  {
   "cell_type": "code",
   "execution_count": 67,
   "id": "0503563f",
   "metadata": {
    "execution": {
     "iopub.execute_input": "2024-11-27T20:09:17.902725Z",
     "iopub.status.busy": "2024-11-27T20:09:17.901774Z",
     "iopub.status.idle": "2024-11-27T20:09:17.933870Z",
     "shell.execute_reply": "2024-11-27T20:09:17.932890Z"
    },
    "papermill": {
     "duration": 0.062811,
     "end_time": "2024-11-27T20:09:17.935941",
     "exception": false,
     "start_time": "2024-11-27T20:09:17.873130",
     "status": "completed"
    },
    "tags": []
   },
   "outputs": [
    {
     "data": {
      "text/plain": [
       "cylinders\n",
       "999 other       145285\n",
       "6 cylinders      78568\n",
       "4 cylinders      62529\n",
       "8 cylinders      57011\n",
       "5 cylinders       1416\n",
       "10 cylinders      1037\n",
       "other              703\n",
       "3 cylinders        456\n",
       "12 cylinders        92\n",
       "Name: count, dtype: int64"
      ]
     },
     "execution_count": 67,
     "metadata": {},
     "output_type": "execute_result"
    }
   ],
   "source": [
    "cars.cylinders.value_counts()"
   ]
  },
  {
   "cell_type": "code",
   "execution_count": 68,
   "id": "12cc92cc",
   "metadata": {
    "execution": {
     "iopub.execute_input": "2024-11-27T20:09:17.993321Z",
     "iopub.status.busy": "2024-11-27T20:09:17.992498Z",
     "iopub.status.idle": "2024-11-27T20:09:18.025419Z",
     "shell.execute_reply": "2024-11-27T20:09:18.024352Z"
    },
    "papermill": {
     "duration": 0.064487,
     "end_time": "2024-11-27T20:09:18.027708",
     "exception": false,
     "start_time": "2024-11-27T20:09:17.963221",
     "status": "completed"
    },
    "tags": []
   },
   "outputs": [],
   "source": [
    "cars.cylinders = cars.cylinders.replace('other', '999 other')"
   ]
  },
  {
   "cell_type": "code",
   "execution_count": 69,
   "id": "db9875c5",
   "metadata": {
    "execution": {
     "iopub.execute_input": "2024-11-27T20:09:18.084434Z",
     "iopub.status.busy": "2024-11-27T20:09:18.083553Z",
     "iopub.status.idle": "2024-11-27T20:09:18.912067Z",
     "shell.execute_reply": "2024-11-27T20:09:18.911263Z"
    },
    "papermill": {
     "duration": 0.85937,
     "end_time": "2024-11-27T20:09:18.914629",
     "exception": false,
     "start_time": "2024-11-27T20:09:18.055259",
     "status": "completed"
    },
    "tags": []
   },
   "outputs": [],
   "source": [
    "cars.cylinders = cars['cylinders'].str.extract('(\\d+)').astype(int)"
   ]
  },
  {
   "cell_type": "code",
   "execution_count": 70,
   "id": "dd2a9726",
   "metadata": {
    "execution": {
     "iopub.execute_input": "2024-11-27T20:09:18.971906Z",
     "iopub.status.busy": "2024-11-27T20:09:18.971049Z",
     "iopub.status.idle": "2024-11-27T20:09:18.982220Z",
     "shell.execute_reply": "2024-11-27T20:09:18.981106Z"
    },
    "papermill": {
     "duration": 0.041389,
     "end_time": "2024-11-27T20:09:18.984300",
     "exception": false,
     "start_time": "2024-11-27T20:09:18.942911",
     "status": "completed"
    },
    "tags": []
   },
   "outputs": [
    {
     "data": {
      "text/plain": [
       "cylinders\n",
       "999    145988\n",
       "6       78568\n",
       "4       62529\n",
       "8       57011\n",
       "5        1416\n",
       "10       1037\n",
       "3         456\n",
       "12         92\n",
       "Name: count, dtype: int64"
      ]
     },
     "execution_count": 70,
     "metadata": {},
     "output_type": "execute_result"
    }
   ],
   "source": [
    "cars.cylinders.value_counts()"
   ]
  },
  {
   "cell_type": "markdown",
   "id": "50b3b4ed",
   "metadata": {
    "papermill": {
     "duration": 0.026647,
     "end_time": "2024-11-27T20:09:19.038545",
     "exception": false,
     "start_time": "2024-11-27T20:09:19.011898",
     "status": "completed"
    },
    "tags": []
   },
   "source": [
    "## checking fuel"
   ]
  },
  {
   "cell_type": "code",
   "execution_count": 71,
   "id": "b19f68f0",
   "metadata": {
    "execution": {
     "iopub.execute_input": "2024-11-27T20:09:19.094334Z",
     "iopub.status.busy": "2024-11-27T20:09:19.093508Z",
     "iopub.status.idle": "2024-11-27T20:09:19.127911Z",
     "shell.execute_reply": "2024-11-27T20:09:19.126918Z"
    },
    "papermill": {
     "duration": 0.0643,
     "end_time": "2024-11-27T20:09:19.129838",
     "exception": false,
     "start_time": "2024-11-27T20:09:19.065538",
     "status": "completed"
    },
    "tags": []
   },
   "outputs": [
    {
     "data": {
      "text/plain": [
       "fuel\n",
       "gas         291379\n",
       "other        26545\n",
       "diesel       21625\n",
       "hybrid        4567\n",
       "electric      1488\n",
       "Name: count, dtype: int64"
      ]
     },
     "execution_count": 71,
     "metadata": {},
     "output_type": "execute_result"
    }
   ],
   "source": [
    "cars.fuel.value_counts()"
   ]
  },
  {
   "cell_type": "code",
   "execution_count": 72,
   "id": "eaac1711",
   "metadata": {
    "execution": {
     "iopub.execute_input": "2024-11-27T20:09:19.186167Z",
     "iopub.status.busy": "2024-11-27T20:09:19.185530Z",
     "iopub.status.idle": "2024-11-27T20:09:19.207756Z",
     "shell.execute_reply": "2024-11-27T20:09:19.206719Z"
    },
    "papermill": {
     "duration": 0.052696,
     "end_time": "2024-11-27T20:09:19.209762",
     "exception": false,
     "start_time": "2024-11-27T20:09:19.157066",
     "status": "completed"
    },
    "tags": []
   },
   "outputs": [
    {
     "data": {
      "text/plain": [
       "1493"
      ]
     },
     "execution_count": 72,
     "metadata": {},
     "output_type": "execute_result"
    }
   ],
   "source": [
    "cars.fuel.isna().sum()"
   ]
  },
  {
   "cell_type": "code",
   "execution_count": 73,
   "id": "d0a8b2b5",
   "metadata": {
    "execution": {
     "iopub.execute_input": "2024-11-27T20:09:19.266768Z",
     "iopub.status.busy": "2024-11-27T20:09:19.266003Z",
     "iopub.status.idle": "2024-11-27T20:09:19.294426Z",
     "shell.execute_reply": "2024-11-27T20:09:19.293319Z"
    },
    "papermill": {
     "duration": 0.059386,
     "end_time": "2024-11-27T20:09:19.296738",
     "exception": false,
     "start_time": "2024-11-27T20:09:19.237352",
     "status": "completed"
    },
    "tags": []
   },
   "outputs": [],
   "source": [
    "cars.fuel = cars.fuel.fillna('other')"
   ]
  },
  {
   "cell_type": "markdown",
   "id": "1f4a5b43",
   "metadata": {
    "papermill": {
     "duration": 0.027475,
     "end_time": "2024-11-27T20:09:19.354056",
     "exception": false,
     "start_time": "2024-11-27T20:09:19.326581",
     "status": "completed"
    },
    "tags": []
   },
   "source": [
    "## checking transmission"
   ]
  },
  {
   "cell_type": "code",
   "execution_count": 74,
   "id": "33523368",
   "metadata": {
    "execution": {
     "iopub.execute_input": "2024-11-27T20:09:19.410777Z",
     "iopub.status.busy": "2024-11-27T20:09:19.410113Z",
     "iopub.status.idle": "2024-11-27T20:09:19.453536Z",
     "shell.execute_reply": "2024-11-27T20:09:19.452294Z"
    },
    "papermill": {
     "duration": 0.074334,
     "end_time": "2024-11-27T20:09:19.455878",
     "exception": false,
     "start_time": "2024-11-27T20:09:19.381544",
     "status": "completed"
    },
    "tags": []
   },
   "outputs": [
    {
     "data": {
      "text/plain": [
       "transmission\n",
       "automatic    270881\n",
       "other         57774\n",
       "manual        17028\n",
       "Name: count, dtype: int64"
      ]
     },
     "execution_count": 74,
     "metadata": {},
     "output_type": "execute_result"
    }
   ],
   "source": [
    "cars.transmission.value_counts()"
   ]
  },
  {
   "cell_type": "code",
   "execution_count": 75,
   "id": "ca1d41e0",
   "metadata": {
    "execution": {
     "iopub.execute_input": "2024-11-27T20:09:19.529307Z",
     "iopub.status.busy": "2024-11-27T20:09:19.528898Z",
     "iopub.status.idle": "2024-11-27T20:09:19.556790Z",
     "shell.execute_reply": "2024-11-27T20:09:19.555740Z"
    },
    "papermill": {
     "duration": 0.061609,
     "end_time": "2024-11-27T20:09:19.559093",
     "exception": false,
     "start_time": "2024-11-27T20:09:19.497484",
     "status": "completed"
    },
    "tags": []
   },
   "outputs": [],
   "source": [
    "cars.transmission = cars.transmission.fillna('other')"
   ]
  },
  {
   "cell_type": "markdown",
   "id": "bf9f3925",
   "metadata": {
    "papermill": {
     "duration": 0.027447,
     "end_time": "2024-11-27T20:09:19.614876",
     "exception": false,
     "start_time": "2024-11-27T20:09:19.587429",
     "status": "completed"
    },
    "tags": []
   },
   "source": [
    "## checking drive"
   ]
  },
  {
   "cell_type": "code",
   "execution_count": 76,
   "id": "268a31d1",
   "metadata": {
    "execution": {
     "iopub.execute_input": "2024-11-27T20:09:19.671540Z",
     "iopub.status.busy": "2024-11-27T20:09:19.670842Z",
     "iopub.status.idle": "2024-11-27T20:09:19.699953Z",
     "shell.execute_reply": "2024-11-27T20:09:19.699032Z"
    },
    "papermill": {
     "duration": 0.059569,
     "end_time": "2024-11-27T20:09:19.701821",
     "exception": false,
     "start_time": "2024-11-27T20:09:19.642252",
     "status": "completed"
    },
    "tags": []
   },
   "outputs": [
    {
     "data": {
      "text/plain": [
       "drive\n",
       "4wd    109738\n",
       "fwd     89313\n",
       "rwd     45053\n",
       "Name: count, dtype: int64"
      ]
     },
     "execution_count": 76,
     "metadata": {},
     "output_type": "execute_result"
    }
   ],
   "source": [
    "cars.drive.value_counts()"
   ]
  },
  {
   "cell_type": "code",
   "execution_count": 77,
   "id": "6e52130c",
   "metadata": {
    "execution": {
     "iopub.execute_input": "2024-11-27T20:09:19.759299Z",
     "iopub.status.busy": "2024-11-27T20:09:19.758505Z",
     "iopub.status.idle": "2024-11-27T20:09:19.788589Z",
     "shell.execute_reply": "2024-11-27T20:09:19.787714Z"
    },
    "papermill": {
     "duration": 0.061447,
     "end_time": "2024-11-27T20:09:19.790944",
     "exception": false,
     "start_time": "2024-11-27T20:09:19.729497",
     "status": "completed"
    },
    "tags": []
   },
   "outputs": [],
   "source": [
    "cars.drive = cars.drive.fillna('other')"
   ]
  },
  {
   "cell_type": "markdown",
   "id": "c0c31a7c",
   "metadata": {
    "papermill": {
     "duration": 0.027358,
     "end_time": "2024-11-27T20:09:19.846423",
     "exception": false,
     "start_time": "2024-11-27T20:09:19.819065",
     "status": "completed"
    },
    "tags": []
   },
   "source": [
    "## checking size"
   ]
  },
  {
   "cell_type": "code",
   "execution_count": 78,
   "id": "ed800a9f",
   "metadata": {
    "execution": {
     "iopub.execute_input": "2024-11-27T20:09:19.904390Z",
     "iopub.status.busy": "2024-11-27T20:09:19.903624Z",
     "iopub.status.idle": "2024-11-27T20:09:19.929139Z",
     "shell.execute_reply": "2024-11-27T20:09:19.928260Z"
    },
    "papermill": {
     "duration": 0.057036,
     "end_time": "2024-11-27T20:09:19.931309",
     "exception": false,
     "start_time": "2024-11-27T20:09:19.874273",
     "status": "completed"
    },
    "tags": []
   },
   "outputs": [],
   "source": [
    "cars['size'] = cars['size'].fillna('other')\n"
   ]
  },
  {
   "cell_type": "code",
   "execution_count": 79,
   "id": "83abbdf6",
   "metadata": {
    "execution": {
     "iopub.execute_input": "2024-11-27T20:09:19.988741Z",
     "iopub.status.busy": "2024-11-27T20:09:19.988373Z",
     "iopub.status.idle": "2024-11-27T20:09:20.017018Z",
     "shell.execute_reply": "2024-11-27T20:09:20.016096Z"
    },
    "papermill": {
     "duration": 0.059066,
     "end_time": "2024-11-27T20:09:20.018972",
     "exception": false,
     "start_time": "2024-11-27T20:09:19.959906",
     "status": "completed"
    },
    "tags": []
   },
   "outputs": [
    {
     "data": {
      "text/plain": [
       "size\n",
       "other          251189\n",
       "full-size       50352\n",
       "mid-size        28123\n",
       "compact         14963\n",
       "sub-compact      2470\n",
       "Name: count, dtype: int64"
      ]
     },
     "execution_count": 79,
     "metadata": {},
     "output_type": "execute_result"
    }
   ],
   "source": [
    "cars['size'].value_counts()"
   ]
  },
  {
   "cell_type": "markdown",
   "id": "f1c40d1a",
   "metadata": {
    "papermill": {
     "duration": 0.027186,
     "end_time": "2024-11-27T20:09:20.073950",
     "exception": false,
     "start_time": "2024-11-27T20:09:20.046764",
     "status": "completed"
    },
    "tags": []
   },
   "source": [
    "## checking type"
   ]
  },
  {
   "cell_type": "code",
   "execution_count": 80,
   "id": "d67cbd24",
   "metadata": {
    "execution": {
     "iopub.execute_input": "2024-11-27T20:09:20.130816Z",
     "iopub.status.busy": "2024-11-27T20:09:20.130109Z",
     "iopub.status.idle": "2024-11-27T20:09:20.163131Z",
     "shell.execute_reply": "2024-11-27T20:09:20.162169Z"
    },
    "papermill": {
     "duration": 0.063861,
     "end_time": "2024-11-27T20:09:20.165169",
     "exception": false,
     "start_time": "2024-11-27T20:09:20.101308",
     "status": "completed"
    },
    "tags": []
   },
   "outputs": [
    {
     "data": {
      "text/plain": [
       "type\n",
       "sedan          72055\n",
       "SUV            63972\n",
       "pickup         38889\n",
       "truck          26196\n",
       "other          18477\n",
       "coupe          14618\n",
       "hatchback      13955\n",
       "wagon           9150\n",
       "van             6878\n",
       "convertible     5955\n",
       "mini-van        4146\n",
       "offroad          444\n",
       "bus              277\n",
       "Name: count, dtype: int64"
      ]
     },
     "execution_count": 80,
     "metadata": {},
     "output_type": "execute_result"
    }
   ],
   "source": [
    "cars['type'].value_counts()"
   ]
  },
  {
   "cell_type": "code",
   "execution_count": 81,
   "id": "e9df6b27",
   "metadata": {
    "execution": {
     "iopub.execute_input": "2024-11-27T20:09:20.222962Z",
     "iopub.status.busy": "2024-11-27T20:09:20.222051Z",
     "iopub.status.idle": "2024-11-27T20:09:20.243856Z",
     "shell.execute_reply": "2024-11-27T20:09:20.242922Z"
    },
    "papermill": {
     "duration": 0.05262,
     "end_time": "2024-11-27T20:09:20.245744",
     "exception": false,
     "start_time": "2024-11-27T20:09:20.193124",
     "status": "completed"
    },
    "tags": []
   },
   "outputs": [
    {
     "data": {
      "text/plain": [
       "72085"
      ]
     },
     "execution_count": 81,
     "metadata": {},
     "output_type": "execute_result"
    }
   ],
   "source": [
    "cars['type'].isna().sum()"
   ]
  },
  {
   "cell_type": "code",
   "execution_count": 82,
   "id": "721d9c85",
   "metadata": {
    "execution": {
     "iopub.execute_input": "2024-11-27T20:09:20.303817Z",
     "iopub.status.busy": "2024-11-27T20:09:20.303154Z",
     "iopub.status.idle": "2024-11-27T20:09:20.331020Z",
     "shell.execute_reply": "2024-11-27T20:09:20.330256Z"
    },
    "papermill": {
     "duration": 0.059242,
     "end_time": "2024-11-27T20:09:20.333181",
     "exception": false,
     "start_time": "2024-11-27T20:09:20.273939",
     "status": "completed"
    },
    "tags": []
   },
   "outputs": [],
   "source": [
    "cars['type'] = cars['type'].fillna('other')"
   ]
  },
  {
   "cell_type": "markdown",
   "id": "f682af3b",
   "metadata": {
    "papermill": {
     "duration": 0.027614,
     "end_time": "2024-11-27T20:09:20.388877",
     "exception": false,
     "start_time": "2024-11-27T20:09:20.361263",
     "status": "completed"
    },
    "tags": []
   },
   "source": [
    "## checking paint_color"
   ]
  },
  {
   "cell_type": "code",
   "execution_count": 83,
   "id": "7f5d2e4f",
   "metadata": {
    "execution": {
     "iopub.execute_input": "2024-11-27T20:09:20.446109Z",
     "iopub.status.busy": "2024-11-27T20:09:20.445732Z",
     "iopub.status.idle": "2024-11-27T20:09:20.475887Z",
     "shell.execute_reply": "2024-11-27T20:09:20.474649Z"
    },
    "papermill": {
     "duration": 0.061697,
     "end_time": "2024-11-27T20:09:20.478268",
     "exception": false,
     "start_time": "2024-11-27T20:09:20.416571",
     "status": "completed"
    },
    "tags": []
   },
   "outputs": [
    {
     "data": {
      "text/plain": [
       "paint_color\n",
       "white     65826\n",
       "black     54031\n",
       "silver    37026\n",
       "blue      26263\n",
       "red       25224\n",
       "grey      20361\n",
       "green      5740\n",
       "custom     5721\n",
       "brown      5592\n",
       "orange     1433\n",
       "yellow     1384\n",
       "purple      510\n",
       "Name: count, dtype: int64"
      ]
     },
     "execution_count": 83,
     "metadata": {},
     "output_type": "execute_result"
    }
   ],
   "source": [
    "cars['paint_color'].value_counts()"
   ]
  },
  {
   "cell_type": "code",
   "execution_count": 84,
   "id": "ff22e5c3",
   "metadata": {
    "execution": {
     "iopub.execute_input": "2024-11-27T20:09:20.536246Z",
     "iopub.status.busy": "2024-11-27T20:09:20.535535Z",
     "iopub.status.idle": "2024-11-27T20:09:20.557009Z",
     "shell.execute_reply": "2024-11-27T20:09:20.556092Z"
    },
    "papermill": {
     "duration": 0.052391,
     "end_time": "2024-11-27T20:09:20.559010",
     "exception": false,
     "start_time": "2024-11-27T20:09:20.506619",
     "status": "completed"
    },
    "tags": []
   },
   "outputs": [
    {
     "data": {
      "text/plain": [
       "97986"
      ]
     },
     "execution_count": 84,
     "metadata": {},
     "output_type": "execute_result"
    }
   ],
   "source": [
    "cars['paint_color'].isna().sum()"
   ]
  },
  {
   "cell_type": "code",
   "execution_count": 85,
   "id": "666dc1fc",
   "metadata": {
    "execution": {
     "iopub.execute_input": "2024-11-27T20:09:20.616541Z",
     "iopub.status.busy": "2024-11-27T20:09:20.615922Z",
     "iopub.status.idle": "2024-11-27T20:09:20.643043Z",
     "shell.execute_reply": "2024-11-27T20:09:20.642270Z"
    },
    "papermill": {
     "duration": 0.058213,
     "end_time": "2024-11-27T20:09:20.645230",
     "exception": false,
     "start_time": "2024-11-27T20:09:20.587017",
     "status": "completed"
    },
    "tags": []
   },
   "outputs": [],
   "source": [
    "cars['paint_color'] = cars['paint_color'].fillna('other')"
   ]
  },
  {
   "cell_type": "markdown",
   "id": "a3daf34b",
   "metadata": {
    "papermill": {
     "duration": 0.027573,
     "end_time": "2024-11-27T20:09:20.701027",
     "exception": false,
     "start_time": "2024-11-27T20:09:20.673454",
     "status": "completed"
    },
    "tags": []
   },
   "source": [
    "## checking description"
   ]
  },
  {
   "cell_type": "code",
   "execution_count": 86,
   "id": "288561b5",
   "metadata": {
    "execution": {
     "iopub.execute_input": "2024-11-27T20:09:20.758651Z",
     "iopub.status.busy": "2024-11-27T20:09:20.757788Z",
     "iopub.status.idle": "2024-11-27T20:09:22.991533Z",
     "shell.execute_reply": "2024-11-27T20:09:22.990278Z"
    },
    "papermill": {
     "duration": 2.273046,
     "end_time": "2024-11-27T20:09:23.001997",
     "exception": false,
     "start_time": "2024-11-27T20:09:20.728951",
     "status": "completed"
    },
    "tags": []
   },
   "outputs": [
    {
     "data": {
      "text/plain": [
       "description\n",
       "Call or text today to find out more. (602) 620-6525 Calls only landline (406) 245-1785  Available at Standard Auto Sales 1503 Broadwater Ave. Billings, MT 59102 standardautosales.net   Need help with financing? We have options for most credit situations. We never charge a doc fee! Extended service contracts available. We buy cars and take consignments! Call or text Mike today to find out more. (602) 620-6525  Welcome to Standard Auto Sales, located in Billings, MT, where quality service and customer satisfaction come first. We are here to help you find a vehicle that fits your lifestyle from our wide selection of used cars, trucks, and SUVs. We pride ourselves on a hassle-free car buying experience where your needs come first. Swing by to let us exceed your expectations while finding the perfect vehicle! Do you need financing for your next used vehicle purchase? Do you have a good credit, bad credit or no credit history situation? We work with a variety of financial institutions and we will work hard to get you approved quickly and easily, at the best rate possible! Apply now or call us at (406) 245-1785 or text (602) 620-6525 to schedule a test drive today!                                                                                                                                                                                                                                                                                                                                                                                                                                                                                                                                                                                                                                                                                                                                                                                                                                                                                                                                                                                                                                                                                                                                                                                                                                                                                                                                                                                                                                                                                                                                                                                                                                                                                                                                                                                                                                                                                                                                                                                                                                                                                                                                                                                                                                                                                                                                                                                                                                                                                                                                                                                                                                                                                                                                                                                                                                                                                                                                                                                                                                                                                                                                                                                                                                                                                                                                                                                                                                                                                                                                                                                                                                                                                                                                                                                                                                                                                                                                                                                                                                                                                                                                                                                                                                                                                                                                                                                                                                                                                                                                                                                                                                                                                                                                                                                                                                                                                                                                                                                                                                                                                                                                                                                                                                                                                                                                                                                                                                                                                                                                                                                                                                                                                                                                                                                                                                                                                                                                                                                                                                                                                                                                                                                                                                                                                                                                                                                                                                                                                                                                                                                                                                                                                                                                                                                                                                                                                                                                                                                                                                                                                                                                                                                                                                                                                                                                                                                                                                                                                                                                                                                                                                                                                                                                                                                                                                                                                                                                                                                                                                                                                                                                                                                                                                                                                                                                                                                                                                                                                                                                                                                                                                                                                                                                                                                                                                                                                                                                                                                                                                                                                                                                                                                                                                                                                                                                                                                                                                                                                                                                                                                                                                                                                                                                                                                                                                                                                                                                                                                                                                                                                                                                                                                                                                                                                                                                                                                                                                                                                                                                                                                                                                                                                                                                                                                                                                                                                                                                                                                                                                                                                                                                                                                                                                                                                                                                                                                                                                                                                                                                                                                                                                                                                                                                                                                                                                                                                                                                                                                                                                                                                                                                                                                                                                                                                                                                                                                                                                                                                                                                                                                                                                                                                                                                                                                                                                                                                                                                                                                                                                                                                                                                                                                                                                                                                                                                                                                                                                                                                                                                                                                                                                                                                                                                                                                                                                                                                                                                                                                                                                                                                                                                                                                                                                                                                                                                                                                                                                                                                                                                                                                                                                                                                                                                                                                                                                                                                                                                                                                                                                                                                                                                                                                                                                                                                                                                                                                                                                                                                                                                                                                                                                                                                                                                                                                                                                                                                                                                                                                                                                                                                                                                                                                                                                                                                                                                                                                                                                                                                                                                                                                                                                                                                                   197\n",
       "This truck has sold, but we buy trucks like this. If you know of one of these trucks for sale, we pay a finders fee.  Call Bobby! (636) 587 - 0660    7.3 7.3l 6.6 6.6l 5.9 5.9 6.7 6.7l powerstroke power stroke duramax cummins diesel lly lbz dmax pstroke big block small block big block smallblock sbf sbc bbf bbc efi 302 460 351 6.0 6.0L 5.0L 5.0 5.8L 5.8 7.5L 7.5 496 454 stroker 8.1 8.1L 12v 24v 4x4 four wheel drive 4wd laramie SLT Lariat lt lt1 lt2 lt3 ls club quad single crew cab clubcab quadcab singlecab crewcab cclb long bed longbed short shortbed  ccsb sclb scsb rustfree rust free clean 4door 2-door 2door 4-door ford dodge chevrolet chevy gmc sierra silverado f-250 f-350 f250 f350 ram 2500 3500 1st gen first gen firstgen 2nd gen 2ndgen second gen secondgen 3rd gen 3rdgen third gen thirdgen OBS superduty excursion supercrew supercab super duty 5-speed 6-speed stick shift stickshift manual transmission clutch intercooled inter cooled turbocharged turbo charged lonestar bighorn lone star big horn longhorn long horn low mile lowmile puller camper camp haul hauling hauler tow towing rig gooseneck goose neck 5th wheel fifth wheel 5thwheel fifthwheel hitch                                                                                                                                                                                                                                                                                                                                                                                                                                                                                                                                                                                                                                                                                                                                                                                                                                                                                                                                                                                                                                                                                                                                                                                                                                                                                                                                                                                                                                                                                                                                                                                                                                                                                                                                                                                                                                                                                                                                                                                                                                                                                                                                                                                                                                                                                                                                                                                                                                                                                                                                                                                                                                                                                                                                                                                                                                                                                                                                                                                                                                                                                                                                                                                                                                                                                                                                                                                                                                                                                                                                                                                                                                                                                                                                                                                                                                                                                                                                                                                                                                                                                                                                                                                                                                                                                                                                                                                                                                                                                                                                                                                                                                                                                                                                                                                                                                                                                                                                                                                                                                                                                                                                                                                                                                                                                                                                                                                                                                                                                                                                                                                                                                                                                                                                                                                                                                                                                                                                                                                                                                                                                                                                                                                                                                                                                                                                                                                                                                                                                                                                                                                                                                                                                                                                                                                                                                                                                                                                                                                                                                                                                                                                                                                                                                                                                                                                                                                                                                                                                                                                                                                                                                                                                                                                                                                                                                                                                                                                                                                                                                                                                                                                                                                                                                                                                                                                                                                                                                                                                                                                                                                                                                                                                                                                                                                                                                                                                                                                                                                                                                                                                                                                                                                                                                                                                                                                                                                                                                                                                                                                                                                                                                                                                                                                                                                                                                                                                                                                                                                                                                                                                                                                                                                                                                                                                                                                                                                                                                                                                                                                                                                                                                                                                                                                                                                                                                                                                                                                                                                                                                                                                                                                                                                                                                                                                                                                                                                                                                                                                                                                                                                                                                                                                                                                                                                                                                                                                                                                                                                                                                                                                                                                                                                                                                                                                                                                                                                                                                                                                                                                                                                                                                                                                                                                                                                                                                                                                                                                                                                                                                                                                                                                                                                                                                                                                                                                                                                                                                                                                                                                                                                                                                                                                                                                                                                                                                                                                                                                                                                                                                                                                                                                                                                                                                                                                                                                                                                                                                                                                                                                                                                                                                                                                                                                                                                                                                                                                                                                                                                                                                                                                                                                                                                                                                                                                                                                                                                                                                                                                                                                                                                                                                                                                                                                                                                                                                                                                                                                                                                                                                                                                                                                                                                                                                                                                                                                                                                                                                                                                                                                                                                                                                                                                                        154\n",
       "CREDIT CARS- $700.00 DOWN- RIGHT ON THE CORNER, RIGHT ON THE CREDIT!!  CALL US TODAY @ 352-204-2923 OR 352-204-2137. $700 DOWN!!!!!  CREDIT CHALLENGES??- NO PROBLEM- COME SEE US TODAY!  WE USE YOUR JOB AS YOUR CREDIT! ALL YOU NEED IS INCOME, PROOF OF INSURANCE, DRIVERS LICENSE, AND $700.00!!!  COME SEE US TODAY AT 320 NE 23RD AVENUE GAINESVILLE, FL 32609  WE ARE OPEN MONDAY- FRIDAY 9:00AM TO 7:00PM AND SATURDAY 9:00AM- 5:00PM  352-204-2137 OR 352-204-2137 CALL US TODAY TO SCHEDULE APPT!!  ⭐ Great Financing Options Available ⭐  ✅ Bad Credit? ✅ No Credit? ✅ First Time Buyer? ✅ We Work With Dozens Of Dealers To Get You Approved Fast Regardless Of Your Credit Situation.  🚘 Ready To Get Behind The Wheel Of Your New Car 🚘  100% APPROVAL! We use your job as your credit!  We Guarantee It! No matter your financial situation, you will drive off the lot in a new car, today.  ✅ Bad Credit ✅ No Credit ✅ Repossession ✅ Foreclosure ✅ SSI ✅ Disability ✅ Government Assistance  YOU'RE APPROVED!  🚘 🚘  ✅ Huge Selection Of Quality Pre-Owned Cars ✅ Leave With Confidence ✅ Trade-In Your Car Today For A Great Discount   📍 Stop By Today                                                                                                                                                                                                                                                                                                                                                                                                                                                                                                                                                                                                                                                                                                                                                                                                                                                                                                                                                                                                                                                                                                                                                                                                                                                                                                                                                                                                                                                                                                                                                                                                                                                                                                                                                                                                                                                                                                                                                                                                                                                                                                                                                                                                                                                                                                                                                                                                                                                                                                                                                                                                                                                                                                                                                                                                                                                                                                                                                                                                                                                                                                                                                                                                                                                                                                                                                                                                                                                                                                                                                                                                                                                                                                                                                                                                                                                                                                                                                                                                                                                                                                                                                                                                                                                                                                                                                                                                                                                                                                                                                                                                                                                                                                                                                                                                                                                                                                                                                                                                                                                                                                                                                                                                                                                                                                                                                                                                                                                                                                                                                                                                                                                                                                                                                                                                                                                                                                                                                                                                                                                                                                                                                                                                                                                                                                                                                                                                                                                                                                                                                                                                                                                                                                                                                                                                                                                                                                                                                                                                                                                                                                                                                                                                                                                                                                                                                                                                                                                                                                                                                                                                                                                                                                                                                                                                                                                                                                                                                                                                                                                                                                                                                                                                                                                                                                                                                                                                                                                                                                                                                                                                                                                                                                                                                                                                                                                                                                                                                                                                                                                                                                                                                                                                                                                                                                                                                                                                                                                                                                                                                                                                                                                                                                                                                                                                                                                                                                                                                                                                                                                                                                                                                                                                                                                                                                                                                                                                                                                                                                                                                                                                                                                                                                                                                                                                                                                                                                                                                                                                                                                                                                                                                                                                                                                                                                                                                                                                                                                                                                                                                                                                                                                                                                                                                                                                                                                                                                                                                                                                                                                                                                                                                                                                                                                                                                                                                                                                                                                                                                                                                                                                                                                                                                                                                                                                                                                                                                                                                                                                                                                                                                                                                                                                                                                                                                                                                                                                                                                                                                                                                                                                                                                                                                                                                                                                                                                                                                                                                                                                                                                                                                                                                                                                                                                                                                                                                                                                                                                                                                                                                                                                                                                                                                                                                                                                                                                                                                                                                                                                                                                                                                                                                                                                                                                                                                                                                                                                                                                                                                                                                                                                                                                                                                                                                                                                                                                                                                                                                                                                                                                                                                                                                                                                                                                                                                                                                                                                                                                                                                                                                                                                                                                                                                                                                  139\n",
       "PLEASE VIEW THE FREE CARFAX HISTORY REPORT AT OUR WEBSITE CARTERSCARSVT.COM OR CALL 802-891-6345 CHECK OUT OUR INVENTORY ON FACEBOOK!!!                                                                                                                                                                                                                                                                                                                                                                                                                                                                                                                                                                                                                                                                                                                                                                                                                                                                                                                                                                                                                                                                                                                                                                                                                                                                                                                                                                                                                                                                                                                                                                                                                                                                                                                                                                                                                                                                                                                                                                                                                                                                                                                                                                                                                                                                                                                                                                                                                                                                                                                                                                                                                                                                                                                                                                                                                                                                                                                                                                                                                                                                                                                                                                                                                                                                                                                                                                                                                                                                                                                                                                                                                                                                                                                                                                                                                                                                                                                                                                                                                                                                                                                                                                                                                                                                                                                                                                                                                                                                                                                                                                                                                                                                                                                                                                                                                                                                                                                                                                                                                                                                                                                                                                                                                                                                                                                                                                                                                                                                                                                                                                                                                                                                                                                                                                                                                                                                                                                                                                                                                                                                                                                                                                                                                                                                                                                                                                                                                                                                                                                                                                                                                                                                                                                                                                                                                                                                                                                                                                                                                                                                                                                                                                                                                                                                                                                                                                                                                                                                                                                                                                                                                                                                                                                                                                                                                                                                                                                                                                                                                                                                                                                                                                                                                                                                                                                                                                                                                                                                                                                                                                                                                                                                                                                                                                                                                                                                                                                                                                                                                                                                                                                                                                                                                                                                                                                                                                                                                                                                                                                                                                                                                                                                                                                                                                                                                                                                                                                                                                                                                                                                                                                                                                                                                                                                                                                                                                                                                                                                                                                                                                                                                                                                                                                                                                                                                                                                                                                                                                                                                                                                                                                                                                                                                                                                                                                                                                                                                                                                                                                                                                                                                                                                                                                                                                                                                                                                                                                                                                                                                                                                                                                                                                                                                                                                                                                                                                                                                                                                                                                                                                                                                                                                                                                                                                                                                                                                                                                                                                                                                                                                                                                                                                                                                                                                                                                                                                                                                                                                                                                                                                                                                                                                                                                                                                                                                                                                                                                                                                                                                                                                                                                                                                                                                                                                                                                                                                                                                                                                                                                                                                                                                                                                                                                                                                                                                                                                                                                                                                                                                                                                                                                                                                                                                                                                                                                                                                                                                                                                                                                                                                                                                                                                                                                                                                                                                                                                                                                                                                                                                                                                                                                                                                                                                                                                                                                                                                                                                                                                                                                                                                                                                                                                                                                                                                                                                                                                                                                                                                                                                                                                                                                                                                                                                                                                                                                                                                                                                                                                                                                                                                                                                                                                                                                                                                                    109\n",
       "500DOWNNOW.COM!!!!!!!!🌞 🌞 🌞 America's Largest ALL CREDIT Automotive Retailer  📲 ☎️ Call or text (609) 994-5180 or 862-241-4754 for quick answers to your questions about Our Dealership Your message will always be answered by a real human — never an automated system.  WE MAKE IT EASY TO SIGN & DRIVE! WE HAVE SUV'S 3RD ROW PICK UP TRUCKS FAMILY VANS, SEDANS & MORE! LOOK AT OUR DOWN PAYMENTS! THE DOWN PAYMENT YOU SEE YOU BRING. WE START AT $49 A WEEK! LOCATED IN NEWARK & PHILADELPHIA PA ASK FOR DARIUS WEBSITE 500DOWNNOW.COM CALL OR TEXT (609) 994-5180 or 862-241-4754 OR  YOU DON'T HAVE TO BELIEVE ME WE HAVE VIDEO PROOF HERE! COPY & PASTE THIS LINK IN YOUR WEB BROWSER! https://www.youtube.com/watch?v=ecBFaVE9CYM SEE LIVE VIDEO OF OUR CUSTOMERS & THEIR ACTUAL DOWN PAYMENTS!  WE APPROVE ALL SCORES WITH THE LOWEST DOWN PAYMENTS EVER!! ✅ WE SPECIFICALLY DEAL WITH GOOD, TERRIBLE OR ZERO CREDIT AND CAN STILL GUARANTEE YOU WILL BE APPROVED!!  I CAN APPROVE YOU FOR THE VEHICLE YOU SEE WITH THE DOWN PAYMENT YOU SEE IF YOU WORK. GUESS WHAT GOOD OR BAD CREDIT YOU DRIVE!  SE HABLA ESPAÑOL!!!!!!! SE HABLA ESPAÑOL!!!!!!!  WHY BUY A CAR FROM US?  👉🏾IT TAKES 1 MINUTE TO APPLY & 20 MINUTES FOR AN APPROVAL.  👉🏾TO APPLY VISIT 500DOWNNOW.COM & CLICK GET APPROVED  ✅GET A DISCOUNT ON THE PURCHASE PRICE WHEN YOU BUY 2 CARS AT ONCE ASK FOR OUR 2 CAR SPECIAL DISCOUNT WE GIVE UP TO $5000 FOR TRADES& ACCEPT LIABILITY INSURANCE. YOU WILL NEED BELOW  👉🏾ALL CREDIT SCORES ARE ACCEPTED 👉🏾LOWEST DOWN PAYMENTS IN USA  👉🏾FREE CAR INSURANCE 👉🏾5 YEAR BUMBER TO BUMPER WARRANTY  👉🏾UP TO 90 DAYS TO MAKE YOUR FIRST PAYMENT  👉🏾FAMILY OWNED BUSINESS 👉🏾100% SERVICED VEHICLES WITH CLEAN CARFAX 👉🏾FREE CREDIT REPAIR  & MORE We make car buying easy with our proven 100% guaranteed credit approval system. Here’s how it works 👉🏾We approve any credit scores Because look at your proof of income, no credit checks!  👉🏾You can be Employed- Self-employed- Unemployment- Lyft- Uber- barber- dancer-actor- musician. We don’t care what you do Just bring proof of income of being a friend with proof of income and $500.  👉🏾Approved the same day, drive the same day.  So you found the perfect vehicle. . . we're here to give you the best -Vehicle purchasing experience you will ever have! We are all about Cars, Cars, Cars, but we also -have lots of SUVs, and TRUCKS, too!  -DO YOU HAVE A TRADE IN?  -Great! top $$$ for you trades! -DO YOU HAVE OTHER QUESTIONS?  Awesome! 📱 CALL OR TEXT DARIUS (862) 241-4754 500DOWNNOW.COM  WE HAVE AN EXCELLENT FINANCING PROGRAM FOR ALL OUR CUSTOMERS. WE CAN GET YOU APPROVED BAD STUDENT LOANS OR BAD CELL PHONE BILLS, MEDICAL BILLS OR PAST DUE CREDIT CARDS. IT DOESN'T EVEN MATTER IF YOU HAVE A DRIVER'S LICENSE OR NOT, ALL WE NEED IS A GOVERNMENT ISSUED I.D.   WE HAVE HELPED PEOPLE WITH THE FOLLOWING:✔️ Great Credit✔️ Bad Credit ✔️ No Credit✔️ No Co-Signer✔️ First Time Buyers✔️ Recent Divorce✔️ Discharged Bankruptcy✔️ Multiple Repo's ✔️ Short Job Time✔️ Foreclosure✔️ Child Support✔️ Student Loans✔️ Zero No Money Down Payment✔️ Negative Equity  📱 CALL OR TEXT DARIUS (862) 241-4754 500DOWNNOW.COM  YOU WILL NEED *Two of your most recent pay stubs from your job! *IF YOU GET PAID DIRECT DEPOSIT( 2 MONTHS RECENT BANK STATEMENTS) * IF YOU'RE UNDER THE TABLE BANK STATEMENTS WILL SUFFICE! *Proof of address. *Drivers License OR PERMIT *1 Recent checking account statement (NOT MANDATORY) *(If your self employed please bring two most recent checking account statements.  If ssi or disability we need A 30 DAY RECENT AWDARD LETTER! * Child support we need bank statements or checks showing you're making income.   FOR GENERAL QUESTIONS & CONCERNS CALL OR TEXT US AT ( 862)-241-4754  Do you offer warranties? (A) Yes we have warranties that can last up to 5 years.  What plates do we drive home with? (A)You get a temporary plate from us and your actual plates from what ever state your license is from will come in 3 weeks.  If i have the license and someone has the income can we combine and get approved? (A)Yes that is possible.  If self employed what should i bring? (A) We need proof of that so 2 recent bank statements showing you depositing money is fine.  How does this work? (A) If your credit is bad your income will save you,We will use your income to determine the approval. We do report to all 3 major credit bureaus so you can build your credit and while financing with us.  Do you work with out of state drivers? (A)Yes we do  How long do i need to work for? (A) We just need 2 recent pay stubs so as long as you have those you should be fine.  What if i have a repossession? (A) That's fine we work with all credit and we will definitely have a way to help you get into a car. Ask for Darius ( PLEASE DO NOT WALK IN WITH OUT BOOKING AN APPOINTMENT ON  !!!!NO HIDDEN FEES YOU SEE $500 DOWN YOU PAY $500 DOWN GOOD OR BAD OR NO CREDIT!!!! !!!!!YOU PAY THE DOWN PAYMENT YOU SEE AND DRIVE TODAY ZERO DEALER FEES!!!! >>>>>>>>>>>>>>>>>>>>>>>>>CALL OR TEXT DARIUS TODAY- 862-241-4754<<<<<<<<<<<<<<<   500DOWNNOW.COM CALL OR TEXT DARIUS 862-241-4754 * FREE INSURANCE* FREE CREDIT REPAIR >>GET APPROVED NOW! VISIT 500DOWNNOW.COM & CLICK GET APPROVED IN 20 MINUTES<< >>GET APPROVED NOW! VISIT 500DOWNNOW.COM & CLICK GET APPROVED IN 20 MINUTES<< >>GET APPROVED NOW! VISIT 500DOWNNOW.COM & CLICK GET APPROVED IN 20 MINUTES<<  ✅ Great Credit✅ Bad Credit✅ No Credit✅ No Co-Signer✅ First Time Buyer Programs✅ Discharged Bankruptcy✅ Multiple Repo's✅ Short Job Time✅ Foreclosure✅ Child Support✅ Student Loans ✅ Cash Job  ✅ Huge Selection Of Quality Pre-Owned Cars ✅ Leave The Lot With Confidence Ask About Our 7 Day Exchange Guarantee! ✅ Affordable Payments ✅ Re-Build Your Credit  ⭐We Guarantee It! No matter your financial situation, you will drive off the lot in a NICER, NEWER CAR, TODAY⭐  ✅ HOW DOES IT WORK?& ARE THE DOWN PAYMENTS FOR ANY CREDIT SCORE? ✅YES FOR ANY SCORE! IF YOU HAVE INCOME WE DON'T CARE ABOUT CREDIT!✅ ✅WE CHOSE WHO'S APPROVED BECAUSE WE HAVE OUR OWN BANKS FOR ANY SITUATION!✅  ✅YOU WILL PAY THE DOWN PAYMENT YOU SEE WITH NO DEALER FEES✅   PAY STUBS✅LYFT UBER?✅ SELF EMPLOYED ✅ NO PROOF OF INCOME?✅ DIVORCE ✅ STUDENT✅ BANKRUPTCY CHAPT 7✅ REPOS WE LOVE REPOS 1-2-3-4 WE DON'T CARE!✅ YOU BREATH YOU DRIVE  >>>>>>YOU PAY THE DOWN PAYMENT YOU SEE WITH NO DEALER FEES & $99 TO $349 A MONTH<<<<<<< 💰NO CREDIT CHECK BUY HERE PAY HERE &BANK FINANCING WE REPORT YOUR PAYMENTS💰  >>GET APPROVED NOW! VISIT 500DOWNNOW.COM & CLICK GET APPROVED IN 20 MINUTES<< >>GET APPROVED NOW! VISIT 500DOWNNOW.COM & CLICK GET APPROVED IN 20 MINUTES<< >>GET APPROVED NOW! VISIT 500DOWNNOW.COM & CLICK GET APPROVED IN 20 MINUTES<<  LOOK AT HOW WE TREAT OUR CUSTOMERS READ WHAT YOU GET WITH US :  ✅ FREE CAR INSURANCE ✅ FREE CREDIT REPAIR ✅WE GIVE $3000 ABOVE YOUR TRADE IN'S WORTH  ✅ FREE WARRANTY (BUMPER TO BUMPER) UP TO 5 YEARS ✅ FREE OIL CHANGES - (Life Of Loan )  ✅ WE REPORT TO THE CREDIT BUREAU MONTHLY ✅ 7 DAY EXCHANGE GUARANTEE - Dont Like Our Car - Bring It Back  ✅ NO GAMES OR GIMMICKS ✅ NO DEALER FEES ✅ 500% APPROVALS! SAME DAY DRIVE HOME!  WE ACCEPT ANY STATE!NYC NEW JERSEY BRONX QUEENS PENNSYLVANIA DELAWARE BALTIMORE NEWARK LONG ISLAND WE ARE THE BIGGEST BAD CREDIT DEALERSHIP NEAR YOU. YOUR INCOME IS YOUR APPROVAL!!!    🔥💰500DOWNNOW.COM CALL OR TEXT DARIUS 862-241-4754 THE BEST BUY HERE PAY HERE COMPANY! NO GAMES OR GIMMICKS ON- NO DEALER FEES - WEBSITE 500DOWNNOW.COM CALL OR TEXT DARIUS 862-241-4754   View Us Online Anytime : WWW.500DOWNNOW.COM ⭐WE HAVE HELPED PEOPLE WITH THE FOLLOWING⭐  *Sedan* 2021 2020 2019 2018 2017 2016 2015 2014 2013 2012 2011 2010 2009 2008 2007 2006 2005 2004 2003 2002 2001 2000 21 19 18 17 16 15 14 13 12 11 10 09 08 07 06 05 04 03 02 01 00  VIEW US ONLINE ANYTIME -  WWW.500DOWNNOW.COM WE SERVICE :ANY STATE NEW YORK BROOKLYN MANHATTAN QUEENS IRON BOUND NORTH NEWARK Newark Essex Jersey City Paterson Elizabeth Edison Middlesex Woodbridge Township Lakewood Township Toms River Ocean Hamilton Township Mercer Trenton Mercer Clifton Passaic Camden Camden Cherry Hill Passaic Passaic Middletown Township Union City Hudson Old Bridge Township Gloucester Township Camden East Orange Essex Bayonne Hudson Franklin Township Somerset North Bergen Hudson Vineland Cumberland Union Township Union Piscataway Middlesex New Brunswick DEALERSHIP NEAR ME Jackson Township Ocean Wayne Passaic Irvington Essex Parsippany-Troy Hills Morris Howell Township Monmouth Perth Amboy Middlesex Hoboken Plainfield West New York Washington Township East Brunswick Middlesex Bloomfield Essex West Orange Essex Evesham Township Bridgewater Township South Brunswick Middlesex Egg Harbor Township Atlantic BAD CREDIT DEALERSHIP NEAR ME BAD CREDIT DEALERSHIP DEALERSHIP APPROVED!                                                📲 ☎️ Call or text (862) 241-4754 for quick answers to your questions about Our Dealership Your message will always be answered by a real human — never an automated system.   Disclaimer: www500downnow.com will never sell, share, or spam your mobile number. Standard text messaging rates may apply. *Plus government fees and taxes, any finance charges, any dealer document preparation charge, and any emission testing charge. Internet price expires today. * 2020 2019 2018 2017 2016 2015 2014 2013 2012 2011 2010 2009 2008 2007 2006 2005 2004 2003 2002 2001 2000 19 18 17 16 15 14 13 12 11 10 09 08 07 06 05 04 03 02 01 00 elegant Carvana Toyota Honda BMW Mercedes Ford Chevy Dodge Ram F-150 F150 Trucks *Mercedes Benz Mercedes-Benz* *E-Class* *Cheap E 350 Luxury 4dr Sedan* *Like New 2010 E 350 Luxury Sport AMG E CLASS E-CLASS E350 E 350 BENZ MERCEDES 2013 2012 2011 2010 2009 2008 2007 2006 2005 2004 2003 2002 2001 2000 19 18 17 16 15 14 13 12 11 10 09 08 07 06 05 04 03 02 01 00 PMS 911, Carrera, 997, 991, Targa, SL63, SL65, SL550, AMG, SL500, PMS 2007, 2006, 2008, 2009, 2010, 2011, 2012, 2013, 2015, 2014, 2015, 2016, 2017, 2018, gran turismo, Maserati, Ferrari, quattroporte, Lamborghini, huracan, lotus, gt, m6, gransport, R8, gransport, xkr-s, jaguar, xf, twin turbo, Panamera, Bentley, flying spur, S63, S65, CLS63, CLS, S550, ghibli, MC, Stradale, xf, f type, xk, aston martin, jaguar, xk, xkr, db9, db7, vantage, vanquish, sls, 06, 07, 08, 09, 10, 11, 12, 13, 14, 15, 16, 17, 18, Porsche, gt2, rs, gt3rs, rs, gt4, gt3, boxster, S, 458, 488, 718, 981 pms 911 998 targa cayenne s turbo gts s7 a7 rs7 macan acura mdx rdx rlx tlx ilx tl rl alfa romeo* alfa romeo 4c giulia audi* audi black sacramento carmax a3 a4 a5 a6 a7 a8 q3 q5 q7 s3 s5 s6 s7 s8 tt bentley* bentley continental flying spur mulsanne bmw* bmw 2 series 3 4 5 6 7 m2 m3 m4 m5 m6 x1 x3 x4 x5 x6 luxury auto 230i m240i 320i 320 230 330 330i 328 328i 335i 335 340 340i 430i 428i 420i 440 sales 440i 530i 540i 550i gran turismo 640i 640 645ci 645i 650i 650 coupe convertible coupe* convertible* 740i 740 750i 750li 750 128i 128 135i 135 335is 528 528i prestige motorsport high 740li cadillac* cadillac escalade esv ext cts ats chevrolet* chevrolet camaro 2ss class motors top ss corvette vette tahoe suburban ford* ford mustang gt fusion focus 300 200 dodge dodge challenger charger durango gmc* gmc yukon denali acadia terrain xl honda quality state honda accord civic r cr-v pilot hyundai* hyundai genesis infiniti* infiniti q50 q60 q70 golden qx50 qx60 qx70 qx80 ex35 fx35 fx50 g35 g25 g37 m35 m37 m56 jaguar* jaguar f-type euro xf xj xk jeep jeep* cherokee pms compass patriot renegade wrangler kia kia* optima land star rover* land rover range rover evoque sport sport* lexus* lexus gs350 gs450 gx460 deluxe gx470 is250 is gs rx is350 ls ls460 ls430 lx570 rc rc350 f navigator lincoln* lincoln mkt direct mkx mkz town car maserati* maserati quattroporte granturismo mercedes-benz* *mercedes* benz* mercedes benz mercedees-benz c-class cl-class cls-class e-class 5 star g-class gl-class glk-class m class r-class sl-class slk-class cla-class gla-class glc-class gt lounge gle-class amg amg* m m* c300 c250 c400 c63 c350 cla250 cla45 cls500 cls550 cls400 ataya fair cls63 e350 e250 e400 e550 e63 g550 g500 g55 g63 gla250 gla45 gl450 gl350 gl550 zoom lavish gl63 glk350 glk250 ml320 ml350 ml550 ml63 s550 s500 s63 s65 sl500 sl550 sl63 slk250 916 kareem legend auto slk350 slk55 gle350 gle400 gle550 gls gls350 gls550 gle c e cla cls g gla gl g glk m s mirage eu sl slk altima porsche porsche* cayenne 911 cayman panamera macan boxster subaru* lions subaru forester brz impreza legacy outback wrx crosstrek scion fr-s scion* camry toyota galaxy toyota* corolla camry land cruiser highlander 4runner sequoia tacoma tundra f-150 f150 hayes ram volkswagen* volkswagen cc golf eos jetta passat tiguan touareg volvo volvo rl tl tsx a3 a4 a6 a8 s4 s5 tt s6 1 2 3 4 5 6 7 m series m3 m5 m6 128i 128 228 228i m235i 428 428i 435 435i 645ci 645 645i 650 650i 650ci 640640i camaro mustang ss 2ss corvette focus fiesta 135 135i 320i 320 325 325i 328 328i 335 335i 525i 525 528i 528 530i 530 535i 535 550 550i 740 740i 745i 745li 745 750i 750li cts dts sts impala malibu 300 charger fusion accord civic g35 g37 g q50 q60 q40 q70 m35 m37 m45 xf es300 es es330 es350 gs gs300 gs330 gs350 gs430 is300 is is250 is350 is200t s400 ls430 ls460 c e s cls class c230 c240 c280 c300 c350cla cla250 cls400 cls550 e350 e550 s550 slk sl cc eos jetta passat c320 pms e320 e350 e500 s430 s350 s320 s500 s55 s600 s65 c55 e55 e63 cls500 cls55 lancer altima mercedes-benz bmw* *bmw* *mercedes-benz* *mercedes* _bmw_ _mercedes_ *3_series* *5_series* *7_series* *c_class* *s_class* *e_class* *cls_class* class *cla_class* mercedes* mercedes-benz* bmw* c400 c250 c350 c300 e400 cla cla250 coupe* convertible*glk250 glk350 glk ml400 ml250 mdx rdx zdx q3 q5 q7 x3 x1 x5 x6 x4 x6 xseries nclave escalade srx equinox suburban tahoe traverse edge escape expedition explorer flex yukon gla gl glk gle glc denali acadia cr-v element pilot ex35 ex fx35 fx 35 fx45 qx56 commander grand cherokee liberty partiot land rover range lr2 lr4 gx470 gx gx460 lx lx470 lx570rx300 rx330 rx rx350 navigator aviator mktg g500 g55 gl450 gl550 ml ml350 ml550ml320 r500 r350 r glk glk350 bmw* *bmw* *mercedes-benz* *mercedes* _bmw_ _mercedes_ *3_series* *5_series* *7_series* *c_class* *s_class* *e_class* *cls_class* class *cla_class* mercedes* mercedes-benz* bmw* c400 c250 c350 c300 e400 cla cla250 coupe* convertible*glk250 glk350 glk ml400 ml250 mdx rdx zdx q3 q5 q7 x3 x1 x5 x6 x4 x6 xseries nclave escalade srx equinox suburban tahoe traverse edge escape expedition explorer flex yukon gla gl glk gle glc denali acadia cr-v element pilot ex35 ex fx35 fx 35 fx45 qx56 commander grand cherokee liberty partiot land rover range lr2 lr4 gx470 gx gx460 lx lx470 lx570rx300 rx330 rx rx350 navigator aviator mktg g500 g55 gl450 gl550 ml ml350 ml550ml320 r500 r350 r glk glk350 armada *Volkswagen* jetta* *passat*, *cc*,*r line*, *gti*, *golf*, *mk4*, *mk5*, *Acura*, *MDX*, *RDX*, *TLX*, *TSX*, *TL*,*ILX*, *BMW*, *Mercedes*, *Audi*, *a3*, *a4*, *a5*, *a6*, *a7*, *a8*, *s3*,*s4*, *s5*, *s6*, *s7*, *s8*, *q5*, *q6*, *q7*, *Chevrolet*, *Chevy*, *Cruze*, *Sonic*, *Volt*, *Suburban*, *Tahoe*, *Yukon*, *Hybrid*, *VOC*, *bmw*, *325*, *328*, *330*, *335*, *525*, *528*, *530*, *535*, *540*, *545*, *550*, *m3*,*m4*, *m5*, *m6*, *635*, *645*, *650*, *740*, *745*, *750*, *760*,* i*, *ci*, *cic*, *is*, *il* *li* *xi*, *x1*, *x3*, *x5*, *x6* *suv* *honda* *ford* *Toyota* *Chevrolet* *kia* *credit* *credit* *bad credit* high *BMW* *MERCEDES BENZ* *AUDI* *FIAT* *FORD* *HONDA* *HYUNDAI* *INFINITI* *JEEP* JAGUAR KIA LAND ROVER LEXUS LOTUS MASERATI MAZDA MINI MITSUBISHI PORSCHE SMART SUBARU SUZUKI TESLA VLKSWAGEN VW pms *2000*, 2001, 2002, 2003, 2004, 2005, 2006, 2007, 2008, 2009, 2010, 2011, 2012, 2013 , 2014 2015 2016 2017 2018 v6, v-8, v8, RWD, FWD, 4WD, 2WD, 4-wheel drive, 4x4, AWD, racing stripes, rear spoiler, low miles, backup camera, camera, 4-cyl, fx4, suv, sport utility vehicle, premium wheels, mag wheels, loaded, sun roof, bluetooth, bluetooth wireless, convertible, diesel, dually, hemi, turbo, roof rack, eco boost, eco boost turbo, cooled seats, parking sensors, alpine, lifted, Bad Credit, Financing, Niello, Maita, Roseville Auto Mall, Roseville, Citrus Heights, Lincoln, Credit, Bad Credit, Low payments, Roseville toyota, kareem, elk grove, honda accord, pms, honda civic, toyota corolla, toyota camry, hyundai. trucks, 4 wheel drive, bad credit, repo, retired, ssi, finance, warranty, financing, bank, credit union pms *Super *1.8L 4 Cylinders * Good Credit* 2013 2012 2011 2010 *Mercedes-Benz C 250* *No Credit* *1.8L 4 Cylinders Gasoline* pms *Gasoline* f150 f-150 f 150 f250 f-250 f 250 f350 f-350 f 350 ford platinum lariat xlt xl 2009 2008 2007 2006 2005 2004,heated seats, leather, leather seats, bose sound, moon roof, moonroof, pano roof, navigation, nav, nav system, quad seats, sensors, running boards, towing package, tow package, bed liner, lariat, certified warranty, warranty, CPO, factory warranty, 3rd row seat, third row seat, limited, sony sound, panoramic roof, dvd, dvd system, sport package, hybrid, power seats, low miles, cheap, electric, recaro seats, 2.5 liter, cd player, gas saver, 40 mpg, 45 mpg, 35 mpg, high mpg, toyota 86, audi, expect best deals, simple process. csl, csl500, sl, prestige     87\n",
       "                                                                                                                                                                                                                                                                                                                                                                                                                                                                                                                                                                                                                                                                                                                                                                                                                                                                                                                                                                                                                                                                                                                                                                                                                                                                                                                                                                                                                                                                                                                                                                                                                                                                                                                                                                                                                                                                                                                                                                                                                                                                                                                                                                                                                                                                                                                                                                                                                                                                                                                                                                                                                                                                                                                                                                                                                                                                                                                                                                                                                                                                                                                                                                                                                                                                                                                                                                                                                                                                                                                                                                                                                                                                                                                                                                                                                                                                                                                                                                                                                                                                                                                                                                                                                                                                                                                                                                                                                                                                                                                                                                                                                                                                                                                                                                                                                                                                                                                                                                                                                                                                                                                                                                                                                                                                                                                                                                                                                                                                                                                                                                                                                                                                                                                                                                                                                                                                                                                                                                                                                                                                                                                                                                                                                                                                                                                                                                                                                                                                                                                                                                                                                                                                                                                                                                                                                                                                                                                                                                                                                                                                                                                                                                                                                                                                                                                                                                                                                                                                                                                                                                                                                                                                                                                                                                                                                                                                                                                                                                                                                                                                                                                                                                                                                                                                                                                                                                                                                                                                                                                                                                                                                                                                                                                                                                                                                                                                                                                                                                                                                                                                                                                                                                                                                                                                                                                                                                                                                                                                                                                                                                                                                                                                                                                                                                                                                                                                                                                                                                                                                                                                                                                                                                                                                                                                                                                                                                                                                                                                                                                                                                                                                                                                                                                                                                                                                                                                                                                                                                                                                                                                                                                                                                                                                                                                                                                                                                                                                                                                                                                                                                                                                                                                                                                                                                                                                                                                                                                                                                                                                                                                                                                                                                                                                                                                                                                                                                                                                                                                                                                                                                                                                                                                                                                                                                                                                                                                                                                                                                                                                                                                                                                                                                                                                                                                                                                                                                                                                                                                                                                                                                                                                                                                                                                                                                                                                                                                                                                                                                                                                                                                                                                                                                                                                                                                                                                                                                                                                                                                                                                                                                                                                                                                                                                                                                                                                                                                                                                                                                                                                                                                                                                                                                                                                                                                                                                                                                                                                                                                                                                                                                                                                                                                                                                                                                                                                                                                                                                                                                                                                                                                                                                                                                                                                                                                                                                                                                                                                                                                                                                                                                                                                                                                                                                                                                                                                                                                                                                                                                                                                                                                                                                                                                                                                                                                                                                                                                                                                                                                                                                                                                                                                                                                                                                                                                                                                                                                                                                          ... \n",
       "Drive it home today. Call (Or Text) us now !!  Twins Auto Mall Copy & Paste the URL belowto view more information!http://www.twinsautomall.com      ⭐ Great Bank Financing Options Available ⭐✅ Bad Credit? ✅ No Credit? ✅ First Time Buyer? ✅ We Work With Dozens Of Lenders To Get You Approved Fast Regardless Of Your Credit Situation. 🚘 Ready To Get Behind The Wheel Of This Great Car 🚘 👉 Go to : twinsautomall.com/finance100% APPROVAL with OACWe Guarantee It! No matter your financial situation, you will drive off the lot in a new car, today.✅ Bad Credit✅ No Credit ✅ Repossession✅ Bankruptcy✅ Foreclosure✅ SSI✅ Disability✅ Government AssistanceYOU'RE APPROVED!🚘  🚘 ✅ Huge Selection Of Quality Pre-Owned Cars ✅ Leave The Lot With Confidence Ask About Our Competitive Extended Warranties ✅ Trade-In Your Car Today For A Great Discount  ✅ We Buy Cars Cash  📍 Stop By Today And See Why Our Dealership Is Always The People's Choice💥 Check Out More Of Our Great Cars On Craigslist Just Copy And Paste This Link Into Your Browser 💥 https://rockford.craigslist.org/search/ctd?query=twinsautomall.com   2017 Volkswagen Golf GTI 2.0T SE Sedan  FWD     \\t\\t\\tYear : 2017\\t\\t\\t\\tMake : Volkswagen\\t\\t\\t\\tModel : Golf GTI\\t\\t\\t\\tTrim : 2.0T SE\\t\\t\\t\\t   Mileage : 40,432 miles\\t\\t\\t\\tTransmission : Manual\\t\\t\\t\\tExterior Color : Gray\\t\\t\\t\\tInterior Color : Black\\t\\t\\t\\tSeries : 2.0T SE Sedan\\t\\t\\t\\tDrivetrain : FWD\\t\\t\\t\\tCondition : Excellent\\t\\t\\t\\tVIN : 3VW547AU7HM005562\\t\\t\\t\\tStock ID : TN005562\\t\\t\\t\\tEngine : 2.0L 220.0hp\\t               Optional Equipment of this Volkswagen Golf GTI 2.0T SECONTACT US to get the full list of optional equipment on this vehicle.\\t\\t      ***** Volkswagen Golf GTI 2.0T SE Sedan *****  2018, 2019, 2020, 2017, 2016, 2015, 2014, Volkswagen Golf GTI, Eos, GTI, Golf, Jetta, Passat, Touareg, Tiguan, CC, Touareg Hybrid, Beetle, Jetta Hybrid, Jetta SportWagen, e-Golf  Out KlEdrU524YuiMVB stitch kjX8HcYfz0 what qqZ2UcJP8 Half 662s2dwJn5. cannot, little JKrilCx2S  NzDCXPV4wxMO1j7 smell o1RXmjfyL3REQ Laughter qzdnoZIBx4z. turn and 4skWjhjtn7eGzI7 butter N9obOoJzB a 0RLVkWRueaDs8I can 06iBtHPv6deWFsL      Call (or text)   for quick answers to your questions about this Volkswagen Golf GTI 2.0T SE.     Drive it home today. Call (Or Text) us now !!  Twins Auto Mall Copy & Paste the URL belowto view more information!http://www.twinsautomall.com    2017 17 *Volkswagen* *Golf GTI* *Cheap 2.0T SE* \\t\\t*Like New 2017 2.0T SE Sedan* *2.0L 220.0hp* \\t\\t*Must See 2017 Volkswagen Golf GTI 2.0T SE Gasoline - \\t\\t2017 Volkswagen Golf GTI  golf gti GOLF GTI 2.0T SE Gasoline Sedan Cheap -  \\t\\t2017 Volkswagen Golf GTI (2.0T SE) Carfax Gasoline 2.0L 220.0hp -  \\t\\t2017 Volkswagen Golf GTI 2.0T SE Sedan 2.0L 220.0hp Gasoline  -  \\t\\tVolkswagen Golf GTI 2.0T SE Sedan   \\t\\t*SCHEDULE YOUR TEST DRIVE 2017 Volkswagen Golf GTI  GolfGTI golfgti GOLFGTI 2.0L 220.0hp 2.0T SE Gasoline Sedan*   \\t\\t*Volkswagen* *Golf GTI* 2017 Volkswagen Golf GTI 2.0T SE Gasoline Sedan   \\t\\t*2017 Volkswagen Golf GTI 2.0T SE  \\t\\t*Twins Auto Mall* *Call (or text) us today at (815) 721−0501.* \\t\\t2018 Volkswagen Golf GTI 2.0T SE 2.0L 220.0hp - \\t\\tHave you seen this 2019 Volkswagen Golf GTI 2.0T SE Sedan ?  \\t\\tMust See 2020 Volkswagen Golf GTI  2.0T SE Gasoline Sedan  \\t\\t*For Sale Golf GTI* *Golf GTI* *Carfax 2.0T SE Gasoline Sedan  \\t\\tCome test drive this amazing *Volkswagen* *Golf GTI* *(2.0T SE)* *Gasoline* Sedan 2.0T SE Sedan Gasoline Sedan Gasoline* \\t\\t*(Volkswagen)* *(Golf GTI)* *2.0T SE* *2.0L 220.0hp* *(GASOLINE)* *Bad Credit* \\t\\t*Gasoline* *Sedan*  *Super Vehicle Gasoline Call (or text) this number (815) 721−0501* *2.0L 220.0hp* *Twins Auto Mall* * Good Credit* \\t\\t2017 2016 2015 2014  \\t\\t*This vehicle is a used Volkswagen Golf GTI* *No Credit* \\t\\t*It is like New 2.0T SE* *2.0L 220.0hp Gasoline*  \\t\\t*Gasoline* 2013 2012 2011 2010 2009 2008                                                                                                                                                                                                                                                                                                                                                                                                                                                                                                                                                                                                                                                                                                                                                                                                                                                                                                                                                                                                                                                                                                                                                                                                                                                                                                                                                                                                                                                                                                                                                                                                                                                                                                                                                                                                                                                                                                                                                                                                                                                                                                                                                                                                                                                                                                                                                                                                                                                                                                                                                                                                                                                                                                                                                                                                                                                                                                                                                                                                                                                                                                                                                                                                                                                                                                                                                                                                                                                                                                                                                                                                                                                                                                                                                                                                                                                                                                                                                                                                                                                                                                                                                                                                                                                                                                                                                                                                                                                                                                                                                                                                                                                                                                                                                                                                                                                                                                                                                                                                                                                                                                                                                                                                                                                                                                                                                                                                                                                                                                                                                                                                                                                                                                                                                                                                                                                                                                                                                                                                                                                                                                                                                                                                                                                                                                                                                                                                                                                                                                                                                                                                                                                                                                                                                                                                                                                                                                                                                                                                                                                                                                                                                                                                                                                                                                                                                                                                                                                                                                                                                                                                                                                                                                                                                                                                                                                                                                                                                                                                                                                                                                                                                                                                                                                                                                                                                                                                                                                                                                                                                                                                                                                                                                                                                                                                                                                                                                                                                                                                                                                                                                                                                                                                                                                                                                                                                                                                                                                                                                                                                                                                                                                                                                                                                                                                                                                                                                                                                                                                                                                                                                                                                                                                                                                                                                                                                                                                                                                                                                                                                                                                                                                                                                                                                                                                                                                                                                                                                                                                                                                                                                                                                                                                                                                                                                                                                                                                                                                                                                                                                                                                                                                                                                                                                                                                                                                                                                                                                                                                                                                                                                                                                                                                                                                                                                                                                                                                                                                                                                                                                                                                                                                                                                                                                                                                                                                                                                                                                                                                                                                                                                                                                                                                                                                                                                                                                                                                                                                                                                                                                                                                                                                                                                                                                                                                                                                                                          1\n",
       "Drive it home today. Call (Or Text) us now !!  Twins Auto Mall Copy & Paste the URL belowto view more information!http://www.twinsautomall.com   Get Pre-approved!   ⭐ Great Bank Financing Options Available ⭐✅ Bad Credit? ✅ No Credit? ✅ First Time Buyer? ✅ We Work With Dozens Of Lenders To Get You Approved Fast Regardless Of Your Credit Situation. 🚘 Ready To Get Behind The Wheel Of This Great Car 🚘 👉 Go to : twinsautomall.com/finance100% APPROVAL with OACWe Guarantee It! No matter your financial situation, you will drive off the lot in a new car, today.✅ Bad Credit✅ No Credit ✅ Repossession✅ Bankruptcy✅ Foreclosure✅ SSI✅ Disability✅ Government AssistanceYOU'RE APPROVED!🚘  🚘 ✅ Huge Selection Of Quality Pre-Owned Cars ✅ Leave The Lot With Confidence Ask About Our Competitive Extended Warranties ✅ Trade-In Your Car Today For A Great Discount  ✅ We Buy Cars Cash  📍 Stop By Today And See Why Our Dealership Is Always The People's Choice💥 Check Out More Of Our Great Cars On Craigslist Just Copy And Paste This Link Into Your Browser 💥 https://rockford.craigslist.org/search/ctd?query=twinsautomall.com\\t   2015 Mercedes-Benz E-Class 4dr Sdn E 350 Luxury 4MATIC Sedan  4WD\\t\\t   98,167 miles\\t      Call (or text)   for quick answers to your questions about this Mercedes-Benz E-Class 4dr Sdn E 350 Luxury 4MATIC.     CONTACT US to get the full list of optional equipment on this vehicle.  ***** Mercedes-Benz E-Class 4dr Sdn E 350 Luxury 4MATIC Sedan *****  2016, 2017, 2018, 2015, 2014, 2013, 2012, Mercedes-Benz E-Class, C-Class, CL-Class, CLS-Class, E-Class, G-Class, GL-Class, M-Class, R-Class, SLK-Class, S-Class, SL-Class, Sprinter, GLK-Class, SLS AMG, CLA-Class, SLS AMG Black Series, B Electric Drive, GLA-Class  the CwzXIFvNwxSX he uXtNqrSsOlt7 horse oDtQaJOIyk5K7y good, TcGnPW5HotT8R. whirlwind Talk dFWdyLMN is 73Fqm9sTNi a QeCJC4jY9m has qdscQnuyHaET. so goes xgCGWHsFuMOtwb cured saluRyFpgFUZpSM Grandmother ztUgC90yxJLzHEH were c9oHPuxKuDChqB      Drive it home today. Call (Or Text) us now !!  Twins Auto Mall Copy & Paste the URL belowto view more information!http://www.twinsautomall.com    2015 15 *Mercedes Benz Mercedes-Benz* *E-Class* *Cheap 4dr Sdn E 350 Luxury 4MATIC* \\t\\t*Like New 2015 4dr Sdn E 350 Luxury 4MATIC Sedan* *3.5L 302.0hp* \\t\\t*Must See 2015 Mercedes Benz Mercedes-Benz E-Class 4dr Sdn E 350 Luxury 4MATIC Gasoline - \\t\\t2015 Mercedes Benz Mercedes-Benz E-Class  e-class E-CLASS 4dr Sdn E 350 Luxury 4MATIC Gasoline Sedan Cheap -  \\t\\t2015 Mercedes Benz Mercedes-Benz E-Class (4dr Sdn E 350 Luxury 4MATIC) Carfax Gasoline 3.5L 302.0hp -  \\t\\t2015 Mercedes Benz Mercedes-Benz E-Class 4dr Sdn E 350 Luxury 4MATIC Sedan 3.5L 302.0hp Gasoline  -  \\t\\tMercedes Benz Mercedes-Benz E-Class 4dr Sdn E 350 Luxury 4MATIC Sedan   \\t\\t*SCHEDULE YOUR TEST DRIVE 2015 Mercedes Benz Mercedes-Benz E-Class  3.5L 302.0hp 4dr Sdn E 350 Luxury 4MATIC Gasoline Sedan*   \\t\\t*Mercedes Benz Mercedes-Benz* *E-Class* 2015 Mercedes Benz Mercedes-Benz E-Class 4dr Sdn E 350 Luxury 4MATIC Gasoline Sedan   \\t\\t*2015 Mercedes Benz Mercedes-Benz E-Class 4dr Sdn E 350 Luxury 4MATIC  \\t\\t*Twins Auto Mall* *Call (or text) us today at (815) 721−0501.* \\t\\t2016 Mercedes Benz Mercedes-Benz E-Class 4dr Sdn E 350 Luxury 4MATIC 3.5L 302.0hp - \\t\\tHave you seen this 2017 Mercedes Benz Mercedes-Benz E-Class 4dr Sdn E 350 Luxury 4MATIC Sedan ?  \\t\\tMust See 2018 Mercedes Benz Mercedes-Benz E-Class  EClass eclass ECLASS 4dr Sdn E 350 Luxury 4MATIC Gasoline Sedan  \\t\\t*For Sale E-Class* *E-Class* *Carfax 4dr Sdn E 350 Luxury 4MATIC Gasoline Sedan  \\t\\tCome test drive this amazing *Mercedes Benz Mercedes-Benz* *E-Class* *(4DR SDN E 350 LUXURY 4MATIC)* *Gasoline* Sedan 4dr Sdn E 350 Luxury 4MATIC Sedan Gasoline Sedan Gasoline* \\t\\t*(Mercedes Benz Mercedes-Benz)* *(E-Class)* *4dr Sdn E 350 Luxury 4MATIC* *3.5L 302.0hp* *(GASOLINE)* *Bad Credit* \\t\\t*Gasoline* *Sedan*  *Super Vehicle Gasoline Call (or text) this number (815) 721−0501* *3.5L 302.0hp* *Twins Auto Mall* * Good Credit* \\t\\t2015 2014 2013 2012  \\t\\t*This vehicle is a used Mercedes Benz Mercedes-Benz E-Class* *No Credit* \\t\\t*It is like New 4dr Sdn E 350 Luxury 4MATIC* *3.5L 302.0hp Gasoline*  \\t\\t*Gasoline* 2011 2010 2009 2008 2007 2006                                                                                                                                                                                                                                                                                                                                                                                                                                                                                                                                                                                                                                                                                                                                                                                                                                                                                                                                                                                                                                                                                                                                                                                                                                                                                                                                                                                                                                                                                                                                                                                                                                                                                                                                                                                                                                                                                                                                                                                                                                                                                                                                                                                                                                                                                                                                                                                                                                                                                                                                                                                                                                                                                                                                                                                                                                                                                                                                                                                                                                                                                                                                                                                                                                                                                                                                                                                                                                                                                                                                                                                                                                                                                                                                                                                                                                                                                                                                                                                                                                                                                                                                                                                                                                                                                                                                                                                                                                                                                                                                                                                                                                                                                                                                                                                                                                                                                                                                                                                                                                                                                                                                                                                                                                                                                                                                                                                                                                                                                                                                                                                                                                                                                                                                                                                                                                                                                                                                                                                                                                                                                                                                                                                                                                                                                                                                                                                                                                                                                                                                                                                                                                                                                                                                                                                                                                                                                                                                                                                                                                                                                                                                                                                                                                                                                                                                                                                                                                                                                                                                                                                                                                                                                                                                                                                                                                                                                                                                                                                                                                                                                                                                                                                                                                                                                                                                                                                                                                                                                                                                                                                                                                                                                                                                                                                                                                                                                                                                                                                                                                                                                                                                                                                                                                                                                                                                                                                                                                                                                                                                                                                                                                                                                                                                                                                                                                                                                                                                                                                                                                                                                                                                                                                                                                                                                                                                                                                                                                                                                                                                                                                                                                                                                                                                                                                                                                                                                                                                                                                                                                                                                                                                                                                                                                                                                                                                                                                                                                                                                                                                                                                                                                                                                                                                                                                                                                                                                                                                                                                                                                                                                                                                                                                                                                                                                                                                                                                                                                                                                                                                                                                                                                                                                                                                                                                                                                                                                                                                                                                                                                                                                                                                                                                                                                                                                                                                                                                                                                                                                                                                1\n",
       "2016 *** Toyota Prius HB Technology Sedan ***    Drive it home today. Call (Or Text) us now !!  Twins Auto Mall Copy & Paste the URL belowto view more information!http://www.twinsautomall.com    \\t\\t\\tYear : 2016\\t\\t\\t\\tMake : Toyota\\t\\t\\t\\tModel : Prius\\t\\t\\t\\tTrim : HB Technology\\t\\t\\t\\t   Mileage : 55,521 miles\\t\\t\\t\\tTransmission : Automatic\\t\\t\\t\\tExterior Color : Red\\t\\t\\t\\tInterior Color : Black\\t\\t\\t\\tSeries : HB Technology Sedan\\t\\t\\t\\tDrivetrain : FWD\\t\\t\\t\\tCondition : Excellent\\t\\t\\t\\tVIN : JTDKARFU0G3525458\\t\\t\\t\\tStock ID : TN525458\\t\\t\\t\\tEngine : 1.8L 121.0hp\\t       Optional Equipment of this Toyota Prius HB TechnologyCONTACT US to get the full list of optional equipment on this vehicle.    ⭐ Great Bank Financing Options Available ⭐✅ Bad Credit? ✅ No Credit? ✅ First Time Buyer? ✅ We Work With Dozens Of Lenders To Get You Approved Fast Regardless Of Your Credit Situation. 🚘 Ready To Get Behind The Wheel Of This Great Car 🚘 👉 Go to : twinsautomall.com/finance100% APPROVAL with OACWe Guarantee It! No matter your financial situation, you will drive off the lot in a new car, today.✅ Bad Credit✅ No Credit ✅ Repossession✅ Bankruptcy✅ Foreclosure✅ SSI✅ Disability✅ Government AssistanceYOU'RE APPROVED!🚘  🚘 ✅ Huge Selection Of Quality Pre-Owned Cars ✅ Leave The Lot With Confidence Ask About Our Competitive Extended Warranties ✅ Trade-In Your Car Today For A Great Discount  ✅ We Buy Cars Cash  📍 Stop By Today And See Why Our Dealership Is Always The People's Choice💥 Check Out More Of Our Great Cars On Craigslist Just Copy And Paste This Link Into Your Browser 💥 https://rockford.craigslist.org/search/ctd?query=twinsautomall.com  ***** Toyota Prius HB Technology Sedan *****  2017, 2018, 2019, 2016, 2015, 2014, 2013, Toyota Prius, 4Runner, Avalon, Camry Hybrid, Camry, Corolla, FJ Cruiser, Highlander Hybrid, Highlander, Land Cruiser, Matrix, Prius, RAV4, Sequoia, Sienna, Tundra, Tacoma, Yaris, Venza, Prius v, Prius Plug-in, Prius c, RAV4 EV, Avalon Hybrid  all B9tI94jEI end, SFfiZ8ILL a ZUc1ldxVrZ5BHfg evil, P4UHjaPj98Uvn other iVLtZjpqjK. the monkey YH9Nm44w4t6dR0 will uInp47oE never N6xEvvwVi9zC hear W1WOSvUmdi28FHm. do meant YAFtVcod of G77DY31RPvdT3 fancy jnEA0E8auSW the aXLG4tt3N       Drive it home today. Call (Or Text) us now !!  Twins Auto Mall Copy & Paste the URL belowto view more information!http://www.twinsautomall.com   2016 16 *Toyota* *Prius* *Cheap HB Technology* \\t\\t*Like New 2016 HB Technology Sedan* *1.8L 121.0hp* \\t\\t*Must See 2016 Toyota Prius HB Technology Gas/Electric Hybrid - \\t\\t2016 Toyota Prius  prius PRIUS HB Technology Gas/Electric Hybrid Sedan Cheap -  \\t\\t2016 Toyota Prius (HB Technology) Carfax Gas/Electric Hybrid 1.8L 121.0hp -  \\t\\t2016 Toyota Prius HB Technology Sedan 1.8L 121.0hp Gas/Electric Hybrid  -  \\t\\tToyota Prius HB Technology Sedan   \\t\\t*SCHEDULE YOUR TEST DRIVE 2016 Toyota Prius  1.8L 121.0hp HB Technology Gas/Electric Hybrid Sedan*   \\t\\t*Toyota* *Prius* 2016 Toyota Prius HB Technology Gas/Electric Hybrid Sedan   \\t\\t*2016 Toyota Prius HB Technology  \\t\\t*Twins Auto Mall* *Call (or text) us today at (815) 721−0501.* \\t\\t2017 Toyota Prius HB Technology 1.8L 121.0hp - \\t\\tHave you seen this 2018 Toyota Prius HB Technology Sedan ?  \\t\\tMust See 2019 Toyota Prius  HB Technology Gas/Electric Hybrid Sedan  \\t\\t*For Sale Prius* *Prius* *Carfax HB Technology Gas/Electric Hybrid Sedan  \\t\\tCome test drive this amazing *Toyota* *Prius* *(HB TECHNOLOGY)* *Gas/Electric Hybrid* Sedan HB Technology Sedan Gas/Electric Hybrid Sedan Gas/Electric Hybrid* \\t\\t*(Toyota)* *(Prius)* *HB Technology* *1.8L 121.0hp* *(GAS/ELECTRIC HYBRID)* *Bad Credit* \\t\\t*Gas/Electric Hybrid* *Sedan*  *Super Vehicle Gas/Electric Hybrid Call (or text) this number (815) 721−0501* *1.8L 121.0hp* *Twins Auto Mall* * Good Credit* \\t\\t2016 2015 2014 2013  \\t\\t*This vehicle is a used Toyota Prius* *No Credit* \\t\\t*It is like New HB Technology* *1.8L 121.0hp Gas/Electric Hybrid*  \\t\\t*Gas/Electric Hybrid* 2012 2011 2010 2009 2008 2007                                                                                                                                                                                                                                                                                                                                                                                                                                                                                                                                                                                                                                                                                                                                                                                                                                                                                                                                                                                                                                                                                                                                                                                                                                                                                                                                                                                                                                                                                                                                                                                                                                                                                                                                                                                                                                                                                                                                                                                                                                                                                                                                                                                                                                                                                                                                                                                                                                                                                                                                                                                                                                                                                                                                                                                                                                                                                                                                                                                                                                                                                                                                                                                                                                                                                                                                                                                                                                                                                                                                                                                                                                                                                                                                                                                                                                                                                                                                                                                                                                                                                                                                                                                                                                                                                                                                                                                                                                                                                                                                                                                                                                                                                                                                                                                                                                                                                                                                                                                                                                                                                                                                                                                                                                                                                                                                                                                                                                                                                                                                                                                                                                                                                                                                                                                                                                                                                                                                                                                                                                                                                                                                                                                                                                                                                                                                                                                                                                                                                                                                                                                                                                                                                                                                                                                                                                                                                                                                                                                                                                                                                                                                                                                                                                                                                                                                                                                                                                                                                                                                                                                                                                                                                                                                                                                                                                                                                                                                                                                                                                                                                                                                                                                                                                                                                                                                                                                                                                                                                                                                                                                                                                                                                                                                                                                                                                                                                                                                                                                                                                                                                                                                                                                                                                                                                                                                                                                                                                                                                                                                                                                                                                                                                                                                                                                                                                                                                                                                                                                                                                                                                                                                                                                                                                                                                                                                                                                                                                                                                                                                                                                                                                                                                                                                                                                                                                                                                                                                                                                                                                                                                                                                                                                                                                                                                                                                                                                                                                                                                                                                                                                                                                                                                                                                                                                                                                                                                                                                                                                                                                                                                                                                                                                                                                                                                                                                                                                                                                                                                                                                                                                                                                                                                                                                                                                                                                                                                                                                                                                                                                                                                                                                                                                                                                                                                                                                                                                                                                                                                                                                                                                                                                                                                                                                                    1\n",
       "2015 Kia Optima SX Sedan  FWD   Drive it home today. Call (Or Text) us now !!  Twins Auto Mall Copy & Paste the URL belowto view more information!http://www.twinsautomall.com     \\t\\t\\tYear : 2015\\t\\t\\t\\tMake : Kia\\t\\t\\t\\tModel : Optima\\t\\t\\t\\tTrim : SX\\t\\t\\t\\t   Mileage : 85,179 miles\\t\\t\\t\\tTransmission : Automatic\\t\\t\\t\\tExterior Color : Blue\\t\\t\\t\\tInterior Color : Black\\t\\t\\t\\tSeries : SX Sedan\\t\\t\\t\\tDrivetrain : FWD\\t\\t\\t\\tCondition : Excellent\\t\\t\\t\\tVIN : 5XXGR4A72FG382627\\t\\t\\t\\tStock ID : TN382627\\t\\t\\t\\tEngine : 2.4L 192.0hp\\t   Optional Equipment of this 2015 Kia Optima SX:CONTACT US to get the full list of optional equipment on this vehicle.  For more information about this 2015 Kia Optima SX:   ⭐ Great Bank Financing Options Available ⭐✅ Bad Credit? ✅ No Credit? ✅ First Time Buyer? ✅ We Work With Dozens Of Lenders To Get You Approved Fast Regardless Of Your Credit Situation. 🚘 Ready To Get Behind The Wheel Of This Great Car 🚘 👉 Go to : twinsautomall.com/finance100% APPROVAL with OACWe Guarantee It! No matter your financial situation, you will drive off the lot in a new car, today.✅ Bad Credit✅ No Credit ✅ Repossession✅ Bankruptcy✅ Foreclosure✅ SSI✅ Disability✅ Government AssistanceYOU'RE APPROVED!🚘  🚘 ✅ Huge Selection Of Quality Pre-Owned Cars ✅ Leave The Lot With Confidence Ask About Our Competitive Extended Warranties ✅ Trade-In Your Car Today For A Great Discount  ✅ We Buy Cars Cash  📍 Stop By Today And See Why Our Dealership Is Always The People's Choice💥 Check Out More Of Our Great Cars On Craigslist Just Copy And Paste This Link Into Your Browser 💥 https://rockford.craigslist.org/search/ctd?query=twinsautomall.com   Call (or text)   for quick answers to your questions about this Kia Optima SX.   ***** 2015 Kia Optima SX Sedan *****  2016, 2017, 2018, 2015, 2014, 2013, 2012, Kia Optima, Optima, Rio, Rio5, Sedona, Sorento, Sportage, Soul, Forte, Forte Koup, Optima Hybrid, Cadenza, K900, Soul EV  the HLhIkCEKHEJlHVd the ngbunQbk work xsSsZEzHObv8Ja. cover pudding nXQqlXs5kj7vw just ElbDP0vD2GmlH. indeed16 a JdqZoosKz2s editJ  Jack B32M5gCV1qxi29 Prevention FqGI6GXLZHk1ZVq      Drive it home today. Call (Or Text) us now !!  Twins Auto Mall Copy & Paste the URL belowto view more information!http://www.twinsautomall.com    2015 15 *Kia* *Optima* *Cheap SX* \\t\\t*Like New 2015 SX Sedan* *2.4L 192.0hp* \\t\\t*Must See 2015 Kia Optima SX Gasoline - \\t\\t2015 Kia Optima  optima OPTIMA SX Gasoline Sedan Cheap -  \\t\\t2015 Kia Optima (SX) Carfax Gasoline 2.4L 192.0hp -  \\t\\t2015 Kia Optima SX Sedan 2.4L 192.0hp Gasoline  -  \\t\\tKia Optima SX Sedan   \\t\\t*SCHEDULE YOUR TEST DRIVE 2015 Kia Optima  2.4L 192.0hp SX Gasoline Sedan*   \\t\\t*Kia* *Optima* 2015 Kia Optima SX Gasoline Sedan   \\t\\t*2015 Kia Optima SX  \\t\\t*Twins Auto Mall* *Call (or text) us today at (815) 721−0501.* \\t\\t2016 Kia Optima SX 2.4L 192.0hp - \\t\\tHave you seen this 2017 Kia Optima SX Sedan ?  \\t\\tMust See 2018 Kia Optima  SX Gasoline Sedan  \\t\\t*For Sale Optima* *Optima* *Carfax SX Gasoline Sedan  \\t\\tCome test drive this amazing *Kia* *Optima* *(SX)* *Gasoline* Sedan SX Sedan Gasoline Sedan Gasoline* \\t\\t*(Kia)* *(Optima)* *SX* *2.4L 192.0hp* *(GASOLINE)* *Bad Credit* \\t\\t*Gasoline* *Sedan*  *Super Vehicle Gasoline Call (or text) this number (815) 721−0501* *2.4L 192.0hp* *Twins Auto Mall* * Good Credit* \\t\\t2015 2014 2013 2012  \\t\\t*This vehicle is a used Kia Optima* *No Credit* \\t\\t*It is like New SX* *2.4L 192.0hp Gasoline*  \\t\\t*Gasoline* 2011 2010 2009 2008 2007 2006                                                                                                                                                                                                                                                                                                                                                                                                                                                                                                                                                                                                                                                                                                                                                                                                                                                                                                                                                                                                                                                                                                                                                                                                                                                                                                                                                                                                                                                                                                                                                                                                                                                                                                                                                                                                                                                                                                                                                                                                                                                                                                                                                                                                                                                                                                                                                                                                                                                                                                                                                                                                                                                                                                                                                                                                                                                                                                                                                                                                                                                                                                                                                                                                                                                                                                                                                                                                                                                                                                                                                                                                                                                                                                                                                                                                                                                                                                                                                                                                                                                                                                                                                                                                                                                                                                                                                                                                                                                                                                                                                                                                                                                                                                                                                                                                                                                                                                                                                                                                                                                                                                                                                                                                                                                                                                                                                                                                                                                                                                                                                                                                                                                                                                                                                                                                                                                                                                                                                                                                                                                                                                                                                                                                                                                                                                                                                                                                                                                                                                                                                                                                                                                                                                                                                                                                                                                                                                                                                                                                                                                                                                                                                                                                                                                                                                                                                                                                                                                                                                                                                                                                                                                                                                                                                                                                                                                                                                                                                                                                                                                                                                                                                                                                                                                                                                                                                                                                                                                                                                                                                                                                                                                                                                                                                                                                                                                                                                                                                                                                                                                                                                                                                                                                                                                                                                                                                                                                                                                                                                                                                                                                                                                                                                                                                                                                                                                                                                                                                                                                                                                                                                                                                                                                                                                                                                                                                                                                                                                                                                                                                                                                                                                                                                                                                                                                                                                                                                                                                                                                                                                                                                                                                                                                                                                                                                                                                                                                                                                                                                                                                                                                                                                                                                                                                                                                                                                                                                                                                                                                                                                                                                                                                                                                                                                                                                                                                                                                                                                                                                                                                                                                                                                                                                                                                                                                                                                                                                                                                                                                                                                                                                                                                                                                                                                                                                                                                                                                                                                                                                                                                                                                                                                                                                                                                                                                                                                                                                                                                                                                                                                                                                                                                                                                                                                                         1\n",
       "Carvana is the safer way to buy a car During these uncertain times, Carvana is dedicated to ensuring safety for all of our customers. In addition to our 100% online shopping and selling experience that allows all customers to buy and trade their cars without ever leaving the safety of their house, we’re providing touchless delivery that make all aspects of our process even safer. Now, you can get the car you want, and trade in your old one, while avoiding person-to-person contact with our friendly advocates. There are some things that can’t be put off. And if buying a car is one of them, know that we’re doing everything we can to keep you keep moving while continuing to put your health safety, and happiness first. Vehicle Stock# 2000909942📱 Want to instantly check this car’s availability? Call us at  307-215-1645Just text that stock number to 855-976-4304 or head to http://www.carvanaauto.com/6827369-75173 and plug it into the search bar!Get PRE-QUALIFIED for your auto loan in 2 minutes - no hit to your credit:http://finance.carvanaauto.com/6827369-75173Looking for more cars like this one? We have 115 BMW 4 Series in stock for as low as $17990!Why buy with Carvana? We have one standard: the highest. Take a look at just some of the qualifications all of our cars must meet before we list them.150-POINT INSPECTION: We put each vehicle through a 150-point inspection so that you can be 100% confident in its quality and safety. See everything that goes into our inspections at:http://www.carvanaauto.com/6827369-75173NO REPORTED ACCIDENTS: We do not sell cars that have been in a reported accident or have a frame or structural damage.7 DAY TEST OWN MONEY BACK GUARANTEE: Every Carvana car comes with a 7-day money-back guarantee. Why? It takes more than 15-minutes to make a decision on your next car. Learn more about test owning at http://about.carvanaauto.comFLEXIBLE FINANCING, TRADE INS WELCOME: We’re all about real-time financing without the middle man. Need financing? Pick a combination of down and monthly payments that work for you. Have a trade-in? We’ll give you a value in 2 minutes. Check out everything about our financing at:http://finance.carvanaauto.com/6827369-75173COST SAVINGS: Carvana's business model has fewer expenses and no bloated fees compared to your local dealership. See how much we can save you at http://about.carvanaauto.comPREMIUM DETAIL: We go the extra mile so that your car is looking as good as new. There are a lot of specifics that we won’t list here (we wash, clean, buff, paint, polish, wax, seal), but trust us that when your car arrives, it’s going to look sweet.Vehicle Info for Stock# 2000909942Trim: 430i Gran Coupe Sedan 4D coupeMileage: 22k milesExterior Color: GrayInterior Color: BLACKEngine: 2.0L Turbo I4 248hp 258ft. lbs.Drive: rwdTransmission: VIN: WBA4J1C58KBM14708Dealer Disclosure: Price excludes tax, title, and registration (which we handle for you).Disclaimer: You agree that by providing your phone number, Carvana, or Carvana’s authorized representatives*, may call and/or send text messages (including by using equipment to automatically dial telephone numbers) about your interest in a purchase, for marketing/sales purposes, or for any other servicing or informational purpose related to your account. You do not have to consent to receiving calls or texts to purchase from Carvana. While every reasonable effort is made to ensure the accuracy of the information for this BMW 4 Series, we are not responsible for any errors or omissions contained in this ad. Please verify any information in question with Carvana at 307-215-1645*Including, but not limited to, Bridgecrest Credit Company, GO Financial and SilverRock Automotive.*BMW* *4* *Series* *i* *2* *BMW* *4* *Series* *i2* *BMW* *4* *Series* *ix* *BMW* *4* *Series* *i* *x* *Rear* *Wheel* *drive* *Coupe* *BMW* *4* *Series* *All-* *Wheel* *Drive* *Convertible* 2022  2021  2020  2019  2018  2017  2016  2015  2014  2013  2012  2011  2010  2009  2008  2007  2006  2005  2004  2003  2002  2001  2000   22  21    19  18  17  16  15  14  13  12  11  10  09  08  07  06  05  04  03  02  01  00                                                                                                                                                                                                                                                                                                                                                                                                                                                                                                                                                                                                                                                                                                                                                                                                                                                                                                                                                                                                                                                                                                                                                                                                                                                                                                                                                                                                                                                                                                                                                                                                                                                                                                                                                                                                                                                                                                                                                                                                                                                                                                                                                                                                                                                                                                                                                                                                                                                                                                                                                                                                                                                                                                                                                                                                                                                                                                                                                                                                                                                                                                                                                                                                                                                                                                                                                                                                                                                                                                                                                                                                                                                                                                                                                                                                                                                                                                                                                                                                                                                                                                                                                                                                                                                                                                                                                                                                                                                                                                                                                                                                                                                                                                                                                                                                                                                                                                                                                                                                                                                                                                                                                                                                                                                                                                                                                                                                                                                                                                                                                                                                                                                                                                                                                                                                                                                                                                                                                                                                                                                                                                                                                                                                                                                                                                                                                                                                                                                                                                                                                                                                                                                                                                                                                                                                                                                                                                                                                                                                                                                                                                                                                                                                                                                                                                                                                                                                                                                                                                                                                                                                                                                                                                                                                                                                                                                                                                                                                                                                                                                                                                                                                                                                                                                                                                                                                                                                                                                                                                                                                                                                                                                                                                                                                                                                                                                                                                                                                                                                                                                                                                                                                                                                                                                                                                                                                                                                                                                                                                                                                                                                                                                                                                                                                                                                                                                                                                                                                                                                                                                                                                                                                                                                                                                                                                                                                                                                                                                                                                                                                                                                                                                                                                                                                                                                                                                                                                                                                                                                                                                                                                                                                                                                                                                                                                                                                                                                                                                                                                                                                                                                                                                                                                                                                                                                                                                                                                                                                                                                                                                                                                                                                                                                                                                                                                                                                                                                                                                                                                                                                                                                                                                                                                                                                                                                                                                                                                                                                                                                                                                                                                                                                                                                                                                                                                                                                                                                                                                                                                                                                                                                                          1\n",
       "Name: count, Length: 294703, dtype: int64"
      ]
     },
     "execution_count": 86,
     "metadata": {},
     "output_type": "execute_result"
    }
   ],
   "source": [
    "cars['description'].value_counts()"
   ]
  },
  {
   "cell_type": "markdown",
   "id": "8fd9e0ea",
   "metadata": {
    "papermill": {
     "duration": 0.034523,
     "end_time": "2024-11-27T20:09:23.071596",
     "exception": false,
     "start_time": "2024-11-27T20:09:23.037073",
     "status": "completed"
    },
    "tags": []
   },
   "source": [
    "### should be dropped "
   ]
  },
  {
   "cell_type": "code",
   "execution_count": 87,
   "id": "dcb00413",
   "metadata": {
    "execution": {
     "iopub.execute_input": "2024-11-27T20:09:23.141186Z",
     "iopub.status.busy": "2024-11-27T20:09:23.140778Z",
     "iopub.status.idle": "2024-11-27T20:09:23.211709Z",
     "shell.execute_reply": "2024-11-27T20:09:23.210888Z"
    },
    "papermill": {
     "duration": 0.108461,
     "end_time": "2024-11-27T20:09:23.214050",
     "exception": false,
     "start_time": "2024-11-27T20:09:23.105589",
     "status": "completed"
    },
    "tags": []
   },
   "outputs": [],
   "source": [
    "cars = cars.drop('description', axis=1, errors='ignore')"
   ]
  },
  {
   "cell_type": "markdown",
   "id": "d4e7a11d",
   "metadata": {
    "papermill": {
     "duration": 0.03393,
     "end_time": "2024-11-27T20:09:23.282343",
     "exception": false,
     "start_time": "2024-11-27T20:09:23.248413",
     "status": "completed"
    },
    "tags": []
   },
   "source": [
    "## set index"
   ]
  },
  {
   "cell_type": "code",
   "execution_count": 88,
   "id": "5a0464c7",
   "metadata": {
    "execution": {
     "iopub.execute_input": "2024-11-27T20:09:23.351953Z",
     "iopub.status.busy": "2024-11-27T20:09:23.351018Z",
     "iopub.status.idle": "2024-11-27T20:09:23.356539Z",
     "shell.execute_reply": "2024-11-27T20:09:23.355606Z"
    },
    "papermill": {
     "duration": 0.042397,
     "end_time": "2024-11-27T20:09:23.358642",
     "exception": false,
     "start_time": "2024-11-27T20:09:23.316245",
     "status": "completed"
    },
    "tags": []
   },
   "outputs": [],
   "source": [
    "cars.set_index('id', inplace=True)"
   ]
  },
  {
   "cell_type": "markdown",
   "id": "f8dc1fbe",
   "metadata": {
    "papermill": {
     "duration": 0.033733,
     "end_time": "2024-11-27T20:09:23.427287",
     "exception": false,
     "start_time": "2024-11-27T20:09:23.393554",
     "status": "completed"
    },
    "tags": []
   },
   "source": [
    "## dataframe info"
   ]
  },
  {
   "cell_type": "code",
   "execution_count": 89,
   "id": "0a448395",
   "metadata": {
    "execution": {
     "iopub.execute_input": "2024-11-27T20:09:23.497254Z",
     "iopub.status.busy": "2024-11-27T20:09:23.496848Z",
     "iopub.status.idle": "2024-11-27T20:09:23.511450Z",
     "shell.execute_reply": "2024-11-27T20:09:23.510571Z"
    },
    "papermill": {
     "duration": 0.052529,
     "end_time": "2024-11-27T20:09:23.513570",
     "exception": false,
     "start_time": "2024-11-27T20:09:23.461041",
     "status": "completed"
    },
    "tags": []
   },
   "outputs": [
    {
     "data": {
      "text/html": [
       "<div>\n",
       "<style scoped>\n",
       "    .dataframe tbody tr th:only-of-type {\n",
       "        vertical-align: middle;\n",
       "    }\n",
       "\n",
       "    .dataframe tbody tr th {\n",
       "        vertical-align: top;\n",
       "    }\n",
       "\n",
       "    .dataframe thead th {\n",
       "        text-align: right;\n",
       "    }\n",
       "</style>\n",
       "<table border=\"1\" class=\"dataframe\">\n",
       "  <thead>\n",
       "    <tr style=\"text-align: right;\">\n",
       "      <th></th>\n",
       "      <th>price</th>\n",
       "      <th>year</th>\n",
       "      <th>manufacturer</th>\n",
       "      <th>model</th>\n",
       "      <th>condition</th>\n",
       "      <th>cylinders</th>\n",
       "      <th>fuel</th>\n",
       "      <th>odometer</th>\n",
       "      <th>transmission</th>\n",
       "      <th>drive</th>\n",
       "      <th>size</th>\n",
       "      <th>type</th>\n",
       "      <th>paint_color</th>\n",
       "      <th>state</th>\n",
       "    </tr>\n",
       "    <tr>\n",
       "      <th>id</th>\n",
       "      <th></th>\n",
       "      <th></th>\n",
       "      <th></th>\n",
       "      <th></th>\n",
       "      <th></th>\n",
       "      <th></th>\n",
       "      <th></th>\n",
       "      <th></th>\n",
       "      <th></th>\n",
       "      <th></th>\n",
       "      <th></th>\n",
       "      <th></th>\n",
       "      <th></th>\n",
       "      <th></th>\n",
       "    </tr>\n",
       "  </thead>\n",
       "  <tbody>\n",
       "    <tr>\n",
       "      <th>7316814884</th>\n",
       "      <td>33590</td>\n",
       "      <td>2014-01-01</td>\n",
       "      <td>gmc</td>\n",
       "      <td>sierra 1500 crew cab slt</td>\n",
       "      <td>good</td>\n",
       "      <td>8</td>\n",
       "      <td>gas</td>\n",
       "      <td>57923.00</td>\n",
       "      <td>other</td>\n",
       "      <td>other</td>\n",
       "      <td>other</td>\n",
       "      <td>pickup</td>\n",
       "      <td>white</td>\n",
       "      <td>al</td>\n",
       "    </tr>\n",
       "    <tr>\n",
       "      <th>7316814758</th>\n",
       "      <td>22590</td>\n",
       "      <td>2010-01-01</td>\n",
       "      <td>chevrolet</td>\n",
       "      <td>silverado 1500</td>\n",
       "      <td>good</td>\n",
       "      <td>8</td>\n",
       "      <td>gas</td>\n",
       "      <td>71229.00</td>\n",
       "      <td>other</td>\n",
       "      <td>other</td>\n",
       "      <td>other</td>\n",
       "      <td>pickup</td>\n",
       "      <td>blue</td>\n",
       "      <td>al</td>\n",
       "    </tr>\n",
       "    <tr>\n",
       "      <th>7316814989</th>\n",
       "      <td>39590</td>\n",
       "      <td>2020-01-01</td>\n",
       "      <td>chevrolet</td>\n",
       "      <td>silverado 1500 crew</td>\n",
       "      <td>good</td>\n",
       "      <td>8</td>\n",
       "      <td>gas</td>\n",
       "      <td>19160.00</td>\n",
       "      <td>other</td>\n",
       "      <td>other</td>\n",
       "      <td>other</td>\n",
       "      <td>pickup</td>\n",
       "      <td>red</td>\n",
       "      <td>al</td>\n",
       "    </tr>\n",
       "    <tr>\n",
       "      <th>7316743432</th>\n",
       "      <td>30990</td>\n",
       "      <td>2017-01-01</td>\n",
       "      <td>toyota</td>\n",
       "      <td>tundra double cab sr</td>\n",
       "      <td>good</td>\n",
       "      <td>8</td>\n",
       "      <td>gas</td>\n",
       "      <td>41124.00</td>\n",
       "      <td>other</td>\n",
       "      <td>other</td>\n",
       "      <td>other</td>\n",
       "      <td>pickup</td>\n",
       "      <td>red</td>\n",
       "      <td>al</td>\n",
       "    </tr>\n",
       "    <tr>\n",
       "      <th>7316356412</th>\n",
       "      <td>15000</td>\n",
       "      <td>2013-01-01</td>\n",
       "      <td>ford</td>\n",
       "      <td>f-150 xlt</td>\n",
       "      <td>excellent</td>\n",
       "      <td>6</td>\n",
       "      <td>gas</td>\n",
       "      <td>128000.00</td>\n",
       "      <td>automatic</td>\n",
       "      <td>rwd</td>\n",
       "      <td>full-size</td>\n",
       "      <td>truck</td>\n",
       "      <td>black</td>\n",
       "      <td>al</td>\n",
       "    </tr>\n",
       "  </tbody>\n",
       "</table>\n",
       "</div>"
      ],
      "text/plain": [
       "            price       year manufacturer                     model  \\\n",
       "id                                                                    \n",
       "7316814884  33590 2014-01-01          gmc  sierra 1500 crew cab slt   \n",
       "7316814758  22590 2010-01-01    chevrolet            silverado 1500   \n",
       "7316814989  39590 2020-01-01    chevrolet       silverado 1500 crew   \n",
       "7316743432  30990 2017-01-01       toyota      tundra double cab sr   \n",
       "7316356412  15000 2013-01-01         ford                 f-150 xlt   \n",
       "\n",
       "            condition  cylinders fuel  odometer transmission  drive  \\\n",
       "id                                                                    \n",
       "7316814884       good          8  gas  57923.00        other  other   \n",
       "7316814758       good          8  gas  71229.00        other  other   \n",
       "7316814989       good          8  gas  19160.00        other  other   \n",
       "7316743432       good          8  gas  41124.00        other  other   \n",
       "7316356412  excellent          6  gas 128000.00    automatic    rwd   \n",
       "\n",
       "                 size    type paint_color state  \n",
       "id                                               \n",
       "7316814884      other  pickup       white    al  \n",
       "7316814758      other  pickup        blue    al  \n",
       "7316814989      other  pickup         red    al  \n",
       "7316743432      other  pickup         red    al  \n",
       "7316356412  full-size   truck       black    al  "
      ]
     },
     "execution_count": 89,
     "metadata": {},
     "output_type": "execute_result"
    }
   ],
   "source": [
    "cars.head()"
   ]
  },
  {
   "cell_type": "code",
   "execution_count": 90,
   "id": "4d1ba476",
   "metadata": {
    "execution": {
     "iopub.execute_input": "2024-11-27T20:09:23.583641Z",
     "iopub.status.busy": "2024-11-27T20:09:23.583267Z",
     "iopub.status.idle": "2024-11-27T20:09:23.755823Z",
     "shell.execute_reply": "2024-11-27T20:09:23.754705Z"
    },
    "papermill": {
     "duration": 0.209912,
     "end_time": "2024-11-27T20:09:23.757884",
     "exception": false,
     "start_time": "2024-11-27T20:09:23.547972",
     "status": "completed"
    },
    "tags": []
   },
   "outputs": [
    {
     "name": "stdout",
     "output_type": "stream",
     "text": [
      "<class 'pandas.core.frame.DataFrame'>\n",
      "Index: 347097 entries, 7316814884 to 7301591129\n",
      "Data columns (total 14 columns):\n",
      " #   Column        Non-Null Count   Dtype         \n",
      "---  ------        --------------   -----         \n",
      " 0   price         347097 non-null  int64         \n",
      " 1   year          347097 non-null  datetime64[ns]\n",
      " 2   manufacturer  347097 non-null  object        \n",
      " 3   model         347097 non-null  object        \n",
      " 4   condition     347097 non-null  object        \n",
      " 5   cylinders     347097 non-null  int64         \n",
      " 6   fuel          347097 non-null  object        \n",
      " 7   odometer      347097 non-null  float64       \n",
      " 8   transmission  347097 non-null  object        \n",
      " 9   drive         347097 non-null  object        \n",
      " 10  size          347097 non-null  object        \n",
      " 11  type          347097 non-null  object        \n",
      " 12  paint_color   347097 non-null  object        \n",
      " 13  state         347097 non-null  object        \n",
      "dtypes: datetime64[ns](1), float64(1), int64(2), object(10)\n",
      "memory usage: 39.7+ MB\n"
     ]
    }
   ],
   "source": [
    "cars.info()"
   ]
  },
  {
   "cell_type": "code",
   "execution_count": 91,
   "id": "61da2c57",
   "metadata": {
    "execution": {
     "iopub.execute_input": "2024-11-27T20:09:23.828956Z",
     "iopub.status.busy": "2024-11-27T20:09:23.828070Z",
     "iopub.status.idle": "2024-11-27T20:09:23.892178Z",
     "shell.execute_reply": "2024-11-27T20:09:23.891165Z"
    },
    "papermill": {
     "duration": 0.101564,
     "end_time": "2024-11-27T20:09:23.894340",
     "exception": false,
     "start_time": "2024-11-27T20:09:23.792776",
     "status": "completed"
    },
    "tags": []
   },
   "outputs": [
    {
     "data": {
      "text/html": [
       "<div>\n",
       "<style scoped>\n",
       "    .dataframe tbody tr th:only-of-type {\n",
       "        vertical-align: middle;\n",
       "    }\n",
       "\n",
       "    .dataframe tbody tr th {\n",
       "        vertical-align: top;\n",
       "    }\n",
       "\n",
       "    .dataframe thead th {\n",
       "        text-align: right;\n",
       "    }\n",
       "</style>\n",
       "<table border=\"1\" class=\"dataframe\">\n",
       "  <thead>\n",
       "    <tr style=\"text-align: right;\">\n",
       "      <th></th>\n",
       "      <th>price</th>\n",
       "      <th>year</th>\n",
       "      <th>cylinders</th>\n",
       "      <th>odometer</th>\n",
       "    </tr>\n",
       "  </thead>\n",
       "  <tbody>\n",
       "    <tr>\n",
       "      <th>count</th>\n",
       "      <td>347097.00</td>\n",
       "      <td>347097</td>\n",
       "      <td>347097.00</td>\n",
       "      <td>347097.00</td>\n",
       "    </tr>\n",
       "    <tr>\n",
       "      <th>mean</th>\n",
       "      <td>19113.53</td>\n",
       "      <td>2012-02-27 02:52:55.806186752</td>\n",
       "      <td>423.63</td>\n",
       "      <td>93178.00</td>\n",
       "    </tr>\n",
       "    <tr>\n",
       "      <th>min</th>\n",
       "      <td>2.00</td>\n",
       "      <td>1981-01-01 00:00:00</td>\n",
       "      <td>3.00</td>\n",
       "      <td>0.00</td>\n",
       "    </tr>\n",
       "    <tr>\n",
       "      <th>25%</th>\n",
       "      <td>7500.00</td>\n",
       "      <td>2009-01-01 00:00:00</td>\n",
       "      <td>6.00</td>\n",
       "      <td>38332.00</td>\n",
       "    </tr>\n",
       "    <tr>\n",
       "      <th>50%</th>\n",
       "      <td>15990.00</td>\n",
       "      <td>2013-01-01 00:00:00</td>\n",
       "      <td>8.00</td>\n",
       "      <td>88178.00</td>\n",
       "    </tr>\n",
       "    <tr>\n",
       "      <th>75%</th>\n",
       "      <td>27990.00</td>\n",
       "      <td>2017-01-01 00:00:00</td>\n",
       "      <td>999.00</td>\n",
       "      <td>136216.00</td>\n",
       "    </tr>\n",
       "    <tr>\n",
       "      <th>max</th>\n",
       "      <td>99999.00</td>\n",
       "      <td>2022-01-01 00:00:00</td>\n",
       "      <td>999.00</td>\n",
       "      <td>499232.00</td>\n",
       "    </tr>\n",
       "    <tr>\n",
       "      <th>std</th>\n",
       "      <td>14354.27</td>\n",
       "      <td>NaN</td>\n",
       "      <td>490.22</td>\n",
       "      <td>63435.67</td>\n",
       "    </tr>\n",
       "  </tbody>\n",
       "</table>\n",
       "</div>"
      ],
      "text/plain": [
       "          price                           year  cylinders  odometer\n",
       "count 347097.00                         347097  347097.00 347097.00\n",
       "mean   19113.53  2012-02-27 02:52:55.806186752     423.63  93178.00\n",
       "min        2.00            1981-01-01 00:00:00       3.00      0.00\n",
       "25%     7500.00            2009-01-01 00:00:00       6.00  38332.00\n",
       "50%    15990.00            2013-01-01 00:00:00       8.00  88178.00\n",
       "75%    27990.00            2017-01-01 00:00:00     999.00 136216.00\n",
       "max    99999.00            2022-01-01 00:00:00     999.00 499232.00\n",
       "std    14354.27                            NaN     490.22  63435.67"
      ]
     },
     "execution_count": 91,
     "metadata": {},
     "output_type": "execute_result"
    }
   ],
   "source": [
    "cars.describe()"
   ]
  },
  {
   "cell_type": "code",
   "execution_count": 92,
   "id": "5d87e74f",
   "metadata": {
    "execution": {
     "iopub.execute_input": "2024-11-27T20:09:23.966810Z",
     "iopub.status.busy": "2024-11-27T20:09:23.966130Z",
     "iopub.status.idle": "2024-11-27T20:09:24.139597Z",
     "shell.execute_reply": "2024-11-27T20:09:24.138597Z"
    },
    "papermill": {
     "duration": 0.212163,
     "end_time": "2024-11-27T20:09:24.141738",
     "exception": false,
     "start_time": "2024-11-27T20:09:23.929575",
     "status": "completed"
    },
    "tags": []
   },
   "outputs": [
    {
     "data": {
      "text/plain": [
       "price           0\n",
       "year            0\n",
       "manufacturer    0\n",
       "model           0\n",
       "condition       0\n",
       "cylinders       0\n",
       "fuel            0\n",
       "odometer        0\n",
       "transmission    0\n",
       "drive           0\n",
       "size            0\n",
       "type            0\n",
       "paint_color     0\n",
       "state           0\n",
       "dtype: int64"
      ]
     },
     "execution_count": 92,
     "metadata": {},
     "output_type": "execute_result"
    }
   ],
   "source": [
    "cars.isna().sum()"
   ]
  },
  {
   "cell_type": "code",
   "execution_count": 93,
   "id": "76654cdd",
   "metadata": {
    "execution": {
     "iopub.execute_input": "2024-11-27T20:09:24.213479Z",
     "iopub.status.busy": "2024-11-27T20:09:24.212574Z",
     "iopub.status.idle": "2024-11-27T20:09:24.600975Z",
     "shell.execute_reply": "2024-11-27T20:09:24.599892Z"
    },
    "papermill": {
     "duration": 0.426343,
     "end_time": "2024-11-27T20:09:24.603020",
     "exception": false,
     "start_time": "2024-11-27T20:09:24.176677",
     "status": "completed"
    },
    "tags": []
   },
   "outputs": [
    {
     "data": {
      "text/plain": [
       "array([[<Axes: title={'center': 'price'}>]], dtype=object)"
      ]
     },
     "execution_count": 93,
     "metadata": {},
     "output_type": "execute_result"
    },
    {
     "data": {
      "image/png": "[encoded data removed]",
      "text/plain": [
       "<Figure size 1000x400 with 1 Axes>"
      ]
     },
     "metadata": {},
     "output_type": "display_data"
    }
   ],
   "source": [
    "cars.hist(column='price', grid=True, bins=80,  figsize=(10, 4))"
   ]
  },
  {
   "cell_type": "code",
   "execution_count": 94,
   "id": "1e20df74",
   "metadata": {
    "execution": {
     "iopub.execute_input": "2024-11-27T20:09:24.675976Z",
     "iopub.status.busy": "2024-11-27T20:09:24.675007Z",
     "iopub.status.idle": "2024-11-27T20:09:25.277594Z",
     "shell.execute_reply": "2024-11-27T20:09:25.276540Z"
    },
    "papermill": {
     "duration": 0.641264,
     "end_time": "2024-11-27T20:09:25.279843",
     "exception": false,
     "start_time": "2024-11-27T20:09:24.638579",
     "status": "completed"
    },
    "tags": []
   },
   "outputs": [
    {
     "data": {
      "text/plain": [
       "<Axes: xlabel='manufacturer'>"
      ]
     },
     "execution_count": 94,
     "metadata": {},
     "output_type": "execute_result"
    },
    {
     "data": {
      "image/png": "[encoded data removed]",
      "text/plain": [
       "<Figure size 1100x1100 with 1 Axes>"
      ]
     },
     "metadata": {},
     "output_type": "display_data"
    }
   ],
   "source": [
    "cars.groupby('manufacturer')['price'].median().sort_values().plot(kind='bar', figsize=(11, 11), legend='True', color='r')"
   ]
  },
  {
   "cell_type": "code",
   "execution_count": 95,
   "id": "f4eb6f45",
   "metadata": {
    "execution": {
     "iopub.execute_input": "2024-11-27T20:09:25.354901Z",
     "iopub.status.busy": "2024-11-27T20:09:25.354153Z",
     "iopub.status.idle": "2024-11-27T20:09:25.959340Z",
     "shell.execute_reply": "2024-11-27T20:09:25.958282Z"
    },
    "papermill": {
     "duration": 0.644715,
     "end_time": "2024-11-27T20:09:25.961527",
     "exception": false,
     "start_time": "2024-11-27T20:09:25.316812",
     "status": "completed"
    },
    "tags": []
   },
   "outputs": [
    {
     "data": {
      "text/plain": [
       "<Axes: ylabel='year'>"
      ]
     },
     "execution_count": 95,
     "metadata": {},
     "output_type": "execute_result"
    },
    {
     "data": {
      "image/png": "[encoded data removed]",
      "text/plain": [
       "<Figure size 1100x1100 with 1 Axes>"
      ]
     },
     "metadata": {},
     "output_type": "display_data"
    }
   ],
   "source": [
    "cars.groupby('year')['price'].median().sort_values().plot(kind='barh', figsize=(11, 11), legend='True', color='r')"
   ]
  },
  {
   "cell_type": "markdown",
   "id": "72b38c71",
   "metadata": {
    "papermill": {
     "duration": 0.039594,
     "end_time": "2024-11-27T20:09:26.041293",
     "exception": false,
     "start_time": "2024-11-27T20:09:26.001699",
     "status": "completed"
    },
    "tags": []
   },
   "source": []
  },
  {
   "cell_type": "code",
   "execution_count": 96,
   "id": "68150072",
   "metadata": {
    "execution": {
     "iopub.execute_input": "2024-11-27T20:09:26.123441Z",
     "iopub.status.busy": "2024-11-27T20:09:26.122301Z",
     "iopub.status.idle": "2024-11-27T20:09:26.677151Z",
     "shell.execute_reply": "2024-11-27T20:09:26.676147Z"
    },
    "papermill": {
     "duration": 0.598305,
     "end_time": "2024-11-27T20:09:26.679395",
     "exception": false,
     "start_time": "2024-11-27T20:09:26.081090",
     "status": "completed"
    },
    "tags": []
   },
   "outputs": [
    {
     "name": "stderr",
     "output_type": "stream",
     "text": [
      "/opt/conda/lib/python3.10/site-packages/seaborn/_oldcore.py:1119: FutureWarning: use_inf_as_na option is deprecated and will be removed in a future version. Convert inf values to NaN before operating instead.\n",
      "  with pd.option_context('mode.use_inf_as_na', True):\n"
     ]
    },
    {
     "data": {
      "text/plain": [
       "<Axes: xlabel='Count', ylabel='price'>"
      ]
     },
     "execution_count": 96,
     "metadata": {},
     "output_type": "execute_result"
    },
    {
     "data": {
      "image/png": "[encoded data removed]",
      "text/plain": [
       "<Figure size 640x480 with 1 Axes>"
      ]
     },
     "metadata": {},
     "output_type": "display_data"
    }
   ],
   "source": [
    "sns.histplot(y='price', data=cars, color='red')"
   ]
  },
  {
   "cell_type": "code",
   "execution_count": 97,
   "id": "1e154a75",
   "metadata": {
    "execution": {
     "iopub.execute_input": "2024-11-27T20:09:26.761246Z",
     "iopub.status.busy": "2024-11-27T20:09:26.760319Z",
     "iopub.status.idle": "2024-11-27T20:12:01.274806Z",
     "shell.execute_reply": "2024-11-27T20:12:01.273686Z"
    },
    "papermill": {
     "duration": 154.599463,
     "end_time": "2024-11-27T20:12:01.318967",
     "exception": false,
     "start_time": "2024-11-27T20:09:26.719504",
     "status": "completed"
    },
    "tags": []
   },
   "outputs": [
    {
     "name": "stderr",
     "output_type": "stream",
     "text": [
      "/opt/conda/lib/python3.10/site-packages/seaborn/_oldcore.py:1119: FutureWarning: use_inf_as_na option is deprecated and will be removed in a future version. Convert inf values to NaN before operating instead.\n",
      "  with pd.option_context('mode.use_inf_as_na', True):\n",
      "/opt/conda/lib/python3.10/site-packages/seaborn/_oldcore.py:1075: FutureWarning: When grouping with a length-1 list-like, you will need to pass a length-1 tuple to get_group in a future version of pandas. Pass `(name,)` instead of `name` to silence this warning.\n",
      "  data_subset = grouped_data.get_group(pd_key)\n",
      "/opt/conda/lib/python3.10/site-packages/seaborn/_oldcore.py:1075: FutureWarning: When grouping with a length-1 list-like, you will need to pass a length-1 tuple to get_group in a future version of pandas. Pass `(name,)` instead of `name` to silence this warning.\n",
      "  data_subset = grouped_data.get_group(pd_key)\n",
      "/opt/conda/lib/python3.10/site-packages/seaborn/_oldcore.py:1119: FutureWarning: use_inf_as_na option is deprecated and will be removed in a future version. Convert inf values to NaN before operating instead.\n",
      "  with pd.option_context('mode.use_inf_as_na', True):\n",
      "/opt/conda/lib/python3.10/site-packages/seaborn/_oldcore.py:1075: FutureWarning: When grouping with a length-1 list-like, you will need to pass a length-1 tuple to get_group in a future version of pandas. Pass `(name,)` instead of `name` to silence this warning.\n",
      "  data_subset = grouped_data.get_group(pd_key)\n"
     ]
    },
    {
     "data": {
      "text/plain": [
       "<seaborn.axisgrid.PairGrid at 0x7b8cdc09d720>"
      ]
     },
     "execution_count": 97,
     "metadata": {},
     "output_type": "execute_result"
    },
    {
     "data": {
      "image/png": "[encoded data removed]",
      "text/plain": [
       "<Figure size 593.875x500 with 6 Axes>"
      ]
     },
     "metadata": {},
     "output_type": "display_data"
    }
   ],
   "source": [
    "sns.pairplot(cars, hue=\"price\", palette=\"coolwarm\")\n"
   ]
  }
 ],
 "metadata": {
  "kaggle": {
   "accelerator": "none",
   "dataSources": [
    {
     "datasetId": 62920,
     "sourceId": 2201762,
     "sourceType": "datasetVersion"
    }
   ],
   "dockerImageVersionId": 30786,
   "isGpuEnabled": false,
   "isInternetEnabled": true,
   "language": "python",
   "sourceType": "notebook"
  },
  "kernelspec": {
   "display_name": "Python 3",
   "language": "python",
   "name": "python3"
  },
  "language_info": {
   "codemirror_mode": {
    "name": "ipython",
    "version": 3
   },
   "file_extension": ".py",
   "mimetype": "text/x-python",
   "name": "python",
   "nbconvert_exporter": "python",
   "pygments_lexer": "ipython3",
   "version": "3.10.14"
  },
  "papermill": {
   "default_parameters": {},
   "duration": 225.65726,
   "end_time": "2024-11-27T20:12:05.061338",
   "environment_variables": {},
   "exception": null,
   "input_path": "__notebook__.ipynb",
   "output_path": "__notebook__.ipynb",
   "parameters": {},
   "start_time": "2024-11-27T20:08:19.404078",
   "version": "2.6.0"
  }
 },
 "nbformat": 4,
 "nbformat_minor": 5
}
