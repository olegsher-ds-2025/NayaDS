{
 "cells": [
  {
   "cell_type": "code",
   "execution_count": 1,
   "id": "2ae77743",
   "metadata": {
    "_cell_guid": "571b16cd-ca6b-4fa8-abae-572a0e5eecd5",
    "_uuid": "d2244227-fa19-453d-9e8c-2ff7ed7029fd",
    "collapsed": false,
    "execution": {
     "iopub.execute_input": "2024-12-04T13:37:03.223488Z",
     "iopub.status.busy": "2024-12-04T13:37:03.223003Z",
     "iopub.status.idle": "2024-12-04T13:37:04.088506Z",
     "shell.execute_reply": "2024-12-04T13:37:04.087396Z"
    },
    "jupyter": {
     "outputs_hidden": false
    },
    "papermill": {
     "duration": 0.884286,
     "end_time": "2024-12-04T13:37:04.090794",
     "exception": false,
     "start_time": "2024-12-04T13:37:03.206508",
     "status": "completed"
    },
    "tags": []
   },
   "outputs": [
    {
     "name": "stdout",
     "output_type": "stream",
     "text": [
      "/kaggle/input/naya-project-cars-cleaned/cars_cleaned.csv\n"
     ]
    }
   ],
   "source": [
    "# This Python 3 environment comes with many helpful analytics libraries installed\n",
    "# It is defined by the kaggle/python Docker image: https://github.com/kaggle/docker-python\n",
    "# For example, here's several helpful packages to load\n",
    "\n",
    "import numpy as np # linear algebra\n",
    "import pandas as pd # data processing, CSV file I/O (e.g. pd.read_csv)\n",
    "\n",
    "# Input data files are available in the read-only \"../input/\" directory\n",
    "# For example, running this (by clicking run or pressing Shift+Enter) will list all files under the input directory\n",
    "\n",
    "import os\n",
    "for dirname, _, filenames in os.walk('/kaggle/input'):\n",
    "    for filename in filenames:\n",
    "        print(os.path.join(dirname, filename))\n",
    "\n",
    "# You can write up to 20GB to the current directory (/kaggle/working/) that gets preserved as output when you create a version using \"Save & Run All\" \n",
    "# You can also write temporary files to /kaggle/temp/, but they won't be saved outside of the current session"
   ]
  },
  {
   "cell_type": "markdown",
   "id": "476d7b26",
   "metadata": {
    "papermill": {
     "duration": 0.013294,
     "end_time": "2024-12-04T13:37:04.120551",
     "exception": false,
     "start_time": "2024-12-04T13:37:04.107257",
     "status": "completed"
    },
    "tags": []
   },
   "source": [
    "# Init"
   ]
  },
  {
   "cell_type": "code",
   "execution_count": 2,
   "id": "5fc2c6dc",
   "metadata": {
    "_cell_guid": "6ee9a458-30c7-4ce1-8974-d189681fc012",
    "_uuid": "6285a22f-06ea-4e17-bf7b-955556b40781",
    "collapsed": false,
    "execution": {
     "iopub.execute_input": "2024-12-04T13:37:04.150639Z",
     "iopub.status.busy": "2024-12-04T13:37:04.149548Z",
     "iopub.status.idle": "2024-12-04T13:37:05.504438Z",
     "shell.execute_reply": "2024-12-04T13:37:05.503222Z"
    },
    "jupyter": {
     "outputs_hidden": false
    },
    "papermill": {
     "duration": 1.372732,
     "end_time": "2024-12-04T13:37:05.507159",
     "exception": false,
     "start_time": "2024-12-04T13:37:04.134427",
     "status": "completed"
    },
    "tags": []
   },
   "outputs": [],
   "source": [
    "# For validation\n",
    "from sklearn.model_selection import train_test_split as split"
   ]
  },
  {
   "cell_type": "code",
   "execution_count": 3,
   "id": "8de1bd8c",
   "metadata": {
    "_cell_guid": "34e559c0-b0a2-4f87-b374-577516830029",
    "_uuid": "73f6c0b4-6657-4bd6-8f7b-a1006f6b291c",
    "collapsed": false,
    "execution": {
     "iopub.execute_input": "2024-12-04T13:37:05.538070Z",
     "iopub.status.busy": "2024-12-04T13:37:05.537429Z",
     "iopub.status.idle": "2024-12-04T13:37:05.543074Z",
     "shell.execute_reply": "2024-12-04T13:37:05.541794Z"
    },
    "jupyter": {
     "outputs_hidden": false
    },
    "papermill": {
     "duration": 0.024381,
     "end_time": "2024-12-04T13:37:05.545630",
     "exception": false,
     "start_time": "2024-12-04T13:37:05.521249",
     "status": "completed"
    },
    "tags": []
   },
   "outputs": [],
   "source": [
    "# For scoring\n",
    "from sklearn.metrics import mean_squared_log_error as msle\n",
    "# from sklearn.metrics import root_mean_squared_error as rmse"
   ]
  },
  {
   "cell_type": "code",
   "execution_count": 4,
   "id": "4eca9adc",
   "metadata": {
    "_cell_guid": "2bc13e83-4552-417f-a4af-6c8fe12834ef",
    "_uuid": "82029063-a39e-4732-9fcd-8314922eca9f",
    "collapsed": false,
    "execution": {
     "iopub.execute_input": "2024-12-04T13:37:05.575212Z",
     "iopub.status.busy": "2024-12-04T13:37:05.574746Z",
     "iopub.status.idle": "2024-12-04T13:37:05.784500Z",
     "shell.execute_reply": "2024-12-04T13:37:05.783246Z"
    },
    "jupyter": {
     "outputs_hidden": false
    },
    "papermill": {
     "duration": 0.227688,
     "end_time": "2024-12-04T13:37:05.787340",
     "exception": false,
     "start_time": "2024-12-04T13:37:05.559652",
     "status": "completed"
    },
    "tags": []
   },
   "outputs": [],
   "source": [
    "from sklearn.linear_model import LinearRegression"
   ]
  },
  {
   "cell_type": "markdown",
   "id": "afcf26c0",
   "metadata": {
    "papermill": {
     "duration": 0.013275,
     "end_time": "2024-12-04T13:37:05.814811",
     "exception": false,
     "start_time": "2024-12-04T13:37:05.801536",
     "status": "completed"
    },
    "tags": []
   },
   "source": [
    "# Importing dataset"
   ]
  },
  {
   "cell_type": "code",
   "execution_count": 5,
   "id": "f137976f",
   "metadata": {
    "_cell_guid": "1cd60eee-b3e6-4d8b-ab93-ede72319d8ef",
    "_uuid": "4500d833-324b-42bd-ad09-1d27b9fd8d40",
    "collapsed": false,
    "execution": {
     "iopub.execute_input": "2024-12-04T13:37:05.844093Z",
     "iopub.status.busy": "2024-12-04T13:37:05.843491Z",
     "iopub.status.idle": "2024-12-04T13:37:07.038035Z",
     "shell.execute_reply": "2024-12-04T13:37:07.036873Z"
    },
    "jupyter": {
     "outputs_hidden": false
    },
    "papermill": {
     "duration": 1.212373,
     "end_time": "2024-12-04T13:37:07.040740",
     "exception": false,
     "start_time": "2024-12-04T13:37:05.828367",
     "status": "completed"
    },
    "tags": []
   },
   "outputs": [],
   "source": [
    "cars_raw = pd.read_csv('/kaggle/input/naya-project-cars-cleaned/cars_cleaned.csv')"
   ]
  },
  {
   "cell_type": "markdown",
   "id": "d79bf51a",
   "metadata": {
    "papermill": {
     "duration": 0.013309,
     "end_time": "2024-12-04T13:37:07.067952",
     "exception": false,
     "start_time": "2024-12-04T13:37:07.054643",
     "status": "completed"
    },
    "tags": []
   },
   "source": [
    "## Data review"
   ]
  },
  {
   "cell_type": "code",
   "execution_count": 6,
   "id": "d4507315",
   "metadata": {
    "execution": {
     "iopub.execute_input": "2024-12-04T13:37:07.097411Z",
     "iopub.status.busy": "2024-12-04T13:37:07.097003Z",
     "iopub.status.idle": "2024-12-04T13:37:08.875463Z",
     "shell.execute_reply": "2024-12-04T13:37:08.874217Z"
    },
    "papermill": {
     "duration": 1.796345,
     "end_time": "2024-12-04T13:37:08.877872",
     "exception": false,
     "start_time": "2024-12-04T13:37:07.081527",
     "status": "completed"
    },
    "tags": []
   },
   "outputs": [
    {
     "data": {
      "text/plain": [
       "array([[<Axes: title={'center': 'id'}>,\n",
       "        <Axes: title={'center': 'price'}>],\n",
       "       [<Axes: title={'center': 'cylinders'}>,\n",
       "        <Axes: title={'center': 'odometer'}>]], dtype=object)"
      ]
     },
     "execution_count": 6,
     "metadata": {},
     "output_type": "execute_result"
    },
    {
     "data": {
      "image/png": "[encoded data removed]",
      "text/plain": [
       "<Figure size 640x480 with 4 Axes>"
      ]
     },
     "metadata": {},
     "output_type": "display_data"
    }
   ],
   "source": [
    "cars_raw.hist(bins=100, legend=True)"
   ]
  },
  {
   "cell_type": "code",
   "execution_count": 7,
   "id": "8b8fc8d0",
   "metadata": {
    "_cell_guid": "5cf0ca57-2bcd-4950-bbc5-dcac10533908",
    "_uuid": "98ecc233-9f74-4264-b2f4-9f7064f4d9a1",
    "collapsed": false,
    "execution": {
     "iopub.execute_input": "2024-12-04T13:37:08.908724Z",
     "iopub.status.busy": "2024-12-04T13:37:08.908337Z",
     "iopub.status.idle": "2024-12-04T13:37:09.115361Z",
     "shell.execute_reply": "2024-12-04T13:37:09.113806Z"
    },
    "jupyter": {
     "outputs_hidden": false
    },
    "papermill": {
     "duration": 0.224817,
     "end_time": "2024-12-04T13:37:09.117624",
     "exception": false,
     "start_time": "2024-12-04T13:37:08.892807",
     "status": "completed"
    },
    "tags": []
   },
   "outputs": [
    {
     "name": "stdout",
     "output_type": "stream",
     "text": [
      "<class 'pandas.core.frame.DataFrame'>\n",
      "RangeIndex: 347097 entries, 0 to 347096\n",
      "Data columns (total 15 columns):\n",
      " #   Column        Non-Null Count   Dtype  \n",
      "---  ------        --------------   -----  \n",
      " 0   id            347097 non-null  int64  \n",
      " 1   price         347097 non-null  int64  \n",
      " 2   year          347097 non-null  object \n",
      " 3   manufacturer  347097 non-null  object \n",
      " 4   model         347097 non-null  object \n",
      " 5   condition     347097 non-null  object \n",
      " 6   cylinders     347097 non-null  int64  \n",
      " 7   fuel          347097 non-null  object \n",
      " 8   odometer      347097 non-null  float64\n",
      " 9   transmission  347097 non-null  object \n",
      " 10  drive         347097 non-null  object \n",
      " 11  size          347097 non-null  object \n",
      " 12  type          347097 non-null  object \n",
      " 13  paint_color   347097 non-null  object \n",
      " 14  state         347097 non-null  object \n",
      "dtypes: float64(1), int64(3), object(11)\n",
      "memory usage: 39.7+ MB\n"
     ]
    }
   ],
   "source": [
    "cars_raw.info()"
   ]
  },
  {
   "cell_type": "code",
   "execution_count": 8,
   "id": "112cab55",
   "metadata": {
    "execution": {
     "iopub.execute_input": "2024-12-04T13:37:09.148279Z",
     "iopub.status.busy": "2024-12-04T13:37:09.147783Z",
     "iopub.status.idle": "2024-12-04T13:37:09.336741Z",
     "shell.execute_reply": "2024-12-04T13:37:09.335486Z"
    },
    "papermill": {
     "duration": 0.207456,
     "end_time": "2024-12-04T13:37:09.339338",
     "exception": false,
     "start_time": "2024-12-04T13:37:09.131882",
     "status": "completed"
    },
    "tags": []
   },
   "outputs": [
    {
     "data": {
      "text/plain": [
       "id              0\n",
       "price           0\n",
       "year            0\n",
       "manufacturer    0\n",
       "model           0\n",
       "condition       0\n",
       "cylinders       0\n",
       "fuel            0\n",
       "odometer        0\n",
       "transmission    0\n",
       "drive           0\n",
       "size            0\n",
       "type            0\n",
       "paint_color     0\n",
       "state           0\n",
       "dtype: int64"
      ]
     },
     "execution_count": 8,
     "metadata": {},
     "output_type": "execute_result"
    }
   ],
   "source": [
    "cars_raw.isnull().sum()"
   ]
  },
  {
   "cell_type": "code",
   "execution_count": 9,
   "id": "884c31e3",
   "metadata": {
    "_cell_guid": "70031bc1-efcf-4e43-9973-afb9bb3122b4",
    "_uuid": "9709bc34-9599-48f5-926a-591ffb7b1e4d",
    "collapsed": false,
    "execution": {
     "iopub.execute_input": "2024-12-04T13:37:09.371270Z",
     "iopub.status.busy": "2024-12-04T13:37:09.370805Z",
     "iopub.status.idle": "2024-12-04T13:37:09.444082Z",
     "shell.execute_reply": "2024-12-04T13:37:09.443031Z"
    },
    "jupyter": {
     "outputs_hidden": false
    },
    "papermill": {
     "duration": 0.092216,
     "end_time": "2024-12-04T13:37:09.446579",
     "exception": false,
     "start_time": "2024-12-04T13:37:09.354363",
     "status": "completed"
    },
    "tags": []
   },
   "outputs": [
    {
     "data": {
      "text/html": [
       "<div>\n",
       "<style scoped>\n",
       "    .dataframe tbody tr th:only-of-type {\n",
       "        vertical-align: middle;\n",
       "    }\n",
       "\n",
       "    .dataframe tbody tr th {\n",
       "        vertical-align: top;\n",
       "    }\n",
       "\n",
       "    .dataframe thead th {\n",
       "        text-align: right;\n",
       "    }\n",
       "</style>\n",
       "<table border=\"1\" class=\"dataframe\">\n",
       "  <thead>\n",
       "    <tr style=\"text-align: right;\">\n",
       "      <th></th>\n",
       "      <th>id</th>\n",
       "      <th>price</th>\n",
       "      <th>cylinders</th>\n",
       "      <th>odometer</th>\n",
       "    </tr>\n",
       "  </thead>\n",
       "  <tbody>\n",
       "    <tr>\n",
       "      <th>count</th>\n",
       "      <td>3.470970e+05</td>\n",
       "      <td>347097.000000</td>\n",
       "      <td>347097.000000</td>\n",
       "      <td>347097.000000</td>\n",
       "    </tr>\n",
       "    <tr>\n",
       "      <th>mean</th>\n",
       "      <td>7.311492e+09</td>\n",
       "      <td>19113.525585</td>\n",
       "      <td>423.626669</td>\n",
       "      <td>93177.999502</td>\n",
       "    </tr>\n",
       "    <tr>\n",
       "      <th>std</th>\n",
       "      <td>4.380328e+06</td>\n",
       "      <td>14354.268064</td>\n",
       "      <td>490.223910</td>\n",
       "      <td>63435.665272</td>\n",
       "    </tr>\n",
       "    <tr>\n",
       "      <th>min</th>\n",
       "      <td>7.301583e+09</td>\n",
       "      <td>2.000000</td>\n",
       "      <td>3.000000</td>\n",
       "      <td>0.000000</td>\n",
       "    </tr>\n",
       "    <tr>\n",
       "      <th>25%</th>\n",
       "      <td>7.308137e+09</td>\n",
       "      <td>7500.000000</td>\n",
       "      <td>6.000000</td>\n",
       "      <td>38332.000000</td>\n",
       "    </tr>\n",
       "    <tr>\n",
       "      <th>50%</th>\n",
       "      <td>7.312634e+09</td>\n",
       "      <td>15990.000000</td>\n",
       "      <td>8.000000</td>\n",
       "      <td>88178.000000</td>\n",
       "    </tr>\n",
       "    <tr>\n",
       "      <th>75%</th>\n",
       "      <td>7.315245e+09</td>\n",
       "      <td>27990.000000</td>\n",
       "      <td>999.000000</td>\n",
       "      <td>136216.000000</td>\n",
       "    </tr>\n",
       "    <tr>\n",
       "      <th>max</th>\n",
       "      <td>7.317101e+09</td>\n",
       "      <td>99999.000000</td>\n",
       "      <td>999.000000</td>\n",
       "      <td>499232.000000</td>\n",
       "    </tr>\n",
       "  </tbody>\n",
       "</table>\n",
       "</div>"
      ],
      "text/plain": [
       "                 id          price      cylinders       odometer\n",
       "count  3.470970e+05  347097.000000  347097.000000  347097.000000\n",
       "mean   7.311492e+09   19113.525585     423.626669   93177.999502\n",
       "std    4.380328e+06   14354.268064     490.223910   63435.665272\n",
       "min    7.301583e+09       2.000000       3.000000       0.000000\n",
       "25%    7.308137e+09    7500.000000       6.000000   38332.000000\n",
       "50%    7.312634e+09   15990.000000       8.000000   88178.000000\n",
       "75%    7.315245e+09   27990.000000     999.000000  136216.000000\n",
       "max    7.317101e+09   99999.000000     999.000000  499232.000000"
      ]
     },
     "execution_count": 9,
     "metadata": {},
     "output_type": "execute_result"
    }
   ],
   "source": [
    "cars_raw.describe()"
   ]
  },
  {
   "cell_type": "code",
   "execution_count": 10,
   "id": "59294550",
   "metadata": {
    "_cell_guid": "4152610a-bd28-4287-9cc0-a57791f23959",
    "_uuid": "3538ae92-65bb-4d8e-aa52-0e63fa4b663a",
    "collapsed": false,
    "execution": {
     "iopub.execute_input": "2024-12-04T13:37:09.477931Z",
     "iopub.status.busy": "2024-12-04T13:37:09.477554Z",
     "iopub.status.idle": "2024-12-04T13:37:10.149930Z",
     "shell.execute_reply": "2024-12-04T13:37:10.148341Z"
    },
    "jupyter": {
     "outputs_hidden": false
    },
    "papermill": {
     "duration": 0.691016,
     "end_time": "2024-12-04T13:37:10.152459",
     "exception": false,
     "start_time": "2024-12-04T13:37:09.461443",
     "status": "completed"
    },
    "tags": []
   },
   "outputs": [
    {
     "data": {
      "text/plain": [
       "id          price  year        manufacturer  model                  condition  cylinders  fuel    odometer  transmission  drive  size       type    paint_color  state\n",
       "7301583321  18997  2013-01-01  dodge         durango                excellent  999        gas     96475.0   automatic     4wd    other      SUV     black        ny       1\n",
       "7314592555  5990   2010-01-01  dodge         avenger                excellent  4          gas     147835.0  automatic     fwd    other      sedan   other        fl       1\n",
       "7314592595  10999  2014-01-01  subaru        forester 2.5i premium  other      4          gas     135980.0  manual        4wd    other      wagon   blue         ca       1\n",
       "7314592581  8494   2004-01-01  ford          ranger                 other      999        gas     156969.0  other         4wd    other      pickup  black        co       1\n",
       "7314592580  34995  2015-01-01  lexus         ls 460                 like new   8          gas     63306.0   automatic     4wd    full-size  sedan   black        or       1\n",
       "                                                                                                                                                                         ..\n",
       "7310054814  29000  2016-01-01  ford          f-150                  good       8          gas     188000.0  automatic     4wd    full-size  truck   white        ok       1\n",
       "7310054683  13995  2004-01-01  gmc           sierra 1500            other      999        gas     163992.0  automatic     other  other      other   other        ca       1\n",
       "7310054643  7995   2010-01-01  toyota        corolla s              good       4          gas     113000.0  automatic     rwd    full-size  sedan   grey         ca       1\n",
       "7310054632  21995  2019-01-01  toyota        prius                  other      999        hybrid  31229.0   automatic     other  other      other   silver       ca       1\n",
       "7317101084  8975   2007-01-01  ford          f250 superduty 4wd xl  excellent  8          gas     140098.0  automatic     4wd    full-size  truck   white        wi       1\n",
       "Name: count, Length: 347097, dtype: int64"
      ]
     },
     "execution_count": 10,
     "metadata": {},
     "output_type": "execute_result"
    }
   ],
   "source": [
    "cars_raw.value_counts()"
   ]
  },
  {
   "cell_type": "code",
   "execution_count": 11,
   "id": "352bc23e",
   "metadata": {
    "_cell_guid": "edd15578-9d70-42ad-a6ea-93b1b5c936be",
    "_uuid": "35e61258-5507-4307-89c7-d0256e61c852",
    "collapsed": false,
    "execution": {
     "iopub.execute_input": "2024-12-04T13:37:10.185119Z",
     "iopub.status.busy": "2024-12-04T13:37:10.184670Z",
     "iopub.status.idle": "2024-12-04T13:37:10.201938Z",
     "shell.execute_reply": "2024-12-04T13:37:10.200695Z"
    },
    "jupyter": {
     "outputs_hidden": false
    },
    "papermill": {
     "duration": 0.035968,
     "end_time": "2024-12-04T13:37:10.203942",
     "exception": false,
     "start_time": "2024-12-04T13:37:10.167974",
     "status": "completed"
    },
    "tags": []
   },
   "outputs": [
    {
     "data": {
      "text/html": [
       "<div>\n",
       "<style scoped>\n",
       "    .dataframe tbody tr th:only-of-type {\n",
       "        vertical-align: middle;\n",
       "    }\n",
       "\n",
       "    .dataframe tbody tr th {\n",
       "        vertical-align: top;\n",
       "    }\n",
       "\n",
       "    .dataframe thead th {\n",
       "        text-align: right;\n",
       "    }\n",
       "</style>\n",
       "<table border=\"1\" class=\"dataframe\">\n",
       "  <thead>\n",
       "    <tr style=\"text-align: right;\">\n",
       "      <th></th>\n",
       "      <th>id</th>\n",
       "      <th>price</th>\n",
       "      <th>year</th>\n",
       "      <th>manufacturer</th>\n",
       "      <th>model</th>\n",
       "      <th>condition</th>\n",
       "      <th>cylinders</th>\n",
       "      <th>fuel</th>\n",
       "      <th>odometer</th>\n",
       "      <th>transmission</th>\n",
       "      <th>drive</th>\n",
       "      <th>size</th>\n",
       "      <th>type</th>\n",
       "      <th>paint_color</th>\n",
       "      <th>state</th>\n",
       "    </tr>\n",
       "  </thead>\n",
       "  <tbody>\n",
       "    <tr>\n",
       "      <th>0</th>\n",
       "      <td>7316814884</td>\n",
       "      <td>33590</td>\n",
       "      <td>2014-01-01</td>\n",
       "      <td>gmc</td>\n",
       "      <td>sierra 1500 crew cab slt</td>\n",
       "      <td>good</td>\n",
       "      <td>8</td>\n",
       "      <td>gas</td>\n",
       "      <td>57923.0</td>\n",
       "      <td>other</td>\n",
       "      <td>other</td>\n",
       "      <td>other</td>\n",
       "      <td>pickup</td>\n",
       "      <td>white</td>\n",
       "      <td>al</td>\n",
       "    </tr>\n",
       "    <tr>\n",
       "      <th>1</th>\n",
       "      <td>7316814758</td>\n",
       "      <td>22590</td>\n",
       "      <td>2010-01-01</td>\n",
       "      <td>chevrolet</td>\n",
       "      <td>silverado 1500</td>\n",
       "      <td>good</td>\n",
       "      <td>8</td>\n",
       "      <td>gas</td>\n",
       "      <td>71229.0</td>\n",
       "      <td>other</td>\n",
       "      <td>other</td>\n",
       "      <td>other</td>\n",
       "      <td>pickup</td>\n",
       "      <td>blue</td>\n",
       "      <td>al</td>\n",
       "    </tr>\n",
       "    <tr>\n",
       "      <th>2</th>\n",
       "      <td>7316814989</td>\n",
       "      <td>39590</td>\n",
       "      <td>2020-01-01</td>\n",
       "      <td>chevrolet</td>\n",
       "      <td>silverado 1500 crew</td>\n",
       "      <td>good</td>\n",
       "      <td>8</td>\n",
       "      <td>gas</td>\n",
       "      <td>19160.0</td>\n",
       "      <td>other</td>\n",
       "      <td>other</td>\n",
       "      <td>other</td>\n",
       "      <td>pickup</td>\n",
       "      <td>red</td>\n",
       "      <td>al</td>\n",
       "    </tr>\n",
       "    <tr>\n",
       "      <th>3</th>\n",
       "      <td>7316743432</td>\n",
       "      <td>30990</td>\n",
       "      <td>2017-01-01</td>\n",
       "      <td>toyota</td>\n",
       "      <td>tundra double cab sr</td>\n",
       "      <td>good</td>\n",
       "      <td>8</td>\n",
       "      <td>gas</td>\n",
       "      <td>41124.0</td>\n",
       "      <td>other</td>\n",
       "      <td>other</td>\n",
       "      <td>other</td>\n",
       "      <td>pickup</td>\n",
       "      <td>red</td>\n",
       "      <td>al</td>\n",
       "    </tr>\n",
       "    <tr>\n",
       "      <th>4</th>\n",
       "      <td>7316356412</td>\n",
       "      <td>15000</td>\n",
       "      <td>2013-01-01</td>\n",
       "      <td>ford</td>\n",
       "      <td>f-150 xlt</td>\n",
       "      <td>excellent</td>\n",
       "      <td>6</td>\n",
       "      <td>gas</td>\n",
       "      <td>128000.0</td>\n",
       "      <td>automatic</td>\n",
       "      <td>rwd</td>\n",
       "      <td>full-size</td>\n",
       "      <td>truck</td>\n",
       "      <td>black</td>\n",
       "      <td>al</td>\n",
       "    </tr>\n",
       "  </tbody>\n",
       "</table>\n",
       "</div>"
      ],
      "text/plain": [
       "           id  price        year manufacturer                     model  \\\n",
       "0  7316814884  33590  2014-01-01          gmc  sierra 1500 crew cab slt   \n",
       "1  7316814758  22590  2010-01-01    chevrolet            silverado 1500   \n",
       "2  7316814989  39590  2020-01-01    chevrolet       silverado 1500 crew   \n",
       "3  7316743432  30990  2017-01-01       toyota      tundra double cab sr   \n",
       "4  7316356412  15000  2013-01-01         ford                 f-150 xlt   \n",
       "\n",
       "   condition  cylinders fuel  odometer transmission  drive       size    type  \\\n",
       "0       good          8  gas   57923.0        other  other      other  pickup   \n",
       "1       good          8  gas   71229.0        other  other      other  pickup   \n",
       "2       good          8  gas   19160.0        other  other      other  pickup   \n",
       "3       good          8  gas   41124.0        other  other      other  pickup   \n",
       "4  excellent          6  gas  128000.0    automatic    rwd  full-size   truck   \n",
       "\n",
       "  paint_color state  \n",
       "0       white    al  \n",
       "1        blue    al  \n",
       "2         red    al  \n",
       "3         red    al  \n",
       "4       black    al  "
      ]
     },
     "execution_count": 11,
     "metadata": {},
     "output_type": "execute_result"
    }
   ],
   "source": [
    "cars_raw.head()"
   ]
  },
  {
   "cell_type": "markdown",
   "id": "6d0fd4da",
   "metadata": {
    "papermill": {
     "duration": 0.01446,
     "end_time": "2024-12-04T13:37:10.233457",
     "exception": false,
     "start_time": "2024-12-04T13:37:10.218997",
     "status": "completed"
    },
    "tags": []
   },
   "source": [
    "# Data manipulations"
   ]
  },
  {
   "cell_type": "markdown",
   "id": "504e34f2",
   "metadata": {
    "_cell_guid": "261b1e0b-d170-4c8f-81ac-39421fae7546",
    "_uuid": "01a85a8b-825f-4851-bb6d-77640294da1a",
    "collapsed": false,
    "jupyter": {
     "outputs_hidden": false
    },
    "papermill": {
     "duration": 0.014535,
     "end_time": "2024-12-04T13:37:10.262614",
     "exception": false,
     "start_time": "2024-12-04T13:37:10.248079",
     "status": "completed"
    },
    "tags": []
   },
   "source": [
    "## temporary moving out cylinders column"
   ]
  },
  {
   "cell_type": "code",
   "execution_count": 12,
   "id": "38c60b33",
   "metadata": {
    "_cell_guid": "c4f69441-3d81-48bf-8d18-f3f8a76e96ac",
    "_uuid": "74033141-0821-4c01-88f9-a68a0fac1c0b",
    "collapsed": false,
    "execution": {
     "iopub.execute_input": "2024-12-04T13:37:10.293749Z",
     "iopub.status.busy": "2024-12-04T13:37:10.293315Z",
     "iopub.status.idle": "2024-12-04T13:37:10.298298Z",
     "shell.execute_reply": "2024-12-04T13:37:10.297089Z"
    },
    "jupyter": {
     "outputs_hidden": false
    },
    "papermill": {
     "duration": 0.023385,
     "end_time": "2024-12-04T13:37:10.300557",
     "exception": false,
     "start_time": "2024-12-04T13:37:10.277172",
     "status": "completed"
    },
    "tags": []
   },
   "outputs": [],
   "source": [
    "# cars = cars_raw.drop('cylinders', axis=1)"
   ]
  },
  {
   "cell_type": "markdown",
   "id": "876d0b65",
   "metadata": {
    "papermill": {
     "duration": 0.014864,
     "end_time": "2024-12-04T13:37:10.331246",
     "exception": false,
     "start_time": "2024-12-04T13:37:10.316382",
     "status": "completed"
    },
    "tags": []
   },
   "source": [
    "## Converting Year column to int"
   ]
  },
  {
   "cell_type": "code",
   "execution_count": 13,
   "id": "6e0cee05",
   "metadata": {
    "_cell_guid": "6369a498-d6ce-48ea-9630-22584aadaa82",
    "_uuid": "4124cc55-9d5e-4d8c-8f70-b60b476fb1ac",
    "collapsed": false,
    "execution": {
     "iopub.execute_input": "2024-12-04T13:37:10.364191Z",
     "iopub.status.busy": "2024-12-04T13:37:10.363176Z",
     "iopub.status.idle": "2024-12-04T13:37:10.488576Z",
     "shell.execute_reply": "2024-12-04T13:37:10.487545Z"
    },
    "jupyter": {
     "outputs_hidden": false
    },
    "papermill": {
     "duration": 0.144739,
     "end_time": "2024-12-04T13:37:10.491256",
     "exception": false,
     "start_time": "2024-12-04T13:37:10.346517",
     "status": "completed"
    },
    "tags": []
   },
   "outputs": [],
   "source": [
    "cars_raw['year'] = cars_raw['year'].str.replace('-01-01','')"
   ]
  },
  {
   "cell_type": "code",
   "execution_count": 14,
   "id": "957f048c",
   "metadata": {
    "_cell_guid": "47a004c6-80e6-4cc6-b3b0-d9c17fa745de",
    "_uuid": "1b9f2eb6-c629-4bb5-88db-2a43ed06c81d",
    "collapsed": false,
    "execution": {
     "iopub.execute_input": "2024-12-04T13:37:10.524304Z",
     "iopub.status.busy": "2024-12-04T13:37:10.523854Z",
     "iopub.status.idle": "2024-12-04T13:37:10.571669Z",
     "shell.execute_reply": "2024-12-04T13:37:10.570518Z"
    },
    "jupyter": {
     "outputs_hidden": false
    },
    "papermill": {
     "duration": 0.067289,
     "end_time": "2024-12-04T13:37:10.574257",
     "exception": false,
     "start_time": "2024-12-04T13:37:10.506968",
     "status": "completed"
    },
    "tags": []
   },
   "outputs": [],
   "source": [
    "cars_raw['year'] = cars_raw['year'].astype('int')"
   ]
  },
  {
   "cell_type": "code",
   "execution_count": 15,
   "id": "ab3a7645",
   "metadata": {
    "execution": {
     "iopub.execute_input": "2024-12-04T13:37:10.606401Z",
     "iopub.status.busy": "2024-12-04T13:37:10.605929Z",
     "iopub.status.idle": "2024-12-04T13:37:10.615223Z",
     "shell.execute_reply": "2024-12-04T13:37:10.614163Z"
    },
    "papermill": {
     "duration": 0.027854,
     "end_time": "2024-12-04T13:37:10.617289",
     "exception": false,
     "start_time": "2024-12-04T13:37:10.589435",
     "status": "completed"
    },
    "tags": []
   },
   "outputs": [
    {
     "data": {
      "text/plain": [
       "0         2014\n",
       "1         2010\n",
       "2         2020\n",
       "3         2017\n",
       "4         2013\n",
       "          ... \n",
       "347092    2019\n",
       "347093    2020\n",
       "347094    2020\n",
       "347095    2018\n",
       "347096    2019\n",
       "Name: year, Length: 347097, dtype: int64"
      ]
     },
     "execution_count": 15,
     "metadata": {},
     "output_type": "execute_result"
    }
   ],
   "source": [
    "cars_raw['year']"
   ]
  },
  {
   "cell_type": "markdown",
   "id": "0922373d",
   "metadata": {
    "_cell_guid": "6a851ea8-5ec8-4005-ad4f-a190e90f349e",
    "_uuid": "bf8f9049-1616-4e7c-9c85-dfbce9121665",
    "collapsed": false,
    "jupyter": {
     "outputs_hidden": false
    },
    "papermill": {
     "duration": 0.015023,
     "end_time": "2024-12-04T13:37:10.648327",
     "exception": false,
     "start_time": "2024-12-04T13:37:10.633304",
     "status": "completed"
    },
    "tags": []
   },
   "source": [
    "## dropping columns exclude: year, manufacturer, condition, fuel, odometer, state -> price"
   ]
  },
  {
   "cell_type": "code",
   "execution_count": 16,
   "id": "b641db50",
   "metadata": {
    "_cell_guid": "de0e59ca-5bcb-4261-b966-6d0493c1a720",
    "_uuid": "b2e836ab-398f-4235-9a25-4a19aa69dd81",
    "collapsed": false,
    "execution": {
     "iopub.execute_input": "2024-12-04T13:37:10.680971Z",
     "iopub.status.busy": "2024-12-04T13:37:10.679954Z",
     "iopub.status.idle": "2024-12-04T13:37:10.703475Z",
     "shell.execute_reply": "2024-12-04T13:37:10.702288Z"
    },
    "jupyter": {
     "outputs_hidden": false
    },
    "papermill": {
     "duration": 0.042827,
     "end_time": "2024-12-04T13:37:10.706047",
     "exception": false,
     "start_time": "2024-12-04T13:37:10.663220",
     "status": "completed"
    },
    "tags": []
   },
   "outputs": [],
   "source": [
    "cars_m1 = cars_raw.drop([ 'cylinders', 'model','transmission', 'drive', 'size', 'type', 'paint_color'], axis=1, errors=False)"
   ]
  },
  {
   "cell_type": "code",
   "execution_count": 17,
   "id": "36841f63",
   "metadata": {
    "_cell_guid": "1465699e-176b-420a-a1c5-0a2e941f9d29",
    "_uuid": "58cfac54-9175-4a20-bb7f-69532409cbab",
    "collapsed": false,
    "execution": {
     "iopub.execute_input": "2024-12-04T13:37:10.738819Z",
     "iopub.status.busy": "2024-12-04T13:37:10.738385Z",
     "iopub.status.idle": "2024-12-04T13:37:10.754219Z",
     "shell.execute_reply": "2024-12-04T13:37:10.753100Z"
    },
    "jupyter": {
     "outputs_hidden": false
    },
    "papermill": {
     "duration": 0.034783,
     "end_time": "2024-12-04T13:37:10.756363",
     "exception": false,
     "start_time": "2024-12-04T13:37:10.721580",
     "status": "completed"
    },
    "tags": []
   },
   "outputs": [
    {
     "data": {
      "text/html": [
       "<div>\n",
       "<style scoped>\n",
       "    .dataframe tbody tr th:only-of-type {\n",
       "        vertical-align: middle;\n",
       "    }\n",
       "\n",
       "    .dataframe tbody tr th {\n",
       "        vertical-align: top;\n",
       "    }\n",
       "\n",
       "    .dataframe thead th {\n",
       "        text-align: right;\n",
       "    }\n",
       "</style>\n",
       "<table border=\"1\" class=\"dataframe\">\n",
       "  <thead>\n",
       "    <tr style=\"text-align: right;\">\n",
       "      <th></th>\n",
       "      <th>id</th>\n",
       "      <th>price</th>\n",
       "      <th>year</th>\n",
       "      <th>manufacturer</th>\n",
       "      <th>condition</th>\n",
       "      <th>fuel</th>\n",
       "      <th>odometer</th>\n",
       "      <th>state</th>\n",
       "    </tr>\n",
       "  </thead>\n",
       "  <tbody>\n",
       "    <tr>\n",
       "      <th>0</th>\n",
       "      <td>7316814884</td>\n",
       "      <td>33590</td>\n",
       "      <td>2014</td>\n",
       "      <td>gmc</td>\n",
       "      <td>good</td>\n",
       "      <td>gas</td>\n",
       "      <td>57923.0</td>\n",
       "      <td>al</td>\n",
       "    </tr>\n",
       "    <tr>\n",
       "      <th>1</th>\n",
       "      <td>7316814758</td>\n",
       "      <td>22590</td>\n",
       "      <td>2010</td>\n",
       "      <td>chevrolet</td>\n",
       "      <td>good</td>\n",
       "      <td>gas</td>\n",
       "      <td>71229.0</td>\n",
       "      <td>al</td>\n",
       "    </tr>\n",
       "    <tr>\n",
       "      <th>2</th>\n",
       "      <td>7316814989</td>\n",
       "      <td>39590</td>\n",
       "      <td>2020</td>\n",
       "      <td>chevrolet</td>\n",
       "      <td>good</td>\n",
       "      <td>gas</td>\n",
       "      <td>19160.0</td>\n",
       "      <td>al</td>\n",
       "    </tr>\n",
       "    <tr>\n",
       "      <th>3</th>\n",
       "      <td>7316743432</td>\n",
       "      <td>30990</td>\n",
       "      <td>2017</td>\n",
       "      <td>toyota</td>\n",
       "      <td>good</td>\n",
       "      <td>gas</td>\n",
       "      <td>41124.0</td>\n",
       "      <td>al</td>\n",
       "    </tr>\n",
       "    <tr>\n",
       "      <th>4</th>\n",
       "      <td>7316356412</td>\n",
       "      <td>15000</td>\n",
       "      <td>2013</td>\n",
       "      <td>ford</td>\n",
       "      <td>excellent</td>\n",
       "      <td>gas</td>\n",
       "      <td>128000.0</td>\n",
       "      <td>al</td>\n",
       "    </tr>\n",
       "    <tr>\n",
       "      <th>...</th>\n",
       "      <td>...</td>\n",
       "      <td>...</td>\n",
       "      <td>...</td>\n",
       "      <td>...</td>\n",
       "      <td>...</td>\n",
       "      <td>...</td>\n",
       "      <td>...</td>\n",
       "      <td>...</td>\n",
       "    </tr>\n",
       "    <tr>\n",
       "      <th>347092</th>\n",
       "      <td>7301591192</td>\n",
       "      <td>23590</td>\n",
       "      <td>2019</td>\n",
       "      <td>nissan</td>\n",
       "      <td>good</td>\n",
       "      <td>gas</td>\n",
       "      <td>32226.0</td>\n",
       "      <td>wy</td>\n",
       "    </tr>\n",
       "    <tr>\n",
       "      <th>347093</th>\n",
       "      <td>7301591187</td>\n",
       "      <td>30590</td>\n",
       "      <td>2020</td>\n",
       "      <td>volvo</td>\n",
       "      <td>good</td>\n",
       "      <td>gas</td>\n",
       "      <td>12029.0</td>\n",
       "      <td>wy</td>\n",
       "    </tr>\n",
       "    <tr>\n",
       "      <th>347094</th>\n",
       "      <td>7301591147</td>\n",
       "      <td>34990</td>\n",
       "      <td>2020</td>\n",
       "      <td>cadillac</td>\n",
       "      <td>good</td>\n",
       "      <td>diesel</td>\n",
       "      <td>4174.0</td>\n",
       "      <td>wy</td>\n",
       "    </tr>\n",
       "    <tr>\n",
       "      <th>347095</th>\n",
       "      <td>7301591140</td>\n",
       "      <td>28990</td>\n",
       "      <td>2018</td>\n",
       "      <td>lexus</td>\n",
       "      <td>good</td>\n",
       "      <td>gas</td>\n",
       "      <td>30112.0</td>\n",
       "      <td>wy</td>\n",
       "    </tr>\n",
       "    <tr>\n",
       "      <th>347096</th>\n",
       "      <td>7301591129</td>\n",
       "      <td>30590</td>\n",
       "      <td>2019</td>\n",
       "      <td>bmw</td>\n",
       "      <td>good</td>\n",
       "      <td>gas</td>\n",
       "      <td>22716.0</td>\n",
       "      <td>wy</td>\n",
       "    </tr>\n",
       "  </tbody>\n",
       "</table>\n",
       "<p>347097 rows × 8 columns</p>\n",
       "</div>"
      ],
      "text/plain": [
       "                id  price  year manufacturer  condition    fuel  odometer  \\\n",
       "0       7316814884  33590  2014          gmc       good     gas   57923.0   \n",
       "1       7316814758  22590  2010    chevrolet       good     gas   71229.0   \n",
       "2       7316814989  39590  2020    chevrolet       good     gas   19160.0   \n",
       "3       7316743432  30990  2017       toyota       good     gas   41124.0   \n",
       "4       7316356412  15000  2013         ford  excellent     gas  128000.0   \n",
       "...            ...    ...   ...          ...        ...     ...       ...   \n",
       "347092  7301591192  23590  2019       nissan       good     gas   32226.0   \n",
       "347093  7301591187  30590  2020        volvo       good     gas   12029.0   \n",
       "347094  7301591147  34990  2020     cadillac       good  diesel    4174.0   \n",
       "347095  7301591140  28990  2018        lexus       good     gas   30112.0   \n",
       "347096  7301591129  30590  2019          bmw       good     gas   22716.0   \n",
       "\n",
       "       state  \n",
       "0         al  \n",
       "1         al  \n",
       "2         al  \n",
       "3         al  \n",
       "4         al  \n",
       "...      ...  \n",
       "347092    wy  \n",
       "347093    wy  \n",
       "347094    wy  \n",
       "347095    wy  \n",
       "347096    wy  \n",
       "\n",
       "[347097 rows x 8 columns]"
      ]
     },
     "execution_count": 17,
     "metadata": {},
     "output_type": "execute_result"
    }
   ],
   "source": [
    "cars_m1"
   ]
  },
  {
   "cell_type": "markdown",
   "id": "062d596a",
   "metadata": {
    "papermill": {
     "duration": 0.015315,
     "end_time": "2024-12-04T13:37:10.787212",
     "exception": false,
     "start_time": "2024-12-04T13:37:10.771897",
     "status": "completed"
    },
    "tags": []
   },
   "source": [
    "## Set id as index"
   ]
  },
  {
   "cell_type": "code",
   "execution_count": 18,
   "id": "76c0aaa6",
   "metadata": {
    "_cell_guid": "492cc4da-9e94-4ffa-8c1c-15a4fd1b8b06",
    "_uuid": "71d727e3-d71c-4311-99c3-cba2430049e8",
    "collapsed": false,
    "execution": {
     "iopub.execute_input": "2024-12-04T13:37:10.819783Z",
     "iopub.status.busy": "2024-12-04T13:37:10.819352Z",
     "iopub.status.idle": "2024-12-04T13:37:10.852883Z",
     "shell.execute_reply": "2024-12-04T13:37:10.851708Z"
    },
    "jupyter": {
     "outputs_hidden": false
    },
    "papermill": {
     "duration": 0.052938,
     "end_time": "2024-12-04T13:37:10.855483",
     "exception": false,
     "start_time": "2024-12-04T13:37:10.802545",
     "status": "completed"
    },
    "tags": []
   },
   "outputs": [
    {
     "data": {
      "text/html": [
       "<div>\n",
       "<style scoped>\n",
       "    .dataframe tbody tr th:only-of-type {\n",
       "        vertical-align: middle;\n",
       "    }\n",
       "\n",
       "    .dataframe tbody tr th {\n",
       "        vertical-align: top;\n",
       "    }\n",
       "\n",
       "    .dataframe thead th {\n",
       "        text-align: right;\n",
       "    }\n",
       "</style>\n",
       "<table border=\"1\" class=\"dataframe\">\n",
       "  <thead>\n",
       "    <tr style=\"text-align: right;\">\n",
       "      <th></th>\n",
       "      <th>price</th>\n",
       "      <th>year</th>\n",
       "      <th>manufacturer</th>\n",
       "      <th>condition</th>\n",
       "      <th>fuel</th>\n",
       "      <th>odometer</th>\n",
       "      <th>state</th>\n",
       "    </tr>\n",
       "    <tr>\n",
       "      <th>id</th>\n",
       "      <th></th>\n",
       "      <th></th>\n",
       "      <th></th>\n",
       "      <th></th>\n",
       "      <th></th>\n",
       "      <th></th>\n",
       "      <th></th>\n",
       "    </tr>\n",
       "  </thead>\n",
       "  <tbody>\n",
       "    <tr>\n",
       "      <th>7316814884</th>\n",
       "      <td>33590</td>\n",
       "      <td>2014</td>\n",
       "      <td>gmc</td>\n",
       "      <td>good</td>\n",
       "      <td>gas</td>\n",
       "      <td>57923.0</td>\n",
       "      <td>al</td>\n",
       "    </tr>\n",
       "    <tr>\n",
       "      <th>7316814758</th>\n",
       "      <td>22590</td>\n",
       "      <td>2010</td>\n",
       "      <td>chevrolet</td>\n",
       "      <td>good</td>\n",
       "      <td>gas</td>\n",
       "      <td>71229.0</td>\n",
       "      <td>al</td>\n",
       "    </tr>\n",
       "    <tr>\n",
       "      <th>7316814989</th>\n",
       "      <td>39590</td>\n",
       "      <td>2020</td>\n",
       "      <td>chevrolet</td>\n",
       "      <td>good</td>\n",
       "      <td>gas</td>\n",
       "      <td>19160.0</td>\n",
       "      <td>al</td>\n",
       "    </tr>\n",
       "    <tr>\n",
       "      <th>7316743432</th>\n",
       "      <td>30990</td>\n",
       "      <td>2017</td>\n",
       "      <td>toyota</td>\n",
       "      <td>good</td>\n",
       "      <td>gas</td>\n",
       "      <td>41124.0</td>\n",
       "      <td>al</td>\n",
       "    </tr>\n",
       "    <tr>\n",
       "      <th>7316356412</th>\n",
       "      <td>15000</td>\n",
       "      <td>2013</td>\n",
       "      <td>ford</td>\n",
       "      <td>excellent</td>\n",
       "      <td>gas</td>\n",
       "      <td>128000.0</td>\n",
       "      <td>al</td>\n",
       "    </tr>\n",
       "    <tr>\n",
       "      <th>...</th>\n",
       "      <td>...</td>\n",
       "      <td>...</td>\n",
       "      <td>...</td>\n",
       "      <td>...</td>\n",
       "      <td>...</td>\n",
       "      <td>...</td>\n",
       "      <td>...</td>\n",
       "    </tr>\n",
       "    <tr>\n",
       "      <th>7301591192</th>\n",
       "      <td>23590</td>\n",
       "      <td>2019</td>\n",
       "      <td>nissan</td>\n",
       "      <td>good</td>\n",
       "      <td>gas</td>\n",
       "      <td>32226.0</td>\n",
       "      <td>wy</td>\n",
       "    </tr>\n",
       "    <tr>\n",
       "      <th>7301591187</th>\n",
       "      <td>30590</td>\n",
       "      <td>2020</td>\n",
       "      <td>volvo</td>\n",
       "      <td>good</td>\n",
       "      <td>gas</td>\n",
       "      <td>12029.0</td>\n",
       "      <td>wy</td>\n",
       "    </tr>\n",
       "    <tr>\n",
       "      <th>7301591147</th>\n",
       "      <td>34990</td>\n",
       "      <td>2020</td>\n",
       "      <td>cadillac</td>\n",
       "      <td>good</td>\n",
       "      <td>diesel</td>\n",
       "      <td>4174.0</td>\n",
       "      <td>wy</td>\n",
       "    </tr>\n",
       "    <tr>\n",
       "      <th>7301591140</th>\n",
       "      <td>28990</td>\n",
       "      <td>2018</td>\n",
       "      <td>lexus</td>\n",
       "      <td>good</td>\n",
       "      <td>gas</td>\n",
       "      <td>30112.0</td>\n",
       "      <td>wy</td>\n",
       "    </tr>\n",
       "    <tr>\n",
       "      <th>7301591129</th>\n",
       "      <td>30590</td>\n",
       "      <td>2019</td>\n",
       "      <td>bmw</td>\n",
       "      <td>good</td>\n",
       "      <td>gas</td>\n",
       "      <td>22716.0</td>\n",
       "      <td>wy</td>\n",
       "    </tr>\n",
       "  </tbody>\n",
       "</table>\n",
       "<p>347097 rows × 7 columns</p>\n",
       "</div>"
      ],
      "text/plain": [
       "            price  year manufacturer  condition    fuel  odometer state\n",
       "id                                                                     \n",
       "7316814884  33590  2014          gmc       good     gas   57923.0    al\n",
       "7316814758  22590  2010    chevrolet       good     gas   71229.0    al\n",
       "7316814989  39590  2020    chevrolet       good     gas   19160.0    al\n",
       "7316743432  30990  2017       toyota       good     gas   41124.0    al\n",
       "7316356412  15000  2013         ford  excellent     gas  128000.0    al\n",
       "...           ...   ...          ...        ...     ...       ...   ...\n",
       "7301591192  23590  2019       nissan       good     gas   32226.0    wy\n",
       "7301591187  30590  2020        volvo       good     gas   12029.0    wy\n",
       "7301591147  34990  2020     cadillac       good  diesel    4174.0    wy\n",
       "7301591140  28990  2018        lexus       good     gas   30112.0    wy\n",
       "7301591129  30590  2019          bmw       good     gas   22716.0    wy\n",
       "\n",
       "[347097 rows x 7 columns]"
      ]
     },
     "execution_count": 18,
     "metadata": {},
     "output_type": "execute_result"
    }
   ],
   "source": [
    "cars_m1.set_index('id')"
   ]
  },
  {
   "cell_type": "code",
   "execution_count": 19,
   "id": "8d7fc7fb",
   "metadata": {
    "_cell_guid": "c0f6dd73-7044-4ea1-a937-73664e4e4f54",
    "_uuid": "3850cad3-1f87-4ddb-ae96-ceb67dc19f21",
    "collapsed": false,
    "execution": {
     "iopub.execute_input": "2024-12-04T13:37:10.889751Z",
     "iopub.status.busy": "2024-12-04T13:37:10.889303Z",
     "iopub.status.idle": "2024-12-04T13:37:10.962840Z",
     "shell.execute_reply": "2024-12-04T13:37:10.961576Z"
    },
    "jupyter": {
     "outputs_hidden": false
    },
    "papermill": {
     "duration": 0.093894,
     "end_time": "2024-12-04T13:37:10.965522",
     "exception": false,
     "start_time": "2024-12-04T13:37:10.871628",
     "status": "completed"
    },
    "tags": []
   },
   "outputs": [
    {
     "data": {
      "text/html": [
       "<div>\n",
       "<style scoped>\n",
       "    .dataframe tbody tr th:only-of-type {\n",
       "        vertical-align: middle;\n",
       "    }\n",
       "\n",
       "    .dataframe tbody tr th {\n",
       "        vertical-align: top;\n",
       "    }\n",
       "\n",
       "    .dataframe thead th {\n",
       "        text-align: right;\n",
       "    }\n",
       "</style>\n",
       "<table border=\"1\" class=\"dataframe\">\n",
       "  <thead>\n",
       "    <tr style=\"text-align: right;\">\n",
       "      <th></th>\n",
       "      <th>id</th>\n",
       "      <th>price</th>\n",
       "      <th>year</th>\n",
       "      <th>odometer</th>\n",
       "    </tr>\n",
       "  </thead>\n",
       "  <tbody>\n",
       "    <tr>\n",
       "      <th>count</th>\n",
       "      <td>3.470970e+05</td>\n",
       "      <td>347097.000000</td>\n",
       "      <td>347097.000000</td>\n",
       "      <td>347097.000000</td>\n",
       "    </tr>\n",
       "    <tr>\n",
       "      <th>mean</th>\n",
       "      <td>7.311492e+09</td>\n",
       "      <td>19113.525585</td>\n",
       "      <td>2012.155377</td>\n",
       "      <td>93177.999502</td>\n",
       "    </tr>\n",
       "    <tr>\n",
       "      <th>std</th>\n",
       "      <td>4.380328e+06</td>\n",
       "      <td>14354.268064</td>\n",
       "      <td>6.266525</td>\n",
       "      <td>63435.665272</td>\n",
       "    </tr>\n",
       "    <tr>\n",
       "      <th>min</th>\n",
       "      <td>7.301583e+09</td>\n",
       "      <td>2.000000</td>\n",
       "      <td>1981.000000</td>\n",
       "      <td>0.000000</td>\n",
       "    </tr>\n",
       "    <tr>\n",
       "      <th>25%</th>\n",
       "      <td>7.308137e+09</td>\n",
       "      <td>7500.000000</td>\n",
       "      <td>2009.000000</td>\n",
       "      <td>38332.000000</td>\n",
       "    </tr>\n",
       "    <tr>\n",
       "      <th>50%</th>\n",
       "      <td>7.312634e+09</td>\n",
       "      <td>15990.000000</td>\n",
       "      <td>2013.000000</td>\n",
       "      <td>88178.000000</td>\n",
       "    </tr>\n",
       "    <tr>\n",
       "      <th>75%</th>\n",
       "      <td>7.315245e+09</td>\n",
       "      <td>27990.000000</td>\n",
       "      <td>2017.000000</td>\n",
       "      <td>136216.000000</td>\n",
       "    </tr>\n",
       "    <tr>\n",
       "      <th>max</th>\n",
       "      <td>7.317101e+09</td>\n",
       "      <td>99999.000000</td>\n",
       "      <td>2022.000000</td>\n",
       "      <td>499232.000000</td>\n",
       "    </tr>\n",
       "  </tbody>\n",
       "</table>\n",
       "</div>"
      ],
      "text/plain": [
       "                 id          price           year       odometer\n",
       "count  3.470970e+05  347097.000000  347097.000000  347097.000000\n",
       "mean   7.311492e+09   19113.525585    2012.155377   93177.999502\n",
       "std    4.380328e+06   14354.268064       6.266525   63435.665272\n",
       "min    7.301583e+09       2.000000    1981.000000       0.000000\n",
       "25%    7.308137e+09    7500.000000    2009.000000   38332.000000\n",
       "50%    7.312634e+09   15990.000000    2013.000000   88178.000000\n",
       "75%    7.315245e+09   27990.000000    2017.000000  136216.000000\n",
       "max    7.317101e+09   99999.000000    2022.000000  499232.000000"
      ]
     },
     "execution_count": 19,
     "metadata": {},
     "output_type": "execute_result"
    }
   ],
   "source": [
    "cars_m1.describe()"
   ]
  },
  {
   "cell_type": "code",
   "execution_count": 20,
   "id": "5e8ee3ad",
   "metadata": {
    "_cell_guid": "0e72b64b-5808-4528-818b-4274826c5f26",
    "_uuid": "71f1ffd9-afb5-4230-a4f7-a62743cbdf7a",
    "collapsed": false,
    "execution": {
     "iopub.execute_input": "2024-12-04T13:37:10.999549Z",
     "iopub.status.busy": "2024-12-04T13:37:10.999073Z",
     "iopub.status.idle": "2024-12-04T13:37:11.079524Z",
     "shell.execute_reply": "2024-12-04T13:37:11.078344Z"
    },
    "jupyter": {
     "outputs_hidden": false
    },
    "papermill": {
     "duration": 0.100368,
     "end_time": "2024-12-04T13:37:11.082090",
     "exception": false,
     "start_time": "2024-12-04T13:37:10.981722",
     "status": "completed"
    },
    "tags": []
   },
   "outputs": [
    {
     "name": "stdout",
     "output_type": "stream",
     "text": [
      "<class 'pandas.core.frame.DataFrame'>\n",
      "RangeIndex: 347097 entries, 0 to 347096\n",
      "Data columns (total 8 columns):\n",
      " #   Column        Non-Null Count   Dtype  \n",
      "---  ------        --------------   -----  \n",
      " 0   id            347097 non-null  int64  \n",
      " 1   price         347097 non-null  int64  \n",
      " 2   year          347097 non-null  int64  \n",
      " 3   manufacturer  347097 non-null  object \n",
      " 4   condition     347097 non-null  object \n",
      " 5   fuel          347097 non-null  object \n",
      " 6   odometer      347097 non-null  float64\n",
      " 7   state         347097 non-null  object \n",
      "dtypes: float64(1), int64(3), object(4)\n",
      "memory usage: 21.2+ MB\n"
     ]
    }
   ],
   "source": [
    "cars_m1.info()"
   ]
  },
  {
   "cell_type": "code",
   "execution_count": 21,
   "id": "f91cf814",
   "metadata": {
    "_cell_guid": "edb9cb84-af54-408c-8798-e98ac2445c11",
    "_uuid": "6ccd1658-a5f9-4a34-9154-92a51c96bfab",
    "collapsed": false,
    "execution": {
     "iopub.execute_input": "2024-12-04T13:37:11.117419Z",
     "iopub.status.busy": "2024-12-04T13:37:11.116461Z",
     "iopub.status.idle": "2024-12-04T13:37:11.707626Z",
     "shell.execute_reply": "2024-12-04T13:37:11.706285Z"
    },
    "jupyter": {
     "outputs_hidden": false
    },
    "papermill": {
     "duration": 0.610891,
     "end_time": "2024-12-04T13:37:11.709737",
     "exception": false,
     "start_time": "2024-12-04T13:37:11.098846",
     "status": "completed"
    },
    "tags": []
   },
   "outputs": [
    {
     "data": {
      "text/plain": [
       "array([[<Axes: title={'center': 'price'}>,\n",
       "        <Axes: title={'center': 'odometer'}>],\n",
       "       [<Axes: title={'center': 'year'}>, <Axes: >]], dtype=object)"
      ]
     },
     "execution_count": 21,
     "metadata": {},
     "output_type": "execute_result"
    },
    {
     "data": {
      "image/png": "[encoded data removed]",
      "text/plain": [
       "<Figure size 640x480 with 4 Axes>"
      ]
     },
     "metadata": {},
     "output_type": "display_data"
    }
   ],
   "source": [
    "cars_m1.hist(bins=20, column=['price', 'odometer', 'year'])"
   ]
  },
  {
   "cell_type": "markdown",
   "id": "c49d63c2",
   "metadata": {
    "_cell_guid": "a4783fd9-c8b8-4ba6-b9db-92d98a5c096f",
    "_uuid": "327f61df-101f-4cdf-9320-5992d3801caa",
    "collapsed": false,
    "jupyter": {
     "outputs_hidden": false
    },
    "papermill": {
     "duration": 0.01591,
     "end_time": "2024-12-04T13:37:11.742085",
     "exception": false,
     "start_time": "2024-12-04T13:37:11.726175",
     "status": "completed"
    },
    "tags": []
   },
   "source": [
    "## transfer non numeric columns to numeric"
   ]
  },
  {
   "cell_type": "markdown",
   "id": "a495a68c",
   "metadata": {
    "_cell_guid": "092b1e88-df30-47f3-8630-335fe7618f30",
    "_uuid": "5cc16f1b-8c6f-4981-814c-e8b3ff13e2e2",
    "collapsed": false,
    "jupyter": {
     "outputs_hidden": false
    },
    "papermill": {
     "duration": 0.016113,
     "end_time": "2024-12-04T13:37:11.774257",
     "exception": false,
     "start_time": "2024-12-04T13:37:11.758144",
     "status": "completed"
    },
    "tags": []
   },
   "source": [
    "### transfer condition , set unknown(other) to 0"
   ]
  },
  {
   "cell_type": "code",
   "execution_count": 22,
   "id": "154d6094",
   "metadata": {
    "_cell_guid": "5817ce47-7d4b-4c7a-9d26-d4ec8fc88fbc",
    "_uuid": "0eb84f22-e37e-414b-b263-800e7a2a8857",
    "collapsed": false,
    "execution": {
     "iopub.execute_input": "2024-12-04T13:37:11.809210Z",
     "iopub.status.busy": "2024-12-04T13:37:11.808810Z",
     "iopub.status.idle": "2024-12-04T13:37:11.843635Z",
     "shell.execute_reply": "2024-12-04T13:37:11.842496Z"
    },
    "jupyter": {
     "outputs_hidden": false
    },
    "papermill": {
     "duration": 0.055254,
     "end_time": "2024-12-04T13:37:11.845789",
     "exception": false,
     "start_time": "2024-12-04T13:37:11.790535",
     "status": "completed"
    },
    "tags": []
   },
   "outputs": [
    {
     "data": {
      "text/plain": [
       "condition\n",
       "other        136840\n",
       "good         108830\n",
       "excellent     77896\n",
       "like new      17486\n",
       "fair           5013\n",
       "new             861\n",
       "salvage         171\n",
       "Name: count, dtype: int64"
      ]
     },
     "execution_count": 22,
     "metadata": {},
     "output_type": "execute_result"
    }
   ],
   "source": [
    "cars_m1.condition.value_counts()"
   ]
  },
  {
   "cell_type": "code",
   "execution_count": 23,
   "id": "82cd5bdd",
   "metadata": {
    "_cell_guid": "358e3c0d-354e-45e9-872a-e5afe05f0233",
    "_uuid": "0a3715c6-9f60-4a02-9356-1d617ac48e99",
    "collapsed": false,
    "execution": {
     "iopub.execute_input": "2024-12-04T13:37:11.880676Z",
     "iopub.status.busy": "2024-12-04T13:37:11.880226Z",
     "iopub.status.idle": "2024-12-04T13:37:11.886258Z",
     "shell.execute_reply": "2024-12-04T13:37:11.884897Z"
    },
    "jupyter": {
     "outputs_hidden": false
    },
    "papermill": {
     "duration": 0.025962,
     "end_time": "2024-12-04T13:37:11.888338",
     "exception": false,
     "start_time": "2024-12-04T13:37:11.862376",
     "status": "completed"
    },
    "tags": []
   },
   "outputs": [],
   "source": [
    "condition_order = ['other', 'salvage','fair','good','excellent', 'like new', 'new']\n",
    "condition_mapping = dict(zip(condition_order, [0, 0.2, 0.3, 0.4, 0.6, 0.8, 1]))"
   ]
  },
  {
   "cell_type": "code",
   "execution_count": 24,
   "id": "16d9d99a",
   "metadata": {
    "_cell_guid": "5782bdeb-bb9e-490c-ae23-8d23fe8e4a12",
    "_uuid": "b5e7139d-0c75-44b9-a43c-f21a91dcf7f1",
    "collapsed": false,
    "execution": {
     "iopub.execute_input": "2024-12-04T13:37:11.923481Z",
     "iopub.status.busy": "2024-12-04T13:37:11.922992Z",
     "iopub.status.idle": "2024-12-04T13:37:11.930905Z",
     "shell.execute_reply": "2024-12-04T13:37:11.929536Z"
    },
    "jupyter": {
     "outputs_hidden": false
    },
    "papermill": {
     "duration": 0.027956,
     "end_time": "2024-12-04T13:37:11.933124",
     "exception": false,
     "start_time": "2024-12-04T13:37:11.905168",
     "status": "completed"
    },
    "tags": []
   },
   "outputs": [
    {
     "data": {
      "text/plain": [
       "{'other': 0,\n",
       " 'salvage': 0.2,\n",
       " 'fair': 0.3,\n",
       " 'good': 0.4,\n",
       " 'excellent': 0.6,\n",
       " 'like new': 0.8,\n",
       " 'new': 1}"
      ]
     },
     "execution_count": 24,
     "metadata": {},
     "output_type": "execute_result"
    }
   ],
   "source": [
    "condition_mapping"
   ]
  },
  {
   "cell_type": "code",
   "execution_count": 25,
   "id": "b46ea720",
   "metadata": {
    "_cell_guid": "79e06f8b-becc-4f5d-9736-8126fdcd8993",
    "_uuid": "534a41b9-663a-407f-976a-aa9f9aff14a8",
    "collapsed": false,
    "execution": {
     "iopub.execute_input": "2024-12-04T13:37:11.969293Z",
     "iopub.status.busy": "2024-12-04T13:37:11.968880Z",
     "iopub.status.idle": "2024-12-04T13:37:11.997189Z",
     "shell.execute_reply": "2024-12-04T13:37:11.996083Z"
    },
    "jupyter": {
     "outputs_hidden": false
    },
    "papermill": {
     "duration": 0.04878,
     "end_time": "2024-12-04T13:37:11.999681",
     "exception": false,
     "start_time": "2024-12-04T13:37:11.950901",
     "status": "completed"
    },
    "tags": []
   },
   "outputs": [],
   "source": [
    "cars_m1['condition'] = cars_m1['condition'].map(condition_mapping)"
   ]
  },
  {
   "cell_type": "code",
   "execution_count": 26,
   "id": "4cd4710d",
   "metadata": {
    "_cell_guid": "9295ef75-2318-42ad-b10d-a9638141a796",
    "_uuid": "98187ffe-fce6-4cbb-875f-e5a0ff9ca2ee",
    "collapsed": false,
    "execution": {
     "iopub.execute_input": "2024-12-04T13:37:12.037769Z",
     "iopub.status.busy": "2024-12-04T13:37:12.037361Z",
     "iopub.status.idle": "2024-12-04T13:37:12.066880Z",
     "shell.execute_reply": "2024-12-04T13:37:12.065644Z"
    },
    "jupyter": {
     "outputs_hidden": false
    },
    "papermill": {
     "duration": 0.051753,
     "end_time": "2024-12-04T13:37:12.069380",
     "exception": false,
     "start_time": "2024-12-04T13:37:12.017627",
     "status": "completed"
    },
    "tags": []
   },
   "outputs": [
    {
     "data": {
      "text/html": [
       "<div>\n",
       "<style scoped>\n",
       "    .dataframe tbody tr th:only-of-type {\n",
       "        vertical-align: middle;\n",
       "    }\n",
       "\n",
       "    .dataframe tbody tr th {\n",
       "        vertical-align: top;\n",
       "    }\n",
       "\n",
       "    .dataframe thead th {\n",
       "        text-align: right;\n",
       "    }\n",
       "</style>\n",
       "<table border=\"1\" class=\"dataframe\">\n",
       "  <thead>\n",
       "    <tr style=\"text-align: right;\">\n",
       "      <th></th>\n",
       "      <th>id</th>\n",
       "      <th>price</th>\n",
       "      <th>year</th>\n",
       "      <th>manufacturer</th>\n",
       "      <th>condition</th>\n",
       "      <th>fuel</th>\n",
       "      <th>odometer</th>\n",
       "      <th>state</th>\n",
       "    </tr>\n",
       "  </thead>\n",
       "  <tbody>\n",
       "    <tr>\n",
       "      <th>272886</th>\n",
       "      <td>7315836763</td>\n",
       "      <td>21590</td>\n",
       "      <td>2020</td>\n",
       "      <td>volkswagen</td>\n",
       "      <td>0.4</td>\n",
       "      <td>gas</td>\n",
       "      <td>5678.0</td>\n",
       "      <td>pa</td>\n",
       "    </tr>\n",
       "    <tr>\n",
       "      <th>86109</th>\n",
       "      <td>7306774556</td>\n",
       "      <td>22900</td>\n",
       "      <td>2008</td>\n",
       "      <td>ford</td>\n",
       "      <td>0.0</td>\n",
       "      <td>gas</td>\n",
       "      <td>79000.0</td>\n",
       "      <td>fl</td>\n",
       "    </tr>\n",
       "    <tr>\n",
       "      <th>8870</th>\n",
       "      <td>7316698600</td>\n",
       "      <td>16900</td>\n",
       "      <td>2013</td>\n",
       "      <td>ford</td>\n",
       "      <td>0.3</td>\n",
       "      <td>gas</td>\n",
       "      <td>164000.0</td>\n",
       "      <td>az</td>\n",
       "    </tr>\n",
       "    <tr>\n",
       "      <th>245236</th>\n",
       "      <td>7314634920</td>\n",
       "      <td>14500</td>\n",
       "      <td>2012</td>\n",
       "      <td>chevrolet</td>\n",
       "      <td>0.4</td>\n",
       "      <td>gas</td>\n",
       "      <td>217917.0</td>\n",
       "      <td>oh</td>\n",
       "    </tr>\n",
       "    <tr>\n",
       "      <th>29064</th>\n",
       "      <td>7314547549</td>\n",
       "      <td>25590</td>\n",
       "      <td>2016</td>\n",
       "      <td>nissan</td>\n",
       "      <td>0.4</td>\n",
       "      <td>gas</td>\n",
       "      <td>38282.0</td>\n",
       "      <td>ca</td>\n",
       "    </tr>\n",
       "    <tr>\n",
       "      <th>266252</th>\n",
       "      <td>7308914259</td>\n",
       "      <td>14995</td>\n",
       "      <td>2016</td>\n",
       "      <td>kia</td>\n",
       "      <td>0.0</td>\n",
       "      <td>gas</td>\n",
       "      <td>109489.0</td>\n",
       "      <td>or</td>\n",
       "    </tr>\n",
       "    <tr>\n",
       "      <th>185258</th>\n",
       "      <td>7306809574</td>\n",
       "      <td>11400</td>\n",
       "      <td>2011</td>\n",
       "      <td>acura</td>\n",
       "      <td>0.6</td>\n",
       "      <td>gas</td>\n",
       "      <td>132007.0</td>\n",
       "      <td>mt</td>\n",
       "    </tr>\n",
       "    <tr>\n",
       "      <th>166134</th>\n",
       "      <td>7316291483</td>\n",
       "      <td>3800</td>\n",
       "      <td>2013</td>\n",
       "      <td>ford</td>\n",
       "      <td>0.3</td>\n",
       "      <td>gas</td>\n",
       "      <td>116401.0</td>\n",
       "      <td>mi</td>\n",
       "    </tr>\n",
       "    <tr>\n",
       "      <th>164051</th>\n",
       "      <td>7312782606</td>\n",
       "      <td>68550</td>\n",
       "      <td>2019</td>\n",
       "      <td>ford</td>\n",
       "      <td>0.0</td>\n",
       "      <td>gas</td>\n",
       "      <td>7051.0</td>\n",
       "      <td>mi</td>\n",
       "    </tr>\n",
       "    <tr>\n",
       "      <th>151683</th>\n",
       "      <td>7315296783</td>\n",
       "      <td>27990</td>\n",
       "      <td>2013</td>\n",
       "      <td>jeep</td>\n",
       "      <td>0.8</td>\n",
       "      <td>gas</td>\n",
       "      <td>72587.0</td>\n",
       "      <td>ma</td>\n",
       "    </tr>\n",
       "    <tr>\n",
       "      <th>2658</th>\n",
       "      <td>7308672636</td>\n",
       "      <td>34590</td>\n",
       "      <td>2015</td>\n",
       "      <td>gmc</td>\n",
       "      <td>0.4</td>\n",
       "      <td>gas</td>\n",
       "      <td>35423.0</td>\n",
       "      <td>al</td>\n",
       "    </tr>\n",
       "    <tr>\n",
       "      <th>252133</th>\n",
       "      <td>7314172565</td>\n",
       "      <td>56954</td>\n",
       "      <td>2020</td>\n",
       "      <td>gmc</td>\n",
       "      <td>0.0</td>\n",
       "      <td>gas</td>\n",
       "      <td>29947.0</td>\n",
       "      <td>ok</td>\n",
       "    </tr>\n",
       "    <tr>\n",
       "      <th>171183</th>\n",
       "      <td>7313334019</td>\n",
       "      <td>10995</td>\n",
       "      <td>2014</td>\n",
       "      <td>buick</td>\n",
       "      <td>0.0</td>\n",
       "      <td>gas</td>\n",
       "      <td>143687.0</td>\n",
       "      <td>mi</td>\n",
       "    </tr>\n",
       "    <tr>\n",
       "      <th>346375</th>\n",
       "      <td>7307799685</td>\n",
       "      <td>14000</td>\n",
       "      <td>2009</td>\n",
       "      <td>toyota</td>\n",
       "      <td>0.6</td>\n",
       "      <td>gas</td>\n",
       "      <td>107580.0</td>\n",
       "      <td>wi</td>\n",
       "    </tr>\n",
       "    <tr>\n",
       "      <th>172183</th>\n",
       "      <td>7312298098</td>\n",
       "      <td>17750</td>\n",
       "      <td>2013</td>\n",
       "      <td>ford</td>\n",
       "      <td>0.4</td>\n",
       "      <td>gas</td>\n",
       "      <td>133000.0</td>\n",
       "      <td>mn</td>\n",
       "    </tr>\n",
       "    <tr>\n",
       "      <th>271241</th>\n",
       "      <td>7313711771</td>\n",
       "      <td>15995</td>\n",
       "      <td>2008</td>\n",
       "      <td>cadillac</td>\n",
       "      <td>0.6</td>\n",
       "      <td>gas</td>\n",
       "      <td>161640.0</td>\n",
       "      <td>pa</td>\n",
       "    </tr>\n",
       "    <tr>\n",
       "      <th>123014</th>\n",
       "      <td>7314537852</td>\n",
       "      <td>16990</td>\n",
       "      <td>2018</td>\n",
       "      <td>chevrolet</td>\n",
       "      <td>0.4</td>\n",
       "      <td>gas</td>\n",
       "      <td>21107.0</td>\n",
       "      <td>in</td>\n",
       "    </tr>\n",
       "    <tr>\n",
       "      <th>68677</th>\n",
       "      <td>7311530474</td>\n",
       "      <td>36990</td>\n",
       "      <td>2018</td>\n",
       "      <td>jeep</td>\n",
       "      <td>0.4</td>\n",
       "      <td>gas</td>\n",
       "      <td>16114.0</td>\n",
       "      <td>ct</td>\n",
       "    </tr>\n",
       "    <tr>\n",
       "      <th>90288</th>\n",
       "      <td>7315075166</td>\n",
       "      <td>13900</td>\n",
       "      <td>2008</td>\n",
       "      <td>ford</td>\n",
       "      <td>0.0</td>\n",
       "      <td>gas</td>\n",
       "      <td>59000.0</td>\n",
       "      <td>fl</td>\n",
       "    </tr>\n",
       "    <tr>\n",
       "      <th>70457</th>\n",
       "      <td>7315775055</td>\n",
       "      <td>23995</td>\n",
       "      <td>2014</td>\n",
       "      <td>chevrolet</td>\n",
       "      <td>0.0</td>\n",
       "      <td>gas</td>\n",
       "      <td>137014.0</td>\n",
       "      <td>dc</td>\n",
       "    </tr>\n",
       "  </tbody>\n",
       "</table>\n",
       "</div>"
      ],
      "text/plain": [
       "                id  price  year manufacturer  condition fuel  odometer state\n",
       "272886  7315836763  21590  2020   volkswagen        0.4  gas    5678.0    pa\n",
       "86109   7306774556  22900  2008         ford        0.0  gas   79000.0    fl\n",
       "8870    7316698600  16900  2013         ford        0.3  gas  164000.0    az\n",
       "245236  7314634920  14500  2012    chevrolet        0.4  gas  217917.0    oh\n",
       "29064   7314547549  25590  2016       nissan        0.4  gas   38282.0    ca\n",
       "266252  7308914259  14995  2016          kia        0.0  gas  109489.0    or\n",
       "185258  7306809574  11400  2011        acura        0.6  gas  132007.0    mt\n",
       "166134  7316291483   3800  2013         ford        0.3  gas  116401.0    mi\n",
       "164051  7312782606  68550  2019         ford        0.0  gas    7051.0    mi\n",
       "151683  7315296783  27990  2013         jeep        0.8  gas   72587.0    ma\n",
       "2658    7308672636  34590  2015          gmc        0.4  gas   35423.0    al\n",
       "252133  7314172565  56954  2020          gmc        0.0  gas   29947.0    ok\n",
       "171183  7313334019  10995  2014        buick        0.0  gas  143687.0    mi\n",
       "346375  7307799685  14000  2009       toyota        0.6  gas  107580.0    wi\n",
       "172183  7312298098  17750  2013         ford        0.4  gas  133000.0    mn\n",
       "271241  7313711771  15995  2008     cadillac        0.6  gas  161640.0    pa\n",
       "123014  7314537852  16990  2018    chevrolet        0.4  gas   21107.0    in\n",
       "68677   7311530474  36990  2018         jeep        0.4  gas   16114.0    ct\n",
       "90288   7315075166  13900  2008         ford        0.0  gas   59000.0    fl\n",
       "70457   7315775055  23995  2014    chevrolet        0.0  gas  137014.0    dc"
      ]
     },
     "execution_count": 26,
     "metadata": {},
     "output_type": "execute_result"
    }
   ],
   "source": [
    "cars_m1.sample(20)"
   ]
  },
  {
   "cell_type": "code",
   "execution_count": 27,
   "id": "6dba66e1",
   "metadata": {
    "_cell_guid": "f6b86fa3-d633-4d35-90e3-0fd0b032e96d",
    "_uuid": "acde544f-8b43-405e-ae0b-cb3a75da8142",
    "collapsed": false,
    "execution": {
     "iopub.execute_input": "2024-12-04T13:37:12.106855Z",
     "iopub.status.busy": "2024-12-04T13:37:12.105712Z",
     "iopub.status.idle": "2024-12-04T13:37:12.169320Z",
     "shell.execute_reply": "2024-12-04T13:37:12.167852Z"
    },
    "jupyter": {
     "outputs_hidden": false
    },
    "papermill": {
     "duration": 0.084613,
     "end_time": "2024-12-04T13:37:12.171726",
     "exception": false,
     "start_time": "2024-12-04T13:37:12.087113",
     "status": "completed"
    },
    "tags": []
   },
   "outputs": [
    {
     "name": "stdout",
     "output_type": "stream",
     "text": [
      "<class 'pandas.core.frame.DataFrame'>\n",
      "RangeIndex: 347097 entries, 0 to 347096\n",
      "Data columns (total 8 columns):\n",
      " #   Column        Non-Null Count   Dtype  \n",
      "---  ------        --------------   -----  \n",
      " 0   id            347097 non-null  int64  \n",
      " 1   price         347097 non-null  int64  \n",
      " 2   year          347097 non-null  int64  \n",
      " 3   manufacturer  347097 non-null  object \n",
      " 4   condition     347097 non-null  float64\n",
      " 5   fuel          347097 non-null  object \n",
      " 6   odometer      347097 non-null  float64\n",
      " 7   state         347097 non-null  object \n",
      "dtypes: float64(2), int64(3), object(3)\n",
      "memory usage: 21.2+ MB\n"
     ]
    }
   ],
   "source": [
    "cars_m1.info()"
   ]
  },
  {
   "cell_type": "code",
   "execution_count": 28,
   "id": "0b1d7933",
   "metadata": {
    "_cell_guid": "0a58abcb-5a8c-4746-9733-8c6ac4ec423b",
    "_uuid": "4432fdab-17fd-442c-8947-10f72897bbf2",
    "collapsed": false,
    "execution": {
     "iopub.execute_input": "2024-12-04T13:37:12.207881Z",
     "iopub.status.busy": "2024-12-04T13:37:12.207438Z",
     "iopub.status.idle": "2024-12-04T13:37:13.016585Z",
     "shell.execute_reply": "2024-12-04T13:37:13.015124Z"
    },
    "jupyter": {
     "outputs_hidden": false
    },
    "papermill": {
     "duration": 0.829882,
     "end_time": "2024-12-04T13:37:13.018802",
     "exception": false,
     "start_time": "2024-12-04T13:37:12.188920",
     "status": "completed"
    },
    "tags": []
   },
   "outputs": [
    {
     "data": {
      "text/plain": [
       "array([[<Axes: title={'center': 'price'}>,\n",
       "        <Axes: title={'center': 'odometer'}>],\n",
       "       [<Axes: title={'center': 'year'}>,\n",
       "        <Axes: title={'center': 'condition'}>]], dtype=object)"
      ]
     },
     "execution_count": 28,
     "metadata": {},
     "output_type": "execute_result"
    },
    {
     "data": {
      "image/png": "[encoded data removed]",
      "text/plain": [
       "<Figure size 640x480 with 4 Axes>"
      ]
     },
     "metadata": {},
     "output_type": "display_data"
    }
   ],
   "source": [
    "cars_m1.hist(bins=20, column=['price', 'odometer', 'year', 'condition'])"
   ]
  },
  {
   "cell_type": "markdown",
   "id": "bb71440b",
   "metadata": {
    "_cell_guid": "5b6465b7-04b4-4f8b-adb7-08129722488d",
    "_uuid": "4908713f-15cd-4f31-99fe-0272ad709620",
    "collapsed": false,
    "jupyter": {
     "outputs_hidden": false
    },
    "papermill": {
     "duration": 0.018901,
     "end_time": "2024-12-04T13:37:13.055836",
     "exception": false,
     "start_time": "2024-12-04T13:37:13.036935",
     "status": "completed"
    },
    "tags": []
   },
   "source": [
    "### transfer fuel , set unknow(other) to 0"
   ]
  },
  {
   "cell_type": "code",
   "execution_count": 29,
   "id": "9655e60a",
   "metadata": {
    "_cell_guid": "6f3df611-2d4d-4d99-8c69-517e263bbbf8",
    "_uuid": "7544c362-9b0d-4171-a8de-6e62e57b437c",
    "collapsed": false,
    "execution": {
     "iopub.execute_input": "2024-12-04T13:37:13.094151Z",
     "iopub.status.busy": "2024-12-04T13:37:13.092893Z",
     "iopub.status.idle": "2024-12-04T13:37:13.127788Z",
     "shell.execute_reply": "2024-12-04T13:37:13.126699Z"
    },
    "jupyter": {
     "outputs_hidden": false
    },
    "papermill": {
     "duration": 0.056481,
     "end_time": "2024-12-04T13:37:13.130088",
     "exception": false,
     "start_time": "2024-12-04T13:37:13.073607",
     "status": "completed"
    },
    "tags": []
   },
   "outputs": [
    {
     "data": {
      "text/plain": [
       "fuel\n",
       "gas         291379\n",
       "other        28038\n",
       "diesel       21625\n",
       "hybrid        4567\n",
       "electric      1488\n",
       "Name: count, dtype: int64"
      ]
     },
     "execution_count": 29,
     "metadata": {},
     "output_type": "execute_result"
    }
   ],
   "source": [
    "cars_m1.fuel.value_counts()"
   ]
  },
  {
   "cell_type": "code",
   "execution_count": 30,
   "id": "d301260d",
   "metadata": {
    "_cell_guid": "66f7ac89-fe99-4c1b-9d9d-79f6c32d5179",
    "_uuid": "b3dcb276-11d6-4672-8dee-2620cd0b3e39",
    "collapsed": false,
    "execution": {
     "iopub.execute_input": "2024-12-04T13:37:13.168786Z",
     "iopub.status.busy": "2024-12-04T13:37:13.168397Z",
     "iopub.status.idle": "2024-12-04T13:37:13.173999Z",
     "shell.execute_reply": "2024-12-04T13:37:13.172739Z"
    },
    "jupyter": {
     "outputs_hidden": false
    },
    "papermill": {
     "duration": 0.027613,
     "end_time": "2024-12-04T13:37:13.176285",
     "exception": false,
     "start_time": "2024-12-04T13:37:13.148672",
     "status": "completed"
    },
    "tags": []
   },
   "outputs": [],
   "source": [
    "fuel_order = ['other','electric', 'hybrid', 'diesel', 'gas']\n",
    "fuel_mapping = dict(zip(fuel_order, [0, 0.2, 0.4, 0.8, 1]))"
   ]
  },
  {
   "cell_type": "code",
   "execution_count": 31,
   "id": "b539c441",
   "metadata": {
    "_cell_guid": "12c9827d-61a3-4edd-ac15-934b6717ee3f",
    "_uuid": "871d85ce-54d7-4939-b264-929a8b7aa861",
    "collapsed": false,
    "execution": {
     "iopub.execute_input": "2024-12-04T13:37:13.213958Z",
     "iopub.status.busy": "2024-12-04T13:37:13.213581Z",
     "iopub.status.idle": "2024-12-04T13:37:13.220427Z",
     "shell.execute_reply": "2024-12-04T13:37:13.219370Z"
    },
    "jupyter": {
     "outputs_hidden": false
    },
    "papermill": {
     "duration": 0.028014,
     "end_time": "2024-12-04T13:37:13.222463",
     "exception": false,
     "start_time": "2024-12-04T13:37:13.194449",
     "status": "completed"
    },
    "tags": []
   },
   "outputs": [
    {
     "data": {
      "text/plain": [
       "{'other': 0, 'electric': 0.2, 'hybrid': 0.4, 'diesel': 0.8, 'gas': 1}"
      ]
     },
     "execution_count": 31,
     "metadata": {},
     "output_type": "execute_result"
    }
   ],
   "source": [
    "fuel_mapping"
   ]
  },
  {
   "cell_type": "code",
   "execution_count": 32,
   "id": "e02feae5",
   "metadata": {
    "_cell_guid": "9fd2d216-9cf7-4130-81e0-da71efc99f75",
    "_uuid": "6a3be792-b38a-466d-b26b-5532c7913763",
    "collapsed": false,
    "execution": {
     "iopub.execute_input": "2024-12-04T13:37:13.338431Z",
     "iopub.status.busy": "2024-12-04T13:37:13.337978Z",
     "iopub.status.idle": "2024-12-04T13:37:13.370877Z",
     "shell.execute_reply": "2024-12-04T13:37:13.369792Z"
    },
    "jupyter": {
     "outputs_hidden": false
    },
    "papermill": {
     "duration": 0.132971,
     "end_time": "2024-12-04T13:37:13.373645",
     "exception": false,
     "start_time": "2024-12-04T13:37:13.240674",
     "status": "completed"
    },
    "tags": []
   },
   "outputs": [],
   "source": [
    "cars_m1['fuel'] = cars_m1['fuel'].map(fuel_mapping)"
   ]
  },
  {
   "cell_type": "code",
   "execution_count": 33,
   "id": "92002f41",
   "metadata": {
    "_cell_guid": "def6e5c7-e47d-4b9a-9613-7025b360c5ab",
    "_uuid": "0184c86c-3a95-4c20-9b46-bc0457601582",
    "collapsed": false,
    "execution": {
     "iopub.execute_input": "2024-12-04T13:37:13.412544Z",
     "iopub.status.busy": "2024-12-04T13:37:13.411862Z",
     "iopub.status.idle": "2024-12-04T13:37:14.419004Z",
     "shell.execute_reply": "2024-12-04T13:37:14.417801Z"
    },
    "jupyter": {
     "outputs_hidden": false
    },
    "papermill": {
     "duration": 1.028924,
     "end_time": "2024-12-04T13:37:14.421344",
     "exception": false,
     "start_time": "2024-12-04T13:37:13.392420",
     "status": "completed"
    },
    "tags": []
   },
   "outputs": [
    {
     "data": {
      "text/plain": [
       "array([[<Axes: title={'center': 'price'}>,\n",
       "        <Axes: title={'center': 'odometer'}>],\n",
       "       [<Axes: title={'center': 'year'}>,\n",
       "        <Axes: title={'center': 'condition'}>],\n",
       "       [<Axes: title={'center': 'fuel'}>, <Axes: >]], dtype=object)"
      ]
     },
     "execution_count": 33,
     "metadata": {},
     "output_type": "execute_result"
    },
    {
     "data": {
      "image/png": "[encoded data removed]",
      "text/plain": [
       "<Figure size 640x480 with 6 Axes>"
      ]
     },
     "metadata": {},
     "output_type": "display_data"
    }
   ],
   "source": [
    "cars_m1.hist(bins=20, column=['price', 'odometer', 'year', 'condition', 'fuel'])"
   ]
  },
  {
   "cell_type": "code",
   "execution_count": 34,
   "id": "fd325213",
   "metadata": {
    "_cell_guid": "eb5d27bc-0336-4220-9fbb-2c91641e09f4",
    "_uuid": "c00d600d-f90f-4d0e-abd1-4d27eba3cf0d",
    "collapsed": false,
    "execution": {
     "iopub.execute_input": "2024-12-04T13:37:14.464954Z",
     "iopub.status.busy": "2024-12-04T13:37:14.464043Z",
     "iopub.status.idle": "2024-12-04T13:37:14.511398Z",
     "shell.execute_reply": "2024-12-04T13:37:14.510300Z"
    },
    "jupyter": {
     "outputs_hidden": false
    },
    "papermill": {
     "duration": 0.07224,
     "end_time": "2024-12-04T13:37:14.513814",
     "exception": false,
     "start_time": "2024-12-04T13:37:14.441574",
     "status": "completed"
    },
    "tags": []
   },
   "outputs": [
    {
     "name": "stdout",
     "output_type": "stream",
     "text": [
      "<class 'pandas.core.frame.DataFrame'>\n",
      "RangeIndex: 347097 entries, 0 to 347096\n",
      "Data columns (total 8 columns):\n",
      " #   Column        Non-Null Count   Dtype  \n",
      "---  ------        --------------   -----  \n",
      " 0   id            347097 non-null  int64  \n",
      " 1   price         347097 non-null  int64  \n",
      " 2   year          347097 non-null  int64  \n",
      " 3   manufacturer  347097 non-null  object \n",
      " 4   condition     347097 non-null  float64\n",
      " 5   fuel          347097 non-null  float64\n",
      " 6   odometer      347097 non-null  float64\n",
      " 7   state         347097 non-null  object \n",
      "dtypes: float64(3), int64(3), object(2)\n",
      "memory usage: 21.2+ MB\n"
     ]
    }
   ],
   "source": [
    "cars_m1.info()"
   ]
  },
  {
   "cell_type": "code",
   "execution_count": 35,
   "id": "0a5d7269",
   "metadata": {
    "_cell_guid": "40ef02f2-8e0b-4d40-ba43-7f6340dffe3e",
    "_uuid": "3775faa5-cfb0-4949-aff3-88bef024905f",
    "collapsed": false,
    "execution": {
     "iopub.execute_input": "2024-12-04T13:37:14.555235Z",
     "iopub.status.busy": "2024-12-04T13:37:14.554858Z",
     "iopub.status.idle": "2024-12-04T13:37:14.582164Z",
     "shell.execute_reply": "2024-12-04T13:37:14.580952Z"
    },
    "jupyter": {
     "outputs_hidden": false
    },
    "papermill": {
     "duration": 0.05045,
     "end_time": "2024-12-04T13:37:14.584610",
     "exception": false,
     "start_time": "2024-12-04T13:37:14.534160",
     "status": "completed"
    },
    "tags": []
   },
   "outputs": [
    {
     "data": {
      "text/html": [
       "<div>\n",
       "<style scoped>\n",
       "    .dataframe tbody tr th:only-of-type {\n",
       "        vertical-align: middle;\n",
       "    }\n",
       "\n",
       "    .dataframe tbody tr th {\n",
       "        vertical-align: top;\n",
       "    }\n",
       "\n",
       "    .dataframe thead th {\n",
       "        text-align: right;\n",
       "    }\n",
       "</style>\n",
       "<table border=\"1\" class=\"dataframe\">\n",
       "  <thead>\n",
       "    <tr style=\"text-align: right;\">\n",
       "      <th></th>\n",
       "      <th>id</th>\n",
       "      <th>price</th>\n",
       "      <th>year</th>\n",
       "      <th>manufacturer</th>\n",
       "      <th>condition</th>\n",
       "      <th>fuel</th>\n",
       "      <th>odometer</th>\n",
       "      <th>state</th>\n",
       "    </tr>\n",
       "  </thead>\n",
       "  <tbody>\n",
       "    <tr>\n",
       "      <th>66411</th>\n",
       "      <td>7313834196</td>\n",
       "      <td>12950</td>\n",
       "      <td>2016</td>\n",
       "      <td>dodge</td>\n",
       "      <td>0.6</td>\n",
       "      <td>1.0</td>\n",
       "      <td>74611.0</td>\n",
       "      <td>ct</td>\n",
       "    </tr>\n",
       "    <tr>\n",
       "      <th>307670</th>\n",
       "      <td>7309854474</td>\n",
       "      <td>3500</td>\n",
       "      <td>2013</td>\n",
       "      <td>dodge</td>\n",
       "      <td>0.0</td>\n",
       "      <td>1.0</td>\n",
       "      <td>106255.0</td>\n",
       "      <td>tx</td>\n",
       "    </tr>\n",
       "    <tr>\n",
       "      <th>223913</th>\n",
       "      <td>7316901460</td>\n",
       "      <td>399</td>\n",
       "      <td>2018</td>\n",
       "      <td>dodge</td>\n",
       "      <td>0.0</td>\n",
       "      <td>1.0</td>\n",
       "      <td>31861.0</td>\n",
       "      <td>ny</td>\n",
       "    </tr>\n",
       "    <tr>\n",
       "      <th>135481</th>\n",
       "      <td>7303590641</td>\n",
       "      <td>23990</td>\n",
       "      <td>2015</td>\n",
       "      <td>cadillac</td>\n",
       "      <td>0.4</td>\n",
       "      <td>0.0</td>\n",
       "      <td>57304.0</td>\n",
       "      <td>ks</td>\n",
       "    </tr>\n",
       "    <tr>\n",
       "      <th>123804</th>\n",
       "      <td>7308400907</td>\n",
       "      <td>3750</td>\n",
       "      <td>2007</td>\n",
       "      <td>kia</td>\n",
       "      <td>0.6</td>\n",
       "      <td>1.0</td>\n",
       "      <td>87000.0</td>\n",
       "      <td>in</td>\n",
       "    </tr>\n",
       "    <tr>\n",
       "      <th>84487</th>\n",
       "      <td>7313950212</td>\n",
       "      <td>2099</td>\n",
       "      <td>2001</td>\n",
       "      <td>chevrolet</td>\n",
       "      <td>0.3</td>\n",
       "      <td>1.0</td>\n",
       "      <td>309754.0</td>\n",
       "      <td>fl</td>\n",
       "    </tr>\n",
       "    <tr>\n",
       "      <th>284667</th>\n",
       "      <td>7303674087</td>\n",
       "      <td>45999</td>\n",
       "      <td>2020</td>\n",
       "      <td>gmc</td>\n",
       "      <td>0.0</td>\n",
       "      <td>0.0</td>\n",
       "      <td>28580.0</td>\n",
       "      <td>sc</td>\n",
       "    </tr>\n",
       "    <tr>\n",
       "      <th>111071</th>\n",
       "      <td>7314374960</td>\n",
       "      <td>800</td>\n",
       "      <td>1999</td>\n",
       "      <td>volkswagen</td>\n",
       "      <td>0.3</td>\n",
       "      <td>1.0</td>\n",
       "      <td>182894.0</td>\n",
       "      <td>id</td>\n",
       "    </tr>\n",
       "    <tr>\n",
       "      <th>118594</th>\n",
       "      <td>7306069489</td>\n",
       "      <td>3995</td>\n",
       "      <td>2008</td>\n",
       "      <td>ford</td>\n",
       "      <td>0.0</td>\n",
       "      <td>1.0</td>\n",
       "      <td>99999.0</td>\n",
       "      <td>il</td>\n",
       "    </tr>\n",
       "    <tr>\n",
       "      <th>212840</th>\n",
       "      <td>7311305413</td>\n",
       "      <td>23990</td>\n",
       "      <td>2017</td>\n",
       "      <td>toyota</td>\n",
       "      <td>0.4</td>\n",
       "      <td>1.0</td>\n",
       "      <td>56692.0</td>\n",
       "      <td>nm</td>\n",
       "    </tr>\n",
       "    <tr>\n",
       "      <th>39162</th>\n",
       "      <td>7312996887</td>\n",
       "      <td>12450</td>\n",
       "      <td>2002</td>\n",
       "      <td>chevrolet</td>\n",
       "      <td>0.6</td>\n",
       "      <td>1.0</td>\n",
       "      <td>138511.0</td>\n",
       "      <td>ca</td>\n",
       "    </tr>\n",
       "    <tr>\n",
       "      <th>298017</th>\n",
       "      <td>7310802429</td>\n",
       "      <td>26995</td>\n",
       "      <td>2018</td>\n",
       "      <td>kia</td>\n",
       "      <td>0.8</td>\n",
       "      <td>1.0</td>\n",
       "      <td>33349.0</td>\n",
       "      <td>tx</td>\n",
       "    </tr>\n",
       "    <tr>\n",
       "      <th>194890</th>\n",
       "      <td>7311585392</td>\n",
       "      <td>10995</td>\n",
       "      <td>2015</td>\n",
       "      <td>nissan</td>\n",
       "      <td>0.0</td>\n",
       "      <td>1.0</td>\n",
       "      <td>99879.0</td>\n",
       "      <td>nc</td>\n",
       "    </tr>\n",
       "    <tr>\n",
       "      <th>331488</th>\n",
       "      <td>7316802602</td>\n",
       "      <td>66971</td>\n",
       "      <td>2019</td>\n",
       "      <td>chevrolet</td>\n",
       "      <td>0.4</td>\n",
       "      <td>0.8</td>\n",
       "      <td>12832.0</td>\n",
       "      <td>wa</td>\n",
       "    </tr>\n",
       "    <tr>\n",
       "      <th>87385</th>\n",
       "      <td>7311620867</td>\n",
       "      <td>11488</td>\n",
       "      <td>2008</td>\n",
       "      <td>bmw</td>\n",
       "      <td>0.0</td>\n",
       "      <td>1.0</td>\n",
       "      <td>89082.0</td>\n",
       "      <td>fl</td>\n",
       "    </tr>\n",
       "    <tr>\n",
       "      <th>118903</th>\n",
       "      <td>7316920803</td>\n",
       "      <td>23834</td>\n",
       "      <td>2013</td>\n",
       "      <td>chevrolet</td>\n",
       "      <td>0.0</td>\n",
       "      <td>1.0</td>\n",
       "      <td>120338.0</td>\n",
       "      <td>il</td>\n",
       "    </tr>\n",
       "    <tr>\n",
       "      <th>22267</th>\n",
       "      <td>7310369925</td>\n",
       "      <td>59500</td>\n",
       "      <td>2016</td>\n",
       "      <td>ford</td>\n",
       "      <td>0.8</td>\n",
       "      <td>0.8</td>\n",
       "      <td>54583.0</td>\n",
       "      <td>ca</td>\n",
       "    </tr>\n",
       "    <tr>\n",
       "      <th>161498</th>\n",
       "      <td>7313840258</td>\n",
       "      <td>22995</td>\n",
       "      <td>2012</td>\n",
       "      <td>porsche</td>\n",
       "      <td>0.6</td>\n",
       "      <td>1.0</td>\n",
       "      <td>96153.0</td>\n",
       "      <td>mi</td>\n",
       "    </tr>\n",
       "    <tr>\n",
       "      <th>255367</th>\n",
       "      <td>7310110893</td>\n",
       "      <td>63000</td>\n",
       "      <td>2019</td>\n",
       "      <td>chevrolet</td>\n",
       "      <td>0.8</td>\n",
       "      <td>0.8</td>\n",
       "      <td>51000.0</td>\n",
       "      <td>or</td>\n",
       "    </tr>\n",
       "    <tr>\n",
       "      <th>21432</th>\n",
       "      <td>7313556498</td>\n",
       "      <td>7000</td>\n",
       "      <td>2001</td>\n",
       "      <td>bmw</td>\n",
       "      <td>0.6</td>\n",
       "      <td>1.0</td>\n",
       "      <td>164000.0</td>\n",
       "      <td>ca</td>\n",
       "    </tr>\n",
       "  </tbody>\n",
       "</table>\n",
       "</div>"
      ],
      "text/plain": [
       "                id  price  year manufacturer  condition  fuel  odometer state\n",
       "66411   7313834196  12950  2016        dodge        0.6   1.0   74611.0    ct\n",
       "307670  7309854474   3500  2013        dodge        0.0   1.0  106255.0    tx\n",
       "223913  7316901460    399  2018        dodge        0.0   1.0   31861.0    ny\n",
       "135481  7303590641  23990  2015     cadillac        0.4   0.0   57304.0    ks\n",
       "123804  7308400907   3750  2007          kia        0.6   1.0   87000.0    in\n",
       "84487   7313950212   2099  2001    chevrolet        0.3   1.0  309754.0    fl\n",
       "284667  7303674087  45999  2020          gmc        0.0   0.0   28580.0    sc\n",
       "111071  7314374960    800  1999   volkswagen        0.3   1.0  182894.0    id\n",
       "118594  7306069489   3995  2008         ford        0.0   1.0   99999.0    il\n",
       "212840  7311305413  23990  2017       toyota        0.4   1.0   56692.0    nm\n",
       "39162   7312996887  12450  2002    chevrolet        0.6   1.0  138511.0    ca\n",
       "298017  7310802429  26995  2018          kia        0.8   1.0   33349.0    tx\n",
       "194890  7311585392  10995  2015       nissan        0.0   1.0   99879.0    nc\n",
       "331488  7316802602  66971  2019    chevrolet        0.4   0.8   12832.0    wa\n",
       "87385   7311620867  11488  2008          bmw        0.0   1.0   89082.0    fl\n",
       "118903  7316920803  23834  2013    chevrolet        0.0   1.0  120338.0    il\n",
       "22267   7310369925  59500  2016         ford        0.8   0.8   54583.0    ca\n",
       "161498  7313840258  22995  2012      porsche        0.6   1.0   96153.0    mi\n",
       "255367  7310110893  63000  2019    chevrolet        0.8   0.8   51000.0    or\n",
       "21432   7313556498   7000  2001          bmw        0.6   1.0  164000.0    ca"
      ]
     },
     "execution_count": 35,
     "metadata": {},
     "output_type": "execute_result"
    }
   ],
   "source": [
    "cars_m1.sample(20)"
   ]
  },
  {
   "cell_type": "code",
   "execution_count": 36,
   "id": "190e3703",
   "metadata": {
    "_cell_guid": "d06e90cf-3d31-4bd4-8dd7-0e0bf178350a",
    "_uuid": "f54c35c3-e62f-4818-afa8-d862169061a7",
    "collapsed": false,
    "execution": {
     "iopub.execute_input": "2024-12-04T13:37:14.625955Z",
     "iopub.status.busy": "2024-12-04T13:37:14.625566Z",
     "iopub.status.idle": "2024-12-04T13:37:14.654278Z",
     "shell.execute_reply": "2024-12-04T13:37:14.653187Z"
    },
    "jupyter": {
     "outputs_hidden": false
    },
    "papermill": {
     "duration": 0.052538,
     "end_time": "2024-12-04T13:37:14.657061",
     "exception": false,
     "start_time": "2024-12-04T13:37:14.604523",
     "status": "completed"
    },
    "tags": []
   },
   "outputs": [],
   "source": [
    "cars_m1 = cars_m1.set_index('id')"
   ]
  },
  {
   "cell_type": "code",
   "execution_count": 37,
   "id": "11099423",
   "metadata": {
    "_cell_guid": "712cf068-b6f2-4eac-b089-72c74c2aebe3",
    "_uuid": "f7666e14-5e6b-41cd-a683-19ff8ad445b3",
    "collapsed": false,
    "execution": {
     "iopub.execute_input": "2024-12-04T13:37:14.699898Z",
     "iopub.status.busy": "2024-12-04T13:37:14.699510Z",
     "iopub.status.idle": "2024-12-04T13:37:14.726748Z",
     "shell.execute_reply": "2024-12-04T13:37:14.725416Z"
    },
    "jupyter": {
     "outputs_hidden": false
    },
    "papermill": {
     "duration": 0.051628,
     "end_time": "2024-12-04T13:37:14.729112",
     "exception": false,
     "start_time": "2024-12-04T13:37:14.677484",
     "status": "completed"
    },
    "tags": []
   },
   "outputs": [
    {
     "data": {
      "text/html": [
       "<div>\n",
       "<style scoped>\n",
       "    .dataframe tbody tr th:only-of-type {\n",
       "        vertical-align: middle;\n",
       "    }\n",
       "\n",
       "    .dataframe tbody tr th {\n",
       "        vertical-align: top;\n",
       "    }\n",
       "\n",
       "    .dataframe thead th {\n",
       "        text-align: right;\n",
       "    }\n",
       "</style>\n",
       "<table border=\"1\" class=\"dataframe\">\n",
       "  <thead>\n",
       "    <tr style=\"text-align: right;\">\n",
       "      <th></th>\n",
       "      <th>price</th>\n",
       "      <th>year</th>\n",
       "      <th>manufacturer</th>\n",
       "      <th>condition</th>\n",
       "      <th>fuel</th>\n",
       "      <th>odometer</th>\n",
       "      <th>state</th>\n",
       "    </tr>\n",
       "    <tr>\n",
       "      <th>id</th>\n",
       "      <th></th>\n",
       "      <th></th>\n",
       "      <th></th>\n",
       "      <th></th>\n",
       "      <th></th>\n",
       "      <th></th>\n",
       "      <th></th>\n",
       "    </tr>\n",
       "  </thead>\n",
       "  <tbody>\n",
       "    <tr>\n",
       "      <th>7316505379</th>\n",
       "      <td>24990</td>\n",
       "      <td>2015</td>\n",
       "      <td>ford</td>\n",
       "      <td>0.8</td>\n",
       "      <td>1.0</td>\n",
       "      <td>1000.0</td>\n",
       "      <td>tx</td>\n",
       "    </tr>\n",
       "    <tr>\n",
       "      <th>7307940755</th>\n",
       "      <td>5000</td>\n",
       "      <td>2006</td>\n",
       "      <td>honda</td>\n",
       "      <td>0.4</td>\n",
       "      <td>1.0</td>\n",
       "      <td>177000.0</td>\n",
       "      <td>nc</td>\n",
       "    </tr>\n",
       "    <tr>\n",
       "      <th>7307669098</th>\n",
       "      <td>20990</td>\n",
       "      <td>2018</td>\n",
       "      <td>mazda</td>\n",
       "      <td>0.0</td>\n",
       "      <td>1.0</td>\n",
       "      <td>12695.0</td>\n",
       "      <td>tx</td>\n",
       "    </tr>\n",
       "    <tr>\n",
       "      <th>7314611738</th>\n",
       "      <td>42000</td>\n",
       "      <td>2013</td>\n",
       "      <td>ram</td>\n",
       "      <td>0.6</td>\n",
       "      <td>1.0</td>\n",
       "      <td>45500.0</td>\n",
       "      <td>mt</td>\n",
       "    </tr>\n",
       "    <tr>\n",
       "      <th>7311854499</th>\n",
       "      <td>21988</td>\n",
       "      <td>2018</td>\n",
       "      <td>honda</td>\n",
       "      <td>0.0</td>\n",
       "      <td>1.0</td>\n",
       "      <td>57074.0</td>\n",
       "      <td>ia</td>\n",
       "    </tr>\n",
       "    <tr>\n",
       "      <th>7315353643</th>\n",
       "      <td>4250</td>\n",
       "      <td>2001</td>\n",
       "      <td>chevrolet</td>\n",
       "      <td>0.0</td>\n",
       "      <td>1.0</td>\n",
       "      <td>106830.0</td>\n",
       "      <td>va</td>\n",
       "    </tr>\n",
       "    <tr>\n",
       "      <th>7312530802</th>\n",
       "      <td>36949</td>\n",
       "      <td>2017</td>\n",
       "      <td>lincoln</td>\n",
       "      <td>0.0</td>\n",
       "      <td>1.0</td>\n",
       "      <td>83988.0</td>\n",
       "      <td>ar</td>\n",
       "    </tr>\n",
       "    <tr>\n",
       "      <th>7315296146</th>\n",
       "      <td>7495</td>\n",
       "      <td>2010</td>\n",
       "      <td>volvo</td>\n",
       "      <td>0.0</td>\n",
       "      <td>0.0</td>\n",
       "      <td>144827.0</td>\n",
       "      <td>dc</td>\n",
       "    </tr>\n",
       "    <tr>\n",
       "      <th>7309694623</th>\n",
       "      <td>45990</td>\n",
       "      <td>2020</td>\n",
       "      <td>rover</td>\n",
       "      <td>0.4</td>\n",
       "      <td>1.0</td>\n",
       "      <td>4157.0</td>\n",
       "      <td>tx</td>\n",
       "    </tr>\n",
       "    <tr>\n",
       "      <th>7311523089</th>\n",
       "      <td>7950</td>\n",
       "      <td>2015</td>\n",
       "      <td>dodge</td>\n",
       "      <td>0.4</td>\n",
       "      <td>1.0</td>\n",
       "      <td>139303.0</td>\n",
       "      <td>ok</td>\n",
       "    </tr>\n",
       "    <tr>\n",
       "      <th>7316147022</th>\n",
       "      <td>15000</td>\n",
       "      <td>1993</td>\n",
       "      <td>chevrolet</td>\n",
       "      <td>0.6</td>\n",
       "      <td>1.0</td>\n",
       "      <td>26000.0</td>\n",
       "      <td>va</td>\n",
       "    </tr>\n",
       "    <tr>\n",
       "      <th>7308304225</th>\n",
       "      <td>7500</td>\n",
       "      <td>2005</td>\n",
       "      <td>chevrolet</td>\n",
       "      <td>0.6</td>\n",
       "      <td>1.0</td>\n",
       "      <td>88000.0</td>\n",
       "      <td>pa</td>\n",
       "    </tr>\n",
       "    <tr>\n",
       "      <th>7314117173</th>\n",
       "      <td>7995</td>\n",
       "      <td>2011</td>\n",
       "      <td>hyundai</td>\n",
       "      <td>0.0</td>\n",
       "      <td>1.0</td>\n",
       "      <td>88824.0</td>\n",
       "      <td>ia</td>\n",
       "    </tr>\n",
       "    <tr>\n",
       "      <th>7304387210</th>\n",
       "      <td>7950</td>\n",
       "      <td>2007</td>\n",
       "      <td>toyota</td>\n",
       "      <td>0.0</td>\n",
       "      <td>1.0</td>\n",
       "      <td>173850.0</td>\n",
       "      <td>nc</td>\n",
       "    </tr>\n",
       "    <tr>\n",
       "      <th>7301704472</th>\n",
       "      <td>3900</td>\n",
       "      <td>2004</td>\n",
       "      <td>toyota</td>\n",
       "      <td>0.4</td>\n",
       "      <td>1.0</td>\n",
       "      <td>155500.0</td>\n",
       "      <td>ny</td>\n",
       "    </tr>\n",
       "    <tr>\n",
       "      <th>7313754006</th>\n",
       "      <td>30990</td>\n",
       "      <td>2019</td>\n",
       "      <td>subaru</td>\n",
       "      <td>0.4</td>\n",
       "      <td>1.0</td>\n",
       "      <td>11113.0</td>\n",
       "      <td>oh</td>\n",
       "    </tr>\n",
       "    <tr>\n",
       "      <th>7307793785</th>\n",
       "      <td>13999</td>\n",
       "      <td>2016</td>\n",
       "      <td>toyota</td>\n",
       "      <td>0.4</td>\n",
       "      <td>0.0</td>\n",
       "      <td>124887.0</td>\n",
       "      <td>ca</td>\n",
       "    </tr>\n",
       "    <tr>\n",
       "      <th>7307908949</th>\n",
       "      <td>20999</td>\n",
       "      <td>2019</td>\n",
       "      <td>jeep</td>\n",
       "      <td>0.0</td>\n",
       "      <td>1.0</td>\n",
       "      <td>39778.0</td>\n",
       "      <td>md</td>\n",
       "    </tr>\n",
       "    <tr>\n",
       "      <th>7316957279</th>\n",
       "      <td>33590</td>\n",
       "      <td>2014</td>\n",
       "      <td>gmc</td>\n",
       "      <td>0.4</td>\n",
       "      <td>1.0</td>\n",
       "      <td>57923.0</td>\n",
       "      <td>tn</td>\n",
       "    </tr>\n",
       "    <tr>\n",
       "      <th>7310997900</th>\n",
       "      <td>16990</td>\n",
       "      <td>2014</td>\n",
       "      <td>acura</td>\n",
       "      <td>0.4</td>\n",
       "      <td>1.0</td>\n",
       "      <td>59906.0</td>\n",
       "      <td>tn</td>\n",
       "    </tr>\n",
       "  </tbody>\n",
       "</table>\n",
       "</div>"
      ],
      "text/plain": [
       "            price  year manufacturer  condition  fuel  odometer state\n",
       "id                                                                   \n",
       "7316505379  24990  2015         ford        0.8   1.0    1000.0    tx\n",
       "7307940755   5000  2006        honda        0.4   1.0  177000.0    nc\n",
       "7307669098  20990  2018        mazda        0.0   1.0   12695.0    tx\n",
       "7314611738  42000  2013          ram        0.6   1.0   45500.0    mt\n",
       "7311854499  21988  2018        honda        0.0   1.0   57074.0    ia\n",
       "7315353643   4250  2001    chevrolet        0.0   1.0  106830.0    va\n",
       "7312530802  36949  2017      lincoln        0.0   1.0   83988.0    ar\n",
       "7315296146   7495  2010        volvo        0.0   0.0  144827.0    dc\n",
       "7309694623  45990  2020        rover        0.4   1.0    4157.0    tx\n",
       "7311523089   7950  2015        dodge        0.4   1.0  139303.0    ok\n",
       "7316147022  15000  1993    chevrolet        0.6   1.0   26000.0    va\n",
       "7308304225   7500  2005    chevrolet        0.6   1.0   88000.0    pa\n",
       "7314117173   7995  2011      hyundai        0.0   1.0   88824.0    ia\n",
       "7304387210   7950  2007       toyota        0.0   1.0  173850.0    nc\n",
       "7301704472   3900  2004       toyota        0.4   1.0  155500.0    ny\n",
       "7313754006  30990  2019       subaru        0.4   1.0   11113.0    oh\n",
       "7307793785  13999  2016       toyota        0.4   0.0  124887.0    ca\n",
       "7307908949  20999  2019         jeep        0.0   1.0   39778.0    md\n",
       "7316957279  33590  2014          gmc        0.4   1.0   57923.0    tn\n",
       "7310997900  16990  2014        acura        0.4   1.0   59906.0    tn"
      ]
     },
     "execution_count": 37,
     "metadata": {},
     "output_type": "execute_result"
    }
   ],
   "source": [
    "cars_m1.sample(20)"
   ]
  },
  {
   "cell_type": "code",
   "execution_count": 38,
   "id": "91ea1db4",
   "metadata": {
    "_cell_guid": "36a06505-5a24-4f8b-87b2-83100f75623f",
    "_uuid": "5cf2fa71-e362-400f-9344-fbfe541e8119",
    "collapsed": false,
    "execution": {
     "iopub.execute_input": "2024-12-04T13:37:14.771776Z",
     "iopub.status.busy": "2024-12-04T13:37:14.771384Z",
     "iopub.status.idle": "2024-12-04T13:37:15.707695Z",
     "shell.execute_reply": "2024-12-04T13:37:15.706432Z"
    },
    "jupyter": {
     "outputs_hidden": false
    },
    "papermill": {
     "duration": 0.959848,
     "end_time": "2024-12-04T13:37:15.709960",
     "exception": false,
     "start_time": "2024-12-04T13:37:14.750112",
     "status": "completed"
    },
    "tags": []
   },
   "outputs": [
    {
     "data": {
      "text/plain": [
       "array([[<Axes: title={'center': 'price'}>,\n",
       "        <Axes: title={'center': 'year'}>],\n",
       "       [<Axes: title={'center': 'condition'}>,\n",
       "        <Axes: title={'center': 'fuel'}>],\n",
       "       [<Axes: title={'center': 'odometer'}>, <Axes: >]], dtype=object)"
      ]
     },
     "execution_count": 38,
     "metadata": {},
     "output_type": "execute_result"
    },
    {
     "data": {
      "image/png": "[encoded data removed]",
      "text/plain": [
       "<Figure size 640x480 with 6 Axes>"
      ]
     },
     "metadata": {},
     "output_type": "display_data"
    }
   ],
   "source": [
    "cars_m1.hist(bins=20)"
   ]
  },
  {
   "cell_type": "code",
   "execution_count": 39,
   "id": "c17a1cca",
   "metadata": {
    "_cell_guid": "3645455f-183b-4783-8035-802680dd9ef8",
    "_uuid": "9902164b-6afc-43a9-bd87-a71b09faa361",
    "collapsed": false,
    "execution": {
     "iopub.execute_input": "2024-12-04T13:37:15.754236Z",
     "iopub.status.busy": "2024-12-04T13:37:15.753252Z",
     "iopub.status.idle": "2024-12-04T13:37:15.760891Z",
     "shell.execute_reply": "2024-12-04T13:37:15.759863Z"
    },
    "jupyter": {
     "outputs_hidden": false
    },
    "papermill": {
     "duration": 0.032751,
     "end_time": "2024-12-04T13:37:15.763436",
     "exception": false,
     "start_time": "2024-12-04T13:37:15.730685",
     "status": "completed"
    },
    "tags": []
   },
   "outputs": [],
   "source": [
    "cars_m1['odometer'] = cars_m1['odometer'].astype('int')"
   ]
  },
  {
   "cell_type": "code",
   "execution_count": 40,
   "id": "ee01c2d3",
   "metadata": {
    "_cell_guid": "68054016-6d9b-42ec-abe5-b1e6569141a0",
    "_uuid": "15922a0d-97f6-4cd8-910c-9bbe9ba95fb8",
    "collapsed": false,
    "execution": {
     "iopub.execute_input": "2024-12-04T13:37:15.806085Z",
     "iopub.status.busy": "2024-12-04T13:37:15.805684Z",
     "iopub.status.idle": "2024-12-04T13:37:15.852074Z",
     "shell.execute_reply": "2024-12-04T13:37:15.850672Z"
    },
    "jupyter": {
     "outputs_hidden": false
    },
    "papermill": {
     "duration": 0.070659,
     "end_time": "2024-12-04T13:37:15.854491",
     "exception": false,
     "start_time": "2024-12-04T13:37:15.783832",
     "status": "completed"
    },
    "tags": []
   },
   "outputs": [
    {
     "name": "stdout",
     "output_type": "stream",
     "text": [
      "<class 'pandas.core.frame.DataFrame'>\n",
      "Index: 347097 entries, 7316814884 to 7301591129\n",
      "Data columns (total 7 columns):\n",
      " #   Column        Non-Null Count   Dtype  \n",
      "---  ------        --------------   -----  \n",
      " 0   price         347097 non-null  int64  \n",
      " 1   year          347097 non-null  int64  \n",
      " 2   manufacturer  347097 non-null  object \n",
      " 3   condition     347097 non-null  float64\n",
      " 4   fuel          347097 non-null  float64\n",
      " 5   odometer      347097 non-null  int64  \n",
      " 6   state         347097 non-null  object \n",
      "dtypes: float64(2), int64(3), object(2)\n",
      "memory usage: 21.2+ MB\n"
     ]
    }
   ],
   "source": [
    "cars_m1.info()"
   ]
  },
  {
   "cell_type": "code",
   "execution_count": 41,
   "id": "6d62b8f5",
   "metadata": {
    "_cell_guid": "b43a4175-10ea-4c95-bdac-093470c1d84a",
    "_uuid": "63876636-2ad6-4fff-b37d-d25b0d55b2bf",
    "collapsed": false,
    "execution": {
     "iopub.execute_input": "2024-12-04T13:37:15.897294Z",
     "iopub.status.busy": "2024-12-04T13:37:15.896411Z",
     "iopub.status.idle": "2024-12-04T13:37:15.912049Z",
     "shell.execute_reply": "2024-12-04T13:37:15.911004Z"
    },
    "jupyter": {
     "outputs_hidden": false
    },
    "papermill": {
     "duration": 0.039507,
     "end_time": "2024-12-04T13:37:15.914185",
     "exception": false,
     "start_time": "2024-12-04T13:37:15.874678",
     "status": "completed"
    },
    "tags": []
   },
   "outputs": [
    {
     "data": {
      "text/html": [
       "<div>\n",
       "<style scoped>\n",
       "    .dataframe tbody tr th:only-of-type {\n",
       "        vertical-align: middle;\n",
       "    }\n",
       "\n",
       "    .dataframe tbody tr th {\n",
       "        vertical-align: top;\n",
       "    }\n",
       "\n",
       "    .dataframe thead th {\n",
       "        text-align: right;\n",
       "    }\n",
       "</style>\n",
       "<table border=\"1\" class=\"dataframe\">\n",
       "  <thead>\n",
       "    <tr style=\"text-align: right;\">\n",
       "      <th></th>\n",
       "      <th>price</th>\n",
       "      <th>year</th>\n",
       "      <th>manufacturer</th>\n",
       "      <th>condition</th>\n",
       "      <th>fuel</th>\n",
       "      <th>odometer</th>\n",
       "      <th>state</th>\n",
       "    </tr>\n",
       "    <tr>\n",
       "      <th>id</th>\n",
       "      <th></th>\n",
       "      <th></th>\n",
       "      <th></th>\n",
       "      <th></th>\n",
       "      <th></th>\n",
       "      <th></th>\n",
       "      <th></th>\n",
       "    </tr>\n",
       "  </thead>\n",
       "  <tbody>\n",
       "    <tr>\n",
       "      <th>7316814884</th>\n",
       "      <td>33590</td>\n",
       "      <td>2014</td>\n",
       "      <td>gmc</td>\n",
       "      <td>0.4</td>\n",
       "      <td>1.0</td>\n",
       "      <td>57923</td>\n",
       "      <td>al</td>\n",
       "    </tr>\n",
       "    <tr>\n",
       "      <th>7316814758</th>\n",
       "      <td>22590</td>\n",
       "      <td>2010</td>\n",
       "      <td>chevrolet</td>\n",
       "      <td>0.4</td>\n",
       "      <td>1.0</td>\n",
       "      <td>71229</td>\n",
       "      <td>al</td>\n",
       "    </tr>\n",
       "    <tr>\n",
       "      <th>7316814989</th>\n",
       "      <td>39590</td>\n",
       "      <td>2020</td>\n",
       "      <td>chevrolet</td>\n",
       "      <td>0.4</td>\n",
       "      <td>1.0</td>\n",
       "      <td>19160</td>\n",
       "      <td>al</td>\n",
       "    </tr>\n",
       "    <tr>\n",
       "      <th>7316743432</th>\n",
       "      <td>30990</td>\n",
       "      <td>2017</td>\n",
       "      <td>toyota</td>\n",
       "      <td>0.4</td>\n",
       "      <td>1.0</td>\n",
       "      <td>41124</td>\n",
       "      <td>al</td>\n",
       "    </tr>\n",
       "    <tr>\n",
       "      <th>7316356412</th>\n",
       "      <td>15000</td>\n",
       "      <td>2013</td>\n",
       "      <td>ford</td>\n",
       "      <td>0.6</td>\n",
       "      <td>1.0</td>\n",
       "      <td>128000</td>\n",
       "      <td>al</td>\n",
       "    </tr>\n",
       "    <tr>\n",
       "      <th>7316343444</th>\n",
       "      <td>27990</td>\n",
       "      <td>2012</td>\n",
       "      <td>gmc</td>\n",
       "      <td>0.4</td>\n",
       "      <td>1.0</td>\n",
       "      <td>68696</td>\n",
       "      <td>al</td>\n",
       "    </tr>\n",
       "    <tr>\n",
       "      <th>7316304717</th>\n",
       "      <td>34590</td>\n",
       "      <td>2016</td>\n",
       "      <td>chevrolet</td>\n",
       "      <td>0.4</td>\n",
       "      <td>1.0</td>\n",
       "      <td>29499</td>\n",
       "      <td>al</td>\n",
       "    </tr>\n",
       "    <tr>\n",
       "      <th>7316285779</th>\n",
       "      <td>35000</td>\n",
       "      <td>2019</td>\n",
       "      <td>toyota</td>\n",
       "      <td>0.6</td>\n",
       "      <td>1.0</td>\n",
       "      <td>43000</td>\n",
       "      <td>al</td>\n",
       "    </tr>\n",
       "    <tr>\n",
       "      <th>7316257769</th>\n",
       "      <td>29990</td>\n",
       "      <td>2016</td>\n",
       "      <td>chevrolet</td>\n",
       "      <td>0.4</td>\n",
       "      <td>1.0</td>\n",
       "      <td>17302</td>\n",
       "      <td>al</td>\n",
       "    </tr>\n",
       "    <tr>\n",
       "      <th>7316133914</th>\n",
       "      <td>38590</td>\n",
       "      <td>2011</td>\n",
       "      <td>chevrolet</td>\n",
       "      <td>0.4</td>\n",
       "      <td>1.0</td>\n",
       "      <td>30237</td>\n",
       "      <td>al</td>\n",
       "    </tr>\n",
       "    <tr>\n",
       "      <th>7316130053</th>\n",
       "      <td>4500</td>\n",
       "      <td>1992</td>\n",
       "      <td>jeep</td>\n",
       "      <td>0.6</td>\n",
       "      <td>1.0</td>\n",
       "      <td>192000</td>\n",
       "      <td>al</td>\n",
       "    </tr>\n",
       "    <tr>\n",
       "      <th>7315816316</th>\n",
       "      <td>32990</td>\n",
       "      <td>2017</td>\n",
       "      <td>jeep</td>\n",
       "      <td>0.4</td>\n",
       "      <td>1.0</td>\n",
       "      <td>30041</td>\n",
       "      <td>al</td>\n",
       "    </tr>\n",
       "    <tr>\n",
       "      <th>7315770394</th>\n",
       "      <td>24590</td>\n",
       "      <td>2017</td>\n",
       "      <td>chevrolet</td>\n",
       "      <td>0.4</td>\n",
       "      <td>1.0</td>\n",
       "      <td>40784</td>\n",
       "      <td>al</td>\n",
       "    </tr>\n",
       "    <tr>\n",
       "      <th>7315756348</th>\n",
       "      <td>30990</td>\n",
       "      <td>2016</td>\n",
       "      <td>chevrolet</td>\n",
       "      <td>0.4</td>\n",
       "      <td>0.0</td>\n",
       "      <td>34940</td>\n",
       "      <td>al</td>\n",
       "    </tr>\n",
       "    <tr>\n",
       "      <th>7315715960</th>\n",
       "      <td>27990</td>\n",
       "      <td>2014</td>\n",
       "      <td>toyota</td>\n",
       "      <td>0.4</td>\n",
       "      <td>0.0</td>\n",
       "      <td>17805</td>\n",
       "      <td>al</td>\n",
       "    </tr>\n",
       "    <tr>\n",
       "      <th>7315379459</th>\n",
       "      <td>37990</td>\n",
       "      <td>2016</td>\n",
       "      <td>chevrolet</td>\n",
       "      <td>0.4</td>\n",
       "      <td>1.0</td>\n",
       "      <td>9704</td>\n",
       "      <td>al</td>\n",
       "    </tr>\n",
       "    <tr>\n",
       "      <th>7315275975</th>\n",
       "      <td>33590</td>\n",
       "      <td>2014</td>\n",
       "      <td>toyota</td>\n",
       "      <td>0.4</td>\n",
       "      <td>0.0</td>\n",
       "      <td>55251</td>\n",
       "      <td>al</td>\n",
       "    </tr>\n",
       "    <tr>\n",
       "      <th>7315275942</th>\n",
       "      <td>30990</td>\n",
       "      <td>2019</td>\n",
       "      <td>ford</td>\n",
       "      <td>0.4</td>\n",
       "      <td>0.0</td>\n",
       "      <td>1834</td>\n",
       "      <td>al</td>\n",
       "    </tr>\n",
       "    <tr>\n",
       "      <th>7315270785</th>\n",
       "      <td>27990</td>\n",
       "      <td>2018</td>\n",
       "      <td>nissan</td>\n",
       "      <td>0.4</td>\n",
       "      <td>1.0</td>\n",
       "      <td>37332</td>\n",
       "      <td>al</td>\n",
       "    </tr>\n",
       "    <tr>\n",
       "      <th>7314910156</th>\n",
       "      <td>34590</td>\n",
       "      <td>2018</td>\n",
       "      <td>ford</td>\n",
       "      <td>0.4</td>\n",
       "      <td>1.0</td>\n",
       "      <td>20856</td>\n",
       "      <td>al</td>\n",
       "    </tr>\n",
       "  </tbody>\n",
       "</table>\n",
       "</div>"
      ],
      "text/plain": [
       "            price  year manufacturer  condition  fuel  odometer state\n",
       "id                                                                   \n",
       "7316814884  33590  2014          gmc        0.4   1.0     57923    al\n",
       "7316814758  22590  2010    chevrolet        0.4   1.0     71229    al\n",
       "7316814989  39590  2020    chevrolet        0.4   1.0     19160    al\n",
       "7316743432  30990  2017       toyota        0.4   1.0     41124    al\n",
       "7316356412  15000  2013         ford        0.6   1.0    128000    al\n",
       "7316343444  27990  2012          gmc        0.4   1.0     68696    al\n",
       "7316304717  34590  2016    chevrolet        0.4   1.0     29499    al\n",
       "7316285779  35000  2019       toyota        0.6   1.0     43000    al\n",
       "7316257769  29990  2016    chevrolet        0.4   1.0     17302    al\n",
       "7316133914  38590  2011    chevrolet        0.4   1.0     30237    al\n",
       "7316130053   4500  1992         jeep        0.6   1.0    192000    al\n",
       "7315816316  32990  2017         jeep        0.4   1.0     30041    al\n",
       "7315770394  24590  2017    chevrolet        0.4   1.0     40784    al\n",
       "7315756348  30990  2016    chevrolet        0.4   0.0     34940    al\n",
       "7315715960  27990  2014       toyota        0.4   0.0     17805    al\n",
       "7315379459  37990  2016    chevrolet        0.4   1.0      9704    al\n",
       "7315275975  33590  2014       toyota        0.4   0.0     55251    al\n",
       "7315275942  30990  2019         ford        0.4   0.0      1834    al\n",
       "7315270785  27990  2018       nissan        0.4   1.0     37332    al\n",
       "7314910156  34590  2018         ford        0.4   1.0     20856    al"
      ]
     },
     "execution_count": 41,
     "metadata": {},
     "output_type": "execute_result"
    }
   ],
   "source": [
    "cars_m1.head(20)"
   ]
  },
  {
   "cell_type": "markdown",
   "id": "46f902f4",
   "metadata": {
    "papermill": {
     "duration": 0.020935,
     "end_time": "2024-12-04T13:37:15.955994",
     "exception": false,
     "start_time": "2024-12-04T13:37:15.935059",
     "status": "completed"
    },
    "tags": []
   },
   "source": [
    "## Convert object manufacturer to numeric value and nomolize to 0 to 1"
   ]
  },
  {
   "cell_type": "code",
   "execution_count": 42,
   "id": "387cdf82",
   "metadata": {
    "execution": {
     "iopub.execute_input": "2024-12-04T13:37:15.999117Z",
     "iopub.status.busy": "2024-12-04T13:37:15.998723Z",
     "iopub.status.idle": "2024-12-04T13:37:16.038182Z",
     "shell.execute_reply": "2024-12-04T13:37:16.037001Z"
    },
    "papermill": {
     "duration": 0.064133,
     "end_time": "2024-12-04T13:37:16.040764",
     "exception": false,
     "start_time": "2024-12-04T13:37:15.976631",
     "status": "completed"
    },
    "tags": []
   },
   "outputs": [],
   "source": [
    "median_per_category = cars_m1.groupby('manufacturer')['price'].median()"
   ]
  },
  {
   "cell_type": "code",
   "execution_count": 43,
   "id": "00dc5a19",
   "metadata": {
    "execution": {
     "iopub.execute_input": "2024-12-04T13:37:16.085785Z",
     "iopub.status.busy": "2024-12-04T13:37:16.085422Z",
     "iopub.status.idle": "2024-12-04T13:37:16.091627Z",
     "shell.execute_reply": "2024-12-04T13:37:16.090443Z"
    },
    "papermill": {
     "duration": 0.030049,
     "end_time": "2024-12-04T13:37:16.093771",
     "exception": false,
     "start_time": "2024-12-04T13:37:16.063722",
     "status": "completed"
    },
    "tags": []
   },
   "outputs": [],
   "source": [
    "normalized_median = (median_per_category - median_per_category.min()) / (median_per_category.max() - median_per_category.min())"
   ]
  },
  {
   "cell_type": "code",
   "execution_count": 44,
   "id": "38304c30",
   "metadata": {
    "execution": {
     "iopub.execute_input": "2024-12-04T13:37:16.136537Z",
     "iopub.status.busy": "2024-12-04T13:37:16.136069Z",
     "iopub.status.idle": "2024-12-04T13:37:16.171627Z",
     "shell.execute_reply": "2024-12-04T13:37:16.170144Z"
    },
    "papermill": {
     "duration": 0.059423,
     "end_time": "2024-12-04T13:37:16.173853",
     "exception": false,
     "start_time": "2024-12-04T13:37:16.114430",
     "status": "completed"
    },
    "tags": []
   },
   "outputs": [],
   "source": [
    "cars_m1['manufacturer'] = cars_m1['manufacturer'].map(normalized_median)"
   ]
  },
  {
   "cell_type": "code",
   "execution_count": 45,
   "id": "eef2a04b",
   "metadata": {
    "execution": {
     "iopub.execute_input": "2024-12-04T13:37:16.216357Z",
     "iopub.status.busy": "2024-12-04T13:37:16.215901Z",
     "iopub.status.idle": "2024-12-04T13:37:16.229609Z",
     "shell.execute_reply": "2024-12-04T13:37:16.228521Z"
    },
    "papermill": {
     "duration": 0.03745,
     "end_time": "2024-12-04T13:37:16.231743",
     "exception": false,
     "start_time": "2024-12-04T13:37:16.194293",
     "status": "completed"
    },
    "tags": []
   },
   "outputs": [
    {
     "data": {
      "text/html": [
       "<div>\n",
       "<style scoped>\n",
       "    .dataframe tbody tr th:only-of-type {\n",
       "        vertical-align: middle;\n",
       "    }\n",
       "\n",
       "    .dataframe tbody tr th {\n",
       "        vertical-align: top;\n",
       "    }\n",
       "\n",
       "    .dataframe thead th {\n",
       "        text-align: right;\n",
       "    }\n",
       "</style>\n",
       "<table border=\"1\" class=\"dataframe\">\n",
       "  <thead>\n",
       "    <tr style=\"text-align: right;\">\n",
       "      <th></th>\n",
       "      <th>price</th>\n",
       "      <th>year</th>\n",
       "      <th>manufacturer</th>\n",
       "      <th>condition</th>\n",
       "      <th>fuel</th>\n",
       "      <th>odometer</th>\n",
       "      <th>state</th>\n",
       "    </tr>\n",
       "    <tr>\n",
       "      <th>id</th>\n",
       "      <th></th>\n",
       "      <th></th>\n",
       "      <th></th>\n",
       "      <th></th>\n",
       "      <th></th>\n",
       "      <th></th>\n",
       "      <th></th>\n",
       "    </tr>\n",
       "  </thead>\n",
       "  <tbody>\n",
       "    <tr>\n",
       "      <th>7316814884</th>\n",
       "      <td>33590</td>\n",
       "      <td>2014</td>\n",
       "      <td>0.275743</td>\n",
       "      <td>0.4</td>\n",
       "      <td>1.0</td>\n",
       "      <td>57923</td>\n",
       "      <td>al</td>\n",
       "    </tr>\n",
       "    <tr>\n",
       "      <th>7316814758</th>\n",
       "      <td>22590</td>\n",
       "      <td>2010</td>\n",
       "      <td>0.178359</td>\n",
       "      <td>0.4</td>\n",
       "      <td>1.0</td>\n",
       "      <td>71229</td>\n",
       "      <td>al</td>\n",
       "    </tr>\n",
       "    <tr>\n",
       "      <th>7316814989</th>\n",
       "      <td>39590</td>\n",
       "      <td>2020</td>\n",
       "      <td>0.178359</td>\n",
       "      <td>0.4</td>\n",
       "      <td>1.0</td>\n",
       "      <td>19160</td>\n",
       "      <td>al</td>\n",
       "    </tr>\n",
       "    <tr>\n",
       "      <th>7316743432</th>\n",
       "      <td>30990</td>\n",
       "      <td>2017</td>\n",
       "      <td>0.149762</td>\n",
       "      <td>0.4</td>\n",
       "      <td>1.0</td>\n",
       "      <td>41124</td>\n",
       "      <td>al</td>\n",
       "    </tr>\n",
       "    <tr>\n",
       "      <th>7316356412</th>\n",
       "      <td>15000</td>\n",
       "      <td>2013</td>\n",
       "      <td>0.195006</td>\n",
       "      <td>0.6</td>\n",
       "      <td>1.0</td>\n",
       "      <td>128000</td>\n",
       "      <td>al</td>\n",
       "    </tr>\n",
       "  </tbody>\n",
       "</table>\n",
       "</div>"
      ],
      "text/plain": [
       "            price  year  manufacturer  condition  fuel  odometer state\n",
       "id                                                                    \n",
       "7316814884  33590  2014      0.275743        0.4   1.0     57923    al\n",
       "7316814758  22590  2010      0.178359        0.4   1.0     71229    al\n",
       "7316814989  39590  2020      0.178359        0.4   1.0     19160    al\n",
       "7316743432  30990  2017      0.149762        0.4   1.0     41124    al\n",
       "7316356412  15000  2013      0.195006        0.6   1.0    128000    al"
      ]
     },
     "execution_count": 45,
     "metadata": {},
     "output_type": "execute_result"
    }
   ],
   "source": [
    "cars_m1.head()"
   ]
  },
  {
   "cell_type": "markdown",
   "id": "b675d2d5",
   "metadata": {
    "papermill": {
     "duration": 0.020652,
     "end_time": "2024-12-04T13:37:16.273584",
     "exception": false,
     "start_time": "2024-12-04T13:37:16.252932",
     "status": "completed"
    },
    "tags": []
   },
   "source": [
    "### State"
   ]
  },
  {
   "cell_type": "code",
   "execution_count": 46,
   "id": "553ed4c9",
   "metadata": {
    "execution": {
     "iopub.execute_input": "2024-12-04T13:37:16.317775Z",
     "iopub.status.busy": "2024-12-04T13:37:16.316851Z",
     "iopub.status.idle": "2024-12-04T13:37:16.413946Z",
     "shell.execute_reply": "2024-12-04T13:37:16.412731Z"
    },
    "papermill": {
     "duration": 0.12128,
     "end_time": "2024-12-04T13:37:16.416413",
     "exception": false,
     "start_time": "2024-12-04T13:37:16.295133",
     "status": "completed"
    },
    "tags": []
   },
   "outputs": [],
   "source": [
    "# cars_m1 = pd.get_dummies(cars_m1['state'], prefix='state')\n",
    "cars_m1 = pd.get_dummies(cars_m1, columns=['state'], prefix='state')\n"
   ]
  },
  {
   "cell_type": "code",
   "execution_count": 47,
   "id": "8ded95df",
   "metadata": {
    "execution": {
     "iopub.execute_input": "2024-12-04T13:37:16.458978Z",
     "iopub.status.busy": "2024-12-04T13:37:16.458582Z",
     "iopub.status.idle": "2024-12-04T13:37:16.480389Z",
     "shell.execute_reply": "2024-12-04T13:37:16.479246Z"
    },
    "papermill": {
     "duration": 0.04568,
     "end_time": "2024-12-04T13:37:16.482624",
     "exception": false,
     "start_time": "2024-12-04T13:37:16.436944",
     "status": "completed"
    },
    "tags": []
   },
   "outputs": [
    {
     "data": {
      "text/html": [
       "<div>\n",
       "<style scoped>\n",
       "    .dataframe tbody tr th:only-of-type {\n",
       "        vertical-align: middle;\n",
       "    }\n",
       "\n",
       "    .dataframe tbody tr th {\n",
       "        vertical-align: top;\n",
       "    }\n",
       "\n",
       "    .dataframe thead th {\n",
       "        text-align: right;\n",
       "    }\n",
       "</style>\n",
       "<table border=\"1\" class=\"dataframe\">\n",
       "  <thead>\n",
       "    <tr style=\"text-align: right;\">\n",
       "      <th></th>\n",
       "      <th>price</th>\n",
       "      <th>year</th>\n",
       "      <th>manufacturer</th>\n",
       "      <th>condition</th>\n",
       "      <th>fuel</th>\n",
       "      <th>odometer</th>\n",
       "      <th>state_ak</th>\n",
       "      <th>state_al</th>\n",
       "      <th>state_ar</th>\n",
       "      <th>state_az</th>\n",
       "      <th>...</th>\n",
       "      <th>state_sd</th>\n",
       "      <th>state_tn</th>\n",
       "      <th>state_tx</th>\n",
       "      <th>state_ut</th>\n",
       "      <th>state_va</th>\n",
       "      <th>state_vt</th>\n",
       "      <th>state_wa</th>\n",
       "      <th>state_wi</th>\n",
       "      <th>state_wv</th>\n",
       "      <th>state_wy</th>\n",
       "    </tr>\n",
       "    <tr>\n",
       "      <th>id</th>\n",
       "      <th></th>\n",
       "      <th></th>\n",
       "      <th></th>\n",
       "      <th></th>\n",
       "      <th></th>\n",
       "      <th></th>\n",
       "      <th></th>\n",
       "      <th></th>\n",
       "      <th></th>\n",
       "      <th></th>\n",
       "      <th></th>\n",
       "      <th></th>\n",
       "      <th></th>\n",
       "      <th></th>\n",
       "      <th></th>\n",
       "      <th></th>\n",
       "      <th></th>\n",
       "      <th></th>\n",
       "      <th></th>\n",
       "      <th></th>\n",
       "      <th></th>\n",
       "    </tr>\n",
       "  </thead>\n",
       "  <tbody>\n",
       "    <tr>\n",
       "      <th>7316814884</th>\n",
       "      <td>33590</td>\n",
       "      <td>2014</td>\n",
       "      <td>0.275743</td>\n",
       "      <td>0.4</td>\n",
       "      <td>1.0</td>\n",
       "      <td>57923</td>\n",
       "      <td>False</td>\n",
       "      <td>True</td>\n",
       "      <td>False</td>\n",
       "      <td>False</td>\n",
       "      <td>...</td>\n",
       "      <td>False</td>\n",
       "      <td>False</td>\n",
       "      <td>False</td>\n",
       "      <td>False</td>\n",
       "      <td>False</td>\n",
       "      <td>False</td>\n",
       "      <td>False</td>\n",
       "      <td>False</td>\n",
       "      <td>False</td>\n",
       "      <td>False</td>\n",
       "    </tr>\n",
       "    <tr>\n",
       "      <th>7316814758</th>\n",
       "      <td>22590</td>\n",
       "      <td>2010</td>\n",
       "      <td>0.178359</td>\n",
       "      <td>0.4</td>\n",
       "      <td>1.0</td>\n",
       "      <td>71229</td>\n",
       "      <td>False</td>\n",
       "      <td>True</td>\n",
       "      <td>False</td>\n",
       "      <td>False</td>\n",
       "      <td>...</td>\n",
       "      <td>False</td>\n",
       "      <td>False</td>\n",
       "      <td>False</td>\n",
       "      <td>False</td>\n",
       "      <td>False</td>\n",
       "      <td>False</td>\n",
       "      <td>False</td>\n",
       "      <td>False</td>\n",
       "      <td>False</td>\n",
       "      <td>False</td>\n",
       "    </tr>\n",
       "    <tr>\n",
       "      <th>7316814989</th>\n",
       "      <td>39590</td>\n",
       "      <td>2020</td>\n",
       "      <td>0.178359</td>\n",
       "      <td>0.4</td>\n",
       "      <td>1.0</td>\n",
       "      <td>19160</td>\n",
       "      <td>False</td>\n",
       "      <td>True</td>\n",
       "      <td>False</td>\n",
       "      <td>False</td>\n",
       "      <td>...</td>\n",
       "      <td>False</td>\n",
       "      <td>False</td>\n",
       "      <td>False</td>\n",
       "      <td>False</td>\n",
       "      <td>False</td>\n",
       "      <td>False</td>\n",
       "      <td>False</td>\n",
       "      <td>False</td>\n",
       "      <td>False</td>\n",
       "      <td>False</td>\n",
       "    </tr>\n",
       "    <tr>\n",
       "      <th>7316743432</th>\n",
       "      <td>30990</td>\n",
       "      <td>2017</td>\n",
       "      <td>0.149762</td>\n",
       "      <td>0.4</td>\n",
       "      <td>1.0</td>\n",
       "      <td>41124</td>\n",
       "      <td>False</td>\n",
       "      <td>True</td>\n",
       "      <td>False</td>\n",
       "      <td>False</td>\n",
       "      <td>...</td>\n",
       "      <td>False</td>\n",
       "      <td>False</td>\n",
       "      <td>False</td>\n",
       "      <td>False</td>\n",
       "      <td>False</td>\n",
       "      <td>False</td>\n",
       "      <td>False</td>\n",
       "      <td>False</td>\n",
       "      <td>False</td>\n",
       "      <td>False</td>\n",
       "    </tr>\n",
       "    <tr>\n",
       "      <th>7316356412</th>\n",
       "      <td>15000</td>\n",
       "      <td>2013</td>\n",
       "      <td>0.195006</td>\n",
       "      <td>0.6</td>\n",
       "      <td>1.0</td>\n",
       "      <td>128000</td>\n",
       "      <td>False</td>\n",
       "      <td>True</td>\n",
       "      <td>False</td>\n",
       "      <td>False</td>\n",
       "      <td>...</td>\n",
       "      <td>False</td>\n",
       "      <td>False</td>\n",
       "      <td>False</td>\n",
       "      <td>False</td>\n",
       "      <td>False</td>\n",
       "      <td>False</td>\n",
       "      <td>False</td>\n",
       "      <td>False</td>\n",
       "      <td>False</td>\n",
       "      <td>False</td>\n",
       "    </tr>\n",
       "  </tbody>\n",
       "</table>\n",
       "<p>5 rows × 57 columns</p>\n",
       "</div>"
      ],
      "text/plain": [
       "            price  year  manufacturer  condition  fuel  odometer  state_ak  \\\n",
       "id                                                                           \n",
       "7316814884  33590  2014      0.275743        0.4   1.0     57923     False   \n",
       "7316814758  22590  2010      0.178359        0.4   1.0     71229     False   \n",
       "7316814989  39590  2020      0.178359        0.4   1.0     19160     False   \n",
       "7316743432  30990  2017      0.149762        0.4   1.0     41124     False   \n",
       "7316356412  15000  2013      0.195006        0.6   1.0    128000     False   \n",
       "\n",
       "            state_al  state_ar  state_az  ...  state_sd  state_tn  state_tx  \\\n",
       "id                                        ...                                 \n",
       "7316814884      True     False     False  ...     False     False     False   \n",
       "7316814758      True     False     False  ...     False     False     False   \n",
       "7316814989      True     False     False  ...     False     False     False   \n",
       "7316743432      True     False     False  ...     False     False     False   \n",
       "7316356412      True     False     False  ...     False     False     False   \n",
       "\n",
       "            state_ut  state_va  state_vt  state_wa  state_wi  state_wv  \\\n",
       "id                                                                       \n",
       "7316814884     False     False     False     False     False     False   \n",
       "7316814758     False     False     False     False     False     False   \n",
       "7316814989     False     False     False     False     False     False   \n",
       "7316743432     False     False     False     False     False     False   \n",
       "7316356412     False     False     False     False     False     False   \n",
       "\n",
       "            state_wy  \n",
       "id                    \n",
       "7316814884     False  \n",
       "7316814758     False  \n",
       "7316814989     False  \n",
       "7316743432     False  \n",
       "7316356412     False  \n",
       "\n",
       "[5 rows x 57 columns]"
      ]
     },
     "execution_count": 47,
     "metadata": {},
     "output_type": "execute_result"
    }
   ],
   "source": [
    "cars_m1.head()"
   ]
  },
  {
   "cell_type": "markdown",
   "id": "ff862255",
   "metadata": {
    "_cell_guid": "0a309dbe-4b79-430c-b416-1293108878fd",
    "_uuid": "671bc86a-ddd9-4ee7-a19c-0a099ac60249",
    "collapsed": false,
    "jupyter": {
     "outputs_hidden": false
    },
    "papermill": {
     "duration": 0.020511,
     "end_time": "2024-12-04T13:37:16.525143",
     "exception": false,
     "start_time": "2024-12-04T13:37:16.504632",
     "status": "completed"
    },
    "tags": []
   },
   "source": [
    "# Model"
   ]
  },
  {
   "cell_type": "markdown",
   "id": "feaf27d0",
   "metadata": {
    "_cell_guid": "a6507e7c-5a01-41fd-9f3b-5c8fb1426ad4",
    "_uuid": "3dcf28ea-0f5f-4a05-af6b-721ac117b69c",
    "collapsed": false,
    "jupyter": {
     "outputs_hidden": false
    },
    "papermill": {
     "duration": 0.020408,
     "end_time": "2024-12-04T13:37:16.566310",
     "exception": false,
     "start_time": "2024-12-04T13:37:16.545902",
     "status": "completed"
    },
    "tags": []
   },
   "source": [
    "## splitting data"
   ]
  },
  {
   "cell_type": "code",
   "execution_count": 48,
   "id": "acc33c5b",
   "metadata": {
    "_cell_guid": "ecb3b13f-0cb6-4457-b81c-e6eed31cbfdd",
    "_uuid": "65a1c685-bf03-42a1-9438-8cae04f44254",
    "collapsed": false,
    "execution": {
     "iopub.execute_input": "2024-12-04T13:37:16.611104Z",
     "iopub.status.busy": "2024-12-04T13:37:16.610639Z",
     "iopub.status.idle": "2024-12-04T13:37:16.636256Z",
     "shell.execute_reply": "2024-12-04T13:37:16.635186Z"
    },
    "jupyter": {
     "outputs_hidden": false
    },
    "papermill": {
     "duration": 0.051723,
     "end_time": "2024-12-04T13:37:16.638631",
     "exception": false,
     "start_time": "2024-12-04T13:37:16.586908",
     "status": "completed"
    },
    "tags": []
   },
   "outputs": [],
   "source": [
    "X = cars_m1.drop('price', axis=1)\n",
    "y = cars_m1.price"
   ]
  },
  {
   "cell_type": "code",
   "execution_count": 49,
   "id": "271b1b2a",
   "metadata": {
    "_cell_guid": "aadffb78-6cc2-4e8d-a653-eb3a14ec629f",
    "_uuid": "e5b1b3d7-de41-4dbd-bd25-a12bc449c7bb",
    "collapsed": false,
    "execution": {
     "iopub.execute_input": "2024-12-04T13:37:16.682737Z",
     "iopub.status.busy": "2024-12-04T13:37:16.682292Z",
     "iopub.status.idle": "2024-12-04T13:37:16.705873Z",
     "shell.execute_reply": "2024-12-04T13:37:16.704548Z"
    },
    "jupyter": {
     "outputs_hidden": false
    },
    "papermill": {
     "duration": 0.048643,
     "end_time": "2024-12-04T13:37:16.708433",
     "exception": false,
     "start_time": "2024-12-04T13:37:16.659790",
     "status": "completed"
    },
    "tags": []
   },
   "outputs": [
    {
     "data": {
      "text/html": [
       "<div>\n",
       "<style scoped>\n",
       "    .dataframe tbody tr th:only-of-type {\n",
       "        vertical-align: middle;\n",
       "    }\n",
       "\n",
       "    .dataframe tbody tr th {\n",
       "        vertical-align: top;\n",
       "    }\n",
       "\n",
       "    .dataframe thead th {\n",
       "        text-align: right;\n",
       "    }\n",
       "</style>\n",
       "<table border=\"1\" class=\"dataframe\">\n",
       "  <thead>\n",
       "    <tr style=\"text-align: right;\">\n",
       "      <th></th>\n",
       "      <th>year</th>\n",
       "      <th>manufacturer</th>\n",
       "      <th>condition</th>\n",
       "      <th>fuel</th>\n",
       "      <th>odometer</th>\n",
       "      <th>state_ak</th>\n",
       "      <th>state_al</th>\n",
       "      <th>state_ar</th>\n",
       "      <th>state_az</th>\n",
       "      <th>state_ca</th>\n",
       "      <th>...</th>\n",
       "      <th>state_sd</th>\n",
       "      <th>state_tn</th>\n",
       "      <th>state_tx</th>\n",
       "      <th>state_ut</th>\n",
       "      <th>state_va</th>\n",
       "      <th>state_vt</th>\n",
       "      <th>state_wa</th>\n",
       "      <th>state_wi</th>\n",
       "      <th>state_wv</th>\n",
       "      <th>state_wy</th>\n",
       "    </tr>\n",
       "    <tr>\n",
       "      <th>id</th>\n",
       "      <th></th>\n",
       "      <th></th>\n",
       "      <th></th>\n",
       "      <th></th>\n",
       "      <th></th>\n",
       "      <th></th>\n",
       "      <th></th>\n",
       "      <th></th>\n",
       "      <th></th>\n",
       "      <th></th>\n",
       "      <th></th>\n",
       "      <th></th>\n",
       "      <th></th>\n",
       "      <th></th>\n",
       "      <th></th>\n",
       "      <th></th>\n",
       "      <th></th>\n",
       "      <th></th>\n",
       "      <th></th>\n",
       "      <th></th>\n",
       "      <th></th>\n",
       "    </tr>\n",
       "  </thead>\n",
       "  <tbody>\n",
       "    <tr>\n",
       "      <th>7316814884</th>\n",
       "      <td>2014</td>\n",
       "      <td>0.275743</td>\n",
       "      <td>0.4</td>\n",
       "      <td>1.0</td>\n",
       "      <td>57923</td>\n",
       "      <td>False</td>\n",
       "      <td>True</td>\n",
       "      <td>False</td>\n",
       "      <td>False</td>\n",
       "      <td>False</td>\n",
       "      <td>...</td>\n",
       "      <td>False</td>\n",
       "      <td>False</td>\n",
       "      <td>False</td>\n",
       "      <td>False</td>\n",
       "      <td>False</td>\n",
       "      <td>False</td>\n",
       "      <td>False</td>\n",
       "      <td>False</td>\n",
       "      <td>False</td>\n",
       "      <td>False</td>\n",
       "    </tr>\n",
       "    <tr>\n",
       "      <th>7316814758</th>\n",
       "      <td>2010</td>\n",
       "      <td>0.178359</td>\n",
       "      <td>0.4</td>\n",
       "      <td>1.0</td>\n",
       "      <td>71229</td>\n",
       "      <td>False</td>\n",
       "      <td>True</td>\n",
       "      <td>False</td>\n",
       "      <td>False</td>\n",
       "      <td>False</td>\n",
       "      <td>...</td>\n",
       "      <td>False</td>\n",
       "      <td>False</td>\n",
       "      <td>False</td>\n",
       "      <td>False</td>\n",
       "      <td>False</td>\n",
       "      <td>False</td>\n",
       "      <td>False</td>\n",
       "      <td>False</td>\n",
       "      <td>False</td>\n",
       "      <td>False</td>\n",
       "    </tr>\n",
       "    <tr>\n",
       "      <th>7316814989</th>\n",
       "      <td>2020</td>\n",
       "      <td>0.178359</td>\n",
       "      <td>0.4</td>\n",
       "      <td>1.0</td>\n",
       "      <td>19160</td>\n",
       "      <td>False</td>\n",
       "      <td>True</td>\n",
       "      <td>False</td>\n",
       "      <td>False</td>\n",
       "      <td>False</td>\n",
       "      <td>...</td>\n",
       "      <td>False</td>\n",
       "      <td>False</td>\n",
       "      <td>False</td>\n",
       "      <td>False</td>\n",
       "      <td>False</td>\n",
       "      <td>False</td>\n",
       "      <td>False</td>\n",
       "      <td>False</td>\n",
       "      <td>False</td>\n",
       "      <td>False</td>\n",
       "    </tr>\n",
       "    <tr>\n",
       "      <th>7316743432</th>\n",
       "      <td>2017</td>\n",
       "      <td>0.149762</td>\n",
       "      <td>0.4</td>\n",
       "      <td>1.0</td>\n",
       "      <td>41124</td>\n",
       "      <td>False</td>\n",
       "      <td>True</td>\n",
       "      <td>False</td>\n",
       "      <td>False</td>\n",
       "      <td>False</td>\n",
       "      <td>...</td>\n",
       "      <td>False</td>\n",
       "      <td>False</td>\n",
       "      <td>False</td>\n",
       "      <td>False</td>\n",
       "      <td>False</td>\n",
       "      <td>False</td>\n",
       "      <td>False</td>\n",
       "      <td>False</td>\n",
       "      <td>False</td>\n",
       "      <td>False</td>\n",
       "    </tr>\n",
       "    <tr>\n",
       "      <th>7316356412</th>\n",
       "      <td>2013</td>\n",
       "      <td>0.195006</td>\n",
       "      <td>0.6</td>\n",
       "      <td>1.0</td>\n",
       "      <td>128000</td>\n",
       "      <td>False</td>\n",
       "      <td>True</td>\n",
       "      <td>False</td>\n",
       "      <td>False</td>\n",
       "      <td>False</td>\n",
       "      <td>...</td>\n",
       "      <td>False</td>\n",
       "      <td>False</td>\n",
       "      <td>False</td>\n",
       "      <td>False</td>\n",
       "      <td>False</td>\n",
       "      <td>False</td>\n",
       "      <td>False</td>\n",
       "      <td>False</td>\n",
       "      <td>False</td>\n",
       "      <td>False</td>\n",
       "    </tr>\n",
       "  </tbody>\n",
       "</table>\n",
       "<p>5 rows × 56 columns</p>\n",
       "</div>"
      ],
      "text/plain": [
       "            year  manufacturer  condition  fuel  odometer  state_ak  state_al  \\\n",
       "id                                                                              \n",
       "7316814884  2014      0.275743        0.4   1.0     57923     False      True   \n",
       "7316814758  2010      0.178359        0.4   1.0     71229     False      True   \n",
       "7316814989  2020      0.178359        0.4   1.0     19160     False      True   \n",
       "7316743432  2017      0.149762        0.4   1.0     41124     False      True   \n",
       "7316356412  2013      0.195006        0.6   1.0    128000     False      True   \n",
       "\n",
       "            state_ar  state_az  state_ca  ...  state_sd  state_tn  state_tx  \\\n",
       "id                                        ...                                 \n",
       "7316814884     False     False     False  ...     False     False     False   \n",
       "7316814758     False     False     False  ...     False     False     False   \n",
       "7316814989     False     False     False  ...     False     False     False   \n",
       "7316743432     False     False     False  ...     False     False     False   \n",
       "7316356412     False     False     False  ...     False     False     False   \n",
       "\n",
       "            state_ut  state_va  state_vt  state_wa  state_wi  state_wv  \\\n",
       "id                                                                       \n",
       "7316814884     False     False     False     False     False     False   \n",
       "7316814758     False     False     False     False     False     False   \n",
       "7316814989     False     False     False     False     False     False   \n",
       "7316743432     False     False     False     False     False     False   \n",
       "7316356412     False     False     False     False     False     False   \n",
       "\n",
       "            state_wy  \n",
       "id                    \n",
       "7316814884     False  \n",
       "7316814758     False  \n",
       "7316814989     False  \n",
       "7316743432     False  \n",
       "7316356412     False  \n",
       "\n",
       "[5 rows x 56 columns]"
      ]
     },
     "execution_count": 49,
     "metadata": {},
     "output_type": "execute_result"
    }
   ],
   "source": [
    "X.head()"
   ]
  },
  {
   "cell_type": "code",
   "execution_count": 50,
   "id": "96940cc4",
   "metadata": {
    "_cell_guid": "35216a88-6478-457c-a258-f1009b5c318a",
    "_uuid": "584eb725-6b20-40fe-b509-e7e833d11f85",
    "collapsed": false,
    "execution": {
     "iopub.execute_input": "2024-12-04T13:37:16.752899Z",
     "iopub.status.busy": "2024-12-04T13:37:16.752463Z",
     "iopub.status.idle": "2024-12-04T13:37:16.760762Z",
     "shell.execute_reply": "2024-12-04T13:37:16.759421Z"
    },
    "jupyter": {
     "outputs_hidden": false
    },
    "papermill": {
     "duration": 0.033541,
     "end_time": "2024-12-04T13:37:16.763409",
     "exception": false,
     "start_time": "2024-12-04T13:37:16.729868",
     "status": "completed"
    },
    "tags": []
   },
   "outputs": [
    {
     "data": {
      "text/plain": [
       "id\n",
       "7316814884    33590\n",
       "7316814758    22590\n",
       "7316814989    39590\n",
       "7316743432    30990\n",
       "7316356412    15000\n",
       "Name: price, dtype: int64"
      ]
     },
     "execution_count": 50,
     "metadata": {},
     "output_type": "execute_result"
    }
   ],
   "source": [
    "y.head()"
   ]
  },
  {
   "cell_type": "code",
   "execution_count": 51,
   "id": "799e2006",
   "metadata": {
    "_cell_guid": "5b4321ed-af20-4a44-8989-128054e67cc5",
    "_uuid": "2ef4c710-5e60-4530-b3f5-a0e246dfe49a",
    "collapsed": false,
    "execution": {
     "iopub.execute_input": "2024-12-04T13:37:16.809639Z",
     "iopub.status.busy": "2024-12-04T13:37:16.809200Z",
     "iopub.status.idle": "2024-12-04T13:37:16.933304Z",
     "shell.execute_reply": "2024-12-04T13:37:16.931841Z"
    },
    "jupyter": {
     "outputs_hidden": false
    },
    "papermill": {
     "duration": 0.150386,
     "end_time": "2024-12-04T13:37:16.935991",
     "exception": false,
     "start_time": "2024-12-04T13:37:16.785605",
     "status": "completed"
    },
    "tags": []
   },
   "outputs": [],
   "source": [
    "X_train, X_test, y_train, y_test = split(X, y, test_size=0.3)"
   ]
  },
  {
   "cell_type": "code",
   "execution_count": 52,
   "id": "12d02e4f",
   "metadata": {
    "_cell_guid": "3f9bf56d-e5db-4228-a768-d794182a5156",
    "_uuid": "a5ac758e-8faa-49e2-8430-3ff79e8be87f",
    "collapsed": false,
    "execution": {
     "iopub.execute_input": "2024-12-04T13:37:16.981153Z",
     "iopub.status.busy": "2024-12-04T13:37:16.980279Z",
     "iopub.status.idle": "2024-12-04T13:37:17.003949Z",
     "shell.execute_reply": "2024-12-04T13:37:17.002820Z"
    },
    "jupyter": {
     "outputs_hidden": false
    },
    "papermill": {
     "duration": 0.048503,
     "end_time": "2024-12-04T13:37:17.006149",
     "exception": false,
     "start_time": "2024-12-04T13:37:16.957646",
     "status": "completed"
    },
    "tags": []
   },
   "outputs": [
    {
     "data": {
      "text/html": [
       "<div>\n",
       "<style scoped>\n",
       "    .dataframe tbody tr th:only-of-type {\n",
       "        vertical-align: middle;\n",
       "    }\n",
       "\n",
       "    .dataframe tbody tr th {\n",
       "        vertical-align: top;\n",
       "    }\n",
       "\n",
       "    .dataframe thead th {\n",
       "        text-align: right;\n",
       "    }\n",
       "</style>\n",
       "<table border=\"1\" class=\"dataframe\">\n",
       "  <thead>\n",
       "    <tr style=\"text-align: right;\">\n",
       "      <th></th>\n",
       "      <th>year</th>\n",
       "      <th>manufacturer</th>\n",
       "      <th>condition</th>\n",
       "      <th>fuel</th>\n",
       "      <th>odometer</th>\n",
       "      <th>state_ak</th>\n",
       "      <th>state_al</th>\n",
       "      <th>state_ar</th>\n",
       "      <th>state_az</th>\n",
       "      <th>state_ca</th>\n",
       "      <th>...</th>\n",
       "      <th>state_sd</th>\n",
       "      <th>state_tn</th>\n",
       "      <th>state_tx</th>\n",
       "      <th>state_ut</th>\n",
       "      <th>state_va</th>\n",
       "      <th>state_vt</th>\n",
       "      <th>state_wa</th>\n",
       "      <th>state_wi</th>\n",
       "      <th>state_wv</th>\n",
       "      <th>state_wy</th>\n",
       "    </tr>\n",
       "    <tr>\n",
       "      <th>id</th>\n",
       "      <th></th>\n",
       "      <th></th>\n",
       "      <th></th>\n",
       "      <th></th>\n",
       "      <th></th>\n",
       "      <th></th>\n",
       "      <th></th>\n",
       "      <th></th>\n",
       "      <th></th>\n",
       "      <th></th>\n",
       "      <th></th>\n",
       "      <th></th>\n",
       "      <th></th>\n",
       "      <th></th>\n",
       "      <th></th>\n",
       "      <th></th>\n",
       "      <th></th>\n",
       "      <th></th>\n",
       "      <th></th>\n",
       "      <th></th>\n",
       "      <th></th>\n",
       "    </tr>\n",
       "  </thead>\n",
       "  <tbody>\n",
       "    <tr>\n",
       "      <th>7314985485</th>\n",
       "      <td>2008</td>\n",
       "      <td>0.221165</td>\n",
       "      <td>0.0</td>\n",
       "      <td>1.0</td>\n",
       "      <td>160964</td>\n",
       "      <td>False</td>\n",
       "      <td>False</td>\n",
       "      <td>False</td>\n",
       "      <td>False</td>\n",
       "      <td>False</td>\n",
       "      <td>...</td>\n",
       "      <td>False</td>\n",
       "      <td>True</td>\n",
       "      <td>False</td>\n",
       "      <td>False</td>\n",
       "      <td>False</td>\n",
       "      <td>False</td>\n",
       "      <td>False</td>\n",
       "      <td>False</td>\n",
       "      <td>False</td>\n",
       "      <td>False</td>\n",
       "    </tr>\n",
       "    <tr>\n",
       "      <th>7307744700</th>\n",
       "      <td>2019</td>\n",
       "      <td>0.275743</td>\n",
       "      <td>0.0</td>\n",
       "      <td>1.0</td>\n",
       "      <td>23989</td>\n",
       "      <td>False</td>\n",
       "      <td>False</td>\n",
       "      <td>False</td>\n",
       "      <td>False</td>\n",
       "      <td>False</td>\n",
       "      <td>...</td>\n",
       "      <td>False</td>\n",
       "      <td>False</td>\n",
       "      <td>False</td>\n",
       "      <td>False</td>\n",
       "      <td>False</td>\n",
       "      <td>False</td>\n",
       "      <td>False</td>\n",
       "      <td>False</td>\n",
       "      <td>False</td>\n",
       "      <td>False</td>\n",
       "    </tr>\n",
       "    <tr>\n",
       "      <th>7315527258</th>\n",
       "      <td>2019</td>\n",
       "      <td>0.129798</td>\n",
       "      <td>0.4</td>\n",
       "      <td>0.0</td>\n",
       "      <td>16068</td>\n",
       "      <td>False</td>\n",
       "      <td>False</td>\n",
       "      <td>False</td>\n",
       "      <td>False</td>\n",
       "      <td>True</td>\n",
       "      <td>...</td>\n",
       "      <td>False</td>\n",
       "      <td>False</td>\n",
       "      <td>False</td>\n",
       "      <td>False</td>\n",
       "      <td>False</td>\n",
       "      <td>False</td>\n",
       "      <td>False</td>\n",
       "      <td>False</td>\n",
       "      <td>False</td>\n",
       "      <td>False</td>\n",
       "    </tr>\n",
       "    <tr>\n",
       "      <th>7308735438</th>\n",
       "      <td>2011</td>\n",
       "      <td>0.124851</td>\n",
       "      <td>0.4</td>\n",
       "      <td>1.0</td>\n",
       "      <td>16796</td>\n",
       "      <td>False</td>\n",
       "      <td>False</td>\n",
       "      <td>False</td>\n",
       "      <td>False</td>\n",
       "      <td>False</td>\n",
       "      <td>...</td>\n",
       "      <td>False</td>\n",
       "      <td>False</td>\n",
       "      <td>True</td>\n",
       "      <td>False</td>\n",
       "      <td>False</td>\n",
       "      <td>False</td>\n",
       "      <td>False</td>\n",
       "      <td>False</td>\n",
       "      <td>False</td>\n",
       "      <td>False</td>\n",
       "    </tr>\n",
       "    <tr>\n",
       "      <th>7315646799</th>\n",
       "      <td>2018</td>\n",
       "      <td>0.149762</td>\n",
       "      <td>0.6</td>\n",
       "      <td>1.0</td>\n",
       "      <td>25411</td>\n",
       "      <td>False</td>\n",
       "      <td>False</td>\n",
       "      <td>False</td>\n",
       "      <td>False</td>\n",
       "      <td>False</td>\n",
       "      <td>...</td>\n",
       "      <td>False</td>\n",
       "      <td>False</td>\n",
       "      <td>False</td>\n",
       "      <td>False</td>\n",
       "      <td>False</td>\n",
       "      <td>False</td>\n",
       "      <td>False</td>\n",
       "      <td>False</td>\n",
       "      <td>False</td>\n",
       "      <td>False</td>\n",
       "    </tr>\n",
       "  </tbody>\n",
       "</table>\n",
       "<p>5 rows × 56 columns</p>\n",
       "</div>"
      ],
      "text/plain": [
       "            year  manufacturer  condition  fuel  odometer  state_ak  state_al  \\\n",
       "id                                                                              \n",
       "7314985485  2008      0.221165        0.0   1.0    160964     False     False   \n",
       "7307744700  2019      0.275743        0.0   1.0     23989     False     False   \n",
       "7315527258  2019      0.129798        0.4   0.0     16068     False     False   \n",
       "7308735438  2011      0.124851        0.4   1.0     16796     False     False   \n",
       "7315646799  2018      0.149762        0.6   1.0     25411     False     False   \n",
       "\n",
       "            state_ar  state_az  state_ca  ...  state_sd  state_tn  state_tx  \\\n",
       "id                                        ...                                 \n",
       "7314985485     False     False     False  ...     False      True     False   \n",
       "7307744700     False     False     False  ...     False     False     False   \n",
       "7315527258     False     False      True  ...     False     False     False   \n",
       "7308735438     False     False     False  ...     False     False      True   \n",
       "7315646799     False     False     False  ...     False     False     False   \n",
       "\n",
       "            state_ut  state_va  state_vt  state_wa  state_wi  state_wv  \\\n",
       "id                                                                       \n",
       "7314985485     False     False     False     False     False     False   \n",
       "7307744700     False     False     False     False     False     False   \n",
       "7315527258     False     False     False     False     False     False   \n",
       "7308735438     False     False     False     False     False     False   \n",
       "7315646799     False     False     False     False     False     False   \n",
       "\n",
       "            state_wy  \n",
       "id                    \n",
       "7314985485     False  \n",
       "7307744700     False  \n",
       "7315527258     False  \n",
       "7308735438     False  \n",
       "7315646799     False  \n",
       "\n",
       "[5 rows x 56 columns]"
      ]
     },
     "execution_count": 52,
     "metadata": {},
     "output_type": "execute_result"
    }
   ],
   "source": [
    "X_train.head()"
   ]
  },
  {
   "cell_type": "code",
   "execution_count": 53,
   "id": "f951112b",
   "metadata": {
    "_cell_guid": "a9c3b885-a779-4b1a-9ba1-0aa632144562",
    "_uuid": "0732b3c1-c5d7-4211-a8d6-4abe759a76e3",
    "collapsed": false,
    "execution": {
     "iopub.execute_input": "2024-12-04T13:37:17.050962Z",
     "iopub.status.busy": "2024-12-04T13:37:17.050514Z",
     "iopub.status.idle": "2024-12-04T13:37:17.076571Z",
     "shell.execute_reply": "2024-12-04T13:37:17.075545Z"
    },
    "jupyter": {
     "outputs_hidden": false
    },
    "papermill": {
     "duration": 0.050718,
     "end_time": "2024-12-04T13:37:17.078566",
     "exception": false,
     "start_time": "2024-12-04T13:37:17.027848",
     "status": "completed"
    },
    "tags": []
   },
   "outputs": [
    {
     "data": {
      "text/html": [
       "<div>\n",
       "<style scoped>\n",
       "    .dataframe tbody tr th:only-of-type {\n",
       "        vertical-align: middle;\n",
       "    }\n",
       "\n",
       "    .dataframe tbody tr th {\n",
       "        vertical-align: top;\n",
       "    }\n",
       "\n",
       "    .dataframe thead th {\n",
       "        text-align: right;\n",
       "    }\n",
       "</style>\n",
       "<table border=\"1\" class=\"dataframe\">\n",
       "  <thead>\n",
       "    <tr style=\"text-align: right;\">\n",
       "      <th></th>\n",
       "      <th>year</th>\n",
       "      <th>manufacturer</th>\n",
       "      <th>condition</th>\n",
       "      <th>fuel</th>\n",
       "      <th>odometer</th>\n",
       "      <th>state_ak</th>\n",
       "      <th>state_al</th>\n",
       "      <th>state_ar</th>\n",
       "      <th>state_az</th>\n",
       "      <th>state_ca</th>\n",
       "      <th>...</th>\n",
       "      <th>state_sd</th>\n",
       "      <th>state_tn</th>\n",
       "      <th>state_tx</th>\n",
       "      <th>state_ut</th>\n",
       "      <th>state_va</th>\n",
       "      <th>state_vt</th>\n",
       "      <th>state_wa</th>\n",
       "      <th>state_wi</th>\n",
       "      <th>state_wv</th>\n",
       "      <th>state_wy</th>\n",
       "    </tr>\n",
       "    <tr>\n",
       "      <th>id</th>\n",
       "      <th></th>\n",
       "      <th></th>\n",
       "      <th></th>\n",
       "      <th></th>\n",
       "      <th></th>\n",
       "      <th></th>\n",
       "      <th></th>\n",
       "      <th></th>\n",
       "      <th></th>\n",
       "      <th></th>\n",
       "      <th></th>\n",
       "      <th></th>\n",
       "      <th></th>\n",
       "      <th></th>\n",
       "      <th></th>\n",
       "      <th></th>\n",
       "      <th></th>\n",
       "      <th></th>\n",
       "      <th></th>\n",
       "      <th></th>\n",
       "      <th></th>\n",
       "    </tr>\n",
       "  </thead>\n",
       "  <tbody>\n",
       "    <tr>\n",
       "      <th>7316365180</th>\n",
       "      <td>2004</td>\n",
       "      <td>0.178359</td>\n",
       "      <td>0.4</td>\n",
       "      <td>1.0</td>\n",
       "      <td>233000</td>\n",
       "      <td>False</td>\n",
       "      <td>False</td>\n",
       "      <td>False</td>\n",
       "      <td>False</td>\n",
       "      <td>False</td>\n",
       "      <td>...</td>\n",
       "      <td>False</td>\n",
       "      <td>False</td>\n",
       "      <td>False</td>\n",
       "      <td>False</td>\n",
       "      <td>False</td>\n",
       "      <td>False</td>\n",
       "      <td>False</td>\n",
       "      <td>True</td>\n",
       "      <td>False</td>\n",
       "      <td>False</td>\n",
       "    </tr>\n",
       "    <tr>\n",
       "      <th>7316741591</th>\n",
       "      <td>2008</td>\n",
       "      <td>0.149762</td>\n",
       "      <td>0.6</td>\n",
       "      <td>0.4</td>\n",
       "      <td>199000</td>\n",
       "      <td>False</td>\n",
       "      <td>False</td>\n",
       "      <td>False</td>\n",
       "      <td>False</td>\n",
       "      <td>False</td>\n",
       "      <td>...</td>\n",
       "      <td>False</td>\n",
       "      <td>False</td>\n",
       "      <td>False</td>\n",
       "      <td>False</td>\n",
       "      <td>False</td>\n",
       "      <td>False</td>\n",
       "      <td>False</td>\n",
       "      <td>False</td>\n",
       "      <td>False</td>\n",
       "      <td>False</td>\n",
       "    </tr>\n",
       "    <tr>\n",
       "      <th>7315056905</th>\n",
       "      <td>2011</td>\n",
       "      <td>0.090309</td>\n",
       "      <td>0.6</td>\n",
       "      <td>1.0</td>\n",
       "      <td>173272</td>\n",
       "      <td>False</td>\n",
       "      <td>False</td>\n",
       "      <td>False</td>\n",
       "      <td>False</td>\n",
       "      <td>False</td>\n",
       "      <td>...</td>\n",
       "      <td>False</td>\n",
       "      <td>False</td>\n",
       "      <td>False</td>\n",
       "      <td>False</td>\n",
       "      <td>False</td>\n",
       "      <td>False</td>\n",
       "      <td>False</td>\n",
       "      <td>False</td>\n",
       "      <td>False</td>\n",
       "      <td>False</td>\n",
       "    </tr>\n",
       "    <tr>\n",
       "      <th>7310782628</th>\n",
       "      <td>2013</td>\n",
       "      <td>0.203270</td>\n",
       "      <td>0.6</td>\n",
       "      <td>1.0</td>\n",
       "      <td>97420</td>\n",
       "      <td>False</td>\n",
       "      <td>False</td>\n",
       "      <td>False</td>\n",
       "      <td>False</td>\n",
       "      <td>False</td>\n",
       "      <td>...</td>\n",
       "      <td>False</td>\n",
       "      <td>False</td>\n",
       "      <td>True</td>\n",
       "      <td>False</td>\n",
       "      <td>False</td>\n",
       "      <td>False</td>\n",
       "      <td>False</td>\n",
       "      <td>False</td>\n",
       "      <td>False</td>\n",
       "      <td>False</td>\n",
       "    </tr>\n",
       "    <tr>\n",
       "      <th>7316247403</th>\n",
       "      <td>2013</td>\n",
       "      <td>0.195006</td>\n",
       "      <td>0.0</td>\n",
       "      <td>1.0</td>\n",
       "      <td>74833</td>\n",
       "      <td>False</td>\n",
       "      <td>False</td>\n",
       "      <td>False</td>\n",
       "      <td>False</td>\n",
       "      <td>False</td>\n",
       "      <td>...</td>\n",
       "      <td>False</td>\n",
       "      <td>False</td>\n",
       "      <td>False</td>\n",
       "      <td>False</td>\n",
       "      <td>False</td>\n",
       "      <td>False</td>\n",
       "      <td>False</td>\n",
       "      <td>False</td>\n",
       "      <td>False</td>\n",
       "      <td>False</td>\n",
       "    </tr>\n",
       "  </tbody>\n",
       "</table>\n",
       "<p>5 rows × 56 columns</p>\n",
       "</div>"
      ],
      "text/plain": [
       "            year  manufacturer  condition  fuel  odometer  state_ak  state_al  \\\n",
       "id                                                                              \n",
       "7316365180  2004      0.178359        0.4   1.0    233000     False     False   \n",
       "7316741591  2008      0.149762        0.6   0.4    199000     False     False   \n",
       "7315056905  2011      0.090309        0.6   1.0    173272     False     False   \n",
       "7310782628  2013      0.203270        0.6   1.0     97420     False     False   \n",
       "7316247403  2013      0.195006        0.0   1.0     74833     False     False   \n",
       "\n",
       "            state_ar  state_az  state_ca  ...  state_sd  state_tn  state_tx  \\\n",
       "id                                        ...                                 \n",
       "7316365180     False     False     False  ...     False     False     False   \n",
       "7316741591     False     False     False  ...     False     False     False   \n",
       "7315056905     False     False     False  ...     False     False     False   \n",
       "7310782628     False     False     False  ...     False     False      True   \n",
       "7316247403     False     False     False  ...     False     False     False   \n",
       "\n",
       "            state_ut  state_va  state_vt  state_wa  state_wi  state_wv  \\\n",
       "id                                                                       \n",
       "7316365180     False     False     False     False      True     False   \n",
       "7316741591     False     False     False     False     False     False   \n",
       "7315056905     False     False     False     False     False     False   \n",
       "7310782628     False     False     False     False     False     False   \n",
       "7316247403     False     False     False     False     False     False   \n",
       "\n",
       "            state_wy  \n",
       "id                    \n",
       "7316365180     False  \n",
       "7316741591     False  \n",
       "7315056905     False  \n",
       "7310782628     False  \n",
       "7316247403     False  \n",
       "\n",
       "[5 rows x 56 columns]"
      ]
     },
     "execution_count": 53,
     "metadata": {},
     "output_type": "execute_result"
    }
   ],
   "source": [
    "X_test.head()"
   ]
  },
  {
   "cell_type": "code",
   "execution_count": 54,
   "id": "8600e2b0",
   "metadata": {
    "_cell_guid": "275251c1-329c-4c78-a67a-fc5fdb1380c2",
    "_uuid": "1120f1be-512a-4226-b47c-fc558826921d",
    "collapsed": false,
    "execution": {
     "iopub.execute_input": "2024-12-04T13:37:17.124320Z",
     "iopub.status.busy": "2024-12-04T13:37:17.123365Z",
     "iopub.status.idle": "2024-12-04T13:37:17.132003Z",
     "shell.execute_reply": "2024-12-04T13:37:17.130912Z"
    },
    "jupyter": {
     "outputs_hidden": false
    },
    "papermill": {
     "duration": 0.033639,
     "end_time": "2024-12-04T13:37:17.134042",
     "exception": false,
     "start_time": "2024-12-04T13:37:17.100403",
     "status": "completed"
    },
    "tags": []
   },
   "outputs": [
    {
     "data": {
      "text/plain": [
       "id\n",
       "7314985485    12990\n",
       "7307744700    41999\n",
       "7315527258    39590\n",
       "7308735438    35590\n",
       "7315646799    35000\n",
       "Name: price, dtype: int64"
      ]
     },
     "execution_count": 54,
     "metadata": {},
     "output_type": "execute_result"
    }
   ],
   "source": [
    "y_train.head()"
   ]
  },
  {
   "cell_type": "code",
   "execution_count": 55,
   "id": "e56b8a45",
   "metadata": {
    "_cell_guid": "34699b22-4d7a-467d-815c-0121b711481e",
    "_uuid": "33659826-f883-4185-9ff1-3617e27ad1c7",
    "collapsed": false,
    "execution": {
     "iopub.execute_input": "2024-12-04T13:37:17.180200Z",
     "iopub.status.busy": "2024-12-04T13:37:17.178932Z",
     "iopub.status.idle": "2024-12-04T13:37:17.189742Z",
     "shell.execute_reply": "2024-12-04T13:37:17.188264Z"
    },
    "jupyter": {
     "outputs_hidden": false
    },
    "papermill": {
     "duration": 0.038312,
     "end_time": "2024-12-04T13:37:17.193835",
     "exception": false,
     "start_time": "2024-12-04T13:37:17.155523",
     "status": "completed"
    },
    "tags": []
   },
   "outputs": [
    {
     "data": {
      "text/plain": [
       "id\n",
       "7316365180     2700\n",
       "7316741591     4500\n",
       "7315056905    11000\n",
       "7310782628    17998\n",
       "7316247403    19995\n",
       "Name: price, dtype: int64"
      ]
     },
     "execution_count": 55,
     "metadata": {},
     "output_type": "execute_result"
    }
   ],
   "source": [
    "y_test.head()"
   ]
  },
  {
   "cell_type": "code",
   "execution_count": 56,
   "id": "3478dc80",
   "metadata": {
    "_cell_guid": "1839b982-5538-4450-ac35-86b279f9aa15",
    "_uuid": "938fae87-843f-4319-85ee-a088fa02527a",
    "collapsed": false,
    "execution": {
     "iopub.execute_input": "2024-12-04T13:37:17.269683Z",
     "iopub.status.busy": "2024-12-04T13:37:17.268656Z",
     "iopub.status.idle": "2024-12-04T13:37:17.313007Z",
     "shell.execute_reply": "2024-12-04T13:37:17.312113Z"
    },
    "jupyter": {
     "outputs_hidden": false
    },
    "papermill": {
     "duration": 0.079578,
     "end_time": "2024-12-04T13:37:17.315735",
     "exception": false,
     "start_time": "2024-12-04T13:37:17.236157",
     "status": "completed"
    },
    "tags": []
   },
   "outputs": [
    {
     "name": "stdout",
     "output_type": "stream",
     "text": [
      "<class 'pandas.core.frame.DataFrame'>\n",
      "Index: 242967 entries, 7314985485 to 7314438949\n",
      "Data columns (total 56 columns):\n",
      " #   Column        Non-Null Count   Dtype  \n",
      "---  ------        --------------   -----  \n",
      " 0   year          242967 non-null  int64  \n",
      " 1   manufacturer  242967 non-null  float64\n",
      " 2   condition     242967 non-null  float64\n",
      " 3   fuel          242967 non-null  float64\n",
      " 4   odometer      242967 non-null  int64  \n",
      " 5   state_ak      242967 non-null  bool   \n",
      " 6   state_al      242967 non-null  bool   \n",
      " 7   state_ar      242967 non-null  bool   \n",
      " 8   state_az      242967 non-null  bool   \n",
      " 9   state_ca      242967 non-null  bool   \n",
      " 10  state_co      242967 non-null  bool   \n",
      " 11  state_ct      242967 non-null  bool   \n",
      " 12  state_dc      242967 non-null  bool   \n",
      " 13  state_de      242967 non-null  bool   \n",
      " 14  state_fl      242967 non-null  bool   \n",
      " 15  state_ga      242967 non-null  bool   \n",
      " 16  state_hi      242967 non-null  bool   \n",
      " 17  state_ia      242967 non-null  bool   \n",
      " 18  state_id      242967 non-null  bool   \n",
      " 19  state_il      242967 non-null  bool   \n",
      " 20  state_in      242967 non-null  bool   \n",
      " 21  state_ks      242967 non-null  bool   \n",
      " 22  state_ky      242967 non-null  bool   \n",
      " 23  state_la      242967 non-null  bool   \n",
      " 24  state_ma      242967 non-null  bool   \n",
      " 25  state_md      242967 non-null  bool   \n",
      " 26  state_me      242967 non-null  bool   \n",
      " 27  state_mi      242967 non-null  bool   \n",
      " 28  state_mn      242967 non-null  bool   \n",
      " 29  state_mo      242967 non-null  bool   \n",
      " 30  state_ms      242967 non-null  bool   \n",
      " 31  state_mt      242967 non-null  bool   \n",
      " 32  state_nc      242967 non-null  bool   \n",
      " 33  state_nd      242967 non-null  bool   \n",
      " 34  state_ne      242967 non-null  bool   \n",
      " 35  state_nh      242967 non-null  bool   \n",
      " 36  state_nj      242967 non-null  bool   \n",
      " 37  state_nm      242967 non-null  bool   \n",
      " 38  state_nv      242967 non-null  bool   \n",
      " 39  state_ny      242967 non-null  bool   \n",
      " 40  state_oh      242967 non-null  bool   \n",
      " 41  state_ok      242967 non-null  bool   \n",
      " 42  state_or      242967 non-null  bool   \n",
      " 43  state_pa      242967 non-null  bool   \n",
      " 44  state_ri      242967 non-null  bool   \n",
      " 45  state_sc      242967 non-null  bool   \n",
      " 46  state_sd      242967 non-null  bool   \n",
      " 47  state_tn      242967 non-null  bool   \n",
      " 48  state_tx      242967 non-null  bool   \n",
      " 49  state_ut      242967 non-null  bool   \n",
      " 50  state_va      242967 non-null  bool   \n",
      " 51  state_vt      242967 non-null  bool   \n",
      " 52  state_wa      242967 non-null  bool   \n",
      " 53  state_wi      242967 non-null  bool   \n",
      " 54  state_wv      242967 non-null  bool   \n",
      " 55  state_wy      242967 non-null  bool   \n",
      "dtypes: bool(51), float64(3), int64(2)\n",
      "memory usage: 22.9 MB\n"
     ]
    }
   ],
   "source": [
    "X_train.info()"
   ]
  },
  {
   "cell_type": "code",
   "execution_count": 57,
   "id": "e798e53d",
   "metadata": {
    "_cell_guid": "ce3a735d-eccc-4752-a4c3-bcc290b671c6",
    "_uuid": "469fb4e4-34d3-452e-8ec0-4b738fa70169",
    "collapsed": false,
    "execution": {
     "iopub.execute_input": "2024-12-04T13:37:17.365285Z",
     "iopub.status.busy": "2024-12-04T13:37:17.364826Z",
     "iopub.status.idle": "2024-12-04T13:37:17.386966Z",
     "shell.execute_reply": "2024-12-04T13:37:17.385402Z"
    },
    "jupyter": {
     "outputs_hidden": false
    },
    "papermill": {
     "duration": 0.049603,
     "end_time": "2024-12-04T13:37:17.389552",
     "exception": false,
     "start_time": "2024-12-04T13:37:17.339949",
     "status": "completed"
    },
    "tags": []
   },
   "outputs": [
    {
     "name": "stdout",
     "output_type": "stream",
     "text": [
      "<class 'pandas.core.frame.DataFrame'>\n",
      "Index: 104130 entries, 7316365180 to 7306379441\n",
      "Data columns (total 56 columns):\n",
      " #   Column        Non-Null Count   Dtype  \n",
      "---  ------        --------------   -----  \n",
      " 0   year          104130 non-null  int64  \n",
      " 1   manufacturer  104130 non-null  float64\n",
      " 2   condition     104130 non-null  float64\n",
      " 3   fuel          104130 non-null  float64\n",
      " 4   odometer      104130 non-null  int64  \n",
      " 5   state_ak      104130 non-null  bool   \n",
      " 6   state_al      104130 non-null  bool   \n",
      " 7   state_ar      104130 non-null  bool   \n",
      " 8   state_az      104130 non-null  bool   \n",
      " 9   state_ca      104130 non-null  bool   \n",
      " 10  state_co      104130 non-null  bool   \n",
      " 11  state_ct      104130 non-null  bool   \n",
      " 12  state_dc      104130 non-null  bool   \n",
      " 13  state_de      104130 non-null  bool   \n",
      " 14  state_fl      104130 non-null  bool   \n",
      " 15  state_ga      104130 non-null  bool   \n",
      " 16  state_hi      104130 non-null  bool   \n",
      " 17  state_ia      104130 non-null  bool   \n",
      " 18  state_id      104130 non-null  bool   \n",
      " 19  state_il      104130 non-null  bool   \n",
      " 20  state_in      104130 non-null  bool   \n",
      " 21  state_ks      104130 non-null  bool   \n",
      " 22  state_ky      104130 non-null  bool   \n",
      " 23  state_la      104130 non-null  bool   \n",
      " 24  state_ma      104130 non-null  bool   \n",
      " 25  state_md      104130 non-null  bool   \n",
      " 26  state_me      104130 non-null  bool   \n",
      " 27  state_mi      104130 non-null  bool   \n",
      " 28  state_mn      104130 non-null  bool   \n",
      " 29  state_mo      104130 non-null  bool   \n",
      " 30  state_ms      104130 non-null  bool   \n",
      " 31  state_mt      104130 non-null  bool   \n",
      " 32  state_nc      104130 non-null  bool   \n",
      " 33  state_nd      104130 non-null  bool   \n",
      " 34  state_ne      104130 non-null  bool   \n",
      " 35  state_nh      104130 non-null  bool   \n",
      " 36  state_nj      104130 non-null  bool   \n",
      " 37  state_nm      104130 non-null  bool   \n",
      " 38  state_nv      104130 non-null  bool   \n",
      " 39  state_ny      104130 non-null  bool   \n",
      " 40  state_oh      104130 non-null  bool   \n",
      " 41  state_ok      104130 non-null  bool   \n",
      " 42  state_or      104130 non-null  bool   \n",
      " 43  state_pa      104130 non-null  bool   \n",
      " 44  state_ri      104130 non-null  bool   \n",
      " 45  state_sc      104130 non-null  bool   \n",
      " 46  state_sd      104130 non-null  bool   \n",
      " 47  state_tn      104130 non-null  bool   \n",
      " 48  state_tx      104130 non-null  bool   \n",
      " 49  state_ut      104130 non-null  bool   \n",
      " 50  state_va      104130 non-null  bool   \n",
      " 51  state_vt      104130 non-null  bool   \n",
      " 52  state_wa      104130 non-null  bool   \n",
      " 53  state_wi      104130 non-null  bool   \n",
      " 54  state_wv      104130 non-null  bool   \n",
      " 55  state_wy      104130 non-null  bool   \n",
      "dtypes: bool(51), float64(3), int64(2)\n",
      "memory usage: 9.8 MB\n"
     ]
    }
   ],
   "source": [
    "X_test.info()"
   ]
  },
  {
   "cell_type": "markdown",
   "id": "1fdd1c56",
   "metadata": {
    "_cell_guid": "663c58aa-55f9-4138-8866-15218a81fcae",
    "_uuid": "07dc23c3-9214-4ab7-ac22-6072977ad7e0",
    "collapsed": false,
    "jupyter": {
     "outputs_hidden": false
    },
    "papermill": {
     "duration": 0.036506,
     "end_time": "2024-12-04T13:37:17.449563",
     "exception": false,
     "start_time": "2024-12-04T13:37:17.413057",
     "status": "completed"
    },
    "tags": []
   },
   "source": [
    "## Linear regression"
   ]
  },
  {
   "cell_type": "code",
   "execution_count": 58,
   "id": "487c2185",
   "metadata": {
    "_cell_guid": "b1bc2f8e-b4d7-4dfa-8e47-46fd78b8eac1",
    "_uuid": "a1416141-94a3-4a48-ab94-41e19126556c",
    "collapsed": false,
    "execution": {
     "iopub.execute_input": "2024-12-04T13:37:17.498555Z",
     "iopub.status.busy": "2024-12-04T13:37:17.497358Z",
     "iopub.status.idle": "2024-12-04T13:37:17.503589Z",
     "shell.execute_reply": "2024-12-04T13:37:17.502468Z"
    },
    "jupyter": {
     "outputs_hidden": false
    },
    "papermill": {
     "duration": 0.03364,
     "end_time": "2024-12-04T13:37:17.506602",
     "exception": false,
     "start_time": "2024-12-04T13:37:17.472962",
     "status": "completed"
    },
    "tags": []
   },
   "outputs": [],
   "source": [
    "lin_model_1 = LinearRegression(fit_intercept=True)"
   ]
  },
  {
   "cell_type": "code",
   "execution_count": 59,
   "id": "dcbf263c",
   "metadata": {
    "_cell_guid": "d7048ce6-f504-4cab-9164-f011662ec920",
    "_uuid": "805dcb4c-b6df-4413-8332-39db873afd2e",
    "collapsed": false,
    "execution": {
     "iopub.execute_input": "2024-12-04T13:37:17.558773Z",
     "iopub.status.busy": "2024-12-04T13:37:17.557600Z",
     "iopub.status.idle": "2024-12-04T13:37:19.097228Z",
     "shell.execute_reply": "2024-12-04T13:37:19.096321Z"
    },
    "jupyter": {
     "outputs_hidden": false
    },
    "papermill": {
     "duration": 1.57023,
     "end_time": "2024-12-04T13:37:19.102249",
     "exception": false,
     "start_time": "2024-12-04T13:37:17.532019",
     "status": "completed"
    },
    "tags": []
   },
   "outputs": [
    {
     "data": {
      "text/html": [
       "<style>#sk-container-id-1 {color: black;background-color: white;}#sk-container-id-1 pre{padding: 0;}#sk-container-id-1 div.sk-toggleable {background-color: white;}#sk-container-id-1 label.sk-toggleable__label {cursor: pointer;display: block;width: 100%;margin-bottom: 0;padding: 0.3em;box-sizing: border-box;text-align: center;}#sk-container-id-1 label.sk-toggleable__label-arrow:before {content: \"▸\";float: left;margin-right: 0.25em;color: #696969;}#sk-container-id-1 label.sk-toggleable__label-arrow:hover:before {color: black;}#sk-container-id-1 div.sk-estimator:hover label.sk-toggleable__label-arrow:before {color: black;}#sk-container-id-1 div.sk-toggleable__content {max-height: 0;max-width: 0;overflow: hidden;text-align: left;background-color: #f0f8ff;}#sk-container-id-1 div.sk-toggleable__content pre {margin: 0.2em;color: black;border-radius: 0.25em;background-color: #f0f8ff;}#sk-container-id-1 input.sk-toggleable__control:checked~div.sk-toggleable__content {max-height: 200px;max-width: 100%;overflow: auto;}#sk-container-id-1 input.sk-toggleable__control:checked~label.sk-toggleable__label-arrow:before {content: \"▾\";}#sk-container-id-1 div.sk-estimator input.sk-toggleable__control:checked~label.sk-toggleable__label {background-color: #d4ebff;}#sk-container-id-1 div.sk-label input.sk-toggleable__control:checked~label.sk-toggleable__label {background-color: #d4ebff;}#sk-container-id-1 input.sk-hidden--visually {border: 0;clip: rect(1px 1px 1px 1px);clip: rect(1px, 1px, 1px, 1px);height: 1px;margin: -1px;overflow: hidden;padding: 0;position: absolute;width: 1px;}#sk-container-id-1 div.sk-estimator {font-family: monospace;background-color: #f0f8ff;border: 1px dotted black;border-radius: 0.25em;box-sizing: border-box;margin-bottom: 0.5em;}#sk-container-id-1 div.sk-estimator:hover {background-color: #d4ebff;}#sk-container-id-1 div.sk-parallel-item::after {content: \"\";width: 100%;border-bottom: 1px solid gray;flex-grow: 1;}#sk-container-id-1 div.sk-label:hover label.sk-toggleable__label {background-color: #d4ebff;}#sk-container-id-1 div.sk-serial::before {content: \"\";position: absolute;border-left: 1px solid gray;box-sizing: border-box;top: 0;bottom: 0;left: 50%;z-index: 0;}#sk-container-id-1 div.sk-serial {display: flex;flex-direction: column;align-items: center;background-color: white;padding-right: 0.2em;padding-left: 0.2em;position: relative;}#sk-container-id-1 div.sk-item {position: relative;z-index: 1;}#sk-container-id-1 div.sk-parallel {display: flex;align-items: stretch;justify-content: center;background-color: white;position: relative;}#sk-container-id-1 div.sk-item::before, #sk-container-id-1 div.sk-parallel-item::before {content: \"\";position: absolute;border-left: 1px solid gray;box-sizing: border-box;top: 0;bottom: 0;left: 50%;z-index: -1;}#sk-container-id-1 div.sk-parallel-item {display: flex;flex-direction: column;z-index: 1;position: relative;background-color: white;}#sk-container-id-1 div.sk-parallel-item:first-child::after {align-self: flex-end;width: 50%;}#sk-container-id-1 div.sk-parallel-item:last-child::after {align-self: flex-start;width: 50%;}#sk-container-id-1 div.sk-parallel-item:only-child::after {width: 0;}#sk-container-id-1 div.sk-dashed-wrapped {border: 1px dashed gray;margin: 0 0.4em 0.5em 0.4em;box-sizing: border-box;padding-bottom: 0.4em;background-color: white;}#sk-container-id-1 div.sk-label label {font-family: monospace;font-weight: bold;display: inline-block;line-height: 1.2em;}#sk-container-id-1 div.sk-label-container {text-align: center;}#sk-container-id-1 div.sk-container {/* jupyter's `normalize.less` sets `[hidden] { display: none; }` but bootstrap.min.css set `[hidden] { display: none !important; }` so we also need the `!important` here to be able to override the default hidden behavior on the sphinx rendered scikit-learn.org. See: https://github.com/scikit-learn/scikit-learn/issues/21755 */display: inline-block !important;position: relative;}#sk-container-id-1 div.sk-text-repr-fallback {display: none;}</style><div id=\"sk-container-id-1\" class=\"sk-top-container\"><div class=\"sk-text-repr-fallback\"><pre>LinearRegression()</pre><b>In a Jupyter environment, please rerun this cell to show the HTML representation or trust the notebook. <br />On GitHub, the HTML representation is unable to render, please try loading this page with nbviewer.org.</b></div><div class=\"sk-container\" hidden><div class=\"sk-item\"><div class=\"sk-estimator sk-toggleable\"><input class=\"sk-toggleable__control sk-hidden--visually\" id=\"sk-estimator-id-1\" type=\"checkbox\" checked><label for=\"sk-estimator-id-1\" class=\"sk-toggleable__label sk-toggleable__label-arrow\">LinearRegression</label><div class=\"sk-toggleable__content\"><pre>LinearRegression()</pre></div></div></div></div></div>"
      ],
      "text/plain": [
       "LinearRegression()"
      ]
     },
     "execution_count": 59,
     "metadata": {},
     "output_type": "execute_result"
    }
   ],
   "source": [
    "lin_model_1.fit(X_train, y_train)"
   ]
  }
 ],
 "metadata": {
  "kaggle": {
   "accelerator": "none",
   "dataSources": [
    {
     "datasetId": 6185791,
     "sourceId": 10041567,
     "sourceType": "datasetVersion"
    }
   ],
   "dockerImageVersionId": 30786,
   "isGpuEnabled": false,
   "isInternetEnabled": true,
   "language": "python",
   "sourceType": "notebook"
  },
  "kernelspec": {
   "display_name": "Python 3",
   "language": "python",
   "name": "python3"
  },
  "language_info": {
   "codemirror_mode": {
    "name": "ipython",
    "version": 3
   },
   "file_extension": ".py",
   "mimetype": "text/x-python",
   "name": "python",
   "nbconvert_exporter": "python",
   "pygments_lexer": "ipython3",
   "version": "3.10.14"
  },
  "papermill": {
   "default_parameters": {},
   "duration": 19.635359,
   "end_time": "2024-12-04T13:37:20.067949",
   "environment_variables": {},
   "exception": null,
   "input_path": "__notebook__.ipynb",
   "output_path": "__notebook__.ipynb",
   "parameters": {},
   "start_time": "2024-12-04T13:37:00.432590",
   "version": "2.6.0"
  }
 },
 "nbformat": 4,
 "nbformat_minor": 5
}
